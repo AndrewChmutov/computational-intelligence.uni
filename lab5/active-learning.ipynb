{
  "cells": [
    {
      "cell_type": "markdown",
      "metadata": {
        "id": "Y-iJhj0k0AnX"
      },
      "source": [
        "#Active Classification: pool-based sampling, uncertainty sampling and query by committee"
      ]
    },
    {
      "cell_type": "code",
      "execution_count": null,
      "metadata": {
        "colab": {
          "base_uri": "https://localhost:8080/"
        },
        "id": "9ZpqAsUwlNiB",
        "outputId": "870d9d5f-643a-4e67-c4de-c9661046ac38"
      },
      "outputs": [],
      "source": [
        "#!pip install modAL\n",
        "!pip install modAL-python"
      ]
    },
    {
      "cell_type": "code",
      "execution_count": null,
      "metadata": {},
      "outputs": [],
      "source": [
        "import warnings\n",
        "warnings.simplefilter(action='ignore', category=FutureWarning)"
      ]
    },
    {
      "cell_type": "markdown",
      "metadata": {
        "id": "f5PqGE_blDyE"
      },
      "source": [
        "# Pool-based sampling\n",
        "\n",
        "## Overview\n",
        "\n",
        "In this example, we apply an `ActiveLearner` onto the iris dataset using pool-based sampling. In this setting, we assume a small set of labeled data $\\mathcal{L}$ and a large set of unlabeled data $\\mathcal{U}$ such that $\\left| \\mathcal{L} \\right| \\ll \\left| \\mathcal{U} \\right|$. In his review of the active learning literature, Settles covers a high-level overview of the general pool-based sampling algorithm:\n",
        "\n",
        "> Queries are selectively drawn from the pool, which is usually assumed to be closed (i.e., static or non-changing), although this is not strictly necessary. Typically, instances are queried in a greedy fashion, according to an informativeness measure used to evaluate all instances in the pool (or, perhaps if $\\mathcal{U}$ is very large, some subsample thereof).\n",
        "\n",
        "Along with our pool-based sampling strategy, `modAL`'s modular design allows you to vary parameters surrounding the active learning process, including the core estimator and query strategy. In this example, we use `scikit-learn`'s [k-nearest neighbors classifier](http://scikit-learn.org/stable/modules/generated/sklearn.neighbors.KNeighborsClassifier.html) as our estimator and default to `modAL`'s [uncertainty sampling](https://cosmic-cortex.github.io/modAL/Uncertainty-sampling) query strategy.\n",
        "\n",
        "For further reading on pool-based sampling, we highly recommend the following resources:\n",
        "- Burr Settles. [Active Learning Literature Survey](http://burrsettles.com/pub/settles.activelearning.pdf) [**Section 2.3: Pool-based Sampling**]. Computer Sciences Technical Report 1648, University of Wisconsin-Madison. 2009."
      ]
    },
    {
      "cell_type": "markdown",
      "metadata": {
        "id": "CPDOUgB9lDyJ"
      },
      "source": [
        "To enforce a reproducible result across runs, we set a random seed."
      ]
    },
    {
      "cell_type": "code",
      "execution_count": null,
      "metadata": {
        "id": "AvRujUSIlDyK"
      },
      "outputs": [],
      "source": [
        "import numpy as np\n",
        "\n",
        "# Set our RNG seed for reproducibility.\n",
        "RANDOM_STATE_SEED = 123\n",
        "np.random.seed(RANDOM_STATE_SEED)"
      ]
    },
    {
      "cell_type": "markdown",
      "metadata": {
        "id": "KxCZlUAzlDyM"
      },
      "source": [
        "## The dataset\n",
        "\n",
        "Now we load the dataset. In this example, we are going to use the famous Iris dataset. For more information on the iris dataset, see:\n",
        "  - [The dataset documentation on Wikipedia](https://en.wikipedia.org/wiki/Iris_flower_data_set)\n",
        "  - [The scikit-learn interface](http://scikit-learn.org/stable/modules/generated/sklearn.datasets.load_iris.html)"
      ]
    },
    {
      "cell_type": "code",
      "execution_count": null,
      "metadata": {
        "id": "X6XMISA3lDyN"
      },
      "outputs": [],
      "source": [
        "from sklearn.datasets import load_iris\n",
        "\n",
        "iris = load_iris()\n",
        "X_raw = iris['data']\n",
        "y_raw = iris['target']"
      ]
    },
    {
      "cell_type": "markdown",
      "metadata": {
        "id": "cyn-ndiClDyO"
      },
      "source": [
        "For visualization purposes, we apply PCA to the original dataset."
      ]
    },
    {
      "cell_type": "code",
      "execution_count": null,
      "metadata": {
        "id": "mf1eyGQalDyP"
      },
      "outputs": [],
      "source": [
        "from sklearn.decomposition import PCA\n",
        "\n",
        "# Define our PCA transformer and fit it onto our raw dataset.\n",
        "pca = PCA(n_components=2, random_state=RANDOM_STATE_SEED)\n",
        "transformed_iris = pca.fit_transform(X=X_raw)"
      ]
    },
    {
      "cell_type": "markdown",
      "metadata": {
        "id": "zwER4UHxlDyQ"
      },
      "source": [
        "This is how the dataset looks like."
      ]
    },
    {
      "cell_type": "code",
      "execution_count": null,
      "metadata": {
        "colab": {
          "base_uri": "https://localhost:8080/",
          "height": 701
        },
        "id": "Y6qnf1oxlDyR",
        "outputId": "e2e50fcb-df95-4007-aadc-5677627aa15b"
      },
      "outputs": [],
      "source": [
        "%matplotlib inline\n",
        "import matplotlib as mpl\n",
        "import matplotlib.pyplot as plt\n",
        "\n",
        "# Isolate the data we'll need for plotting.\n",
        "x_component, y_component = transformed_iris[:, 0], transformed_iris[:, 1]\n",
        "\n",
        "# Plot our dimensionality-reduced (via PCA) dataset.\n",
        "plt.figure(figsize=(8.5, 6), dpi=130)\n",
        "plt.scatter(x=x_component, y=y_component, c=y_raw, cmap='viridis', s=50, alpha=8/10)\n",
        "plt.title('Iris classes after PCA transformation')\n",
        "plt.show()"
      ]
    },
    {
      "cell_type": "markdown",
      "metadata": {
        "id": "iyfYB0hFlDyT"
      },
      "source": [
        "Now we partition our `iris` dataset into a training set $\\mathcal{L}$ and $\\mathcal{U}$. We first specify our training set $\\mathcal{L}$ consisting of 3 random examples. The remaining examples go to our \"unlabeled\" pool $\\mathcal{U}$."
      ]
    },
    {
      "cell_type": "code",
      "execution_count": null,
      "metadata": {
        "id": "aDMfqi-RlDyU"
      },
      "outputs": [],
      "source": [
        "# Isolate our examples for our labeled dataset.\n",
        "n_labeled_examples = X_raw.shape[0]\n",
        "#training_indices = np.random.randint(low=0, high=n_labeled_examples + 1, size=3)\n",
        "training_indices = np.random.randint(low=0, high=n_labeled_examples, size=3)\n",
        "\n",
        "X_train = X_raw[training_indices]\n",
        "y_train = y_raw[training_indices]\n",
        "\n",
        "# Isolate the non-training examples we'll be querying.\n",
        "X_pool = np.delete(X_raw, training_indices, axis=0)\n",
        "y_pool = np.delete(y_raw, training_indices, axis=0)"
      ]
    },
    {
      "cell_type": "code",
      "execution_count": null,
      "metadata": {
        "colab": {
          "base_uri": "https://localhost:8080/"
        },
        "id": "ie-hQGecmdXI",
        "outputId": "e7b78a1d-e77b-4502-bdb7-58b5777359df"
      },
      "outputs": [],
      "source": [
        "X_train.shape"
      ]
    },
    {
      "cell_type": "code",
      "execution_count": null,
      "metadata": {
        "colab": {
          "base_uri": "https://localhost:8080/"
        },
        "id": "59zZsB3rmhcP",
        "outputId": "b22a8dbe-f62f-4c73-db97-0ee31d54a4c0"
      },
      "outputs": [],
      "source": [
        "y_train.shape"
      ]
    },
    {
      "cell_type": "markdown",
      "metadata": {
        "id": "dwaqYwrDlDyU"
      },
      "source": [
        "## Active learning with pool-based sampling\n",
        "\n",
        "For the classification, we are going to use a simple k-nearest neighbors classifier. In this step, we are also going to initialize the ```ActiveLearner```."
      ]
    },
    {
      "cell_type": "code",
      "execution_count": null,
      "metadata": {
        "id": "dU9y1f-OlDyV"
      },
      "outputs": [],
      "source": [
        "from sklearn.neighbors import KNeighborsClassifier\n",
        "from modAL.models import ActiveLearner\n",
        "\n",
        "# Specify our core estimator along with it's active learning model.\n",
        "knn = KNeighborsClassifier(n_neighbors=3)\n",
        "learner = ActiveLearner(estimator=knn, X_training=X_train, y_training=y_train)"
      ]
    },
    {
      "cell_type": "markdown",
      "metadata": {
        "id": "8eWyhgeOKM5O"
      },
      "source": [
        "\"To create an ActiveLearner object, you need to provide two things: a scikit-learn estimator object and a query strategy function (The latter one is optional, the default strategy is maximum uncertainty sampling.). Regarding the query strategies, you can find built-ins in modAL.uncertainty, but you can also implement your own. For instance, you can just simply do the following.\n",
        "\n",
        "    from modAL.models import ActiveLearner\n",
        "    from modAL.uncertainty import uncertainty_sampling\n",
        "    from sklearn.ensemble import RandomForestClassifier\n",
        "\n",
        "    learner = ActiveLearner(\n",
        "        estimator=RandomForestClassifier(),\n",
        "        query_strategy=uncertainty_sampling\n",
        "    )\n",
        "\n",
        "In modAL, currently there are three built-in query strategies: max uncertainty, max margin and max entropy(...)\"\n",
        "\n",
        "[https://github.com/modAL-python/modAL/blob/99d4947f69f0b2247f9916a6ef44463f7af06c55/docs/source/content/models/ActiveLearner.rst]"
      ]
    },
    {
      "cell_type": "markdown",
      "metadata": {
        "id": "GM98KSiglDyV"
      },
      "source": [
        "Let's see how our classifier performs on the initial training set!"
      ]
    },
    {
      "cell_type": "code",
      "execution_count": null,
      "metadata": {
        "colab": {
          "base_uri": "https://localhost:8080/"
        },
        "id": "-Wu3Sr3ClDyW",
        "outputId": "6fa1271d-3a5b-405f-a35a-047e64890b28"
      },
      "outputs": [],
      "source": [
        "# Isolate the data we'll need for plotting.\n",
        "predictions = learner.predict(X_raw)\n",
        "is_correct = (predictions == y_raw)\n",
        "\n",
        "predictions"
      ]
    },
    {
      "cell_type": "code",
      "execution_count": null,
      "metadata": {
        "colab": {
          "base_uri": "https://localhost:8080/",
          "height": 701
        },
        "id": "7oJlRgUzlDyX",
        "outputId": "a12fe3b6-8de8-4f02-dc96-a1fdbde9a68f"
      },
      "outputs": [],
      "source": [
        "# Record our learner's score on the raw data.\n",
        "unqueried_score = learner.score(X_raw, y_raw)\n",
        "\n",
        "# Plot our classification results.\n",
        "fig, ax = plt.subplots(figsize=(8.5, 6), dpi=130)\n",
        "ax.scatter(x=x_component[is_correct],  y=y_component[is_correct],  c='g', marker='+', label='Correct',   alpha=8/10)\n",
        "ax.scatter(x=x_component[~is_correct], y=y_component[~is_correct], c='r', marker='x', label='Incorrect', alpha=8/10)\n",
        "ax.legend(loc='lower right')\n",
        "ax.set_title(\"ActiveLearner class predictions (Accuracy: {score:.3f})\".format(score=unqueried_score))\n",
        "plt.show()"
      ]
    },
    {
      "cell_type": "markdown",
      "metadata": {
        "id": "jqWOz0S0lDyY"
      },
      "source": [
        "## Update our model by pool-based sampling our \"unlabeled\" dataset $\\mathcal{U}$\n",
        "\n",
        "As we can see, our model is unable to properly learn the underlying data distribution. All of its predictions are for the third class label, and as such it is only as competitive as defaulting its predictions to a single class – if only we had more data!\n",
        "\n",
        "Below, we tune our classifier by allowing it to query 20 instances it hasn't seen before. Using uncertainty sampling, our classifier aims to reduce the amount of uncertainty in its predictions using a variety of measures — see the documentation for more on specific [classification uncertainty measures](https://modal-python.readthedocs.io/en/latest/content/query_strategies/Uncertainty-sampling.html). With each requested query, we remove that record from our pool $\\mathcal{U}$ and record our model's accuracy on the raw dataset."
      ]
    },
    {
      "cell_type": "code",
      "execution_count": null,
      "metadata": {
        "colab": {
          "base_uri": "https://localhost:8080/"
        },
        "id": "RlA5tY6alDyZ",
        "outputId": "d8882037-a049-4248-c30f-e8e0b44b5029"
      },
      "outputs": [],
      "source": [
        "N_QUERIES = 20\n",
        "performance_history = [unqueried_score]\n",
        "\n",
        "# Allow our model to query our unlabeled dataset for the most\n",
        "# informative points according to our query strategy (uncertainty sampling).\n",
        "for index in range(N_QUERIES):\n",
        "  query_index, query_instance = learner.query(X_pool)\n",
        "\n",
        "  # Teach our ActiveLearner model the record it has requested.\n",
        "  X, y = X_pool[query_index].reshape(1, -1), y_pool[query_index].reshape(1, )\n",
        "  print(\"X type: \", type(X))\n",
        "  print(\"X shape: \", X.shape)\n",
        "  print(\"y shape: \", y.shape)\n",
        "  learner.teach(X=X, y=y)\n",
        "\n",
        "  learner_X_training = learner.X_training\n",
        "  print(\"learner_X_training type: \", type(learner_X_training))\n",
        "  print(\"learner_X_training shape: \", learner_X_training.shape)\n",
        "  print(\"learner_X_training shape: \", learner_X_training.shape)\n",
        "\n",
        "  # Remove the queried instance from the unlabeled pool.\n",
        "  X_pool, y_pool = np.delete(X_pool, query_index, axis=0), np.delete(y_pool, query_index)\n",
        "  print(\"X_pool type: \", type(X_pool))\n",
        "  print(\"X_pool shape: \", X_pool.shape)\n",
        "  print(\"y_pool shape: \", y_pool.shape)\n",
        "\n",
        "  # Calculate and report our model's accuracy.\n",
        "  model_accuracy = learner.score(X_raw, y_raw)\n",
        "  print('Accuracy after query {n}: {acc:0.4f}'.format(n=index + 1, acc=model_accuracy))\n",
        "  print(\"X_raw type: \", type(X_raw))\n",
        "  print(\"X_raw shape: \", X_raw.shape)\n",
        "  print(\"y_raw shape: \", y_raw.shape)\n",
        "\n",
        "\n",
        "  # Save our model's performance for plotting.\n",
        "  performance_history.append(model_accuracy)"
      ]
    },
    {
      "cell_type": "markdown",
      "metadata": {
        "id": "gh2hIXqGlDyZ"
      },
      "source": [
        "## Evaluate our model's performance\n",
        "\n",
        "Here, we first plot the query iteration index against model accuracy. To visualize the performance of our classifier, we also plot the correct and incorrect predictions on the full dataset."
      ]
    },
    {
      "cell_type": "code",
      "execution_count": null,
      "metadata": {
        "colab": {
          "base_uri": "https://localhost:8080/",
          "height": 726
        },
        "id": "5U-5D79JlDya",
        "outputId": "8a4ad6cc-dd18-4ffb-be37-c166ce77fc33"
      },
      "outputs": [],
      "source": [
        "# Plot our performance over time.\n",
        "fig, ax = plt.subplots(figsize=(8.5, 6), dpi=130)\n",
        "\n",
        "ax.plot(performance_history)\n",
        "ax.scatter(range(len(performance_history)), performance_history, s=13)\n",
        "\n",
        "ax.xaxis.set_major_locator(mpl.ticker.MaxNLocator(nbins=5, integer=True))\n",
        "ax.yaxis.set_major_locator(mpl.ticker.MaxNLocator(nbins=10))\n",
        "ax.yaxis.set_major_formatter(mpl.ticker.PercentFormatter(xmax=1))\n",
        "\n",
        "ax.set_ylim(bottom=0, top=1)\n",
        "ax.grid(True)\n",
        "\n",
        "ax.set_title('Incremental classification accuracy')\n",
        "ax.set_xlabel('Query iteration')\n",
        "ax.set_ylabel('Classification Accuracy')\n",
        "\n",
        "plt.show()"
      ]
    },
    {
      "cell_type": "code",
      "execution_count": null,
      "metadata": {
        "colab": {
          "base_uri": "https://localhost:8080/",
          "height": 701
        },
        "id": "UuFJhTwclDya",
        "outputId": "3deeb82d-b306-4c03-d5d3-7557579c0229"
      },
      "outputs": [],
      "source": [
        "# Isolate the data we'll need for plotting.\n",
        "predictions = learner.predict(X_raw)\n",
        "is_correct = (predictions == y_raw)\n",
        "\n",
        "# Plot our updated classification results once we've trained our learner.\n",
        "fig, ax = plt.subplots(figsize=(8.5, 6), dpi=130)\n",
        "\n",
        "ax.scatter(x=x_component[is_correct],  y=y_component[is_correct],  c='g', marker='+', label='Correct',   alpha=8/10)\n",
        "ax.scatter(x=x_component[~is_correct], y=y_component[~is_correct], c='r', marker='x', label='Incorrect', alpha=8/10)\n",
        "\n",
        "ax.set_title('Classification accuracy after {n} queries: {final_acc:.3f}'.format(n=N_QUERIES, final_acc=performance_history[-1]))\n",
        "ax.legend(loc='lower right')\n",
        "\n",
        "plt.show()"
      ]
    },
    {
      "cell_type": "markdown",
      "metadata": {
        "id": "oa9faoFRnj1x"
      },
      "source": [
        "#Szwabe: Proper evaluation: on the pool excluding the teaching pool (Please comment on the differences)"
      ]
    },
    {
      "cell_type": "code",
      "execution_count": null,
      "metadata": {
        "id": "tpEREVFOoQSE"
      },
      "outputs": [],
      "source": [
        "learner = ActiveLearner(estimator=knn, X_training=X_train, y_training=y_train)"
      ]
    },
    {
      "cell_type": "code",
      "execution_count": null,
      "metadata": {
        "colab": {
          "base_uri": "https://localhost:8080/"
        },
        "id": "e7NPNFSoLWMY",
        "outputId": "1612fba6-9b5f-40ec-9745-26251b7c2226"
      },
      "outputs": [],
      "source": [
        "print(\"X_train type: \", type(X_train))\n",
        "print(\"X_train shape: \", X_train.shape)\n",
        "print(\"y_train shape: \", y_train.shape)"
      ]
    },
    {
      "cell_type": "code",
      "execution_count": null,
      "metadata": {
        "id": "n8pwQGdig12f"
      },
      "outputs": [],
      "source": [
        "import copy"
      ]
    },
    {
      "cell_type": "code",
      "execution_count": null,
      "metadata": {
        "id": "5_35dfQygq1O"
      },
      "outputs": [],
      "source": [
        "X_pool = copy.deepcopy(X_raw)\n",
        "y_pool = copy.deepcopy(y_raw)"
      ]
    },
    {
      "cell_type": "code",
      "execution_count": null,
      "metadata": {
        "id": "JzdEE0aPf4v8"
      },
      "outputs": [],
      "source": [
        "#unqueried_score = learner.score(X_raw, y_raw)\n",
        "unqueried_score = learner.score(X_pool, y_pool)"
      ]
    },
    {
      "cell_type": "code",
      "execution_count": null,
      "metadata": {
        "colab": {
          "base_uri": "https://localhost:8080/"
        },
        "id": "GjdHKnEqnA5d",
        "outputId": "1e5c4d88-b96d-4759-cf13-68e1bc36f59e"
      },
      "outputs": [],
      "source": [
        "N_QUERIES = 20\n",
        "performance_history = [unqueried_score]\n",
        "\n",
        "# Allow our model to query our unlabeled dataset for the most\n",
        "# informative points according to our query strategy (uncertainty sampling).\n",
        "for index in range(N_QUERIES):\n",
        "  query_index, query_instance = learner.query(X_pool)\n",
        "\n",
        "  # Teach our ActiveLearner model the record it has requested.\n",
        "  X, y = X_pool[query_index].reshape(1, -1), y_pool[query_index].reshape(1, )\n",
        "  print(\"X type: \", type(X))\n",
        "  print(\"X shape: \", X.shape)\n",
        "  print(\"y shape: \", y.shape)\n",
        "  learner.teach(X=X, y=y)\n",
        "\n",
        "  learner_X_training = learner.X_training\n",
        "  print(\"learner_X_training type: \", type(learner_X_training))\n",
        "  print(\"learner_X_training shape: \", learner_X_training.shape)\n",
        "  print(\"learner_X_training shape: \", learner_X_training.shape)\n",
        "\n",
        "\n",
        "  # Remove the queried instance from the unlabeled pool.\n",
        "  X_pool, y_pool = np.delete(X_pool, query_index, axis=0), np.delete(y_pool, query_index)\n",
        "  print(\"X_pool type: \", type(X_pool))\n",
        "  print(\"X_pool shape: \", X_pool.shape)\n",
        "  print(\"y_pool shape: \", y_pool.shape)\n",
        "\n",
        "  # (previous approach) model_accuracy = learner.score(X_raw, y_raw)\n",
        "  # 1. [#154974] Previous approach included labeling the examples that it already learned,\n",
        "  # therefore the incremental plot (effectively, the only element incfluenced by that),\n",
        "  # might be a bit misleading.\n",
        "  # Calculate and report our model's accuracy.\n",
        "  model_accuracy = learner.score(X_pool, y_pool)\n",
        "  print('Accuracy after query {n}: {acc:0.4f}'.format(n=index + 1, acc=model_accuracy))\n",
        "\n",
        "  # Save our model's performance for plotting.\n",
        "  performance_history.append(model_accuracy)\n"
      ]
    },
    {
      "cell_type": "markdown",
      "metadata": {
        "id": "44jsAyNBn_gG"
      },
      "source": [
        "## Evaluate our model's performance\n",
        "\n",
        "Here, we first plot the query iteration index against model accuracy. To visualize the performance of our classifier, we also plot the correct and incorrect predictions on the full dataset."
      ]
    },
    {
      "cell_type": "code",
      "execution_count": null,
      "metadata": {
        "colab": {
          "base_uri": "https://localhost:8080/",
          "height": 726
        },
        "id": "z0ULNvhhn_gK",
        "outputId": "f0eec563-67a5-4b0a-9d39-e524a73be2d7"
      },
      "outputs": [],
      "source": [
        "# Plot our performance over time.\n",
        "fig, ax = plt.subplots(figsize=(8.5, 6), dpi=130)\n",
        "\n",
        "ax.plot(performance_history)\n",
        "ax.scatter(range(len(performance_history)), performance_history, s=13)\n",
        "\n",
        "ax.xaxis.set_major_locator(mpl.ticker.MaxNLocator(nbins=5, integer=True))\n",
        "ax.yaxis.set_major_locator(mpl.ticker.MaxNLocator(nbins=10))\n",
        "ax.yaxis.set_major_formatter(mpl.ticker.PercentFormatter(xmax=1))\n",
        "\n",
        "ax.set_ylim(bottom=0, top=1)\n",
        "ax.grid(True)\n",
        "\n",
        "ax.set_title('Incremental classification accuracy')\n",
        "ax.set_xlabel('Query iteration')\n",
        "ax.set_ylabel('Classification Accuracy')\n",
        "\n",
        "plt.show()"
      ]
    },
    {
      "cell_type": "code",
      "execution_count": null,
      "metadata": {
        "colab": {
          "base_uri": "https://localhost:8080/",
          "height": 701
        },
        "id": "C-4rlTPxn_gP",
        "outputId": "8e2e253f-20c4-4aa4-f2c9-88e30eddda1b"
      },
      "outputs": [],
      "source": [
        "# Isolate the data we'll need for plotting.\n",
        "predictions = learner.predict(X_raw)\n",
        "is_correct = (predictions == y_raw)\n",
        "\n",
        "# Plot our updated classification results once we've trained our learner.\n",
        "fig, ax = plt.subplots(figsize=(8.5, 6), dpi=130)\n",
        "\n",
        "ax.scatter(x=x_component[is_correct],  y=y_component[is_correct],  c='g', marker='+', label='Correct',   alpha=8/10)\n",
        "ax.scatter(x=x_component[~is_correct], y=y_component[~is_correct], c='r', marker='x', label='Incorrect', alpha=8/10)\n",
        "\n",
        "ax.set_title('Classification accuracy after {n} queries: {final_acc:.3f}'.format(n=N_QUERIES, final_acc=performance_history[-1]))\n",
        "ax.legend(loc='lower right')\n",
        "\n",
        "plt.show()"
      ]
    },
    {
      "cell_type": "markdown",
      "metadata": {
        "id": "VprIGtaXMDaf"
      },
      "source": [
        "#Szwabe: Even more proper evaluation: on the pool excluding the teaching pool with prior raw data shuffling (Please comment on the differences)\n",
        "\n",
        "[#154974] Here, we shuffle the elements before teaching the learner and increase the number of queries. And the result is equal to 1.000 accuracy. Seems to be almost ideal with the exception of couple of misclassified cases. But be it as it might, 50 number of queries (30 queries more) plays a big part of classification improvement. However, after setting the number of queries to 20, the accuracy is higher than compared to the first two, and equals 0.984."
      ]
    },
    {
      "cell_type": "code",
      "execution_count": null,
      "metadata": {
        "id": "MLGn0Jc2QzMr"
      },
      "outputs": [],
      "source": [
        "np.random.seed(RANDOM_STATE_SEED)\n",
        "np.random.seed()"
      ]
    },
    {
      "cell_type": "code",
      "execution_count": null,
      "metadata": {
        "colab": {
          "base_uri": "https://localhost:8080/"
        },
        "id": "GaoHCIYxQ3Ld",
        "outputId": "562090e2-3451-44ce-e056-ba522396a9ef"
      },
      "outputs": [],
      "source": [
        "not_yet_shuffling_indices = np.arange(y_raw.shape[0])\n",
        "not_yet_shuffling_indices"
      ]
    },
    {
      "cell_type": "code",
      "execution_count": null,
      "metadata": {
        "id": "CuekEERRRUol"
      },
      "outputs": [],
      "source": [
        "np.random.shuffle(not_yet_shuffling_indices)"
      ]
    },
    {
      "cell_type": "code",
      "execution_count": null,
      "metadata": {
        "colab": {
          "base_uri": "https://localhost:8080/"
        },
        "id": "OTHC7suiRqI-",
        "outputId": "001880b3-b739-42d6-cb40-ff82d7955e27"
      },
      "outputs": [],
      "source": [
        "shuffling_indices = not_yet_shuffling_indices\n",
        "shuffling_indices"
      ]
    },
    {
      "cell_type": "code",
      "execution_count": null,
      "metadata": {
        "id": "wAB31nTaR05h"
      },
      "outputs": [],
      "source": [
        "X_raw = X_raw[shuffling_indices]\n",
        "y_raw = y_raw[shuffling_indices]"
      ]
    },
    {
      "cell_type": "code",
      "execution_count": null,
      "metadata": {
        "id": "Oai1ghvzNoWz"
      },
      "outputs": [],
      "source": [
        "# Isolate our examples for our labeled dataset.\n",
        "#n_labeled_examples = X_raw.shape[0]\n",
        "\n",
        "#training_indices = np.random.randint(low=0, high=n_labeled_examples + 1, size=3)\n",
        "training_indices = np.random.randint(low=0, high=n_labeled_examples, size=3)\n",
        "\n",
        "X_train = X_raw[training_indices]\n",
        "y_train = y_raw[training_indices]\n",
        "\n",
        "# Isolate the non-training examples we'll be querying.\n",
        "X_pool = np.delete(X_raw, training_indices, axis=0)\n",
        "y_pool = np.delete(y_raw, training_indices, axis=0)"
      ]
    },
    {
      "cell_type": "code",
      "execution_count": null,
      "metadata": {
        "id": "iLE_tiKcNoW5"
      },
      "outputs": [],
      "source": [
        "#from sklearn.neighbors import KNeighborsClassifier\n",
        "#from modAL.models import ActiveLearner\n",
        "\n",
        "# Specify our core estimator along with it's active learning model.\n",
        "knn = KNeighborsClassifier(n_neighbors=3)\n",
        "#learner = ActiveLearner(estimator=knn, X_training=X_train, y_training=y_train)"
      ]
    },
    {
      "cell_type": "code",
      "execution_count": null,
      "metadata": {
        "id": "3Id6bEZhMDah"
      },
      "outputs": [],
      "source": [
        "learner = ActiveLearner(estimator=knn, X_training=X_train, y_training=y_train)"
      ]
    },
    {
      "cell_type": "code",
      "execution_count": null,
      "metadata": {
        "colab": {
          "base_uri": "https://localhost:8080/"
        },
        "id": "ihEwTlkEMDai",
        "outputId": "d2f3172f-12ea-4310-c355-3080125c8ee0"
      },
      "outputs": [],
      "source": [
        "print(\"X_train type: \", type(X_train))\n",
        "print(\"X_train shape: \", X_train.shape)\n",
        "print(\"y_train shape: \", y_train.shape)"
      ]
    },
    {
      "cell_type": "code",
      "execution_count": null,
      "metadata": {
        "colab": {
          "base_uri": "https://localhost:8080/"
        },
        "id": "41kDhY6EMDaj",
        "outputId": "282e0ac0-0c86-436c-b1ce-9076a4c539d9"
      },
      "outputs": [],
      "source": [
        "N_QUERIES = 20\n",
        "# N_QUERIES = 50\n",
        "performance_history = [unqueried_score]\n",
        "\n",
        "# Allow our model to query our unlabeled dataset for the most\n",
        "# informative points according to our query strategy (uncertainty sampling).\n",
        "for index in range(N_QUERIES):\n",
        "  query_index, query_instance = learner.query(X_pool)\n",
        "\n",
        "  # Teach our ActiveLearner model the record it has requested.\n",
        "  X, y = X_pool[query_index].reshape(1, -1), y_pool[query_index].reshape(1, )\n",
        "  print(\"X type: \", type(X))\n",
        "  print(\"X shape: \", X.shape)\n",
        "  print(\"y shape: \", y.shape)\n",
        "  learner.teach(X=X, y=y)\n",
        "\n",
        "  learner_X_training = learner.X_training\n",
        "  print(\"learner_X_training type: \", type(learner_X_training))\n",
        "  print(\"learner_X_training shape: \", learner_X_training.shape)\n",
        "  print(\"learner_X_training shape: \", learner_X_training.shape)\n",
        "\n",
        "  # Remove the queried instance from the unlabeled pool.\n",
        "  X_pool, y_pool = np.delete(X_pool, query_index, axis=0), np.delete(y_pool, query_index)\n",
        "  print(\"X_pool type: \", type(X_pool))\n",
        "  print(\"X_pool shape: \", X_pool.shape)\n",
        "  print(\"y_pool shape: \", y_pool.shape)\n",
        "\n",
        "  # Calculate and report our model's accuracy.\n",
        "  model_accuracy = learner.score(X_pool, y_pool)\n",
        "  print('Accuracy after query {n}: {acc:0.4f}'.format(n=index + 1, acc=model_accuracy))\n",
        "\n",
        "  # Save our model's performance for plotting.\n",
        "  performance_history.append(model_accuracy)"
      ]
    },
    {
      "cell_type": "markdown",
      "metadata": {
        "id": "hwyWIuUTMDal"
      },
      "source": [
        "## Evaluate our model's performance\n",
        "\n",
        "Here, we first plot the query iteration index against model accuracy. To visualize the performance of our classifier, we also plot the correct and incorrect predictions on the full dataset."
      ]
    },
    {
      "cell_type": "code",
      "execution_count": null,
      "metadata": {
        "colab": {
          "base_uri": "https://localhost:8080/",
          "height": 726
        },
        "id": "PovnrPoOMDam",
        "outputId": "dffe1fda-b870-4c9e-b723-a4ca2183fb97"
      },
      "outputs": [],
      "source": [
        "# Plot our performance over time.\n",
        "fig, ax = plt.subplots(figsize=(8.5, 6), dpi=130)\n",
        "\n",
        "ax.plot(performance_history)\n",
        "ax.scatter(range(len(performance_history)), performance_history, s=13)\n",
        "\n",
        "ax.xaxis.set_major_locator(mpl.ticker.MaxNLocator(nbins=5, integer=True))\n",
        "ax.yaxis.set_major_locator(mpl.ticker.MaxNLocator(nbins=10))\n",
        "ax.yaxis.set_major_formatter(mpl.ticker.PercentFormatter(xmax=1))\n",
        "\n",
        "ax.set_ylim(bottom=0, top=1)\n",
        "ax.grid(True)\n",
        "\n",
        "ax.set_title('Incremental classification accuracy')\n",
        "ax.set_xlabel('Query iteration')\n",
        "ax.set_ylabel('Classification Accuracy')\n",
        "\n",
        "plt.show()"
      ]
    },
    {
      "cell_type": "code",
      "execution_count": null,
      "metadata": {
        "colab": {
          "base_uri": "https://localhost:8080/",
          "height": 701
        },
        "id": "Y18EpvABMDan",
        "outputId": "f82a7735-9e5c-4a7f-9ad6-290c6e0093c8"
      },
      "outputs": [],
      "source": [
        "# Isolate the data we'll need for plotting.\n",
        "predictions = learner.predict(X_raw)\n",
        "is_correct = (predictions == y_raw)\n",
        "\n",
        "# Plot our updated classification results once we've trained our learner.\n",
        "fig, ax = plt.subplots(figsize=(8.5, 6), dpi=130)\n",
        "\n",
        "ax.scatter(x=x_component[is_correct],  y=y_component[is_correct],  c='g', marker='+', label='Correct',   alpha=8/10)\n",
        "ax.scatter(x=x_component[~is_correct], y=y_component[~is_correct], c='r', marker='x', label='Incorrect', alpha=8/10)\n",
        "\n",
        "ax.set_title('Classification accuracy after {n} queries: {final_acc:.3f}'.format(n=N_QUERIES, final_acc=performance_history[-1]))\n",
        "ax.legend(loc='lower right')\n",
        "\n",
        "plt.show()"
      ]
    },
    {
      "cell_type": "markdown",
      "metadata": {
        "id": "BkBg9aKjy208"
      },
      "source": [
        "Uncertainty sampling\n",
        "==================\n",
        "\n",
        "When you present unlabelled examples to an active learner, it finds you the most *useful* example and presents it for you to be labelled. This is done by first calculating the *usefulness* of prediction (whatever it means) for each example and select an instance based on the usefulness. The thing is, there are several ways to measure this. They are based upon the classification uncertainty, hence they are called *uncertainty measures*. In modAL, currently you can select from three built-in measures: *classification uncertainty*, *classification margin* and *classification entropy*. In this quick tutorial, we are going to review them. For more details, see Section 2.3 of the awesome book [Active learning by Burr Settles](http://active-learning.net/)!"
      ]
    },
    {
      "cell_type": "code",
      "execution_count": null,
      "metadata": {
        "id": "4ESzmusKy21B"
      },
      "outputs": [],
      "source": [
        "import numpy as np"
      ]
    },
    {
      "cell_type": "markdown",
      "metadata": {
        "id": "y7zT5BpTy21E"
      },
      "source": [
        "Classification uncertainty\n",
        "-------------------------------------\n",
        "\n",
        "The simplest measure is the uncertainty of classification defined by\n",
        "\n",
        "$$U(x)=1-P(\\hat{x}|x)$$\n",
        "\n",
        "where $x$ is the instance to be predicted and $\\hat{x}$ is the most likely prediction.\n",
        "\n",
        "For example, if you have classes ``[0, 1, 2]`` and classification probabilities ``[0.1, 0.2, 0.7]``, the most likely class according to the classifier is ``2`` with uncertainty 0.3. If you have three instances with class probabilities"
      ]
    },
    {
      "cell_type": "code",
      "execution_count": null,
      "metadata": {
        "id": "JVnWA9y9y21G"
      },
      "outputs": [],
      "source": [
        "proba = np.array([[0.1 , 0.85, 0.05],\n",
        "                  [0.6 , 0.3 , 0.1 ],\n",
        "                  [0.39, 0.61, 0.0 ]])"
      ]
    },
    {
      "cell_type": "markdown",
      "metadata": {
        "id": "IDBl5HLWy21H"
      },
      "source": [
        "the corresponding uncertainties are:"
      ]
    },
    {
      "cell_type": "code",
      "execution_count": null,
      "metadata": {
        "colab": {
          "base_uri": "https://localhost:8080/"
        },
        "id": "U-P0zzbRy21I",
        "outputId": "7491963d-e528-4640-d744-ab2733177366"
      },
      "outputs": [],
      "source": [
        "1 - proba.max(axis=1)"
      ]
    },
    {
      "cell_type": "markdown",
      "metadata": {
        "id": "jqU6YHs8y21J"
      },
      "source": [
        "In the above example, the most uncertain sample is the second one. When\n",
        "querying for labels based on this measure, the strategy selects the\n",
        "sample with the highest uncertainty.\n",
        "\n",
        "For this ternary classification problem, given the first two\n",
        "probabilities, the classification uncertainty looks like the following."
      ]
    },
    {
      "cell_type": "code",
      "execution_count": null,
      "metadata": {
        "id": "IFgiTzy2y21K"
      },
      "outputs": [],
      "source": [
        "import matplotlib.pyplot as plt\n",
        "%matplotlib inline\n",
        "\n",
        "from itertools import product\n",
        "n_res = 100\n",
        "p1, p2 = np.meshgrid(np.linspace(0, 1, n_res), np.linspace(0, 1, n_res))\n",
        "p3 = np.maximum(1 - p1 - p2, 0)"
      ]
    },
    {
      "cell_type": "code",
      "execution_count": null,
      "metadata": {
        "id": "SMi7K0aKWovj"
      },
      "outputs": [],
      "source": [
        "import matplotlib.pyplot as plt\n",
        "import seaborn as sns\n",
        "sns.set_style(\"whitegrid\")"
      ]
    },
    {
      "cell_type": "code",
      "execution_count": null,
      "metadata": {
        "colab": {
          "base_uri": "https://localhost:8080/"
        },
        "id": "eWMrP1ogXkZl",
        "outputId": "0e99e0ae-adc6-4803-919d-9babe12b53a4"
      },
      "outputs": [],
      "source": [
        "plt.style.available"
      ]
    },
    {
      "cell_type": "code",
      "execution_count": null,
      "metadata": {
        "colab": {
          "base_uri": "https://localhost:8080/",
          "height": 848
        },
        "id": "VInExP2Xy21M",
        "outputId": "c549a16b-5d12-404c-f380-563edb2cc4bf"
      },
      "outputs": [],
      "source": [
        "uncertainty = 1 - np.maximum.reduce([p1, p2, p3])\n",
        "\n",
        "with plt.style.context('seaborn-v0_8-whitegrid'):\n",
        "    plt.figure(figsize=(10, 10))\n",
        "    plt.contourf(p1, p2, uncertainty*((p1+p2) < 1), 100)\n",
        "    plt.title('Classification uncertainty for ternary classification')"
      ]
    },
    {
      "cell_type": "markdown",
      "metadata": {
        "id": "xtLnb9ZkA_Rz"
      },
      "source": [
        "## Szwabe: What about a 2-class case? (Please comment on the differences)\n",
        "\n",
        "[#154974] The 3-D case is pyramid-like, therefore the slices (2-D cases) follow the obvious pattern. If you go on the edge, the values of the scores create a triange. Going from center of one edge to another on the same side of the pyramid causes no difference in the score values."
      ]
    },
    {
      "cell_type": "code",
      "execution_count": null,
      "metadata": {
        "colab": {
          "base_uri": "https://localhost:8080/"
        },
        "id": "dOPxPCpU--QK",
        "outputId": "ee30a669-7248-464b-ee78-29be46d78c89"
      },
      "outputs": [],
      "source": [
        "p1.shape"
      ]
    },
    {
      "cell_type": "code",
      "execution_count": null,
      "metadata": {
        "id": "4GDUzYQL_Us-"
      },
      "outputs": [],
      "source": [
        "for p1_slice_idx in range(p1.shape[0]):\n",
        "  p1_slice = p1[p1_slice_idx, :]\n"
      ]
    },
    {
      "cell_type": "code",
      "execution_count": null,
      "metadata": {
        "colab": {
          "base_uri": "https://localhost:8080/",
          "height": 447
        },
        "id": "YaZJjcbB_q3Y",
        "outputId": "94c6bb92-5f13-44e3-fffd-21093be89db9"
      },
      "outputs": [],
      "source": [
        "plt.plot(p1_slice)"
      ]
    },
    {
      "cell_type": "code",
      "execution_count": null,
      "metadata": {
        "id": "8JiLsBXeAdbC"
      },
      "outputs": [],
      "source": [
        "p2_slice = 1 - p1_slice"
      ]
    },
    {
      "cell_type": "code",
      "execution_count": null,
      "metadata": {
        "colab": {
          "base_uri": "https://localhost:8080/",
          "height": 472
        },
        "id": "iuHubcl6_xj7",
        "outputId": "a28f4c3d-4724-4a47-a164-eeae1c19272e"
      },
      "outputs": [],
      "source": [
        "uncertainty_slice = 1 - np.maximum.reduce([p1_slice, p2_slice])\n",
        "plt.plot(p1_slice, uncertainty_slice)\n",
        "plt.title('Binary classification uncertainty')\n",
        "plt.xlabel('Class probability')\n",
        "plt.ylabel('Classification uncertainty')\n",
        "plt.show()"
      ]
    },
    {
      "cell_type": "code",
      "execution_count": null,
      "metadata": {
        "colab": {
          "base_uri": "https://localhost:8080/"
        },
        "id": "bqkiaRtzCvSJ",
        "outputId": "48f073f3-9eb4-4efc-88a1-ba72f1edbe25"
      },
      "outputs": [],
      "source": [
        "p1[-1, :] == p1_slice"
      ]
    },
    {
      "cell_type": "code",
      "execution_count": null,
      "metadata": {
        "colab": {
          "base_uri": "https://localhost:8080/"
        },
        "id": "8rVVka_1DJjd",
        "outputId": "686484ff-4063-4027-b6b6-bd407ad289d4"
      },
      "outputs": [],
      "source": [
        "p1[-1, :] == p1[-2, :]"
      ]
    },
    {
      "cell_type": "code",
      "execution_count": null,
      "metadata": {
        "colab": {
          "base_uri": "https://localhost:8080/"
        },
        "id": "eCAwiMk4Fb1D",
        "outputId": "f93e8861-6014-41c1-bd5f-79d36a9327f0"
      },
      "outputs": [],
      "source": [
        "uncertainty.shape"
      ]
    },
    {
      "cell_type": "code",
      "execution_count": null,
      "metadata": {
        "colab": {
          "base_uri": "https://localhost:8080/",
          "height": 430
        },
        "id": "gzSHU020Fj4y",
        "outputId": "4e90e614-49bd-4432-a311-1b980cde522f"
      },
      "outputs": [],
      "source": [
        "plt.plot(uncertainty[:,50])\n",
        "plt.show()"
      ]
    },
    {
      "cell_type": "code",
      "execution_count": null,
      "metadata": {
        "colab": {
          "base_uri": "https://localhost:8080/",
          "height": 430
        },
        "id": "g3KHQ5WAGQET",
        "outputId": "8f5f3f19-2c12-4af8-bab4-272527ed9867"
      },
      "outputs": [],
      "source": [
        "plt.plot(uncertainty[:,10])\n",
        "plt.show()"
      ]
    },
    {
      "cell_type": "code",
      "execution_count": null,
      "metadata": {
        "colab": {
          "base_uri": "https://localhost:8080/",
          "height": 430
        },
        "id": "NUEWtRQuGetb",
        "outputId": "d940e2fd-f2b4-4293-9cd8-edd77aebe777"
      },
      "outputs": [],
      "source": [
        "plt.plot(uncertainty[:,0])\n",
        "plt.show()"
      ]
    },
    {
      "cell_type": "code",
      "execution_count": null,
      "metadata": {
        "colab": {
          "base_uri": "https://localhost:8080/",
          "height": 430
        },
        "id": "3gEMerbeHkWP",
        "outputId": "30a8a2f2-66e6-456b-876b-31ea68f8ea92"
      },
      "outputs": [],
      "source": [
        "plt.plot(uncertainty[:,90])\n",
        "plt.show()"
      ]
    },
    {
      "cell_type": "markdown",
      "metadata": {
        "id": "IEt_rw3py21N"
      },
      "source": [
        "Classification margin\n",
        "-------------------------------\n",
        "\n",
        "Classification margin is the difference in probability of the first and second most likely prediction, that is, it is defined by\n",
        "\n",
        "$$M(x)=P(\\hat{x_1}|x)-P(\\hat{x_2}|x)$$\n",
        "\n",
        "where $\\hat{x_1}$ and $\\hat{x_2}$ are the first and second most likely classes. Using the same example we used for classification uncertainty, if the class probabilities are"
      ]
    },
    {
      "cell_type": "code",
      "execution_count": null,
      "metadata": {
        "id": "BHkw76vHy21O"
      },
      "outputs": [],
      "source": [
        "proba = np.array([[0.1 , 0.85, 0.05],\n",
        "                  [0.6 , 0.3 , 0.1 ],\n",
        "                  [0.39, 0.61, 0.0 ]])"
      ]
    },
    {
      "cell_type": "markdown",
      "metadata": {
        "id": "j2pI335gy21P"
      },
      "source": [
        "the corresponding margins are:"
      ]
    },
    {
      "cell_type": "code",
      "execution_count": null,
      "metadata": {
        "id": "V67NznY5y21P"
      },
      "outputs": [],
      "source": [
        "part = np.partition(-proba, 1, axis=1)\n",
        "margin = - part[:, 0] + part[:, 1]"
      ]
    },
    {
      "cell_type": "code",
      "execution_count": null,
      "metadata": {
        "colab": {
          "base_uri": "https://localhost:8080/"
        },
        "id": "eTwPcA1Qy21P",
        "outputId": "46ccc35f-6281-46ea-e34a-3581393551bf"
      },
      "outputs": [],
      "source": [
        "margin"
      ]
    },
    {
      "cell_type": "markdown",
      "metadata": {
        "id": "W-sVa2W0y21Q"
      },
      "source": [
        "When querying for labels, the strategy selects the sample with the *smallest* margin, since the smaller the decision margin is, the more unsure the decision. In this case, it would be the third sample. For this ternary classification problem, the classifier margin plotted against the first two probabilities are the following."
      ]
    },
    {
      "cell_type": "code",
      "execution_count": null,
      "metadata": {
        "id": "PMldNIbmy21R"
      },
      "outputs": [],
      "source": [
        "proba = np.vstack((p1.ravel(), p2.ravel(), p3.ravel())).T\n",
        "\n",
        "part = np.partition(-proba, 1, axis=1)\n",
        "margin = - part[:, 0] + part[:, 1]\n",
        "\n",
        "margin = margin.reshape(p1.shape)"
      ]
    },
    {
      "cell_type": "code",
      "execution_count": null,
      "metadata": {
        "colab": {
          "base_uri": "https://localhost:8080/",
          "height": 848
        },
        "id": "E1rdAyRly21R",
        "outputId": "327cd5d9-8274-4e6d-ae09-d347a471d3fa"
      },
      "outputs": [],
      "source": [
        "with plt.style.context('seaborn-v0_8-whitegrid'):\n",
        "    plt.figure(figsize=(10, 10))\n",
        "    plt.contourf(p1, p2, (1-margin)*((p1+p2) < 1), 100)\n",
        "    plt.title('Classification margin for ternary classification')"
      ]
    },
    {
      "cell_type": "markdown",
      "metadata": {
        "id": "jPNgk6pCCPJP"
      },
      "source": [
        "## Szwabe: What about a 2-class case? (Please comment on the differences)\n",
        "\n",
        "[#154974] This case is more complex than other, it has more moving parts (one more probability to consider). While on the edge of the \"tower\" it looks pretty similar (except that in the center it gets the highest possible value), the other slices are notably different, so that even on the same slice you can observe zig-zags."
      ]
    },
    {
      "cell_type": "code",
      "execution_count": null,
      "metadata": {
        "colab": {
          "base_uri": "https://localhost:8080/",
          "height": 430
        },
        "id": "exyr1Y95GjYW",
        "outputId": "9df2345a-3585-44d0-82d3-7c636d16714c"
      },
      "outputs": [],
      "source": [
        "plt.plot((1-margin)[:,0])\n",
        "plt.show()"
      ]
    },
    {
      "cell_type": "code",
      "execution_count": null,
      "metadata": {
        "colab": {
          "base_uri": "https://localhost:8080/",
          "height": 430
        },
        "id": "NbmZq0bsGqNE",
        "outputId": "999fe3bf-25a6-43c3-c859-b372d7cf8863"
      },
      "outputs": [],
      "source": [
        "plt.plot((1-margin)[:,10])\n",
        "plt.show()"
      ]
    },
    {
      "cell_type": "code",
      "execution_count": null,
      "metadata": {
        "colab": {
          "base_uri": "https://localhost:8080/",
          "height": 430
        },
        "id": "mbEI4v-6HPgB",
        "outputId": "77fc50e5-2f3c-4f9c-ab62-cb5f40b2a882"
      },
      "outputs": [],
      "source": [
        "plt.plot((1-margin)[:,90])\n",
        "plt.show()"
      ]
    },
    {
      "cell_type": "markdown",
      "metadata": {
        "id": "NUAGchcWy21S"
      },
      "source": [
        "Classification entropy\n",
        "--------------------------------\n",
        "\n",
        "The third built-in uncertainty measure is the classification entropy, which is defined by\n",
        "\n",
        "$$H(x)=-\\sum_{k}p_k\\log(p_k)$$\n",
        "\n",
        "where $p_k$ is the probability of the sample belonging to the $k$-th class. Heuristically, the entropy is proportional to the average number of guesses one has to make to find the true class. In our usual example"
      ]
    },
    {
      "cell_type": "code",
      "execution_count": null,
      "metadata": {
        "id": "sCfT3tJ5y21T"
      },
      "outputs": [],
      "source": [
        "proba = np.array([[0.1 , 0.85, 0.05],\n",
        "                  [0.6 , 0.3 , 0.1 ],\n",
        "                  [0.39, 0.61, 0.0 ]])"
      ]
    },
    {
      "cell_type": "markdown",
      "metadata": {
        "id": "RCGX3X0Ny21T"
      },
      "source": [
        "the corresponding entropies are"
      ]
    },
    {
      "cell_type": "code",
      "execution_count": null,
      "metadata": {
        "colab": {
          "base_uri": "https://localhost:8080/"
        },
        "id": "sLktjSFPy21U",
        "outputId": "d31254c0-18d7-46d6-f3a9-bead09c81ba6"
      },
      "outputs": [],
      "source": [
        "from scipy.stats import entropy\n",
        "\n",
        "entropy(proba.T)"
      ]
    },
    {
      "cell_type": "markdown",
      "metadata": {
        "id": "_xRcKD-Sy21U"
      },
      "source": [
        "The closer the distribution to uniform, the larger the entropy. Again, if we plot the entropy against the first two probabilities of a ternary classification problem, we obtain the following."
      ]
    },
    {
      "cell_type": "code",
      "execution_count": null,
      "metadata": {
        "colab": {
          "base_uri": "https://localhost:8080/",
          "height": 848
        },
        "id": "p28vLv-9y21U",
        "outputId": "a0c21dc5-ad56-4bc9-94ea-12207721ccb4"
      },
      "outputs": [],
      "source": [
        "proba = np.vstack((p1.ravel(), p2.ravel(), p3.ravel())).T\n",
        "entr = entropy(proba.T).reshape(p1.shape)\n",
        "\n",
        "with plt.style.context('seaborn-v0_8-whitegrid'):\n",
        "    plt.figure(figsize=(10, 10))\n",
        "    plt.contourf(p1, p2, entr*((p1+p2) < 1), 100)\n",
        "    plt.title('Entropy for ternary classification')"
      ]
    },
    {
      "cell_type": "code",
      "execution_count": null,
      "metadata": {
        "colab": {
          "base_uri": "https://localhost:8080/",
          "height": 472
        },
        "id": "kfbMOri0H6k2",
        "outputId": "2b6162de-234f-4aed-e32c-27c47a946bec"
      },
      "outputs": [],
      "source": [
        "plt.plot(entr[:,0])\n",
        "plt.title('Binary entropy')\n",
        "plt.xlabel('Class probability')\n",
        "plt.ylabel('Classification uncertainty')\n",
        "plt.show()"
      ]
    },
    {
      "cell_type": "markdown",
      "metadata": {
        "id": "yt4638xceGd3"
      },
      "source": [
        "![Binary_entropy_plot.svg.png](data:image/png;base64,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)\n",
        "\n",
        "Entropy of a Bernoulli trial as a function of binary outcome probability, called the binary entropy function.\n",
        "\n",
        "[https://en.wikipedia.org/wiki/Binary_entropy_function]"
      ]
    },
    {
      "cell_type": "code",
      "execution_count": null,
      "metadata": {
        "colab": {
          "base_uri": "https://localhost:8080/",
          "height": 430
        },
        "id": "KUM8PCiiI5hr",
        "outputId": "40468573-eb1d-4f55-d6b8-96bf12f98bf3"
      },
      "outputs": [],
      "source": [
        "plt.plot(entr[:,50])\n",
        "plt.show()"
      ]
    },
    {
      "cell_type": "markdown",
      "metadata": {
        "id": "HImyLpda7JmV"
      },
      "source": [
        "## Szwabe: What about a 2-class case? (Please comment on the differences)\n",
        "\n",
        "[#154974] Looks like a smooth mountain, and 2-D slices are corresponding. This is quite different from the 2 previous approaches, the gradient of the score function changes constantly."
      ]
    },
    {
      "cell_type": "markdown",
      "metadata": {
        "id": "S1l9MZU9zx91"
      },
      "source": [
        "Query by committee\n",
        "=================\n",
        "\n",
        "*Query by committee* is another popular active learning strategy, which alleviates many disadvantages of uncertainty sampling. For instance, uncertainty sampling tends to be biased towards the actual learner and it may miss important examples which are not in the sight of the estimator. This is fixed by keeping several hypotheses at the same time, selecting queries where disagreement occurs between them. In this example, we shall see how this works in the simplest case, using the iris dataset.\n",
        "\n",
        "The executable script for this example is [available here](https://github.com/cosmic-cortex/modAL/blob/master/examples/query_by_committee.py)!"
      ]
    },
    {
      "cell_type": "markdown",
      "metadata": {
        "id": "Bu11Ke2lzx95"
      },
      "source": [
        "To enforce a reproducible result across runs, we set a random seed."
      ]
    },
    {
      "cell_type": "code",
      "execution_count": null,
      "metadata": {
        "id": "JO57ijMdzx96"
      },
      "outputs": [],
      "source": [
        "import numpy as np\n",
        "\n",
        "# Set our RNG seed for reproducibility.\n",
        "RANDOM_STATE_SEED = 1\n",
        "np.random.seed(RANDOM_STATE_SEED)"
      ]
    },
    {
      "cell_type": "markdown",
      "metadata": {
        "id": "2R9bb9Ojzx98"
      },
      "source": [
        "The dataset\n",
        "-----------------\n",
        "\n",
        "We are going to use the iris dataset for this example. For more information on the iris dataset, see [its wikipedia page](https://en.wikipedia.org/wiki/Iris_flower_data_set). For its scikit-learn interface, see [the scikit-learn documentation](http://scikit-learn.org/stable/modules/generated/sklearn.datasets.load_iris.html)."
      ]
    },
    {
      "cell_type": "code",
      "execution_count": null,
      "metadata": {
        "colab": {
          "base_uri": "https://localhost:8080/",
          "height": 615
        },
        "id": "h_pfCCh5zx9-",
        "outputId": "8b71d166-545e-4e57-ca85-43341ae11ec2"
      },
      "outputs": [],
      "source": [
        "import matplotlib as mpl\n",
        "import matplotlib.pyplot as plt\n",
        "%matplotlib inline\n",
        "from sklearn.decomposition import PCA\n",
        "from sklearn.datasets import load_iris\n",
        "\n",
        "# loading the iris dataset\n",
        "iris = load_iris()\n",
        "\n",
        "# visualizing the classes\n",
        "with plt.style.context('seaborn-v0_8-whitegrid'):\n",
        "    plt.figure(figsize=(7, 7))\n",
        "    pca = PCA(n_components=2).fit_transform(iris['data'])\n",
        "    plt.scatter(x=pca[:, 0], y=pca[:, 1], c=iris['target'], cmap='viridis', s=50)\n",
        "    plt.title('The iris dataset')\n",
        "    plt.show()\n"
      ]
    },
    {
      "cell_type": "code",
      "execution_count": null,
      "metadata": {
        "colab": {
          "base_uri": "https://localhost:8080/"
        },
        "id": "Ut2ljTEE92kO",
        "outputId": "9c0a7c41-c690-4ed2-97bf-a3e3729e82f0"
      },
      "outputs": [],
      "source": [
        "print(iris[\"DESCR\"])"
      ]
    },
    {
      "cell_type": "markdown",
      "metadata": {
        "id": "PaKsiYtRzx9_"
      },
      "source": [
        "Initializing the Committee\n",
        "--------------------------\n",
        "\n",
        "In this example, we are going to use the ``Committee`` class from ``modAL.models``. Its interface is almost exactly identical to the\n",
        "``ActiveLearner``. Upon initialization, ``Committee`` requires a list of active learners. First, we generate the pool of unlabeled data."
      ]
    },
    {
      "cell_type": "code",
      "execution_count": null,
      "metadata": {
        "id": "vNlquiZWzx-A"
      },
      "outputs": [],
      "source": [
        "from copy import deepcopy\n",
        "\n",
        "# generate the pool\n",
        "X_pool = deepcopy(iris['data'])\n",
        "y_pool = deepcopy(iris['target'])"
      ]
    },
    {
      "cell_type": "markdown",
      "metadata": {
        "id": "IFoVn-Zqzx-B"
      },
      "source": [
        "Now we are ready to initialize the ```Committee```. For this, we need a list of ```ActiveLearner``` objects, which we will define now."
      ]
    },
    {
      "cell_type": "code",
      "execution_count": null,
      "metadata": {
        "id": "7VfV5nVxzx-C"
      },
      "outputs": [],
      "source": [
        "import numpy as np\n",
        "from sklearn.ensemble import RandomForestClassifier\n",
        "from modAL.models import ActiveLearner, Committee\n",
        "\n",
        "# initializing Committee members\n",
        "n_members = 2\n",
        "learner_list = list()\n",
        "\n",
        "for member_idx in range(n_members):\n",
        "    # initial training data\n",
        "    n_initial = 2\n",
        "    train_idx = np.random.choice(range(X_pool.shape[0]), size=n_initial, replace=False)\n",
        "    X_train = X_pool[train_idx]\n",
        "    y_train = y_pool[train_idx]\n",
        "\n",
        "    # creating a reduced copy of the data with the known instances removed\n",
        "    X_pool = np.delete(X_pool, train_idx, axis=0)\n",
        "    y_pool = np.delete(y_pool, train_idx)\n",
        "\n",
        "    # initializing learner\n",
        "    learner = ActiveLearner(\n",
        "        estimator=RandomForestClassifier(),\n",
        "        X_training=X_train, y_training=y_train\n",
        "    )\n",
        "    learner_list.append(learner)\n",
        "\n",
        "# assembling the committee\n",
        "committee = Committee(learner_list=learner_list)"
      ]
    },
    {
      "cell_type": "markdown",
      "metadata": {
        "id": "g0iQyapvzx-F"
      },
      "source": [
        "As you can see, the various hypotheses (which are taking the form of ActiveLearners) can be quite different."
      ]
    },
    {
      "cell_type": "code",
      "execution_count": null,
      "metadata": {
        "colab": {
          "base_uri": "https://localhost:8080/",
          "height": 610
        },
        "id": "ynF2M_kGzx-F",
        "outputId": "3a33ca26-8c56-4954-a274-77133b52b021"
      },
      "outputs": [],
      "source": [
        "with plt.style.context('seaborn-v0_8-whitegrid'):\n",
        "    plt.figure(figsize=(n_members*7, 7))\n",
        "    for learner_idx, learner in enumerate(committee):\n",
        "        plt.subplot(1, n_members, learner_idx + 1)\n",
        "        plt.scatter(x=pca[:, 0], y=pca[:, 1], c=learner.predict(iris['data']), cmap='viridis', s=50)\n",
        "        plt.title('Learner no. %d initial predictions' % (learner_idx + 1))\n",
        "    plt.show()"
      ]
    },
    {
      "cell_type": "markdown",
      "metadata": {
        "id": "mZMtS0ERzx-G"
      },
      "source": [
        "Prediction is done by averaging the class probabilities for each learner and chosing the most likely class."
      ]
    },
    {
      "cell_type": "code",
      "execution_count": null,
      "metadata": {
        "colab": {
          "base_uri": "https://localhost:8080/",
          "height": 615
        },
        "id": "VRaNlaJlzx-H",
        "outputId": "1054f043-59ed-43b3-9a6e-f8c5f2259adc"
      },
      "outputs": [],
      "source": [
        "unqueried_score = committee.score(iris['data'], iris['target'])\n",
        "\n",
        "with plt.style.context('seaborn-v0_8-whitegrid'):\n",
        "    plt.figure(figsize=(7, 7))\n",
        "    prediction = committee.predict(iris['data'])\n",
        "    plt.scatter(x=pca[:, 0], y=pca[:, 1], c=prediction, cmap='viridis', s=50)\n",
        "    plt.title('Committee initial predictions, accuracy = %1.3f' % unqueried_score)\n",
        "    plt.show()"
      ]
    },
    {
      "cell_type": "markdown",
      "metadata": {
        "id": "RktrEpfKzx-I"
      },
      "source": [
        "Active learning\n",
        "----------------------\n",
        "\n",
        "The active learning loop is the same as for the ``ActiveLearner``."
      ]
    },
    {
      "cell_type": "code",
      "execution_count": null,
      "metadata": {
        "colab": {
          "base_uri": "https://localhost:8080/"
        },
        "id": "o9TR1tF-zx-I",
        "outputId": "88ac48ac-7c1e-4d52-fcb4-960d76e8e358"
      },
      "outputs": [],
      "source": [
        "performance_history = [unqueried_score]\n",
        "\n",
        "# query by committee\n",
        "n_queries = 20\n",
        "for idx in range(n_queries):\n",
        "    query_idx, query_instance = committee.query(X_pool)\n",
        "    committee.teach(\n",
        "        X=X_pool[query_idx].reshape(1, -1),\n",
        "        y=y_pool[query_idx].reshape(1, )\n",
        "    )\n",
        "    performance_history.append(committee.score(iris['data'], iris['target']))\n",
        "    # remove queried instance from pool\n",
        "    X_pool = np.delete(X_pool, query_idx, axis=0)\n",
        "    y_pool = np.delete(y_pool, query_idx)"
      ]
    },
    {
      "cell_type": "markdown",
      "metadata": {
        "id": "PEtO19b_zx-J"
      },
      "source": [
        "After a few queries, the hypotheses straighten out their disagreements and they reach consensus. Prediction accuracy is greatly improved in this case."
      ]
    },
    {
      "cell_type": "code",
      "execution_count": null,
      "metadata": {
        "colab": {
          "base_uri": "https://localhost:8080/",
          "height": 610
        },
        "id": "bGuA6Cvyzx-J",
        "outputId": "995f5781-8cca-4af8-83ea-1b3e9f7a203a"
      },
      "outputs": [],
      "source": [
        "# visualizing the final predictions per learner\n",
        "with plt.style.context('seaborn-v0_8-whitegrid'):\n",
        "    plt.figure(figsize=(n_members*7, 7))\n",
        "    for learner_idx, learner in enumerate(committee):\n",
        "        plt.subplot(1, n_members, learner_idx + 1)\n",
        "        plt.scatter(x=pca[:, 0], y=pca[:, 1], c=learner.predict(iris['data']), cmap='viridis', s=50)\n",
        "        plt.title('Learner no. %d predictions after %d queries' % (learner_idx + 1, n_queries))\n",
        "    plt.show()"
      ]
    },
    {
      "cell_type": "code",
      "execution_count": null,
      "metadata": {
        "colab": {
          "base_uri": "https://localhost:8080/",
          "height": 615
        },
        "id": "_Wo7fpKPzx-K",
        "outputId": "3ab6c951-ea08-44b5-8e92-0358e699a82f"
      },
      "outputs": [],
      "source": [
        "# visualizing the Committee's predictions\n",
        "with plt.style.context('seaborn-v0_8-whitegrid'):\n",
        "    plt.figure(figsize=(7, 7))\n",
        "    prediction = committee.predict(iris['data'])\n",
        "    plt.scatter(x=pca[:, 0], y=pca[:, 1], c=prediction, cmap='viridis', s=50)\n",
        "    plt.title('Committee predictions after %d queries, accuracy = %1.3f'\n",
        "              % (n_queries, committee.score(iris['data'], iris['target'])))\n",
        "    plt.show()"
      ]
    },
    {
      "cell_type": "code",
      "execution_count": null,
      "metadata": {
        "colab": {
          "base_uri": "https://localhost:8080/",
          "height": 726
        },
        "id": "li6HcqmLzx-L",
        "outputId": "43e615a1-53f6-451c-fb0e-f9551e18d793"
      },
      "outputs": [],
      "source": [
        "# Plot our performance over time.\n",
        "fig, ax = plt.subplots(figsize=(8.5, 6), dpi=130)\n",
        "\n",
        "ax.plot(performance_history)\n",
        "ax.scatter(range(len(performance_history)), performance_history, s=13)\n",
        "\n",
        "ax.xaxis.set_major_locator(mpl.ticker.MaxNLocator(nbins=5, integer=True))\n",
        "ax.yaxis.set_major_locator(mpl.ticker.MaxNLocator(nbins=10))\n",
        "ax.yaxis.set_major_formatter(mpl.ticker.PercentFormatter(xmax=1))\n",
        "\n",
        "ax.set_ylim(bottom=0, top=1)\n",
        "ax.grid(True)\n",
        "\n",
        "ax.set_title('Incremental classification accuracy')\n",
        "ax.set_xlabel('Query iteration')\n",
        "ax.set_ylabel('Classification Accuracy')\n",
        "\n",
        "plt.show()"
      ]
    },
    {
      "cell_type": "markdown",
      "metadata": {
        "id": "owtRc42Q7jEc"
      },
      "source": [
        "## Szwabe: What about a 2-class case? (Please comment on the differences)\n",
        "\n",
        "[#154974] overall, while being quite distinct between each other, they have the same in common (actually in either 3D or 2D). They evaluate the highest when the probabilities of 3 (or 2) classes, are identical."
      ]
    },
    {
      "cell_type": "markdown",
      "metadata": {
        "id": "jazNMa-AbWJQ"
      },
      "source": [
        "#Comparison of query strategies"
      ]
    },
    {
      "cell_type": "markdown",
      "metadata": {
        "id": "g7VYxW9v-2gu"
      },
      "source": [
        "![AC_query_strategies.png](data:image/png;base64,iVBORw0KGgoAAAANSUhEUgAABYQAAAGTCAYAAACYtxZyAAAWF3pUWHRSYXcgcHJvZmlsZSB0eXBlIGV4aWYAAHjapZpZltw2k4XfuYpeAuZhOUAEcE7voJff32Vmyb9kv7hbclWWspgkGHHjDqCf8z//fZ//4k+NPT2l9tFma4E/ZZaZFj+M8Pmz3u8xlPf7+2eUUL/v/vb+M/P3x8Rr5jV/P9A+r/Hn/e8Hfl7j4qf6Hyca9v3F/v0Xs3xe0/jjROnzkrUi/ew/K/qeKKfPL+L3BOtzW6HN0f/zFvb5vH4//ykDX4++lfH7sv/27071vHKdnNLJMQe+pzw+C8j6Sk9e7w+LLxbFQfX9Wd9z7t+TUZB/qtOvP5MVXS21/ONBv3Xl109/dKvMb43+7FZJ30PyH0Vuv17/8f0n1j9+kX9dP/125fELJr+9f2pMnxX9UX193evjvvfMXazSKHX73tTPLb4/cdzmErr0eFhaC52vyin6+3fyd4BqAwoeLGz+Wpwx0a4bS/S44o3nfbVoLLGk86TODylZyu+bI/c0k2X1r+hvvKnnmT0Pemm0PfNu+rWW+F52Bnveqw2u7JFDU+RkUbj4t3+ff/uBezUKMb5Anm+tWFdKKjbLUOf0ncPoSLzfota3wD9///yjvuYgNqDKGpFJYffnFLvGv5ggv43OHFh5/cxg7P49AQvi0jSfUtABusZUxBZDT6nHSCEHDVosPeWSNh2ItSZnkank3OjNSLo0H+nxPTTVxNsP70NmdKLmlju9mXnRrFIq+OllgKFVcy211lZ7HXXW1XIrrbbWehMprp57eXrtrfc++uxr5FFGHW30McYca6aZIc062+xzzDnX4pqLMy8+vThgrZ123mXXZ7fd99hzLwM+Vqxas27Dpi1Pnh3+8Obdh09fJx6gdMqpp51+xplnXaB283PLrbfdfsedd/3q2retf/v7L7oWv11Lb6d0YP/VNd7t/ecUUXRS1TMahopEOt7VAgCd1LMwYilJnVPPwoTxck0ssqpnHtUxOlhOTPXGn9496dNRde7/1benl9/6lv6vnXvUun/Zub/37Z+65pIhCx/Z1BSqqCEzfRyz0uA/tIrX1fn3sLq67+L5KWud2pgGNwrKm/nwfmruNLOmGmvvFN36WNl6X1yx9XodWurbW52h3jxZkdstjBWcNTOrOhThmKmzKZwSz9VxZ89Vqp3ty9wOi2mBmuR9zmWt1LlAI8xzS9t7t3DXdpUDbLWeTyqbZQdwYWDJ847X8qp953Fttzg6FU2rJFb93Lah+X4KTRvFfI2W2toLq7JuyYu6TFwLUDhQ6DgFKuA2+1qxnj5Pgr7vWfVZGUhzNa41A03ZZdLDnEoYnli6n5VK89WjnTw+5075RuBzbxt37LoqPXx6WjtXBv/SlVB1Q2ldFr/6aTOe2WSgFqgCLgMgzFL3nSs7OF4gNqZS9m5PrgGtL9wd0OreqW8bNZYqWwJINW+DTlYD0necZsDH+sycvmy0h1LEjRzlfLl0nH72mZ6jjt0t1+21Ljrq83IKZhFmLeP2dELrk+k6exyWxnqX7zOenmmEpepAIMyZymXMpl/GJs91K5+0WJMxx1Rhpq1hAQAz0jnnzmNiZtp9uvtFOEUCLH2BNZv9NujDmOnJEMc0qDOfZvGHctKtuivj2qhGOUj6YrHPCUfj8haloriXrsBO4+5aLgQzTq8RpHWN5Eh+EPEFDQzLEQs7k/wio/fQ9LY9tm0jI/AtzdAZW4ddZoVB+t0FLouZcdCRiE2ivtVHDlQptByrMTbP2sdb5G4blQUIBi0ZvaWZLIKx2R4+w7pXoH6JEcKpwpANP6AOcXdW/WlL03I91OUnh7NT8QvPYWRGtZ765fvBRNri2rSdluflVBTqmrRLN56tPRHUnjtGB/p5Yji7z7l5N7V+uRFcz0n5UJKbDILUYGTKjJOZ/f0npN5sPKOnbfSqcTpKeVj5AtZ1zFisQGEt7z0r8x8vkzW3iay3rTsY1XrXtD1Ax+Nl7T4YeC44md26PuyV92jGzSPkLTqlSXz65hOZbXA+mDa3xmyfBSVNe1pydILzHLuCeu+x2ekQB2XrwMLNMpXaUBowpo1GFXPm8F7F1udUfJw9/XYG7dZ2b1wHiHFw2yVFh7MGQ3sIF7ecPphl8IP34wC/mUNZ2Qs/DejTNPFQjwHzVFjNnriUxvwxJThSMKxbgW7bdLirjZkaWsQSB3ioIOXCdQk+qrbpbyozH+YVzoO3x6RblTIkdRz9iOHA7SyXeuEOEYPtyIzGDky2cB9b0PAohTFzX5XhxI/yKTSIctUwgYAP4A73QWH3uO9mUQMtoa1EEwht7Ccbo8NsJKkpSs4K10RRnFMythAFd1Dm7WAzzkX95vSAqDJ7NmnR8JFg8Mf6ZoDwEANS83q5H4AH8dVCtGkqARMLlBscMMsmbC6ztId5z8WQ/pOMkz4YuRMKjUnZ55B610FDMkOfxsnOSWGpDJNxr+8Zbh4Vi8aAwnkOHWmGGRGnTWctqGxiaqxtUOBoGPwrr85I0qMBZ3J1mgndIadoMkQCTF9PNFMni9Av9B1hQU0O1bN64t0RJhjt6F9+uLu0+9slYRNw3emYlbkGsjlRlm5PbvFUJIJgUQM6LcgA6/X6h7RbCQd6W4HCxMaY+90Dv2QJQGEnGIrTaj7zAWTL2iV5IP/bIJ+LbZCDwk9QNVwj93fxHnxaiaTWsmwVjw79epaLYDSwNeSgK5lALOgb6pH7QeD33pexF0QjQ3UBdnsBdWnDmfUGaoE1uycJrvFpPdBhsjQyhHJrJYAIgtJ0APWCNAIpqD2O4byzuaI4UeJt+xKGJnqEQO70IVL40SYQxeSXOym/If+ylisdyq0hhbca8CEIIq3DSYYNTlzGRPkDBDPVSnNYSBeZGsz9xjGgegUuIIoNhUic5eQkfOdYPrtP9zuBdmvAGFe7MS3vXd/+Q/KOMkBN6GaNeKCJc8EFrpsZgVyRQLCKz9x4DsmuRKLBR7BxHUAJMSkwZUNaKTXcDRlRk+jozN5S4A0F9Mjo4iEMq4Lu5drPwlnczYocjt9Yz4u3mzihu5yiLygqDS7P4ZUBQXzhjra3GES5AR5mSoYvbCAu9emMIryL7hljTbexZQHHyJtxD+AIa+rU4HeNWiwUuYu6k+PxGE/cJZRRMVoYSRrFB7k63yOQxrBNMT5AxiYh8wcXA0yAKPTCQro8BKkatYKV97E1n0phKs7foovSY1PTkTKoHCi3phFaQA1/FzWUCRmUDy4VizkMjjKOvBcz6h0fW1EDzAgIP3PjMDEzNCwlma1QxSdZirw0KyC8ANc7Ok4Kd4XXa+NpAAWvzbzAZrQDULfVDuSTM8oZz+G6NqRH4eBgmTOBIOBstoIJ5iundvIT5wHNQG3Zuc1xKFwVOUNToTdQzOgAcqPtpAG62jJsgi+EXlgezLSqO2Z0aPOjzlniuhgXytNColuZcmpir0ZlQZh9igIrug1QCwNFocHtbpgF+vzgH7kzZCecwWBRiJkwHuhxxzEigi5BVR+RhmyQ5uL8826jgtiI3TVS6z6cjOZuV5SSZYxMKacWKICoNWQMS0N1mHkSU8LgZ1HaRmoQ74pHYJ5rx2jh0Q9uFQVN2BoIvWQQm/3tEhqaV6vgZ5GbsPFIVFVWoyObPDMwydQiz6eIkzdV5S6APYUGA0QYGtA13XBkJ9KArsHotnIxF0fq1nGHSMlJYWtenyaQlYon527CgvtaQfoTiEhF1EhdYiJHeMRbYig2piEoGzWNvqNXZLMTqdESk0BhHjPWJF4RB4q8crh4Wdnuq4DbKv5SWkTbKA05YWACrh0L0259SIhIFwTPSnGRDqoYuUUMCfDkgLaxMIo3OMG45MGXUN2zhP2A/2kY7UzKRmkHx40mLhrYJoJrRGUwr2hZ5xxoFTrPvdkSyFdQHciDkDX8dDDcYY2HnlUE452kEUiX+O6Utd1l5EVMLgy4oJQYaTfuCP8/DQUhUPnRvg0JD3i2Z4s9tfHExE7GENKWMaUDCYVngKNVgsp0DCehCCy5GgCwsLV7i2cvhqs9E8o4TKodaABLB5MRVPHsnXBI0KsUccP5+JoOyPzAGa52MvGwjhWGeTAK5DXKi4HCUqDvRZaXj4oTGXZMoaS2EvzeViKkMHwCGUMZNMtwayuQjj5kH0LymOQ5uM4tMnIZWgVzSYl80nk8xQF75RV5gEMc6mKUuWc4wAgzdZ8Kp1DTyGFybFtbDkyZKaEz4BdfRLuIHJfMihmVAkJmDvRsKTQx1OrEg1Oajv1BRfa71yEoM8gUELXLCwfAimEiCoyzhN8Nniy1BkIETFNUhRXHw60nw26QyRkklXkiJ6QlZGqXr5gmrwXe4B2oScR5U4gGSQ27S0D2/kDqlKZQcDrFGve7OCYYj62sKDygR0sGNDZpWAEeTCkWGBImqGSshHGidcrEpBIFMbIX2rNXJ4ABrqqXDepaY9qZdYiOrIiaMHHcNvRBcmNCpZpPQZO0lXFYdKGkwBpgCksEOHlvvCSGgxQBy4VVJtNBrbVBjXNFyVaPgDaQjqZq0THCZKp4sUNZhMDniEWkFE5GAs0tARtSKpQEBsQlBjojwfyID8cjzFzkJ27FbAgVvbEAd8D0V5sxjA+kTfeH7hwH2hBRyGjfynBwMmCAPXveWwJROGZX8t6XGPbGlAl36xJaOtluyqHciABunRzCByJcl0MMED9pY08oXccDv1enIgdNQisr0RRB7ygOfHGNYcTB0NxE3sfYM3mTPJQkClXBzz76e6oLKZdsw5wQX7XRXpcpeuNLBl1I8KG9G5G4RPqGcxmLnuPNHsRgYcAKGtwwRIXzlKhdIBHiu1+Fbq+IGJ6EECPdicwiIrRRROKTIcIcPKfIxmZZJO1rAFeKDAcyixnAYakgMxw7ZMdkEHwVhxNhv1KORpYjKWdO/MB4DGiYdVNHjJOz5MY1W8/knZZXxJw3AhN184IF1mmJTZxUdIgZLkm39GzsLGmcCaojCAsEKrFjGfDp1Daia2uDhrEiewl5SE3x/0hFD7RGgaA9hB+AVrwwGw2RED8jktwPWIAyyIxpYdORolWGZInYjmdx5s5Iz0jpohVkEQUTSIE7gbfwRzBoybAamZT7lXs70DvuO8tRaIz1LAKELxbC7E6IhuzwQBOL2IxN4l55QclRKxM5kcjeJ0yAEyAhtsnfEuyAC5vyzVuQxymZ2ROGYkKgGXTKtBHMbzoGCFeEwHpJYVxYkmHHbEF9oPL0wCWIIYPcCrJ1YTLt1cOeli9zAKY7g4mPhmJoZidOy3NuK6AU6DZNfkY5J6I9tPNIW/nemP4+3808nJg26ogwDuSqFOxyv/hodHilG0iJWfbRIrYKCoO2cEREzFVs1PR0aVAD18xllpUhtWNhINioJS1TKkO3TX2i9PW2qE1Pckip2maKSbwKIJvhpwpDrfDDBNPsmLl9CE8CRu4zDSFhRs4Hq48DXjmiRYuJDdILkLCfm4+7a68GKtsQy0HSUKI2GFZ+dfSgVb67M1ZDW8UEQihcUUMPyegew7TJIvxGAoT5Bt8BrWh4KC8r0GfYjhCNXtXxWjec3smaEWYg6oFIQFZQXo/1qdO1D+IEEEx0BrIXlQJFID1BcImb2RmnWy6SecAk5wShuRfmTxtPL1zoWkYktG9NBOCah8wuHUJ2GBMCSUKtAQ2qRT6GRbTRJtnGLGKiqY8jCRlAipdNHId717YIIIdP+8IgJ4U2KJ/yYpOH6LlI6jxqGUHbEYsAhT1BIh7tgCYmmVA1CJ7c7RRPYksr+S9UBi1J4e5xpR1sF60nGfFrPCRJm+XgvP3R5vD1cYTJkYZHdApDqZ0qQs5BTY6eMA8lKkIHo0KyJ7FhotvBIYHAA+20BzC923EIEpqWdnh3Cbc2QjHUkExNLF9PvkkNL5mVdeSJqNJAShECZbNDFNVY4SEOEQR7M0lADCzQAk5YCO3jky9LQzCaojoTwvziHvRMYDvjhF/wqic1GzcNovEh86VE7SaHuwfifPpUSs5Nbo9BUpgfeDX8f0XwDcuETDGm9YGcLcGuHIf3RLAyP21M3YUOm7ZZwCWGHLASKa42/gqTWjM2CTvUfbAsKo+HFMJkZcLW7oQm7Mhgo1b4YFaD1OEP6NPZHopZwZojs0f/O8HEA4hsCH4Q/NQTcmwRQReOVzSfKjtWS2MTjyK49mFHu/gbjI8mOauGsSjnMPslPDQM3x79fQqBGcZBgj7r2iSmSFk7U7AuUo9SkSErfB1ktdCtcvSYTWYAzm7yLdSwkH/JC4iPYHRHBmDaPCfOUqeNhUA+RnIF7qM7hWrfZ0pXe9jHH9ucfDN/PaY7IeNAjNbeBBZf+4zkSuLNwOAHTC1zhQAnbd+/1r7LFEGm5z6JaXcsD/ennUVsDH3p0ZwVo/b4Xa+oFflAoYWRFDPC7RLG8/FiDmvIQ1aZK8STydYjp3H1LIoghNnR/8Fx46uvJEFy5gjJsOEQBnbELUXtchNYC7kfWECoen4331kXTJJCIz0NaBJ5ELcAr1TiiIMGRoIkRsuS6SmE6dFUL5woOIiPR5vF2pyAhrq975kmhp7ypv7fDQiPIuBvyPYNOwCtaLoYpkhlHvgZq1nlVQg2twBEwmNTVG26pTarhrtsiSFH6SmI3PyReWKYucO1kJ2H/uIzJT6v4zA9k8flI9JS3SaWZvLgXvBP9tJO437dUdUOGt4WccGVQv4NUwxnMl4IZsbTDhzb7YoxYJDKadQa5cVJaKuPxCH1Qslhf7RVe9PXybQ4850sarsbt2MsHy3QtjSIznzfGID3mxwXPuRcIVOWT7u9uWaaDV08pDNwRa5SDJ7qPSnyyrIGbUStrSeShAHMqJhQO68TG91MGwbTtFmkSLWftaramSw14Ad2nATe4PkmosXQUE9bEUFy7fBp7vTkq+I9PYAKrgWVBqj26BkXjBaEO0IGxAXJEHNZ5MBzyFsfl9bsLAcDrYOPATEr4hAx0fq+44Nv49L1fRS1BbegPYaQM/Mr40piqDjnBPNro4aktTlM27AMTt6kZKACszwsgWCVk2sXkhPmPNCYztTBuTLZTJDhCJg1SrD0DrHSbHfOvdzQF+7WtTMqXJv27g52jBTkGOE+ZPQazhz6T7DOwXpD6LhGHccc6ZGnHrEgz4rw+aGzROIEznoBjgVXFGbU0/BS9b9+/f5KAgHAeA5yRkriRmrQ9FD/qXFyb+NWyRakFSJ+GeuXYF7f2BNtxXEg7kDPaGVHxVHa+haTYwQR5DPus3Qd9JTRmZjrI+eHrCqXzfxOW0xDjzKu9i7wV8sv2IEpTLYH5MPbEMej/eaJFGdZkXMxwQC40khl3sMNyKxqg+ze+i5Bdek/j5b/en2+P7TG0vFwWTv22jaruQcCNv1jAPumKIrmWhBxhFTGaPjlqw3tNrIiWB8fBbQ9bE6oB9Qt6wn20Y4DlJG1dYVAToDFoO+N6RInJAzVWtA6V8kJqoX3Xebj3fxBoLCEb5L85lkmk3tJjjGve0yF6E01Q2KOMJKISSLJ0jU8VOfiGD8xEWWhZXzhj40h8r863y/jGsLzv/gN81cI6YtAAAANGmlUWHRYTUw6Y29tLmFkb2JlLnhtcAAAAAAAPD94cGFja2V0IGJlZ2luPSLvu78iIGlkPSJXNU0wTXBDZWhpSHpyZVN6TlRjemtjOWQiPz4KPHg6eG1wbWV0YSB4bWxuczp4PSJhZG9iZTpuczptZXRhLyIgeDp4bXB0az0iWE1QIENvcmUgNC40LjAtRXhpdjIiPgogPHJkZjpSREYgeG1sbnM6cmRmPSJodHRwOi8vd3d3LnczLm9yZy8xOTk5LzAyLzIyLXJkZi1zeW50YXgtbnMjIj4KICA8cmRmOkRlc2NyaXB0aW9uIHJkZjphYm91dD0iIgogICAgeG1sbnM6eG1wTU09Imh0dHA6Ly9ucy5hZG9iZS5jb20veGFwLzEuMC9tbS8iCiAgICB4bWxuczpzdEV2dD0iaHR0cDovL25zLmFkb2JlLmNvbS94YXAvMS4wL3NUeXBlL1Jlc291cmNlRXZlbnQjIgogICAgeG1sbnM6ZGM9Imh0dHA6Ly9wdXJsLm9yZy9kYy9lbGVtZW50cy8xLjEvIgogICAgeG1sbnM6R0lNUD0iaHR0cDovL3d3dy5naW1wLm9yZy94bXAvIgogICAgeG1sbnM6dGlmZj0iaHR0cDovL25zLmFkb2JlLmNvbS90aWZmLzEuMC8iCiAgICB4bWxuczp4bXA9Imh0dHA6Ly9ucy5hZG9iZS5jb20veGFwLzEuMC8iCiAgIHhtcE1NOkRvY3VtZW50SUQ9ImdpbXA6ZG9jaWQ6Z2ltcDo0YjgzMjg1OS1mMjBjLTRhYjMtYTNlOS1lODE0ZWJjZmRhMzQiCiAgIHhtcE1NOkluc3RhbmNlSUQ9InhtcC5paWQ6ZGVlN2Q2MmItODA2OS00ODJiLWIwZTgtY2NkZWJkMWRiOWNkIgogICB4bXBNTTpPcmlnaW5hbERvY3VtZW50SUQ9InhtcC5kaWQ6ZmU5MDQ5NGQtY2RjZS00YzI2LWI3MDEtM2VlYjUzNDc5MDQ4IgogICBkYzpGb3JtYXQ9ImltYWdlL3BuZyIKICAgR0lNUDpBUEk9IjIuMCIKICAgR0lNUDpQbGF0Zm9ybT0iTGludXgiCiAgIEdJTVA6VGltZVN0YW1wPSIxNjQ1NjI2MzM4MzUzNTQwIgogICBHSU1QOlZlcnNpb249IjIuMTAuMjgiCiAgIHRpZmY6T3JpZW50YXRpb249IjEiCiAgIHhtcDpDcmVhdG9yVG9vbD0iR0lNUCAyLjEwIj4KICAgPHhtcE1NOkhpc3Rvcnk+CiAgICA8cmRmOkJhZz4KICAgICA8cmRmOmxpCiAgICAgIHN0RXZ0OmFjdGlvbj0ic2F2ZWQiCiAgICAgIHN0RXZ0OmNoYW5nZWQ9Ii8iCiAgICAgIHN0RXZ0Omluc3RhbmNlSUQ9InhtcC5paWQ6OTYwYjJmZTAtYTNmZi00ODEyLWI1MDMtOTM1OGRhZTBlOWZjIgogICAgICBzdEV2dDpzb2Z0d2FyZUFnZW50PSJHaW1wIDIuMTAgKExpbnV4KSIKICAgICAgc3RFdnQ6d2hlbj0iMjAyMi0wMi0yM1QxNToyNTozOCswMTowMCIvPgogICAgPC9yZGY6QmFnPgogICA8L3htcE1NOkhpc3Rvcnk+CiAgPC9yZGY6RGVzY3JpcHRpb24+CiA8L3JkZjpSREY+CjwveDp4bXBtZXRhPgogICAgICAgICAgICAgICAgICAgICAgICAgICAgICAgICAgICAgICAgICAgICAgICAgICAgICAgICAgICAgICAgICAgICAgICAgICAgICAgICAgICAgICAgICAgICAgICAgICAgCiAgICAgICAgICAgICAgICAgICAgICAgICAgICAgICAgICAgICAgICAgICAgICAgICAgICAgICAgICAgICAgICAgICAgICAgICAgICAgICAgICAgICAgICAgICAgICAgICAgICAKICAgICAgICAgICAgICAgICAgICAgICAgICAgICAgICAgICAgICAgICAgICAgICAgICAgICAgICAgICAgICAgICAgICAgICAgICAgICAgICAgICAgICAgICAgICAgICAgICAgIAogICAgICAgICAgICAgICAgICAgICAgICAgICAgICAgICAgICAgICAgICAgICAgICAgICAgICAgICAgICAgICAgICAgICAgICAgICAgICAgICAgICAgICAgICAgICAgICAgICAgCiAgICAgICAgICAgICAgICAgICAgICAgICAgICAgICAgICAgICAgICAgICAgICAgICAgICAgICAgICAgICAgICAgICAgICAgICAgICAgICAgICAgICAgICAgICAgICAgICAgICAKICAgICAgICAgICAgICAgICAgICAgICAgICAgICAgICAgICAgICAgICAgICAgICAgICAgICAgICAgICAgICAgICAgICAgICAgICAgICAgICAgICAgICAgICAgICAgICAgICAgIAogICAgICAgICAgICAgICAgICAgICAgICAgICAgICAgICAgICAgICAgICAgICAgICAgICAgICAgICAgICAgICAgICAgICAgICAgICAgICAgICAgICAgICAgICAgICAgICAgICAgCiAgICAgICAgICAgICAgICAgICAgICAgICAgICAgICAgICAgICAgICAgICAgICAgICAgICAgICAgICAgICAgICAgICAgICAgICAgICAgICAgICAgICAgICAgICAgICAgICAgICAKICAgICAgICAgICAgICAgICAgICAgICAgICAgICAgICAgICAgICAgICAgICAgICAgICAgICAgICAgICAgICAgICAgICAgICAgICAgICAgICAgICAgICAgICAgICAgICAgICAgIAogICAgICAgICAgICAgICAgICAgICAgICAgICAgICAgICAgICAgICAgICAgICAgICAgICAgICAgICAgICAgICAgICAgICAgICAgICAgICAgICAgICAgICAgICAgICAgICAgICAgCiAgICAgICAgICAgICAgICAgICAgICAgICAgICAgICAgICAgICAgICAgICAgICAgICAgICAgICAgICAgICAgICAgICAgICAgICAgICAgICAgICAgICAgICAgICAgICAgICAgICAKICAgICAgICAgICAgICAgICAgICAgICAgICAgICAgICAgICAgICAgICAgICAgICAgICAgICAgICAgICAgICAgICAgICAgICAgICAgICAgICAgICAgICAgICAgICAgICAgICAgIAogICAgICAgICAgICAgICAgICAgICAgICAgICAgICAgICAgICAgICAgICAgICAgICAgICAgICAgICAgICAgICAgICAgICAgICAgICAgICAgICAgICAgICAgICAgICAgICAgICAgCiAgICAgICAgICAgICAgICAgICAgICAgICAgICAgICAgICAgICAgICAgICAgICAgICAgICAgICAgICAgICAgICAgICAgICAgICAgICAgICAgICAgICAgICAgICAgICAgICAgICAKICAgICAgICAgICAgICAgICAgICAgICAgICAgICAgICAgICAgICAgICAgICAgICAgICAgICAgICAgICAgICAgICAgICAgICAgICAgICAgICAgICAgICAgICAgICAgICAgICAgIAogICAgICAgICAgICAgICAgICAgICAgICAgICAgICAgICAgICAgICAgICAgICAgICAgICAgICAgICAgICAgICAgICAgICAgICAgICAgICAgICAgICAgICAgICAgICAgICAgICAgCiAgICAgICAgICAgICAgICAgICAgICAgICAgICAgICAgICAgICAgICAgICAgICAgICAgICAgICAgICAgICAgICAgICAgICAgICAgICAgICAgICAgICAgICAgICAgICAgICAgICAKICAgICAgICAgICAgICAgICAgICAgICAgICAgICAgICAgICAgICAgICAgICAgICAgICAgICAgICAgICAgICAgICAgICAgICAgICAgICAgICAgICAgICAgICAgICAgICAgICAgIAogICAgICAgICAgICAgICAgICAgICAgICAgICAgICAgICAgICAgICAgICAgICAgICAgICAgICAgICAgICAgICAgICAgICAgICAgICAgICAgICAgICAgICAgICAgICAgICAgICAgCiAgICAgICAgICAgICAgICAgICAgICAgICAgICAgICAgICAgICAgICAgICAgICAgICAgICAgICAgICAgICAgICAgICAgICAgICAgICAgICAgICAgICAgICAgICAgICAgICAgICAKICAgICAgICAgICAgICAgICAgICAgICAgICAgCjw/eHBhY2tldCBlbmQ9InciPz5WXMnfAAABhGlDQ1BJQ0MgcHJvZmlsZQAAKJF9kT1Iw0AcxV9TpSJVBwsWcchQXbQgKuKoVShChVArtOpgcukXNGlIUlwcBdeCgx+LVQcXZ10dXAVB8APE0clJ0UVK/F9SaBHrwXE/3t173L0DhFqJaVbHOKDptpmMx8R0ZlUMvELAAHoRxqjMLGNOkhJoO77u4ePrXZRntT/35+hRsxYDfCLxLDNMm3iDeHrTNjjvE4dYQVaJz4nHTLog8SPXFY/fOOddFnhmyEwl54lDxGK+hZUWZgVTI54ijqiaTvlC2mOV8xZnrVRhjXvyFwaz+soy12kOIY5FLEGCCAUVFFGCjSitOikWkrQfa+MfdP0SuRRyFcHIsYAyNMiuH/wPfndr5SYnvKRgDOh8cZyPYSCwC9SrjvN97Dj1E8D/DFzpTX+5Bsx8kl5tapEjoG8buLhuasoecLkDhJ8M2ZRdyU9TyOWA9zP6pgzQfwt0r3m9NfZx+gCkqKvEDXBwCIzkKXu9zbu7Wnv790yjvx938XKp+ftCAQAAAAZiS0dEAP8A/wD/oL2nkwAAAAlwSFlzAAALEwAACxMBAJqcGAAAAAd0SU1FB+YCFw4ZJWFdPiwAACAASURBVHja7N1/fFTVnf/x17l3kgACRkSNijFoWi0Vi0jFWrTBdin1J1TWUnArFtSu69JobWu7bEt3u8W2dKVYt2pRQytUbbZNtXZT2i9SGxWoYiyUqh1KGhEiRESJGJKZe79/3Ll37kxmJgn5nbyfj8d9zNw7d35wk3Dmvuczn2Nc13URkR7T0tICQH5+vg6GiIhID3r33XfJz8/Htm0dDBERkV7iOA7Nzc2MGDFCB0NkgLB0CER6zoEDB/jSl77Et771LR0MERGRHrR7927OPfdctm7dqoMhIiLSS2KxGM888wwTJkzQwRAZQBQIi/SQAwcOsGLFCioqKnQwREREetDu3bv5zGc+QzQa1cEQERHpJbFYjOeee465c+fqYIgMMAqERXpIRUUFhYWFlJeX62CIiIj0oEWLFrFy5UpVJ4mIiPSihoYGbrvtNmpqanQwRAYYBcIiPaS8vFxhsIiISC/49a9/rTBYRESkl40bN05hsMgApUBYREREREREREREZIhQICwiIiIiIiIiIiIyRCgQFhERERERERERERkiFAiLiIiIiIiIiIiIDBERHQKRnlVYWKiDICIi0gtOOukk8vPzdSBERER6USQSYdy4cToQIgOIcV3X1WGQweztt99m//79AIwePZoxY8booIiIiPSAvXv3cujQIQCKiooYNmyYDoqIiEgPcxyH+vp6ACzLori4WAdFRHJSywgZ1JqamrjvvvsoKyujrKyMb33rW0E4LCIiIt1n79693HrrrcGYW11dTXNzsw6MyCD39ttvU1dXR11dnd5ni/SR7du3B+PvJZdcEoTDIiLZKBCWQa2yspJdu3YFb1LHjRvHf/zHf+jAiIiIdLMbbriBOXPmBGPuihUr2Lhxow6MyCC2b98+7rnnHmbNmsWsWbO44447eO2113RgRHrZtGnTgvG3pqaGs88+WwdFRHJSICwiIiIiIiKdtmbNGnbv3k1tbS21tbWcdNJJfPe739WBERER6ecUCIuIiIiIiIiIiIgMEREdApHO2bdvHy0tLZx88sk6GCIiIj0oGo1SVFTEyJEjdTBERER6STweZ/v27UycOFEHQ6QD6uvre6WPfmlpabe9L1YgLNIJ+/bt48EHH6SxsZFbb72VoqIiHRSRdtTW1vb4c+Tn5zNhwgQdbJFBJBqNsmTJEmbNmsVll12mUFikHW+99RY7d+7s8ecZM2YMxcXFOuAig1Q8HueZZ57lkksW8swzlQqFRTrge1/7Go+sXt2jz7EfWPfkk5SVlXXL4ykQFumENWvW8OKLOzjppFO45557WLp0qQ6KSDtmnnNOz75pBY469VTq6up0sEUGkUWLFnHNNeUsX/5dioqKuu3Nr8hg9eSTTzJ79mwACoDCbnjMd4G307Zde+21VFRU6ICLDFIHDx7kootmAEu58MILOXDggA6KSDumA8f08HN098irQFgGtTFjxpCfnx9UKHal1cO+fft47bW3WLu2ATjEjTeeSENDg6qERdrxuR5+/ANAlQ6zSJ8bP348+/fvD8bcrrR6iEajNL0znOuv/wPgEI2+ypQpTaoSFsmhADjB/3sEPt4Nj/ky8GRo/V0dZpF+acKECcH4e+jQoSOu6o3H42zd+mcwxeCOJe6exPbt2/VNPJFBSIGwDGpXXHEFBw8eZMGCBQDMnz+fL37xi0f0WGvWPMby770I5h/Adbn3vmcpKvopS5feogMtIiJD3p133sktt9zCypUrAVi1ahVTpkw5osdatGgRz78wCcypYI3n+hv+k9LSU1QlLJLDeLr/Q9gzEosvvQnUcccdx+7du7ul+EJEjtxvfvMbLrzwQgBGjRrFH/7whyN6nIMHm7ho+nVQ8B/QfBRNLbdxyeWLqNvxjA6yyCCjQFgGvfnz5zN//vwuPca+fft4bfc4MDPBjXkbzUdo2HuKqoRFREQS7rzzzi4/RjQapenQCGBY8q2qOZ5o9FWmTn2X4cOH60CL9KP32UC3FF+IyJEbNWpUl+ftiMfjbN0WhaO/CoeGA6PBxGgZ9i+qEhZphwHsXniO7qRAWKQd+/bt4zvf+SHLv7fNqw4mEvwp3nvPw+D+nqVfv0WhsEgWPT0wWjrEIoNGNBpl7rzP8/yfzgXrFHAM4ELeAq7/5x8xatRIrrhipkJhkX405nZH8YWI9C1vIrmNXPSxhTDyW8DRiSXGnj2NfOwT1/K7/1utUFgki+HAqAE2xisQFmnHmjVrWP7fT4P9aXAckp/LuGBfzL33PUbRCZpgTiSbnh4YW3WIRQaNRYsW8fy2C8A+DRwXL35yvWXYQubOK+eF53/JpEmTdLBE0uT1wpg7TIdZZFA6ePAgF31kBpy0Ct4dhVcdPAqIgX0Ke1qu4ZJLLtEkziKDiAqrRHLwWkUcBMYk/lwi3tttk5e4boE5mobXm2loaNABExEROULRaJSmd0eCGYZXA5EHVgRMhODbOfZJvPzyTt59V1NbiYiIdIdgIrmCEqCQIAzOt8GMTqwfS4spYvv27TpgIoOEAmGRHLzq4GchckXy5NTY3kKet83+B+790Q7uueceHTAREZEjtGjRIp7ffi5ETgciXhhs24lQODHmHvV55s6/hZdfflkHTEREpBscPHiQi8o+DqcsJ2gVkVcABRZECrz1yKnsMTdyySWX6ICJDBIKhEWyCKqDzbGJP5U8r0opvPihsClUlbCIiMgR8qqDRyWqgxPjqxUBO7EEY64B+2RefkVVwiIiIl0VVAcPGw+MAEaDNRLyrcRiJ1pHjAYzmhbrRFUJi2TgTyrXk0t3TyqnQFgkg3379vGd797L8jt3QGS2d3JqEien4cVvHRGZyb33H2DpN76vUFgkTU8PjBrIRAa2aDTK3Gtu5fm/XgR576VNGJwSCkfg6C8w99r/5rHHqxUKi2jMFZEjFEwkd+mN8J7vE7SKKDCpS77lbc87lT0jbuFjV3xWobBIGn9SuZ5cNKmcSC9Ys2YNy+/8I+QtBNfx3v6aXG+9HYhcwr33P6IJ5kTS9PQEN4d1iEUGtEWLFvF8dCbkv9ebJdKYdt7xOnDMl5k7fzEv/HG8JpgTSeitSeViOtQig8LBgwe5aPrH4YOVyYnk8vMy7GmAgsTtxezJ/5wmmBMZBPQhr0gar1VEE5ixJPsGR3IvQeuIY2h4vUVVwiIiIh0QjUZpOjwazHCCb+PYkeyLFWodkXeKWkeIiIgcgXg8ztZtf4aRp+P1DR4N9gjIN1kWC6yjvP2sMbTknawqYZEBToGwSJo1a9awfMUWyL8aLxCOJCeSy7YQ8fbNu5x7H9ilCeZEREQ6YNGiRTz/t4ug4AxvLLVsbyK5XItJjLlj/42519ymCeZEREQ6yasOngmT7yFrq4g2rSNsYBQUjGfPcbdqgjmRAU6BsEiIVx38TrI6OFPf4GyLPwO6GaMqYRERkXZ41cFHgzUC78PXSO7q4IxVwsW8/EqdqoRFREQ6KKgOHlUKjAAzGvIjUGC1v+TlA6PAGk1LgaqERXwDcVI59RAWCVmz9gmWr9wFBfPAwetj2Cku5M/i3orHKTrxZyz92r/qoMqQZ/fw4+uTTZGBadGiRTxfPxsKJkDcHMF/Fi4UfZ25/3Q9L2wqUS9hEY25ItIBB5ve4aJZ/wIX3A+HRoM9rBP/eRivzVP+ePYUL+GSuf9C3Z+e1EGVIc+fVG4gjfEKhEUS9u3bx2v7zoJh7wHHOYIwOHSCWjCbhv0FNDQ0UFRUpIMrQ1pPD4yqCxQZeKLRKE0thcnq4CNOmVzI96qEzzjjDIYPH66DK0NWb00q16JDLTJgxeNxtv5lB0y/D94dDdZIrx1Ep9hei4nh42mZ+m22b9/OhAkTdHBFBhh9yCuCFwZ/57s/Yvn3Vif+LDowkVw7E8zde18lS//jLrWOEBERCYlGo8z9zBd5fveVMOwsrwWEfYQLeXDSN5m76G4ee/w3ah0hIiKSRTwe55lnN3LRlYuAUYm+wVb7vYOz9hMezZ6GQ3xszo1qHSEyACkQFiExkdzKbTDsWroUBodD4YJ/5N4HGzXBnIiISMiiRYt4fs8nYPhEr/++3YVA2O8nfModzL32y5pgTkREJIuDBw9y0cWfgJkPgTka8go61jc442JDZBiMOJ09E76mCeZEBiC1jJAhb9euXUT/dhDsYryvv5hu6tbtgnUyda82U1dXR0lJiQ62iIgMabW1tRw4XAT2aG/MtbpregwXhr+f57Zsp7S0lJEjR+pgi4iIJMRiMWqefhZOPBc4ymvZlN/VRzVgjgKOofnoM9m4cSPnn3++DrYMSRY9H7BqUjmRblZZWcndP3oFRnwJ3G7+Exs2m9U//SElp1SwdOlSHWwZknp6oLF1iEUGjPLycl5svBaGvx+cbhxzDVD8Da6/+R+ZMnmCJpiTIcn0wpirr5eKDExNTU1c/slPwXW1cPhI+gbn+F/BLuH1iV9h7ty51NXV6WDLkDQM6OlyBE0qJ9KNvOrgJrBLvD8H0xN/tadQ92qTqoRlyOrpgbFJh1hkQKitreVAy4lgF3qtHnpizB0xUVXCMmRFemHMHabDLDLgxGIxap55Fk4+z+sbnNedMZAB8sA5luZjJqhKWGQA0Ye8MqRV/ryGux9sheH/1PW+wdmWYVex+mejqfjJ73TARURkyCovL+fF/ZfAiPd3bSK5bIuJQMl/cf3N/0k0GtUBFxERAZoOvcvln18Osx4Cexjkm25eLBhVzOtTlzH3tm/rgIsMEKoQliFr165dRHe9B4ZPBZeeqVTyDbuauoYDqhIWEZEhqba2lgOtJ4E9Bqy8nnsiA4z8AM+9oCphERGRWCxGzeYX4FMV0HyUNyFcj3Bh2Kk0f+J7qhIWGSBUISxD0q5du7jju6u5+55fg7HB6uHF2Kx+6EmW/uf96qskIiJDSm1tLQtu/i4vHvwMjJoItt1zi2XDad/h+tsf5+GfPU5Tk5rKiIjI0BSLxahe91su/5dveq0i8m2vd3CPLBbk5fH6G63MWvyfbNy4UT8AGVL8SeV6ctGkciLdoLKykrtX1cGob/Tekw6fy+pHv6cJ5mTI0aRyIkNbeXk5L759M4w62/tGTm94z/e4/l//gSnnvE8TzMmQoUnlRCSsqamJy6+aC0t2QmtBL7xpNlBwCq9/5JvMnTtbhVAypGhSOZEBYNeuXUR3HoLIaV6/wd5kn0rdq41qHSFDSk8PjEfpEIv0W7W1tRyIj4PIGK9vcG8adQ7PvfAXtY6QIUOTyomIz5tIbiOMvwCsEVDQW89sIP8YmovOVusIkQHwvkFkSKmsrOTu++th9H/1/pOPmM/qn31HVcIiPay5uTn4qtqwYcOyvhnt6H4icmTKy8t5selWKPxA71UH+878PtcvLlOVsEgv27VrVzCx47hx4ygtLc25b3Nzc859RKTzgurgZa+BY3r3yQtO5PUZ32bu3E+oSlikH1MgLEPvDerOdyFS2vuVSsFfXQl1uxpUJSzSQ5qbm6murmbFihUAFBYWcvvtt7cJezu6n4gcGa86uBjyx4DdR2Pu6MmqEhbp5ffaDz30ENXV1QCcf/75LFq0KGPgu2vXLu644w4ikUgwFotI1wXVwe/5METy++ZFDB9J80kfUJWwSD+mQFiGlMpfPMvdPy6AUTf03Ys46p9Y/fM1lJQ8ydIl1+mHItLNGhoaKC8vDyoS6urqKCsra1OhkL6fv/7www/rIIp0g/Lycl48/GU4pg+rc8+6m+s/f4GqhEV66712ZSUNDQ1s2LABgBUrVvCDH/ygTeAbDo4vu+wyHTiRbtR06F0u/+pd8K+/7LsXUXAir191N3OXfIG63z2iH4oMev6kcj1Jk8qJHKFdu3YR3T0RRl3e9y9m5LXU7dulKmEZEvrzpHLNzc3BSeuwYcMUBot0k9raWg64p0JBH1YH+wqn8NwLL6lKWAa9gTSp3MaNGxk5ciQ333yzvlIu0o1isRg1z9XCF6rANX37Yo4rovmzq1QlLEOCJpUT6ad27drFHd99iLt/MgJG3dQvXtPqNU/BO/UsXbJAobAMav15UrkDBw4E/bzVMkKke2zbto0Fn1/Biyz2egf3tQ/cx/VLbwQDc+dcplBYBq2BNKncnDlzANQqQqQbxWIxqn/7Oy7/9x/AbY/1g1dkeP2tg8z60h1UfUfvsUX64/sGkUGvsrKSuysaYMyd/edFjbqO1f/7DUrGaYI5kb5SVFQUVAjX1dUxffp0du7cqQMj0gVLlizhxfjnYezk/vOizlnF9Z8/hymTzlTrCJFu0pnJ40Sk5zU1NXH5nLmYh/b3nxd1fBGvz7+TuXOn69sAIj2ktraWkpISCgsLO7WvAmEZGm9W65qhoBQipn+9uIIS6l6rU+sIGdQ2Ji5t4IPd8Hgx4LnQ+j4dYpF+Y9u2bTTGimD4MWD3ozHXAGOn8FytWkfI4LU/NOYeA5zRDY+5D9gRWg9f37hxIz/4wQ8Ar+L35ptv1g9BpI/EYjFqnt0IEz+MHYljXKffvDZ3RITDp01S6wiRHlBbW8uCBQtYsWIFZWVlndpXgbAMepWVldz94wYo6odfSRuzgNVVSyk5WVXCMnj5f3lH0T2B8OHQY/rrItI/LFmyhKffWQAnTYI40B/ORw3eJ1IfXsX1t05SlbAMWjtC4+MH6Z5AeDvww9D6PuDCxPU5c+YErR9EpG81NTVx+T/OxX68kUhrK5FYDNy+f12uZYgVHcfe67/H3LkfVZWwDFp9MalcbW0tK1as6NDfVaZ9FQjLoNbQ0ED0780wvNT7be9nBcK4wLAS6narSlgGr8pufryj0x7zVeDTofVhw4YxadKkoBXEgQMHgmqE5uZmamtrOf/88zPuN3XqVP3ARI7Qtm3baHSLYNRYKABa8ULhvj4htRPveCNA0RSee1FVwjI4ndcDY+5HE4vvUeBPOfYfN24cDQ0Nwdja3NwctJLYtWtXyrqIdJ+aZzdizvkwdn4c28SJWDHsWLxvX5SBeCSCGzE4I/M4/B5VCcvgNYzum3g111vasIqKCsrLy9sNhP0wOH1fBcIyaDU0NLDi7oe5+39HQtHNbQanPhU+OT5+Aat/WwGmgqVf0QRzMvj09qRyRUVF3HPPPcydOzdYf/jhhwEv9F2xYgUPP/xwzv1EpHO2bdvG5/79BzxdcA2cMM0Lgw1ejxeHvguFrcS757zE8g+ruP57iwCYe5UmmJPBpT9MKudXDPvffAu3kti4cSMNDQ0prSXGjRtHJKJTUpGu2LBhA5ff8QMiK6uwY63YlhcIR0wMqw9bRziWBXkGO8/COfE49n35B8z++s384huaYE6kO3RkYtZwGJz+DTmNvjJoVVdX8+17a+H0iswnon0VCmd6LUULWP3rpZScqNYRIt0hPFlc+vZw6JttPxHpnCVLlvC0vQDGT/NCYIMXxlokQ+He5reKyEu84/UvL1nF9V+axJQPqHWESE/I1kqio9tEpHOmT5+OtTWG7XphsG0lqoRNjEi8b1pHuMYQi0Rw8uJeIByxcE44jte/8N/MnXuxWkeI9JLy8nJmzZrFgQMH2LBhAwcOHKC2tpZJkyYpEJbBqaGhgZd2HoBRZ3pfW81WndTboXC212ABI0uoe12tI0REZGDZtm0bjXYRjB7rha5WaPHHuBi9f0Lqt4rwq4MjiW02MG4Kz/1JrSNERGRg27BhA5z3EWw7ju3Gk4Gwv7TGvVC4N095jSFu27h5BicSw45YOJaFYyyc4XkcPlOtI2TweQXYlbj+PuDYbnjM7XgTxvreOoLHmDRpElVVVVRVVQFQV1dHRUWFJpWTwau6uppvr6qFsyq8E1A/EHb72Qs1oZPl4gWs/u1SSk5QlbCIiAwcS5Ys4elRC6A0UR1spY1v/npvto7wZ/bwg2B/8UPiq1Zx/e2TmHK2qoRFRGTgmj59OtYrMWy3xQuE3Ti2FcM2yV7CkdYYttN7/YTjtg15eFXBEQvbinthsPGqhPfergnmZPCpTiwA/wac0A2P+RiwMbT+6hE8RnpbibKyMpYuXaoKYRmcGhoaeKnuABydVh0cDoVd+rZlhEk7WfYvR5dQt7eOXbt2MW7cOP0wZVDo6YHG1iEW6TPbtm2jMa8Ijk5UB4dD4PQq4VZ6p3WEIRkAhwNhvzrYv148hee2qkpYBg/TC2OupcMs0m9s2LABzg9VB4eXUJVwxMTIi7X2yoeyrmUgAo7fJsKysE0oEDYWzoh8Dk9QlbAMLrcnlu50R9p6WSfuW1tbS0lJCYWFhX12ni7S66qf2s63qyyYkPhzDIfBfR0K5wqDDXDaAlY//zCT/u8Fyq9XICyDQ29PKicivWfJkiU8ffwCeO80iJNsDxEe3/yJ3cKtI3rqpNTvG5wpDE6/nL+K678yiSkTVSUsg0N/mFRORHrP9G+vwPrZ/8N2WrCdZBgcyRQKWzHseBzj9tAAbMDF7xucCINtLwCOmFhqIFw0lr3f+iFzV3ydOgXCIl02bdo0xo4dm7KtsrKSuXPntgmEw/sqEJZBpb6+ni27CuG9i5OhK6SGwOFwGHovFPbH3vQQOP11njqXrW9sZceOHZx++un6oYqISL+0adMm9gwvhjEneu8ow1XBsbTL9H7C4XGxG09GM7aKCIfA4cUC3jedJzduYfz48Rx99NH6oYqIyIBQVVUFq3+B7bR6YbAfCDtZKoVNnLxYK1bcwfTAp7JB3+CIwc6LB2Gwv6RUCVsWdtGxvPufd/Lkk08yffp0/UBFuuCb3/xmh7alb1cgLINGfX09y3/4KHety4czJidD1nDg21ehsJt2shq+TN/HhQd+sRn2vM5XF39KobCIiPQ7mzZtYvH317C5dD6UTPWqg50s41ymFhI90U/YD4PDgXB6mwg/CPYvP30ntz56CwA3fmYuI0aM0A9XRET6taqqKmavqsD+yGXJMDh9ydI+Ii/WinG6eQA24BjL6xucZ2HbaS0i/EDYsoLFtuK88fZbLKz4CfeDQmGRPqBAWAaN9evXc9ej2+BDFamVt+nBcKYWEuHbu1t7YXAoCA6W9yzkgd+UM3H845SXl+uHKyIi/cqyZcvYPH4BvHdqMghOv0yvFg63S2qle1tHpPcNztQiwspyec2d3Ppvk5g982JKSkr0wxURkX5t9uzZmKZ4ojo41oFQOBZUCdtWnEgs1n2tIxJhcCwSSU4il94iwiQmlksLhJ0Tj6Xuczdzyz9/ltraWv1gZWDz33P2pG6eG1KBsAwK9fX1bHm5EcZO9v4QTZbFl6mFBHR/KBx+3PQ2EZleS3g5diJb615X6wgZ+DTSiAwqmzZtYs+oYhibaBXRXiCcrUo4TveEwuG+weElU4uITJc2MHE6635fwzXHH68qYRm4emNWOUeHWaQvVVVVwZVXYufFsePx7GFwjkrh7uwn7BpDzI7g5hkvEDYWtrFw0ltEZAqELQvn2FG8PXmyWkfIwFdAz09u06TTdJE21q9fz12V2+DCitSK4FzBcHog7Ka9oe7SyJj2WJnCYDfHAnDGQh74bTkTS1QlLANcTw+MOjkV6VXLli1j8/sWwPsS1cFxMgfC4WA400RzrSRD4a5I7xucq0VEtm2L7uTGG0qY8ZFpqhKWgSvSC2Nuiw6zSF+aPXs2ttNKxGn1At5sQXA8S1/hRCic39rS9dYRBhzL8sJgOxH2pgfClje5XNZAuPQU6v/1X7jluoWqEhbpg7cNIgNafX09W/7aCCdM9k4GQwNUcNletXCmULg7hJ/PSnvObEFw+DUcN5Gt9aoSFhGR/mHTpk3sOboYjj/RG3PjoTEuHrpsr4WEPzbG6Fo/Yb8iMtwmIluLiGzb/PUpM1QlLCIi/VZVVRWRKy8l3xzGtuNE3BgRE8scDFs5qoWNt3SpdUSoVYQdiQdhcBAIZwuAE0vEiuEaAwaswmG8M/kDqhIW6WUKhGXAW//HKHc9nQ+TF2cOVdP7CKcv2YLZrurMc2WrUD57IQ/86X4mPrWd8m4KhLds2UJ9fT0AkydPpri4uEv7iYjI0LFs2TI2n7MA3j81GQBnCoGzbcvUQiJ2hONvplYRnWkTkb5+633ceE33VgmvW7eOQ4cOAXDppZeSl5eXcb8nnniC1tbWdvcTEZGh6+qKH3FU1RpsmrFJBLuJYNjvD5ypWjiSHgpbsa61jjDgYohFIrgRg22l9gyOWNkDYdcyuMZgjItNnBgR4uNP5PV/v5UvrVzFH7spEG5sbKSmpgaAsWPHMm3atC7tJzIYKRCWAa2+vp4tjYUwZbG3IT0QTu8NnC0YhtQWEt2hvRYRHX2dkxay9d2t3VIlvHXrVtauXUs0GgUgGo1y9dVXtwl7t2zZ0qH9RERk6Ni0aRN7xhTDCYnq4HDo214wnL5vjLah8JGMs9nC4PaC4Gzbps5g3VPdUyW8bt06fvzjH9PU5DV8a2lpYfbs2W3C3ieeeILVq1fT0tKScz8RERm6qqqqGF21mogfBoeXRDBsu4mQ101rG5EeCDtO0DoiL9aKFe/kV3WMIW7buLbXKsI2dmqLiHBFcKKVRMTEwAILB5t48OpjRLzr44uILf1Ct1QJv/XWW1RWVlJdXQ1AUVERQJuwt7GxsUP7iXSITeo31nuC1b0Pp0BYBqz6+nqW/+hR7tqcD+dO9jZmC1r967mC4fB+XQ2Fc7WISH99Ju1+GS4f+PVm+NvrfPWfP9WlUPj+++9n0qRJLF++HIAFCxYwduxYFixYkLLfypUrKSsra3c/kQ7p6YExrkMs0tM2bdrE4h+tYfO0+XBmondwONCNZ1jP1jYiPUT2P0DtTJWw3yoiPQw+0iDY3/6V+7jxOzcAcM2cT3YpFL7hhhvYsGFDUG1cWFjIjBkzKCwsTNlv/vz51NXVBduz7SfSob8Ljbkig05VVRXzKn7IsbPObRsGpwfDJtQWwmpnwrlQKNzhfsKJVhFE8MJeY2Gb1GrglIpgY3Atu0t1dgAAIABJREFUMDjYxBJxsN02EMamYf9ubvrJj/gf6FIovHPnTh5++GE2bNgAwIYNG1iyZEmw7tu2bVuH9hPpkN6YVO5g9z6cAmEZsNavX89dj2+DWRXJje0Fwv5lrmC4q60jcj1WrtcAWQNhpizkgepyJo7TBHMyAPX0wBjTIRbpacuWLWPzRxbApESriPQAOFvQ214/4fC3aeIdHH/DrSL8y64GweH1r93HjZeUMOMiTTAnA0xvTCrn6jCL9LbZs2cz3t2RbBWRZbFSgmHHqxjO2GM41iYU7lA/Yb9vsB0JwmDHWF7LiLRAOFtFcPoSIRZczxt/PAcXz+OWBbdogjmRXnrbIDLg1NfXs+VvjVA8GfIzvEl1c2xzs5xcQuYWD52R7f7tPWf4Mtu2cRPZurt3JpibPHkyjY2NVFVVAV4/JbWLEBEZmjZt2sSe44vhxFCriGwBcFeC4RjJUDgXP7jNVRl8pGGwv1zYfa0j2nPppZeybt068vO9NzQzZsxQuwgREQG86uBRV17MsEQYHIS+bWptc1cMZ518LhEK55lWLMfJGQq74VYRfs9gy8IO9Qx2jQmC4HDYm22Jpf1rOLqA2OQzemWCubFjx3LmmWcG57wNDQ1qFyFDigJhGZDWr1/PXf+3DeZW5A5/M23LdJsvU/uIzki/r5vj9s4Gwh9ayAO/LGfiST1fJTxt2jTWrl0bNNifNm0apaWl+sUTERmCli1bxuaPL4DJGVpFZGoXkWt7tmA43Fs4VyvDcKuIngiC/e3/dR83lvVOlfC8efNSegjPmzcvCIdFRGRomz17NhPdF7E53H4A3JFg2Ip5k8yF+wy7iVA4nqN1hAHHssDGaxFhQv2BLQvXxIKJ4joSBGdqGRHHJjL+ON5ZPKdXqoSLioqYNGkSFRUVwfo111yjXzoZMhQIy4BTX1/Plp2NcOrktn3SjjQQzhUMd6afob9/tiC4K4EwwCkT2bqn56uE1UNYREQgUR18YjGcVAQRNxQIm/argjuyPVulcLaxNL1FRHeGwTZgucnby2aw7g89XyWsHsIiIpJJVVUVhVd+hAL3cEq4Gwnqao8gGCbRIoJY2z7DVpxIPEPriHCrCBOaMM6vCDYuVqIthNOJVxQjkgyP3eR2d3Q+7uT39HiVsHoIS7fSpHIiPW/9C1Hu+ks+XLy4bWDq60og7KadfGbaTgf2aS/g7UggnO7DC3ngmfuZ+Ox2ynu4bYRIt9E3n0UGrGXLlrF51gLMlPMwMQfXMriOd/KXDHFD4XCmCuKOVBGHg2O/n3B4XPVv62rgm+l2yw2uG8vFGG/dWX4vN543nhkXqpewDBC9MamcrcMs0ls+W3En7/3Fd4i4LSlRahAIh8LhjoTEKT2GcULBcLKdRMSOYcfjKaGwawwxO4JrTKIiOIZrTKgi+Mhql203nlopnAiF7ZKxvLNkHl+/66Eebxsh0m16Y1I5BcIylNXX17PlUCF8dHHb9g7hN8Pp4a3bzvVc23KFwplu62jFb64AONO/wX+OCxey1Ww9oirhiRMnZu0NvGXLlmBdPYSlW/X0wNgCHNJhFulumzZtouHkYszJRZiIi4WLG/dKel2MN3O4MclANQ7ETebgt71Q2GS4Hm4d0dEwuCOBcDgEthIhcKIy2L/uRgwm4uJefORVwjNmzKCmpib4ymu4N/ATTzwRrKuHsHTrmV1Pj7mHdZhFekNVVRVn/mIZtttCxI15bR1M3Ltu2sarERNLCYU7VEWcqWKYOHlWK1bcCc5L45btfSCcGPf9ILi99g8Zb3O96xYOFk4QAluuk6wUNjZWyVjGfP3aI6oSPvroo7P2Bm5sbOSll15i2rRp6iEsetugQyADRX19PcsffJS7Xs6Hj05uGwibDjyI24nr6dsyhbQmdFv66+hI+Hskr9mFB363Gba9zlcXfapTofDChQtZuXJl0Cdp8eLFXHzxxQDU1NRw1llnUVxczOLFi7PuJyIig9+mTZtY/NAaNl89D+uc8zCt3kQzxk0NhDEEJ4hBOJxeORyExWQPhTNVF4cnmPMfJ713cLvBb3g92Q6iTQhs/HUXbAMRMBEXfnAPN5Z/Dgxc88lPdioUvu+++7jhhhvYu3cvAGvWrOGoo7y0bu3atZSVlZGXl8eaNWuYP38+77zzTpv9RERk6KmqquL6iuW8/8pvpoa7TmJyODfZE9gPcSPEUkLdTBFt1sDYv4+dnIAuYmIYXBys5HiJ64W42Sp+iWd85hiRIPANXw/aRLjefWNuhLhJBsYN+/fyhZ/8jO9Bp0Lh8ePHc/PNN7NkyRIAzjrrLL75zW8CXuhbXV3NtGnTOOuss7LuJzIUGNd1XR0G6S579uxh06ZNAJx44olMnTq1S/uFVVRUcN39G2BRReK3l+Rle8Fqtn7AbheuQ+dDX9PB10WG15keVK8t585PlPT4BHMiXTbJ9OjD17VA2aFTqaur07GWIWXLli3U19cDMHny5Kzf5OjofmGzZs3il5+5FnPZlVgxF9PqYLV6l8TBdQHHax/hL7ikrsfxQl6/cjgcCmdanCzb/d7BRxIIp4XAWC7GIgiAM4XCTp6Fm2e8y4h3yenj2blhg1pHSP/2ZBXcMrtHn6JiP2y4+NqgaEBkqHriiSdobW0F4NJLL836zY6O7pdyimgM053/54Wzierg4DIc+prUvsIRkxYIm9xBcM7rbtwLf42dNeRt97rrPVrwilzbC33TwuBw5XDc2MRM8vKtF3fSct3/9PgEcyJd9rUF8NjqHn2Ksigs/dWTlJWVdcvjqUJYus2ePXv42c9+xvr16wGCE870sDfTfnl5eUyePDnrY9fX17OlvhFOm5z8rc3Vg5cc2zI5kjA403N0pRI423Nk64F86kS27u35CeZERKT/2bJlC2vXriUajQIQjUa5+uqr24S9Hd0vbNOmTbxePA775BMg4nifu7pucsGbXM71K4VJVAo7JrTNG/xcY3AtkzpZW65wOFv1sN2JJa0nMCZZEZwSAqeEwl5QjJ2oDI4kL20rjjvjY6yr6fkJ5kQGgx07drB161YATj/9dCZOnNil/UT6myeeeILVq1fT0tICQEtLC7Nnz24T9mba7+qrr8752FVVVZxw5fnk09I2ECae0j4ifJlnWpPraS0l0iuHU9tJZIlzE/unVPnitH/dTdsergYOVwJnCIUt47WQ8B/PwmH40fk4k0/t8QnmRLpMk8rJULZp0ybWr18f9OCpqqpi2bJlwbqvvr6ed955J2W/cHuCTNb/Kcpddflw6eLsvXqzVd9mkum2zlYPd7YKONdzdeR1pF9+bCEPPHk/E/+oCeakn+vpgdHRIZahZ+XKlZSVlbF8+XIAFixYwNixY1mwYEHKfjU1NVxyySVB259s+4UtW7aMLQs+TWTqZBwcLxwNBcIWLsTcRNsIwJiUMNgbqpJtJFwnsc1kmZAuvaVERyqE27SESK8EJi0AdjGGtqFwuF2ETdA72A+Eje1iGRfrvrv4XMmZzJimCeakH+sHk8rt2LGDRx55hM2bNwMwYcIEgDZhb0f3E+mP5s+fT11dHYWFhQAUFhYyY8aMYN23du1aHnzwwaANUGFhYbuB8D9X3MGUXyzBdg+3DXVDwXA4DI6YWLK3cDgUdlMnnjuSyuFwv98YNlZiPXw93BfYD3jD/YH9MDjrbYln8yuSw4Hw0SVjiCy5nP+66wEFwtK/aVI5kfZNnTq1Qy0ifPX19WyJFcIVi1NbJ4Tf/Ga6zPVmuaO6UiHcmcfOdbubZX8DfHwhW9mqKmHp33p6YLSBt3WYRTJZvHhxp/bftGkT+4pPInLicRhi3imgZaWGwiR6CbepCk7rKeyEKoXT+w47ocphh2S/4c5WCAeTwyVaQfiBr2kbCueqDDbGm0guXBls2Y4XBidOhPNmTOe3NX9gvqqEpb/qjUnlDua++fHHH2fv3r1B4ceKFSu4//77WbFiRcp+27dv54QTTkjZ74EHHuDOO+/Uz1EGjTVr1nRq/6qqKs6v+jLGPYztOl6gm1jSW0eEw+DwZXoo3CYo7kTlsO1P/JZSCeyEKoGdZGCc1hfYdr0wOT0MbnOb3y4iEQTHSAbCfoVyZPwYjln6SVUJi/TA2waRPrNnzx7q6+uztouor69n+Y8f5a5d+XDZ5NyVuh0JhI80LO5MhXC2+3X29myBcNrzPvDbzfDc63z1uk8pFBYRkay2bNnC2LFjs7aL2LRpE7etqeDP82dRMHUSjh8IY3nhbVqlsPGrhP0WEdkqhUPVwumtJlyD14s4HPymt5RIrxAOQuDUADhjZbBJC4ozhMJ+dbBjW8lA2AabOBbJQDj/vu/x+Ru8vv3zP3mVQmGRLrj88st1EGRIeeKJJ5gxY0bW26uqqri54ptccOWXvPA2EcxaOGntHBKXThzbxIi4WYJff7vJ3GIie+Vw6kR0na4EDreAcLPflhIKG+854jjBZUp07Vo0vPEGX/nJ/SwDhcIi3cTSIZC+Ul9fH3xqmq2Caf369dz11Db45GLYF4VXaryvwuWRXI8kThD3RuHltPWXQvvv3g7RzcnbX9sOOzbnvj2auD0/cfuOzd71fKC+1lvyE/f/e623+Pf/e+L2vCO8fcdm7zX463/bDHu2J/f/22bvNV26kAe27+Xxxx/XL5WIiGRUU1PDo48+yqxZs4L2EemWLVvGny/+IMOnno2zfgNWfR15tJJHKzz5JLxW77VRyHOIP/N72PMqluVg23GcZzfAnnpsK+713P3DbzD792DbDrbtwNO/wdq/O7G/g9lYjfXmbmzLwbIczKb/w7y1J1Gd68KWajjYkBxzX6iGg3swEcd7DU//ErtpH7YVx7Li8IfHsJreSD7/hscxB99IPH8cZ/2vMG+/4T2/FSf+u19hDnrrlu0QW/drONyEibhYEQf35z/HfuctIrQSoZVY5S+wmw5QeN+3+eclX2Xv3r36pRLpJtu3b6epqYkPfvCDOhgyKK1du5Zf/OIXOVskzp49m49U3UKBe5j61U9S4B4Olr/9+A8UuC2J9RZeemijd93xbt/6k+fJd1vId1qwDjfzp4f/TL7bQoFzGKu5mecffpl8p4V8twWruZlNP/0bBc7hYL1mbb13f7cFc/gwG9buIZ8W8mnBajnM05UN5Lkt5NGKc/AQmypfDR7Pffsdnv/fnSnrL/7vX8l3vOfnYBN//t+/BK+Pg028/POtweuL73+Luif+FDy/s/9NXvvVluDfzv79vP74ZsaUHM2YxRdwyy236BdKpJsoEJY+UV9fz6OPPkp+fn7WMDgajVKzswE+MM0LRA82wJ6XvDA0AjQl1v3A9O0M6w2h9QO7vJA42/qb7dzur/uB7Bt13uLf/kYdNIbWG9PW0/dv7/a9Ue85M63nJdbfSqxPOI/Ne5vYvn27frlERCRFTU0Nv/rVr7jsssuYNm1axn3Wr1/PvtKTKSg+gQgx2LYNq3GvN2s5Mcy2rVhv7MWyHYzt4ryyHfetRq+tguXAX/+MObDPC1gtB15+EdP0ZmI9Dq+8gPXOfuzE/uavifVEQGzt8NaDwHjnFkzzm5DnQp6L2fkC1rv7g0DXvPxHrMNvJ9YdzEvPYZrf9l6P7cBfnsNqfjv5ev78fMq6u20L1rtvB/+e+NYXMPF3MREX28Rh40Yize8E/35342bsxPrIOTP5efWvaWpq0i+XDGnbt2+noqKCioqKoBfwkTzGz3/+c0477TTmzZungyqDztq1a1m/fj0rV67M+s2SiooKSq/9sBeScpg3NvwpCGQLOMze3/+ZfPdwEJrueeplb99EyLrr9zuCQDbS2syrT/89CHwjLc3U1bwWBLJ262F21OxOWX+lZm+wHmlt4S9/eCN4Lrv1MK88uz94Lt5tZsez+4L9zbvv8vdnG1LWX924OxlAv3uI3ZvqU9YbNtUF66bpIG88vzN4PuvgQQ48Fw3+7dbBt3n7uVfIp4WRxxQwctqpPPbYY/rFkv7HJlnI0FNLNye4xnVdVz856Q5VVVVUVFSkTBYXXvd1JAz2B8brHt0AX6nwNmTqpZvpt7cnW0eEb+vMxHCdud3twL8t07/zrnLuvKCE8vJy/TJK/zLD9OjD170LZa+eSl1dnY61DBkLFiygrKwsmBwufd3XkTAYYNasWWxeMIPhsz4etIkIL/6XVh0sXMdgYl7LCKvVgRheKwjH4LqJieOcRPuIxHbc1PVgHzfDNsfgut42f1IZY9y2bR5C/X/bTBSXs40EKfu7eQYnz+DmWWAlJpEjHvROTF9s4tSVTOevG2o0wZz0K/W/q2L9zbMBKB4OFx/X9ceMNkHN/tD/KW9B7OPXUlFRwbp161i7dq031M+Ywbx581ixYgV1dXVBz+D09TCFwTJQFRYWtplULrzu60gYDGCM4bPOqtQewYnFSusl7C1eq4hggrnQRHFB2weTYbs/mZyJZbhPqI2ESe4fd+ygtUMMm7gbydgCwm8nkalncNb7YhMzEeImeRk3No6xguvpy74Xd7Pzuipqa2v1iyj9y8oFsH51jz5FWQ0srXySsrKybnk89RCWblNcXExpaWnwVZjGxsbga6n19fVEo1EuvvhitmzZwtq1a1m8eHGwb2lpacqJajQapebvDXDONK8a9tUovJGoFm4vGG4vEO6OMDjT89KJ2zpyXzfL85os2yaex+Z9f2P79u3BTM0i/YLabIp0u2nTptHQ0BCMo0VFRZSWlnqBTU1NsL5q1SoikQjRaJRoNBrc198XvOrgN0uLGF58HHm0cnD9H7FLxxMpPjkIgw02Dm4wyZwbMYnJ5bwlmEzO8QYlF8sbyowJ9RYmNPmcCfb3+g0newr7E9LFLTt4jUEobGUKhkkLgNufYA7LxRhCE8kZjOVgmdQY3M4QBtvEKZzzUX5e/WtuuOYzjBw5Ur+Q0i80xmHDIe/65Hy4uBvG34Z3k48JEG0B/3+PGTNm5OyJmovCYBnI5s2bR2VlJZGIF6fMmTOH/Px8wAuB/fWbbrqJb33rWzz66KPBfdM/uK2oqOC9134o+EbKK6uf5ezPnJMMerMEwymTzKX0B06Ewdn6BufoKRzcNxQOx4hgOYlJ3lybWM6ewfGsgXHG+4YmkvMnkEtZTOp6jAgjxhQwatopPPbYY1xxxRX6ZRTpAgXC0m38ieFWrlwZrPsVwI2NjWzbto2LL76Y4uJizj77bDZs2BDcNxaLpQTCNX9v4P74WPjkIi8YfbsBXnsJzg1VN2WadC3XRG9dCYLDt5ssz5/Nkdye6d+UfvnnzTBiJJyWCH8vmcdPf7OW86K7FAiLiAxyixYtYtWqVcFYumjRomAcfemll4Dkh601NTUpY25paWlKILxy5Up2LbiQUZNLcWjB3bYdq/AoIsUntA2D/cWywCZlgjlv2PInjHMTk8glJ53zJ5dLD4hTwuDE/kEYHBpzvVDYSYS8ZA6FgwC4I6EwOBFvIjnLTg+DU0PhdyqrGT3zQ+SNLMAmzinLP89XSi7jkzMvUSAs/ee9eCFUTO7ex5x2rLcE4VU9bMix/4QJE2hsbAw+rGpqauK8884Dkr2CzzvvPNatW8dTTz3FuHHjgn0nTJgQ7CvSn/3P//wPN910E4cOHQrW/QrgmpoaZs2aRX5+PvPmzWvTTiU9EL5jw71Mf/BaIm4rETdGw+9f4tx/OitZKZwekybC4ZRAOBTsdijwzRIYhyuH/YA6mFzOibSdDC4t+PVC3+yhsOXGiYfu609QZ7cJgBMfwbo2TW+2UPfMa5x2+VkYXI45ZRTmix/igfsrFQiLdJFaRki/E41GueMvDdx/6rTsVcCZrqf/JucKh8mxL514nPbaV3Tktky3t1fxbIDqtVA4Fj40I2X7p3dtZknJSIXC0n/M6uGWEYeg7BW1jBA5EuvXr+ebv15L47xpDJs8gQynntmbJ7gWxAlaR7hx47WO6GLbiPTKoKAyN3FibCVCYY6oXUQyKHYjBifPC4SNcXMEwnHeuO3bHH/7AgrGjg62vXbb9/lC6TSuv+ZahcLSP2yqgmWze/QpKuphw9nX5pwcK1MrCX97Y2Mj8+bNS9nHF95XZCioqKhg87WHgmA322K5ceyMrSPiqcGxiRHJ0gqiTRuJtH0iJlFpbMWJWDFvMTFiTiRliWMTc+2UYDe9TUS2wDjlvmltIrK1inhj1zs892AtH176cWImEiwFb+Zx0dMnKRSW/kMtI0S6JhqNcsdPK7nfjIXTE9XAucJSN8sldH8v4Y5UCHdH7+DwdZPj33LZvIyv76fbo7DxbyyZi0JhERHJav369Xzr1w9xcN75FE4+jTitGXvmWjiZQ2Fj4dgWuIlKYbzWETgkW0ZkqQrO1DbCqwy22hlzvT1TQuFOtoswxsW1TVAZnC0MDkfi45Z/PnG9NdhWuvxGVtx2NzyEQmGRkGytJMLbutJuQmQwqKio4Nsbfsg/XDs/qMbNtiQi1pytI2y8vsI5q3/TtwfXk0Fy6vO2/Yg45kSwsYmFq33bqQROqSIm0Toi8YFvPH3ENX71sI1FhLGnjOBjX7+IGK3Bd5AMLm807ee/1z0OoFBY+gd/Urme1M2TyikQln6lpqaG+194Cb5dkXoC6F//exT2NaS2jkg5UczwoN3RSzhbuNyToXCu5zU5rl85j5/+VznnrVunQFj6h54eGFt1iEWOxMqVK9m/4GzGTi7JGAY3rd9MXump5BWf3G4oHPQSDoYzNxkGp7WNgLZBsIvBsSxvSMs15rpBg4msoXBHWkgErSIsp90wONfyvuUL+WrJtcyeeakCYel7phfGXJ09inSL6667jsXOiqBVRPrywk9e5EPzz0hMIJeYRC4U0votjbL3Ek4LfLOFxf5tdtswOOghHPrGTGoo7GQPfXOEwpZJ9CQ2GfoGJyqMTWpTqTbLmFNG0rLw/Xztuq8pEJb+oYCenztHgbAMVtFolJpdDTD1wxBJawjsn2MeaIBXX4LzM1QPtzfJXLZ12rm9TZVu4sFdk/pcuSqZM8nVOzhX4PviZjhqJLxnQpbX7MI5H2Tz/p2aYE76h54eGB0dYpHOqqmpobl0NKOKjyGPFqzghC+5xLa9RH7hCPKKj89dKWxZOBGLZOxLp6qC/TA405hrgjE3NE5mDIVDgW+WdhF+tTARsCIOWLQbBr9V+TvGzPwgeSPzs4bC4+acT1X1r1h0zQKFwtK3Ir0w5ubrMIt0VUVFBe+/dgp5fhhM20D477/fyYXzTs8YFqe0jQh6C2cLfTtQOWzF21QjR9xY2pgYIRZq4RRzI7n7CWcJhWPGDt5PBNvTJo4zuBx6s5mXN+5jwqWlweAfvGsw3ofQI4/JZ8y0EzXBnEgX3jaI9JuT0/tf/AvWfz8AON6Jo5s4qUxc5/xpnQuD25toLl3OMNhNOTlNFkKZ7g2FM72W8PXXojBmLLxvQspr82d5N7jwybn8dOmtqhIWEZGMVq1axcFZJ3Di5FOI00rcPzkLLacsnp243pKzr3AcC2PZXi9ef2Dr4GRyjskcBqec9OFmbBHl327hdLgyGAvciMHYLsY4beLt9H/l4Y0vECl7H3kjR2UMgyPEmLR8Pv9WcjOzZl6mQFhERNp13XXX8aX4HViOFwjbxMlzWxNxqBfI/tN9H/Wqh7O2kYi3CYbTJ5jrUBicNoFchBi2E8cy3thrTBzjusnqYCIpoXC77SHc1PDXIkIcJ1lzbJJBcLIy2MVpamb387v5wKWnhqqFE+8DEsUgx4wbyakLz1CVsMgRUiAs/UI0GuXp1/ZgnX+B18/PdYMw2DUGx3gni64xycpc0k4Oc10Pn2hmk7UqNxEEhz6VBNLWSH1dXWkhYdq5ftW84HX5X8+1XMd7NYlQ2DUGzp3CH/fWqUpYRERS1NTUcLDIcHTx0eTRmjglS63OydZLOFNfYYONg+sFuzaJsSktDM7QNsIxBuNabca6oPo3ccbnXw9GXDc8RHcuFE6GwW7oK7DZW0SULr8xcb0lZ+uI8XPO5ZfVj7PwmusUCouISFYVFRV84NpJ5LstWI6TXHCIJMLZvCxVw22WRIhr4STbRpAMfdttI5EWBtuON3md/20c/xTUNon2Sq7TJhS23Uju9hDEibuRIPy1iedoEZFcThhXwCeXTCLmtiZyAe/9g+Na2CbufcvHchh1TITjph2vKmEZ0qqrq5k0aRJFRUU592loaABg5syZFBUVKRCWfnJy+toeHhwxBnveAgzJQNivCvJDYX8BcHfugL2vw9QOVgx3tJewCd0x8TGklTZAARk6GfnPZdq+hkzr6be1FwSHnhW8ENhf/Il8vK/jesfLXHU1j/ziEc77+6sKhEVEJLBq1Sr2lVmcPvkknKD6t23YGw6I31r/PAWlxeQVn9hmP4Ob0j7CC4WdnG0jMoXBfjWwldYHxt/mLTlCYePkbhdhg2ublMfraK/gcEVwev9GmzhTl89hScmXuXLm5QqERUQkq+9vWMHsB67EclqS53OOg3Fc7zquF+aaWCIcbqVm7Q4+9umTswbDqa0jQi0kOhoGu3HvNfhBcHhJlOYak9pmyav2DYfCTpswOI6N7drESATGZG8R0ebM2i8OS4TAcdfyQnMrhmV5Y69jLMaOG8HEL05g7f1rFAhL3+qjSeWqq6spLy/nnnvuyRoIV1dXU11dzYEDBwA4cOAAc+fOVSAsfa++vp5nYi72ZxZguU5wchd8HdSvFvb7DPqT2DS+hvO3V+CCC5JtJdJOEjvckqHNNjf1K6tu20A40/28NhcuWUPhzrym0Gsxrou75Y9YR43Afu8ZwafIwVdpreSAGVQIA+YfP8Vzf96iKmHpWz09MOa13dTU1ERlZSUAI0eOZM6cOTn38WXbV2SwqKmp4VCRw7Glx5KfaBVhhZo/2BlO1iwcWra9QkHhcPKKj83YbzhoIeFPMoeLG/eng0kLgx2DMckwONwawsIhnPkajD/ye0v7UKXyAAAgAElEQVTiZDS9WjhzKJzaLsKNGO/+pv0wuLHy95wwcxL5I/PaDYn9YPg9cz6gKmHpW5pUTqRfW7t2LVc9eBm2k6gOToTBQZFP3PWCWZJjmk2cl37fwMxPnUAerVnbR6T2Fs4VBifDZj8ItnAhTtswOBQI+6EwhqAq2SJOPFGd7LeQyBQKW65N3IQ+bA61iQgXPOHCwTdb2brxLT7w8WIs7GDSWts4GKs1CIIdN7mMHTecos+/X1XC0rf6YFK59KA3m9raWj73uc9x5plnAlBWVsY555yjIV36Vn19Pd975BEqhh9F5NwpwaeBmQLhNtXC55+H86HzcUwstXI43HPY15H2EeE+wVlmM81dIZwpMjYdC4VN29cRbgdhuQ7UvYR1zDFE3jveO+HNUBWcEggnAu1H/voy7oZ6vjpnjkJh6Rs9PTDGUlebmpp46KGH2LhxIwDDhg0DaBP0NjY2cvPNN6dsHzt2rAJhGbRqamr4wa/uwbqskFOnFROjNUMQnLk9xOmLL02cvLVk7DccC/oK296YbFnBOBaeTC4cBodHzXBVsItfxes1CkzfL7ykjLjhUDhtcjlsOhgGe70bD238E5GyUvJGHtWmpilbm4mPLL+MNbdVYh5y+ew1n1UoLL1Pk8qJ9Ftr167lf9Z/j1lzp2McB8t1U77x6QfDxnGT1xPne/+6YjJWayuWcYIwN+gvnGgVkee2pvQUztYuwr+/5ThBn+CsS/j8NC0YNsbFmDiW3184RyhsmQhOotVEHJuYG0meU7t47xESlcAtB2Ls+OObTJpejHG9cd9OVAUHQbCT+ADasXCMwXUt3mzazw/XPQmgUFiGDD/ora2tzbnf7bffnvVtg0if2bJlC3c/9RQFP30Y4w96QSCc6DLYXrWwvxirbVuJ9J7D2dpHmI4FwX6lsH/C6oew7QbDboYEuk2biLYhsPe1ocTlVbMTbwxas1YFex0rTBAIuxjyPvWPPPLlLzFFE8zJENHY2Mgdd9xBXV0dAHV1dZSVlWUMeseOHUtFRYUOmgwJq1atoqmsmbOmeRPJWSl9/NpOrhbPWC0cSQmEw/2G48Fi41jeVm8g99tGGFxjBdXAbYNgryI42Bb0L3SD6uBMoXA4GDZuapVwuH2EX2llpbSAyBwIT1z+mcR6a7uVweFtH10+k6+VfJ0rZl6hQFhERAI33XQTX975aa93sOtgXAfLbxMRqhL2bnOx4snrXvjqT7bqfcBpG6/ncB7exHTh6mELJ8MEc4lJ5BwvxA3G2fYWk30xJtFfOHG+mi0U9t9TWDheVXDicf0Q2En0LTauy3HHDWPeLWfS2uIkegW7yapgPwgOqoMNbmLbceOGcdbCkzTBnAwp2YLeXPx+wyeccIICYek79fX1bPjrK0SmX4RlxzGhKmD/qyH+yV2uauHWnX/H3ddI/oc+lHp6aCUGDNIqh1MknsNkDn6PuEI4PSgOkuG2zx+EwDhtg+BMX5HNVRVMciI+fz/XQOS8c3mufpdaR4ikaWpqoqKiQq0iZNCrqamhtegwx5ceTR4tWNiJJXvLiEwB8Rvr/8Sw0pMpKD4h2CeeYUK6lFDY/xDXeA0g/AndwkOxiwkqgtOlh8Ap1cKmbTCcKRT2w+D2+gJnWk8GwE6OcDh521lzzuSx6sdUJSwiIoBXHTxpzqkMz4uTHwqBjZtWKRxqIxEExvFktfBvq3Zz6SfHJgPiUFsJO9QTOKgWDk0w500a5+SuBu5oIAyZg2GTDIaDUDj4eDUvGO8d1xu1/XP+9MWrCo5jLIdIWnuIZHWw9yFzeNvRx9iMmzZarSNEsvBbTPjtIxQIS5/ZsmULd9c8xYjKNRj/U8FwINxO+4igWnjvLty/7iD/Q+emVgu3VzkMafOdZ4t3nSx1v5lGRyvLvzY54zqQuRLYTQuAXYf4889jHTWcvDNKvbE3Y1VwapuIYEb3UHBszbuKn33hK6oSFgkZOXIkl112GRs2bMjaVkJksFi1ahWHyw4yYdppxGnFxiGWsRo4e6WwhcO726IUFA4jv/iYjIFwcj1xImglx2KDlbEiONNEcuF9rBxVwVaWNhIGN9kiIi0MzhYA76l8mpNnTiR/ZCRnAJytZYR/n0uWT+frJV9TlbCIiABedfA3ds7iqGEOlhNL7Rvst49IqxIO2ke4ThAK/+kPb3DZZceGqoUT896EAmI//A33GPa+YUPHKoI70DIiV8WwFaoYTvYJxvvY2bUzBsAH32rl+effZmrZCYmqYLBMHLdNewgvAHZdkxoOJ8LiE04p4JyFx6lKWPpEzWsQ3e5dv3g8FB/d9cdcvxPq30quNxw68sdKD4NBLSOkj9TX17Mh+gp5H52GZTttKn/bBMK4XgVxhkB42IenMOyCKbi0tA2Ds4TCTob+hW1D32yVwsmT1LaVwQ7tNZ7ApW0A7Gbo2WgcDu98BevYY4i8b3zWENjrRmFyBsKuMUSmnsPzO3cTjUYpLS3VL6H0nj6YVK4jwu0iGhsbWbJkCaBQWAbhG9SaGpyiQxSVjgwmkosHk8G0rQbOFAT7y4TFH0tsbyGWMxB2kr2FLT8+bTsqxiHnt3MSI1xoApu2356xklPatfk3WDjtVgD76wc3/plI2XjyRh51RJXB4eWcOafzePUvue6ahQqFpfdoUjmRfmft2rWcO2ccwyMx8tOLgZy0NhFpVcJBa4lEYPyVb56B1RJPTsaaaQlPSGe88TF08tqjgXD6xHMuJjX8JXk9/K3g5jfj/LX2LS64cCzGcrFNLGgFkV4d7M1HYGXsJ+wawzHHGE6ddhTV1dXMnDlTv4DSa146CDV7vetnj4fibujpv60JtuxNrh9oObLHyRQGa0iXPlFfX8+dj/6U+/PjjFh8AxBPhsHQfjicsX2E67cBxsUEp2hZA2KszAEwaXGuST0hzcSPiLM3l2i7PetJrZs8ubWMS/7Vl3uBr3E6XRUctJBIrA+fP5tfrq1kROUjfHHOpxQKS6+peMW7zLdh3sSuP15LHNZuTa43Hur6Y44dO5bbb7+d6dOnKxCWQaWmpoZVv/o+x17mMH5aUaJ3sD/WWDn7BnckIE7tJ5waCMcSbSn8uDZTbJuyzYRjXO82f+RMD2BzPEqbfdpvCeH1Df7g8k8l7tfapZYRNnFmL7+AX972IDyEQmHpPZpUTqRfWbt2LavWL2PeirMZPgyseKtX7et4i+3G27aIyBAam3AFsZPcFg6Asy2JE8L2g99s2zK0iMi6LT0cxs3aFsI/x7dch5OOi3DjP5+M47Z4fYHdTJPHJSqDM1QMO07yHcDx44ZRdlsR969YDqBQWHrNosmwyOrex1w8NXW9rKLj9/V7BRcVFXHHHXdw/vnns3HjxmDi9ZkzZyoQlt63ZcsWfljzJMdUPQi0BoFlEK0aUiaSSQ+Hs1ULx6J/J/76XoZ9aEriFDJG3ISC4dAJp2tMu+0iCG0nNCYSqhEOdwQO1w/nDIcTz525KjiO5e+do1dwpqrg4DL0EsOv1+CSN+9KfrKgnA/VnKxAWHrNhjrvckRe9wTCMSf5mABNR/hJaVNTE9XV1cyZMye4ftVVV+kHJoPKqlWroKyR9047EycRXMZxEtOypgbCTtp6riD49fV/5qjSExlefFyWCeecIAxOxrXtR7nxUIgcbt3k1RjHgmYU2cLfTNvsYF7z1ADYbmfpTAAcXvdbYMxZfj5LSpZw+cwrFQiLiAxBN910E8t2foIRw8CKx7DiDnY8HoTBthNPCYgz9RJOVhAnK4Uff2w/sz8xOugtnBIAG1JbSvgnhR3pF0yGy/Dpb64gOMP2lEnZMwTCNnFcy2BsF9uNJ/sCZ6wODs0oYJLvH+KujeN6lySe6/hxwyi9sok7vnGHAmEZEmbOnElRUVHKttraWkpKSigqKmLmzJm89NJLNDQ0BLeff/75CoSld9XX1/NU9KX/z975x9dR1Xn/c87cm6QU2lBaWkppwy8pFSRVKNFFmvVR7LqiRVFrWSUWHxeE3e0+q69tfVwM6CPdXXY3PKum+4hsUOkWFyULssbww/DD3VB+NFisQQgEBKyAJYTS3uTOnPP8cc6ZOXPmzI/bJKU/zuf1mtfMmTt3Zu7cNmfO+37m88Vh73knSvDTNyTxZQWEAcSLzSF61IS/8jsETw2BnvP28LWSHPKGjmHpFuYyszALBE9E2WCYRNmGPD4kVp125ZFfgBw+HeUlJ2sQOCoap89jILiApp3zDjy44zc4x0VHOO0jda2c3P0dVo7vc3gEaO2O2ocffjhWrFgRxkFUKpXQ9atD4Eqlgrvuugu7du1CpVLBU089hWuvvdZ9YU4HjR544AHQea/j6JOmoxQmBtMQWCroGrl9k0CYpbiIdz0+jGmN9SgvbDQcw54BhEsItGTiLC+vOB+mZfez8PzywGwWZs4rHPf8bVsx/5wmNMyaVhD+RhnC+mu255HOvHARbu/pxp+u+Tzq6py10snJyelQ0aZNm7DswmNwWMlHiRFQxkGYBoRZNNeXKQuEU5gxUB7A0+MjZN7wYw+9ik+saIjcwuYTrjogzgLAZjSEDQrbYLA+Zk+bIMF0CICjJ3/F0zsB9owF+K+tr6N1+RFgRHMG665fkuzdA3ixp4fVRMDB5OeeM9fDvGbioiOcDgmtW7cuc53tdcHLnJz2oR599FH8ywP3YG73RgBVo+8x/baGjE5IQV+1PO3db8dh714K8EB0OBIic0IEGCYRGBa7yXYDp5xFpmzvt8FhAKEj2OMsiqaQcDcYfgZ09izQ00+MxT8A8WWb8q7lzM9eiO+3fRFnP3CcA8JOB6Vmz56Nr33ta/jCF74QthXorVQq6O/vx4UXXhjbTt/Gyelg0fXXX49y6++w+JyTQnewGZ2kIC4NAS7PBMKq3fzn54ZZwp4Vo6r9sRgqLeIIpuHkhU/NeAUdvTZAbI+JiKaRh5/Esc2zUTfLy3X/2pZtx1TX9pPXvgNfaPoyPrWqzQFhJycnp0NIn//85/FPz/whpjcARELg0A0cMFAWwMsAw3FIHHcL/92Vc0DZeLReB8MxIIz8mAjb3Fwm6WPyVHcwAUAsrmASAISAUg5e4Xhi+yjOO7dOZACb7l/Vw8pidOG5M4ha7mryJGwmDFTWCzruLdPx2of3OJewk1OGHBB22md67rnncP9Tv8Lh7zkLZQmDawWuUT/E7R2Tni+s2jwCrWqoFu4D+W7gJGC1b1V0ixgQBgOhElxTEh5m5kV/LGMggr08WsZ1A3D4OUuxZcdzziXstG/0JhSV0wvGmet18Ju2nZPTga4HHngApXkjmH/SNKs7WIFdvRCczTmsXLvpsRImZhZw1M8BwkEiFiJ7KgKEbXA4DwhTBHjn1X8k21UD8KY7gdMcysQA6hQMZ1+4AD+4ZTPaPr3GQWGnqZUrKufktF9o06ZNOPvCuagvcXjMl8BWOIRDgOsLIBwCYF4EDKv3BGHesHpfOIEBWgRhTW5gWLYpCoP1bXQwLCMflSuYUg6PMgSEYu4Mii9+9ggwVk26fxkHKEB08KtPHLF6QwwqakIW1WMcRx1dxjHNY84l7LRv5O2DPniSM4pdl+60z/T4ay/h5iPHMeeST0J3BwN7DzgT75YLY78aQvX5l3D4+94pVnMe21rFNiT3ZPZoea9lnbn9Nf3YYa4ThZaljJrOq/gYIfq8R312JW7fdAfevfNFnAQHhJ2mWFNd4KbiLrGTk6nrr78e01tfwJJzjgfXgLCOcQMNCqfBYNM5bMZMUHgYun0bZi6ZjyNOPDqWNxzIgAkdAOv7KDrRGBD2awbDRdt20FsMCmcB4U9fezo+0/jn+PiFqxwQdppauaJyTk77hW7b9vdYc90paChz0CAAUREQ5hSwBOy1wmCedAyr1799y258fmU5KlQn9xOO/czIiPgAc+qAsFwWP+oygPqglGn3IcL5G3BPGKQogHCO0DSVN6niepQwsEBGTBAKFlAsfMthKH0euK/3e1gBB4Sdplj1+6APdkDY6UDU0NAQ7hoexJxLPgSE7mCz91D9Tj74zHP1Vne9DrzyMkrEF3sk8Q4uG+Pazyv5Wu0wOHb+Wmep9vtG/zYAwPSW7MpbRQG67TqpdbNXn4ef9z6BM7Zvx5IlS9w/UicnJ6eDRL29vahf8DIWLZkuy7zxmDNYdwvrr9lgcBHncPWlV0GaGlGCbwWi4ljMMk02EPZjxec8DebaQO4TNz2ME847CfVzptUcD+EZvmdq+dz6tfjAZYtw/Q3/gj+7fC3q6+vdP1InJyeng1SdnZ34+FdORKk0DuoHCfibgMMBs7qAC0VJ8AAvPF+FF1BjG3Gc3GJxRaBwNIjMnqe8RglDifognIfF315/g+PWn1fxyT9qsADeeDsRD6GgsQdQzjRnMBUxGSyKjWCMYsEJDZj14TJuueWWsKaIk5OTkAPCTlOuoaEh/MPN38VP5gaYjVNSt+NWOJzsZ/JEwFFedgqw7BSYTuQIwObvcaKxDJnbEPs2dORVAEAZ1ZqOnxbxlHdOP3nlSezZsg1/hYscFHZycnI6CNTb24vu+/4JSz40ghOXHQWGaiy31waG0zKF82GwcA6fcck7JCL1rQ7gAB4QywbWJx2g2mFx3NVrFocr5gjWIyPUurEXd4KOV1BGqeZ4iLQicjaXsIcAn7nmZHxv/Ub88zfhoLCTk5PTQarOzk7c+eQ/Y7V/PDyKENASGRmRBoc9P+n+pbwYGN7wp/UheA5hMGegAU/PDa4FDusDzDwIbCyrHGHqsRjY5WMcO3b48Pwy5C1CGBGRHg/BY9BYxUQkIHAQxUYQJkxYr+3+DX7+8P8FAAeFnZw0OSDsNOXatm0bNm/pw1u6N4DAL/Se4hEJtWPb2kErmYI92yHtrBVnySV/n5zLnNXvxW1tX8O7t5zsgLCTk5PTQaBNmzZhXuswTls2HwHGQ7hrFnQzgWstmcJZMRI6DDb7vMBop7mBk7A43SGcBMBxV7DeNqHwO7/4B3LZ3+vMYB1mUwsI1qfPXdOE8xu/jM+u+VMHhJ2cnJwOQq1fvx7fevpdaKgnIEE8HkIB3DQ4rMdHZDqGeZAJiQVk5kCAbCBcNFe4hrxgW4E5UdiOg1IWgt3ZhwHrV5XBgkCsM3KB4xMPncJEKyBHCYvFQzC9mB4TczBRkH3+CYfhlPN24htXf8MBYScnTQ4IO02phoaGcNf2RzH7/HfKR0nTxDODGHihmIbku3ZvfxbVl1/DzOVn1PzueL848aJyNukDZgJeE/Q1t02Lh8iLwDjqvHfggad/jWUuOsJpqjTV3MPlGTo5ARDu4BkLXsDJS8qokzBYn2xgOA6IWSEYnPb64O1P4sglx2DGiXMsfbdn9Jleor8qGhlRSy5wBHqDVKdw0XiIopnBWZnGF142G9+5YSOuuPwvHRR2mnzRfdDnutGjk5NVnZ2deM+a+agrk9TMYAVv9YkYcDivoFza69/uCXDZ+xhoAAGDGYrB4CLu4QwXcCEozAFQDuoFEdhVbmGPpMRD6HnCcq4XkAtoBIAJA2EUhHgxEEyYAMecEMw+tgELW6ouOsJpavvHqe6DXYaw04Ek4Q6+B6d1fw1AkBpdkLa+Vsxq7ofuGgV27kQJfgyM2tDp1IqnHE18wtH+7QCAmS2nTujzp11LngqECeatfg9+3LYB52x5iwPCTlOjaVO8/wZ3iZ2cAOEOPr71SZyxbHboDrZNqqAcs4DhiWQKj7/0GnhTo/QOq95IwF/THZxse7F20jW898XizGn7TY/iLec1YcachpoLyWVlBhcpcvfn1xyD5Y1fxiVrLnVA2Gny5e2DPrcOyHvgb+vWrbj33nsBAEuXLsXy5csntJ2T04Gg9evX41tDwh1MgyCEvUk4LMCuDRiTgMML7MXjlDs4DQw/v4OB+hAw2ATCQH6BtrRtCgDf3G0YQDxgdDdwy0MBLn6PcYxYPARPzRMmiFzAlLAwOzggHggDQAg4ASgj4ISAyzmhHMeeMA2nnFdxLmGnqe0fp7oPdkDY6UDR0NAQ7t7+CI4+/2yU5J1jrUBYV9Lpmo9Lj1x2MjhOBuBrg9O9h7/mefIJgWQu+0gOPvIaCHh4nYpfg2JnkQWEAWDOeW/Hz59+wrmEnZycnA5Q9fb2YtaCZ3HKEmp1B9vKrwVgKVB47zKF33HJGfBRgi+BsOqx8uBvWluPtLCB2aJREea058URkPExlFCalMzg6D0+SvLYpUSGcXReqy+b6VzCTgettm7dittvvx07d+4EgHBuwt6i2zk5HQjq7OzEez8zDw1lDhoIsEsCbjiBWRjnkOYWNmMkMgvK6WCYM1zzCYjyOQwREFYDyFpgsOks1iEvRW1QmGgQiwPBGPDCS4AXBJEb2EMyI9gsJKdiIqDFRBAaZgRzCZ05USBYQuOAgRECGogTOXp+HZrO9p1L2MlJygFhpynT0O5X0Dd3FxZe8n4gBwhnQ009vKioovcoj1HeUYqcVxYQ3hvYrPY3d8VSuexP+veQHRkh1h+7+lxs2fQzbN+1A0vggLCTk5PTgaZNmzbh1NbtePuymQhQNYBlAE9CYDWnKCEAk5MX875SuVxLpjBBCaa3197rpEdHhAVijFxjE7zaAHEtLuF3f7EFJYmua4mPSAfB6ZMC03rxuy9eMwtvb/zfziXsdFDq3nvvxc6dO9HR0QEA6OjowK233poAvaOjozj99NNxwQUXhNt1d3c7IOx0QOrnz30Ln/rqQtSXOIjPxKTAMJNwWAPERC8op0HemJvY18Avz4qSYCAKAKfFRdQ66e+3weBaJ7m/WfXAlR8CuA94NAA4B9ccwiRRSM6IiZAQWLmEkxCYgRAqrrv2lBG4iHg67vh6nLsmwGN3/jsuhAPCTk4OCDtNiYaGhtA3/AssvOS9MKMi7FCYF8oXztpS3y8P14htR7Y+g+roHhy1/LTcc7cVwrG1zfPIa2cdj2hnbCLcrP1E56K/w7x69te4EVyxYPW52NI7jCXOJezk5OR0QKm3txdzFgxhyRKgnAKDgzAfOJrbECYJ3cFeuI88Z3CAUgwEP3H7k5i9dAGmLzgy0WcFsb7PA9McwBGQjrKOVU6vCYJtcLgIJDanolBYLx7nZewzy5msTxdfNs25hJ0OaTnw63SwqLOzE39y5QJ4ng/i+2FMBAk4qB+HwmqZBjwqJpeSMUxYTnyEdAYTDQKPVYAbfg5c9geoDfpmvV4EBheBxQyhG5gwgHuA5zGAk0Q0hO4YJlwrFicLxglXMInB4RAC8/jkIRA5wkxESBx3Qj1mfZg4l7CTExwQdpoCDQ0N4bqbb8D9c1/DQhwdGwjaloXSsWeROAlY9qZDYT76OtjOXWGKYVHoa2/zcG3a2Rdpv9r/BABgVstbNCgcxUjszWe2r4+fq7mtvnzPK7/Ea1uewF/gYgeFnSZPrqick9OUqbe3F/fcdxXe+6HtOGNZfUp2cNLVmp92y7Vic3EAnOcMrrw0Cl4Zi/W5pvvXBn6FI9gD09zB6j02+BtfjnzONiD8y5sGcMp5i1A/p74mKKz2S2KF7bIBsA1Cl4z231wzHdesb8c3v8lx+eX/y0Fhp8nRvioqN4kPtKkc4dHRUZx77rnuO3Q6oNTZ2Yl7n7wWJ/jHokS8OPhVkx+HwbZlGrAYII7FSRiF5vQMYtMZzKrAcy/J/6O1QN+s1ycIg0fHgVt+Aax5J2KZwYQL5uvRIB4PocVEUC7uHQImi8URgDMSh8A6AGYA8YTLGhyiMoJyEBMCTgUUfmP3MO55+B8AwEFhp8ntH11ROadDXdu2bcMtW+7EO7v/2rhj5DUg1Ei1wtEYCJbLc5cvlsvV1ONmAeu8c+AFgKsJZvnIa/I/oW+BwRMNt0heD1vbfG3R6nehp+0beOeWUx0Qdpo8uaJyTk5Tpk2bNuHs1kex7KwGMF4FJSw36zbQ3L9xF7F9ijKFGaiExRQMvuEMVr3YWZecLtN0/UTsRBb4DVKWSVhUjqXC3yzHMAXDnhdfBRk/BiV4CTibhMJBLFl5bwBwbpQEZ2j/ej0WHfklrFlzmQPCTpOjfVVUriIWJ6Mo3OjoKIaHhzFjxgzMmjXLfYdOB5TWr1+Pm4beiml1EO5gBXr1KeCAb0BiGxhmcTisQ2HPjzuFTWewAsLTCHDNByCyhIsC4DwoXCsMNtb5Y8DzryAOqRNO4cAoJsejmgISAnNCoruNEABzEE+71lTC4JIoOqcAcDgFYj/HHV+Ht533misw5zT5/aMrKud0KGtoaAh92x/EwvObUYfxBBhNg65ZwDUbxvJEtIJtnh8zYQfDejvtPNLyifOg8LErTpev+onICGK5PnkZxUVDN/K+kwXnLcGDT//SFZhzcnJy2s/V29uLYxf8CqedylFivqiyzcUgyEOAgNhxZBISU8NFbAfEFDQBg/V+KcLCLBExwVIcwTr4jUPiaFntK88ZbMv7VWff+sWztMJvfgiBSxJdpzmFbbC36DrTIUy5AMqUc3g8gEcC/OllFDfc0Olcwk6Tcx++A7j9drF84jzg/LMmvs/tvwF6B6L2lieBuhPEsoK5ALBo0aK92v/y5cuxfPlylyHsdMCps7MTKz5zFOpLBNRnIchNOIQZBxgHCSAiJPwkBE4DxDRgUWxEoMVJKBhsZgerqagjOK9tA8K0tvasOuDK9yAqeOchxSnMQBQo5tINLO8qQghMNRAsAbCCwpQxUXwOHJQAoBEAVhMjVN6lUBx9TB1OPHvMRUc4HdJyQNhpUrVt2zb8aEsv/rD7zwEJhLMKuhWBwkUL0WUBYX2+c+sw/NEK5i4/xXqcfGidHhlRxBlsrjOPa0JqWzZy/tWwr8/6DtRA/qTVy3Bn2/U4e8tbHRB2cnJy2o+1adMmnNv6EFrO8uBzAjD5t1w9SqnyeUltjuEkII5vF8hCcDYAbM5/ecuvcGzLcTh8QWOIb8PiMDKrmGnAOAjPQAfGPJtZLzMAACAASURBVBX4pkHgLECrA2FzXpKu5okAYKp5qz0EAv5CFgvi0TmW4OPrXweOci5hp0nS7jFg+CWxfMQkuZR2VaJ9AsAro8B8uaxg7t5o69atGB0ddQDY6YDV+vXrcdNTb0VDHUCrTEx+BIVpwOIu4QDJKIk0MJzIHI7iI4gJf1OA8JgP3PAocNmZePOAMIz1zJjkOuUUply6ej0JgTMAsD6PwWDKRLE56QpmAY3AMudgXLQXHN+At503im981bmEnQ5dOSDsNGkaGhrCvdv7cfz5b0UdxgHACoSLuoaz1iGxJ1iPYXUHj74OtvMNlIwANNt5ZMHhLAic9nkB4OX+IQDAnJYTrcdPB8S1A2Hb+aR9Tn150Xmn4KGntzmXsJOTk9N+qt7eXiyYvx2nnSLcpmrgFnAvGkQpMCxdw5SkOX/zAHFyXRIAM1CUQvewWj+2YwSkMhtlTE/AYOX+jbcjQGwWt8sDwLaIh8du+iVOPW8BZs6pM1zASWew7hCeaEwEhagKTy2TB+EOLhEflDFc9jk4l7DTpOj0RUDHJZO7z2Uni0mp6x6gbzR9+6VLl2Lnzp3o6OgQt90a9NUh8OjoKO6++25s3bo13M5lCDsdKOrs7MQHPnMk6svC+asKyNFqHAiHrmHlEmYIYXCi4FxGjET0GpLwNwUIsyrw3O+RHh9RFAqbsJdltPXs4CpwyyCwplletAwgHEJhmQGcB4Bj8RChK1gWjgsAaG5gwjgYo+CMACUxJqaEAQEwd34ZJ5+9x7mEnQ5ZOSDsNGl6bvdv8Yu5v8Fpl7wL0OIisqBwOtJNa2e/lgZk9fXHLj9JLvmp+8+Dw0WOmdxO7IWNvC7/8/mpx0g7ZjYQjr9m39b+DehAGAAWr16KJzc9hKd2PYclcEDYaYJyReWcnCZdmzZtQuu7HsKyZgABB0gQPmbp81I4iAuhMBXu1IBku4aVU1ePj2AWKKvAb3weh8QBPCy/4jSJWavh+1TIQ2AA4cAKiLl0CAdGpAWztk0wu/vFV+GNz0YdUMglrGCxV8glbDiBpRuYgsHjgQDxKuuR8xAGl4gPjwQSEgDXtAON851L2GkStK+KymVIwd9bb701bF9wwQUABPTduXNn7nZOTvu7Hn6uA5+7+mjUlzgwzuMQuGoBwkG0jZkvHBadKwCGUQQIS6A7DcA15yICwmqAOFEgXKSgHGR28E55fLU+AwhHYDgdAMdcwZ4oHBfCYD0aAlS4gRkVERUMYJyAgAgHMRXXatHxZbx/TQXb79wEwAFhp0noH11ROadDUUNDQ/jv4YfxtkvOBEc19hpP+E/jc7WNTbVmCxeFs3mqJes4zylsqmmFiqqoWo9Z9Hg2cQMIk4z9p7mDlZasbsYvegdx0vaFziXsNDG5onJOTpOq3t5eLJi7HUtOgvhtkwGUcoAKCAmOsCI3I1Rm9MllAlDCjDiJABRe6B7Oi48o6hLWtw0kCNaRq80NzGKA2Av7qGxXsA5l/VjRuPd/8W1yuTohIJwbE8HlebAI/oYgWEJhCoYSFbEUYoAfDYAv+wxww3c6cfkVziXsNAHtq6JyOUqLkjDXTSRywsnpzVJnZyc++5XZKNFxYJxJEMtBFdz1GWhVA8LMAMR+Mmc4tq4Wd3AGEA4nIAmBzXVZULioOxiIZweXgCvPRgSEcxzCyiUMEwDTlHgIrruCIxDMOA0jI2LHAhUHCAB44vtAACw6oYTGD487l7DT5PSPrqic06GmoaEhdN68EdvnPoPTsEz2L0mfb5Gib3k5w1nr7Vm96QXlXt76PMZHKzh2+YmZyDgL0BaFwHkF4fR9x4+R76HOWp/tPI5nFNuK6W15ZSte2jKMS/E5B4WdnJyc9gP19vbivju/jA+99yEsOwMCCFMxUSpKdpfgy2rdJeES1mAwIRyMiioulFABKokHj7DM3GA7EE4CYNMlrKbHbnkKC1uOwRELZhqQOHIMp8VJCCDMrC7hrNiGohnCJkRW7ULZwTyIw18uB/9ymXAmisipmAjuS7eTNohnwDVfAtZf/SV88xtwUNjJyclpP1VnZyf6n/w6mqtHwSsRAWnl3/IQ7qr4CD/pEKYsAsKJInS+xRmsu4OZ7POLAGE1AFVZwtuBy94aX184RiLPDWxxB6e+pgPgAKF7t6hLmFLDFexHEJhzEts3L5HoGGWAE+EOFteehC5hHgC7dz+Dux/eAAAOCjsdUnJA2GnC2rZtG27fcgc+1r065g62Q2HRQxQtAJeliRZbY6O7EOzcjbKRJZx1rL0FwgDwYv9zAID5LQsLfaa0T1DLtal1br7/9NWn4cdtP8TbtzQ7IOzk5OS0H2jTpk1oPeMhLDsdwnUjYTA8aFA4QAmicncALwmDOUAIASNiI0JFkRWixUnYYXAQAuAICGe5hL1wefeO14DKkSjjMCtcNvOF9bbat+4KzoO+D930a7ztvHlonFNOgF4vJztYtdOgs4p+CEEw4wkoTJgAwaEzmPhhYTmigWB9uuavgca3fglrLnHREU5OTk77o9avX487njkW0+sZMA7AcO5GUJjFoHBahEQcCouCcVYwzFLiInwkobABd5kPPPcqVFpivnvYhMI5WcHhMFzPDn4GWLMY2UDY5hiWx7TFRFAuncGEyTApItzAXHxu7hFxLyQnzmSbA5wSeDQQTuIgAsU8ABAQNJ3g4cz378Q3rnIF5pwOLTkg7DQhDQ0N4efbH8Cp55+IsoTBWSnAtbiEs+GwCUmBWoFw0/JFcskvsHWkOIgu7gq2ZQen7XdvPmtt8Jdr/Xe6A5qA4y3nNWHg6UexffsyB4WdnJyc3kT19vZiwaztWHI8BAyWEDgcVEkwTClASKB3GgDh4CEM1hzDlIBx8bparwBtPGdYxEpQzfmrA2HdJRwYywE8nHfFWySSHZf7KaWCYdMtHAFhpuX2Zk0+dr/4Guh4I+pk3ESaSzgLFCccwTIf2MwFTofCkTPYQ5CIiYDhEgYDLvuki45wcnJy2h/V2dmJj6yZhmklhpLK85VF4mCDwqrInHIEs3hkRNgOko7hRKyErXBc2mQA32kcuOZM5GcJm+tNIFzEBQzAHweef00Osc1t04CwdlzCAWjuYMoYuKyRoGodMK4BXx0Aa30rZ0S8jxB4QQDuaTBYTtyL2sfOp3hry2suOsLpkJIDwk4T0rZt23DHltvwJ90fBXLcwYA+NiU1weC8yIX8YmvYiyRhuxQ0rTWb+OQVJ8ilao3nl3ekJNwtkhds7jfNJbx09WL8sO3HaN7ydgeEnfZOrqick9OkaNOmTWhd/BCWvRVhdrDuDtbBMKGARwPxd59zBMQDS8Bg4QwW7mHhGCaUh4XoQtcwEVnCvgGA9YgIMybCjIxI5gmzWGKvDohNt7DuEE4DwCVj3flfPMWaHVwECOttVSBOwV4zF9gGhfV1HgnCAnMkBQLHXMJ/CTSe5VzCTnup/aConJPTwar169fjrmdmY3o9AxnnMVcu0QCxDoVJTpG5sM10IMxE7IQWJ1EYBgfaALOoGzhrvbrPCFA4HmKWB1ypnmKyvUf1eR6SAFqPjaBRXjAAMM7BVZE4T8JcAwCHEREewEoUlHAQ3RnsRdcphMPy8x1/goeW97/iXMJOE+sfXVE5p0NFQ0ND+O/t9+H085tQh2pqhm9am9cQHVFL4TY7HE6Hqr/dugNjo+NoWr6w0Of2IAbY/iT990mH2ennvLeREEUK1yWdyhynnnccfvH0I84l7LR3ckXlnJwmrN7eXiyYuR1LFiGWGxxzBxtwmFCIvD3Z2RCkweCo+BznJFxHtDgJRlSkRBQRoaZagPDDtzyL41uOxswFR1iLzgk4LABxIMvcRTnCOkIOEhC41gzhtHaYIcxZCHNpRrE4My+YMi3Wggfy8VdkguCYS/hjziXstJfaT4rKOTkdbOrs7MTH1tTjsFIQuoMTzuBYrIP4ETB0C1dZKhDWAbCAw/E2agHCDKmQdywAbngauOxEFIPC0O4v1HC1oEs4cx0rNhGPgerrPAKuZQ4zRsTrKv5BRUZozmYScHBKwmiIKCpCcwpr7WPnE7yt5VXnEnba+/7RFZVzOhQ0NDSEf7n5W3hu7uN41yWnoqg72GzX5hLWtwWS8Dm5DmH/w1M/CxvdBX/nHpQxnunEVYO7EnwQcFRRDh9eTdNz/b8FB7CwZX7m9cz2ACdfJUYi897MbdclrX3W6pPw8KYn8e0fdeJ/4jIHhZ2cnJz2oXp7e3HfbV/Gh856CMtUl2sBwGZ0RAIKCyos4iMsMFgvPscJCdcRKlzCOgQWU3KdreCcPr2xYxSozEAZDZkOYoJxMNAYEGYgIo83BfT+901PY+l5c3DknFLNUNi2Trl+wzzgFCgcguAQDkfZwyEMLgCCQ5fw5cD6676Eb/4zcPmfOSjs5OTk9Gaqs7MTjz7Zjr/6agMayhxk3I85gU1ncAwKBxYo7BtF5rIAMWO1xUVkAGHmA8+pKIeiQFg5d9UwOwXyjvrALS8Ca47P37YQDA5dwkxbT8A1AEw8AqYiI5gRGQHxwzcPJETWADDXCsqZ7ROOp/jIJb/Hj77zVQCuwJzTwS8HhJ32Stu2bUPPlm78z+4PwEvJDtZlwlq9XUtkBI9tX7ygW1ZUwinL58mlcet79UI2Kv+Xg6AeY+GwMQ0Ms5FRcAD1OCr1euifP+8zxD8PS/imi8PgPGyfPO6y1Sfi+21344wt73BA2MnJyWkfatOmTWg99iEsOwWZ2cFpYJhQCKBLuHjqk9CwoBy3wOCo+JzIHSaEg3Mi+h7CLWDYBooV4I1D4T++4njZd1atMLgO4zKtmIGDyMJ2HFQDw3rfrE+7XnwdZHwGyim5wTUB4jDmQatuzlkMCsdAsJYhrIrRpTqDbXDYWHfN54DGFV/Cms+66AgnJyenN1Pr16/Hfc/MxLQ6gMj4B+LzWDSECYGTgJiD+hEUTo2QYEZkBEe8YFwRIKwGmwbYnQbgGhU5lQeB9WUT6OrLcvKrwPOvI8oNTtsW8t6E50+EA5xCxEYEiBzCNgCs8oBL8v2UhxBYB76hU9hD+Jp6nfsEnBIcf7yHd73/JRcd4XRIyAFhp5o1ODiIvoEetKxqQgPGwr4i+ouf7sa1e12LzGH4kWjGPpMi2iOuQJE8YXEkT6tmbkJqAh66hYNwSzGpI5y+4li5v3Fj7/pnojFcnfUZomUWvosk8HL2PG2ftiPq6LoMH+9YuQCPDNyP5oFmNDc3u/8MTk5OTlOs7u5uNE0fQLMqJKcXY0mLjdABsZYpTCgHSBCBXSrBMJdgOAaDRcE5TrgozAICSmUvR8zICL13Fr5ez5IVnDUBiBWTUwm+6hj61gyi8J0YV0Zg+CNfPCElN9gPf75NFIqzFZTjQQSCLVCYcAZqyQtWReQoWG7xuEwwLKd1nwA6/nED1n2pHQ0NLhvHycnJaV9rw4YN+MzaetTXiT6YjEsY7AvAS3weAmKxXkJgHyA+BCDV2qTK4OUWlVNPpyBy6GZBYB/JgnJA7dnBae/JA7wqN/gtiDKMizqE86AwBTgRTzoRRsBMAGwWleMAIQANr4+EwiEQlm0Jf9WcEQIiz48TggULPZzZ+gq6urrQ1tbm/iM4HbRyQNipZg0ODuK+gZ/givb/AZIokKb+0scRcdSr6Nsh0c6OiUjHoHkiiczD+NEB4On+l7B7ZBynrVgAIh9JpdKhFG0VHVdH1ipXOPIFUetZxI+oP2xLc4Fw/ArzxGeKn116TESybUfFsGDqM1cuwA3d92Fg4N0OCDsV11RzDGeeczqI1d3djdbZj6F5EeJAOCcqIi1XmFJpWyXRQE8VlAOVYJjLRy0JAefxyR4dEU2i/ByTzl6WOt3T9RssaZ2D2U2Hhz+uij5U4FqxP0/WsYkD4TqMyx9qRX+VXnBOLw6n/3Sr4LAFBquoCM7jUwIK2wvLJWBwATdwKhD+OND4kb/F2v+1zgFhp2Ki+6DPLbvL7HToaMOGDbjv6Rlo8AQMhs/DuQKxIRSWzt5YUbnw77paDxCfCbdwWlE5xiNYavYNPrLhMDeG3RYIXAmAjmeAdccjHx6rYWGeS9hs572noEtY/aAtroO4RjEArBeV4wLq8oDFYXAAmSNMAB9glACUAr5YD1+OjbkY/RLKcdxxHs5c/go2XuWAsFON/eNU98EuQ9jpzZSAwf+Jd606DnWWiIW0+IM4UrV7iIvCYGaJjEjbF5CEwbpTWFcdxsEwhmmohEfJKmqn9q3PS/DBQfDLvpfBQXBq67zUz2qelY5fs5278XcUhcLm95GeJByttb1y1sr52Dpwr3MJOxWXA8JOTnulnp4eNNUPoHkh7Jl/alClg18bCDZgMaUchARh4bgoQ1iAYeLxCPHy5JQVHcE0GKycvALzxqMjyqiiHmOol3RJYVoFgeP3vjrEjUNfAo7/3Pgb/MHK2Zg9r5Tq/KXaEz9qfyVbbISKitAn9fl4OhSmkBC5qBvYbHP74H7dR5xL2KkGeXBA2MlpkqTcwQ0lhA5g4svlqnT9qrl8DQHCjGB9CuMjmILCHNRPOoQJ41Efb/YNeTA4CIeK0dwGeU2AnLW9Pni0gN0RH+j6LbB2EYoVlQPsQDjNNazd1xAGgIh+N4yMkHnCKAMgBNxjcSdwQGJuYEap+J7kj96EyPGyvOyEcqiHfY9b4FzCTnvRPzog7HQwaxQvIFi8DeesWgQi83QjcQ1BEgs8jXoom2s4WqM8sDYYTHMzd23Q1gaEiVHebknLTPnusdh+0uZZALYe42HOMLd8emZ5yJYnfLvpUNj8LMnPxFMxb/yqJ7eKQHD0SXWdvfIYPIwnMYJhAJMDhDdv3ozBwUEAwKpVq7B48WLrdl1dXRgeHgYAtLW1oampyf2ndHJyOmjV09OD5vJjaD4OcXdwkdgIL7tNPJErrAZmKkOYeNwKgYu6hBUEVn5cFSGh5wl7CPCBtjmyDxyLxUbEe3NujYzQHb/CMTwm4XJgdQsnYTBLzRC2uoNT3MK6O5hwLTeyloiIFHdwCIQ/DDR+enJdwu3t7dbltO0aGhqwbt069x/SycnpkNJr6MSlX2hAPQXIOIvHQii3sITBultYwdswSkLCXgWFaRDBZB0IhzBYh6K1uIP19wGpjt8GDqxTPzQD+RESWY5f/dyyHMLm+4o6hLl2f0OUW1hctzAyggOUcHAqATAVMJgFwgWs8oFBxfcTuoIlDAbnACcCECsgTIEFC0pY+akRDNx/C4C2Sfk3NTg4iM2bNwMAFi9ejFWrVlm3GxgYQHd3NwCgubkZK1eudP8hnaZEXnvWnaCTk/EH7O6BzThjFTMSc5k2wDJf48brPLat+b7o/YFWqTwOPtPfw63rvZgLKHIMleBbqozHUa1tHj8X+/zopsMwr6nB8viqeU144jp5iWsTWD+TWl+KzdVnM69NdDxiXbYNkNO/4+MWH44n+3eioXIM5s2bN6F/VzoMBoDHH38c8+bNw+zZs2Pb6TBYdZRNTU1obGx0/zn3d41cNbW7HwW6ftSItWvXumvtdFDB4Fd+8X20LnoB82YiP/+PIT8T0GgTHn8aRDmGC03gIATaT7iQ/Qq0fjS+TLU+loaFUXXxxDgSQArAjaZTz5yOIw5H2K+XLH28bVm9v6zew4Mo+sGcmGXiHJQpB1jGoD2tbQ700yYGPPBroOVd56BUmpiXw7zt7+vrQ2tra+Z2vu+jv78f55xzjvuPub+rOgi8cfOUHmJgOzD8kgMUTge3NmzYgNV/vg0NXiDAbVW4gsm4nKt1vu4elu0qRL5wVTqB5XZURUVIdzDxmdwvi6IlzB8Qa3EH61DY/MGRpywXec2E1Fq7gQAtR9hfS13W71fSxI1l7f6FhPcwPIy4EnURRH6wyB0WNyicQoYKy3WUJG4yVFBiWAaIyPcQYMaRFDNmebjrP0oTfjJWh8EA8Morr2DHjh047bTTUmEwAOzYsQMjIyOphimn/Ui7u4Hxx6b0EF23AK3vnTxjnHMIOxXS8PAwrt/8D8DirTgRx+aWQDM9Q7qSTmFufS0dyaYNIe1Kc9Lq0RGm+/eJ/lfxxoiP5hVzra/r+65lzlPPIruwnD32gVuBeXrwBCnkDCYFStxxEPwO/bixewTAX06og9y8eTPa2trCgcXKlSvR3Nyc6PS6urrQ3t4eDly7urrcf0wnJ6eDUj09Pej/93asOOZBNM+H3R1sZgmrRzBrcAnDk24bTzhwbZnBmS5hHo+OCLT8YJtTWOUL+2AIwltQjp927cDprbMwp2l6Ii4CQMzd6xUqUZftDNaXQ1DMC7qDZYQEeFQ9nuxNRETRYkEBsO6PgA23/S02/B9g3f+eWHTEVVddBc61uwFCrC5hfbtKpYKOjg73H9PJyemQUEdHB16p/AOI3wBCSeQKrprglwM2KBwYMRK6i9iHcBaHhehY9HSJDaAy1A6DgXSXsLFcCYCO3wLr5sP+47E+SK81SxhIdwkHqM0hrLmEVXwEp+L+gPki9iqWCUw5uE/EPQ4RrmBCePS4fXh9hTs4fE3un1MBmEEBFjyH7cN/h64uTCg6YnBwMAZ7u7u70dXVlXAJDwwMYHh4OBzrqraTU5a6urrQ2tpaMyh2QNipkIaHh/HAwI/xpfazQvcujL/vSPQ7JhSOkmvzoLAKLFBF3eLF5OwF6dKUHq3AY1m6OvQthW5iv6bIiMf7fg+A4/TWoyyvQwtiIFZEzXM+h9m2x2BwS05zGgwmlm+K53yvAAdFy8q5uK77ZxgY+MN9liXc1dWFvr4+AC4y4oCSyxB2cqpJPT09aBp9EC3LkA2D06IjaoyQCN02hIML27DI28uBwskcYRYrKqeDYKalCpPYkzGe5uz1jcCo9MgIDwFu3/gC/nDlTMyZ51me+AksT7gE6XnEtuxgYwodSToENt2+tUREZERFJKDw+4DGv/pbrP2rfVdgzkVGHIByReWcnCasjo4O9D5CML0UgI1TLSuYx8AvqgCNZQgbr2vREfECdKrvkMA4zanLkQ2D9dfU+5KDtux1el+Wto0tOzgAun4PrJ2HfBCcBodtzmPbVEIMBocFcbXcX+4DkPDehMIqKgJU3lNp+yYcYEZUBKdRm1COpgXAO8/dgeuu3ndZwgMDA2Ef7CIjDiC9SRnCyjjX1dXlgLDT5Gt4eBg/6fsBzl01P4SPqpBLESepDjx1ZUFhIJ4frMBwrTBY/J+xu4Lj4DSemntqywy5/8A4DokVXIUBfT34IBCPrerHgHaseMpvcSAcPzq0/duLy9nfleUMZrlnoL5PJpdbVs7FLwbuwcCbUGBOBfw7KHwAyAFhJ6fC6unpQeOr/Wg5Vhu45AFF5RJWk15sLqWwXKytDf5UpF4MDtuAMCOglMUKzCn8GxWVUyA4CLEsDYExgy8zhc9vmyWxbFX2ZQyB0b/ZgHAZVZRRRV2OQ9gOhVkMBlMuivlYITCLCgFZIx1qcQfbvs+0OAk/vn5dK9Bx7Qas+/K+LTBXqVSwYcMGB4UPBLmick5OE1JHRwc+efEeHFGqouwzBL4H5lPhNtXBb1VBYbWM0B0cuYG5BoN1SMyTMNhWZDQLCJvrTbAKFHIJNwBYdzTS84SjQW8yO1j1gbW6g9VyEXewDg70+xUdK/jyaScJgwUUBuCTCBarAnKxa83BOY3cwarGgoTBlDJQyuB5AU5YwPCu5S++KQXmBgYGAMBB4QNBZeTHoUxUNMlEJuIgd0DYKVcCCN+MDe1nA3Igpdw68YiCpHhK2RnE+oc4FDYL0ykYbCtFlxcfYXfPxiGu/p743LYlEjET+rkvbW2Ur/ixbdOOxQ2kyzMCH+L7i64DsTp8TR+z/XOQFHdw2nfJNFsZAccfrJyDf+y+BwMD79knQLitrS2MjGhtbd2rxyKcnJyc9mf19PSg6fcPouWtAMbloKWE9Arc5iOVOgwu4hLm6TevRHY0xONh7xz2FjSKjqAh9jVdwUEsMT8Ii8xFkw8vLDanT4HcXwAv1SH8sUtnySd6qqmxEWb9ARMMJ9zBCv4yVRUe+Tm/pkMrzx3MUcwd7MePu+5coPGqv8XaL+wbl7ByJ42MjKCpqckBYScnp4NeHR0duO2uPZhWosC4D88PEPgeAt8TblNLdITNJSza0IrLIeYQJhISp+b++kiPjLBB4ryCcnnLQDpQtkRDNAJYOxv5QDgLDmcVltOlfvg2YZj6AVu5gol0BRMZFaFiI9TNjHIbx9zBcRis3MEeDUA9Bo8GIB7HogXAu859Edd+dd8A4ebm5rAP7urqQnd3twPCTpmMRD1FXascEHbK1PDwMHr6bsb72+ahhGqISYlRkMzm3TXBblEobHtYVO3JHKragG0aEDbfQRJ9YBIKb+8fxRsjPs5aMct6DjYgnZ4jrPe1yWNlAWFza9s52K5w7TA42huM81X+YWEuY+E73r3yKGwbuBuDgy0u7N7JyclpAurp6UHjS/1omYsIBqupBHu2YFqWsOkYTouMyCruoh2HyGOEcFhzDiuXsAqFMF3BqidW7uAkFGagKOGOrlfQ3DoTc5umxV4nRuHU7CkqHqu/n1rAsIeoiFzoBDYhsA3SphR+s0LhrOI+NcBg+ACqwLqWN8cl7OTk5HSwS7mDZx4e5QaLQnAsBMO8SqzRETFIrLmESTXKDk7kCKc5hNU25o+HPvKBMLBXYLjCgY6dwLojYYeyBMVyhG3LaetMIGweT50f1T6f4RJW493UqAg1DuccnJHYdeYwoyKEK5hQDs8LROE/T+7LAxYuoG+aS9jJKU0T/bfogLBTpirYATT9DB9oOwYIs/2igAVzgGUfT9YGhdV7WDiKzcu1JVbIql5JQmCeCnZNwCseR/VRh/HYPvVtt/aNggNY2joz8dntyDruQDYdw7b32s/OhNlEficsxdMcvyZF3cFiKO2F7+WhY1sc99yVs/BzDGA3ngPggLCTk5PT3qqnpwdNv5PZ0kQ/hgAAIABJREFUwWNIAsYS7I7hrCxhs9icHhnhoRAMRiC3lccNM4clHCZUwmASR67cQLIegkxHcBnjqMM46kK060mIHDmEb934Et67cjqOnkcTMNjMETaPkXALy5iIWBxE1mDbBmltsRHm95YW+5EHg6vJ46xbBjReu+9cwk5OTk6HisbQiUuvqGDmNAKMRxEPJhRmenyEAsFVliguF3MNq0JzgcwiNkFuWnQQ115PixjSf3yMDxCLgWE9r9hHKqAdYUDXLmDtkdoAfm9AsFpn/iBt25YZ9zElRC5f/XNpOcHCFcw1pxkHGIm5g9V79IlSDurx0BUMCnBPxk54BAsXUKz61A70P7AJQJv7D+N0UMgBYadUDQ8P46d9/4YPts2RoxL199mErNxwCnPLuJJoecI0FQrrgNMLk2rtUFXft22OFI9seoxD0p17Rss0uVy1ngMHQRnjAAjK2jWK+2x5gXiK5FXIOt/0z58E6NkwmBm+5OR3RkBlP8xS4XXrykb89+b/wGFYWLNLeNWqVRgYGAjzkZqbm8N9bN68OWyrRyHU4xAuLuIAkssQdnLKVU9PDxpf7EfLbCTdwfrA0UM6FM7KErZFSKS5g/UBon5MHWwqOMwAUuKiIjfhoCQQ/TyJQLAZGaHnB+vTR9uOQAASZgnHfcYqN3gcZdShDqSQY9iEwIl8YJv71waDs5y7uku4SExEHgzOmda9Hej4+w1Y9ze1u4S/8pWvhI+hqrZSe3t7+Jq5nYuLOEDkiso5Oe2VOjo68MlP78GMaQRkPOnqJQEXYDhgYD4F86lwBmvREWQ8xSWcgMIQOcI2V7Den5hPBNn6JL0gXFaGcA4QbgCwboZlX2pASYzz1NfvrUvYXA60ZV+7XzEBMtcoloyQIERzCBMeu58hHOBmn6wfV+YGU8pAPRYCYE6J+OHbk/v1OBYuoKDnvojNmzdj1apVNf0bW7x4cSwKQo2DAWBwcBADAwNYtWoVmpubMTw8HNvOxUUcGOq+Axh4RH23wGQ8PL15MzA4qDG65yb3nB0QdrJqeHgY/6/rGpSb7kQZc2JwU4eLJmSMwHD0VzgvOsKEi2YEQrSMFCBqno3e86BA0ITdT5tW9M50CJ/dephcMx7bV5oDOs3vay+Xl+4Ojo/bk6DWTA/OdgabCBvh8Fl9r2kAWx1lBD3o2vwG2latqwkKr1q1Cps3b8ag/Eu3atUq6/vb2tpioemuoNwBJAeEnZwy1dPTg/7r27GCPYiW+Ug+KmpzCedBYRsM1tfb3MHmgFINxnQ3ccq5EK0QC6cBOGHwiOhLOFEF5ajhCk4LfVDO4KRDePWlM7St8oGwFQLbnLppMFgffJuD9gB2l3Dad5cXFZEFgjUYva4Z2HDn32IDgPb/s6Gmf2s69FXtvO0aGhocED5Q5CHK2pwqOSDsdJCpo6MDvxu5BtyvxEFwgETUg3ILc59oxebihebiLmEJiwNjXd7ff45sKGz2Teb2Zp8OZLuD09ar4SEBGgmw9nAInxTB3sVImFNgacO4Z9EdwuY9SkkCX8h7EGJ8DpbvDqaeKB5HPPE96wBYxUUoSAzKwYLnsG3w68Bm1ASFFy9eHI579bYpVZenu7s7bDsgfICorI17GyZpDGzuh07uKRPOOXff3IGpHTt2YOPGjQCAefPm4dJLL83cfnh4GH19fYVyRvr6+vCF9vPx//pOtoBgs20HwzY3bVEobHMh5/xTLgCEiTHqte/BtvyL/j14fSTAOSumJz5TLcvIOJc8IJwlngjESF7LolERSe9wNgjW23+18mn8RVuX67ScMv69T76Gh4HW1kUTqrDq5FSkX9SfUFAFLtPU09ODxsZGtLS05O577dq1aOq/DmtP14COPpW0uW0yt6fIhsFqKmXsmxr783LOzZZZTEQmHycEnIh+JSD5GPcHXXtwZut0HNNUL4vKMRkJUTRHOF4oLgGB0wbXee5gljJwNx/xzYLCaUA4r2CdZfvG7wMjY+423klXN4ALpvQIXV1AX9/F6OrqcpfbaZ9p48aN2LFjBwDg0ksvxbx58zK37+joQFtbGxobG3P33dTUhNvu3omFx1DhDh7jIGOIlscBMsYBORfrAYwBbJyCj5NwPRnXoiNsLuEQHiP5Y6QJhHXwqUdHmO+xAeG8Cfb1FQ507AbWTUPSIZwFd1FgHbVsY97jeNH9Q+I9NP2ehct1vEzAS0Q4fMtEvibXqamOgNeLOanjoPUMqANQj/A11EFuA6CexJfrCO74SRX//t33hdDWyUmoDcCNU3qE1lagvf1niXFIa2sr2tvbc8cnppxD+ACVDoP1dhoUVo8dDA8P5wLh4eFh3Nl3Ey5om4ESk7nBREOtJA25ckvROZ4AjXlA2AaDi+AkGxC2wWBubJ8VzaCWxSOqAcqoC/f0YN8ecOgOYTsI1iMsOJCSh5y8pnnOYPPdaVC4FiCsg2DhCgbM533Cz8q1M+Ri/serjsCWgVuxePFiV2DO6U3VyMgIOjo6AACNjY1Yu3Zt7vZdXV252zkdmtJhsGqrmy+benp60N7ejlWrVuUC4Z6eHjQ+24+WIyFcN6zAwC3LNWyLjjBhsBqE2Yq5qLZn7C8lTzj1eAHkY5jKOSwiJUSsBINHglRnsMgSLqOsOYp/1DWKc1pLWNSUHRVBeQCPS1ewzT2VBWhtBeJqiY0wi8hlZQf7xv6qyC8aZKxbd2rS8evktD+ov78fPT09AICWlhasWLEid/uRkZHc7ZwOTekwWLWzoHBHRwfa29uxcuXKXCDc0dGB1RfvRuN0LR4izPpFCHcjp7C2HHCUpFuY+yTavprnEkb+j4A2h7AtT9jsb2zb2yZmubewZQkDqADYOA6snaYNCYtAYhPocss6IDs32NyPuucxzjl0CXOubZPuDiaUy0nCZA/SDSy+H+ES5iAeAZduYVACLt3Cp5xEcdoZQ3sVHeHkNBXa26enHRA+QLVjxw50d3eHuasDAwNoa2uzAuHh4eGafsUfHh7GXX034cafLQRjfqyCeDgnGrQlSdRKLCBSR7xmljDTvO9Fi53ZwagdXiZgZk60gr6egOPMFvHzI9GKy0XZweOxY5uZviYstntu7ZC91s+e5rjW853jsJ5rqcMkGwRz7Tiysny4DBHe/8GPT8cVH/kRljVf4ICw05smHQbr7TTYOzIygvb2dnR3dzsg7GSVAsAKvLW3t6Ovr88KhHt6etDf31943z09PWgafhAtixF3BemDPCAbCOtQWKu+nQqDbcVcbINFHQRTy7oSkgXt9EgK/Ryk40fl9IGI+wcKAYj1zOBPttUjAEeAcekQ5qjDOMrgqANkFETkGKZcFohTjmAbgM2Kb9CjIGwQ2FyXFRth+/6y4HMaALat9+PnsW4xQK66ygFhp/1KOgxWbQCpsLe/vx/t7e1YvHixA8JOVm3cuBFdXV3ho/TqEXobEO7o6MDIyEjhfXd0dOCOu97AkYdTsLH43+ZYbISW/6uDY/gcVLZDKJyRJRz+DbcUDbXmBxeJjuBIdwnX6B5u4MC6OsSAMIDoh8ssd7DNAWyDwPo6juzcYHOfGZ9DZQWr+4BEdjCP7kOieAiA+CQsHgePgNMkABZxEQBkLMUpJwKnve0pbP6eA8JO+4eKpADY5IDwQS4Fg5uamkIbed72d/V9Hx9rOwxl7iPgFIxTgGv4liThMIDEXAesJMUprNf95tKtGy9Ox2N9TT4UtWHVZMauuZ0NApsF4cx3ndNakltUtWOQRKavPk+7LiQzNqLY5zY91Uy7pvp1tRX/s2Y5KwewNo9BYK59CiJAMiUMH/7ENDw08EPnEnYKVZnikN8x44cT5fZVERLDw8NobW21wl4THjs5TUQKBq9YsaLQgLSnpweNT/ejZWYKTNQHcqWMgZDp5NVjHIgxV52NxWET61SyQLBZZE66gVOL13lyUKZBY+EaZqBEjOKUc1iUnvNAjaJzq9vqjGxg3QnMtXMm4YCQM1m8Jw0KmwV98qIi0oBukYG87b1ZwNdPmRsw4CunOJewU6QAFNUp7nOrYcinXcrtq/rWjo4O9PT0WGGvCY+dnCYiBYPXrl1byAzV0dGBT128C0cezkB9AFUR/wCfR8BWA7d6lnACEAcA9Tm4ej3hEhZ/s4n+o2IaFE4DwbZ7hCBne4biURK2DGIADQRY68lzIxkTQ9IdrPr+LDCshp+23GCbQzgjBoNwYWIK7wsMd3DMFUwRA8CcmnnBiMdmETGyJoSDegyLT+J42xlPOpewk9Y/lhFMcR/MNIPiZMgB4YNYOgxua2uLPe6afiP5G8xpugUfvfgIBKwqHtaUUJhww39K7HBYB8N6zIRejM2EwUz2FLRAxm2+0t3AcfBJkJaFbM716ZF+H6+NMLxnRV1ifzYYbHqQYX1Humu4qGxXjsmjkLDGO0tkPCvAm1jmxA6BuXEcIqCzcmmt/EQ97vjBj+Hj4wAcEHYCKlNcVW4sfO6tNqkBa2NjI9ra2lwOmNOEpMPglpaWsGhI3nuahh5Ey4nGIJDC7v415zwDPpYsgyt90JUVF6FD37ToCGo5ju4GZsayh2SGsVHdW90rUMLhEY4AAW7q8nFOq4emJsADA+VB6Aa2OnBlmzMiBoTMAlL1QbQt0zcPBpugVh/UB0i6um1REUXgr5kRqfatva/9JOcSdtIHit6U97nVSRqMKhjc0tKCxsZGVwfAaULSYXCR3GDxJ/r/4s+uGMWMaQS8Iv6m8nEiMoGrPA6BrfCWJ2AxDbcXOcE6OLb+oGjuN0C+Q9iMjsh6MqWWbGFjuwoHOhiwztPuHUgNkw6Ds8BwEP4BSwfBJmRmKfcxLKoZEIJhBoBzECKAL6cERM4F8BXO4AQAlvcnnAoIDC7G1MTjoL4Awh/72K/x+OM3A3BA2EkA4fEp7oMZ/EndH3Vf28ErBYRVfrBaTvvFdHh4GPf0fRerLy6jxKvYMVzBj24cRYn7KHEfzwyO4Y4fvA4aMNCA4elfjePHN78hqq3K9m2bd4P6DF4Q4Ontol1iPkrMl6/vQRlVlODjmcEKfrz5DZTgo4wqfj2wB3d170IZVZRRxRMDe3Bn9xthe3Cggt7u3QXa4yhjHE8Yrz/Wvwf39exGKWzvxv090f5/0b8H9/e8ob2+B/f37EYJPkrwMdBfwb09e+S8ggf7xKRef7BvN7b07Qn391Dfbmzpi463pW83tvS9gbLcfot8XWyvv1+c/309e/BYfyXcX177/p7deKx/j9Z+A9v6o/3f17MbA/3R9f9p9x78aut4+P38tHsPfvXoGLwgAPUZeuXrNBDVdO/sfgO/2joWfv93/ccuDD5WQYn7KPMq7vjB63h2UOz/o58o4dGBf8fg4KD7j+i0X0qHwS4mwmkygbDKD1bLafERPT09aHyyHy2yYnfPi0D/y9GAsOcFoP93crA4DnQ/BQzsEMsYB7oHgYEXtPbjwMDzsl0FurcCA8/K91eB7keAgWe01x8CBn8TDUg33wsMattvvhsYfCYarG7+KTA4pL3+n8DgU9HxN98GDP462l/XZlHwUb3/xu8Dw89Er3/3RoZnn47a3//XAM8OQTqoOP7tXyt44ZkqftC1Gy8+U8XNXRX85mkfkIPr6zf6+N0LPDyfb3+bRW0f+JcbOH73YnT8jTcCO34bHW/jTbItr8fGm4GRV6PP1/FvwMiI1r5FtuX7O24zXu8BRl6LrkfHnbItX9/QC1R2a+17gcqe6Pgb/stoPwJUKrLtAxu2AZVx7f2DQEU+3vyV4+GAsNMBJR0Gu5gIp8kEwio/WC2nPa3T0dGBiz89glmHM3g+wzc3+nj992IMRMcZ/vE74xjbFUHhf7i5irHdPATF194RYGxPBIT/7l6GsUq0/d89wkW7KqIlNjwe/c1GFWgfjP6eowq0D0d//+ED7S9qr/tA+444PG5/GbEfK9tfjYBzxQc2vB7B54oPbNitvR4AGypGezwCrRUGbPDlerm/Du1HzJEA6BjX2j7QUTHae7R2FejYFZ3PiA90vBad/45xYOPO6LPtqAAbX4mu1Y49wMaXtPZuYKN2fXa8AWx8Oro+O3YBG38NUbivCjz7Ksd3fxU5tZ/9PceNj0Tf3XO/4/je/Sz87p57keP7P/XD7Z97luGmW6ug42JM/PwzAX74Ix+ez3DqyRxnnPFEIROAk9P+KOcQPoilnMFF4fENXVfjmKZ/QwkNoJyhzDnKXMBaxj2UuA/Kopw+BQppIFw91DfaQbLtsQAep6CEoQyGEhhK8leOOgkuyzLmoAwfJR6gxMTvFiUWoMRYgbawQJV4gDI4SjIttwTRLksfsgClDCUQ+fSsaMeOD4Zy+J/Fh8c5lp1NcMopFB4PAAKUpde2DF/OEe5ftMX5lGW0REnuv4SqnCM8HsBRkhXRPebDYwQlaX7Ma5e4uHbq+OJ6Uu34vrweImPRYwFoANBAuH7Fd0VAAxa15ffHOQlBMGVMRERwJr4fLgr8lHkVJe6hzEV8hI9bsGmzj9WrrnTREU77LRBeu3ZtOHDIyxp2csrSihUrCruSenp60H9dO1bseFAUkzPdQuqRUvWIJovAcPi6BgfDtv56VXsP0V4fl3d/+uOwPD7QjL3f3J/tdc/SNmMU9M9HteUqwCnAq2KCj7AoHWEcF326hEULgd88rVxXRGTaV0nyfPyMtm98Hj/l85UR5TtWEbmx9bb+OjU+GzG+D1W8b1z7LgKtDW1/elvfXncXA3GHGYD2hUD7DVehHQ4MO705YBdATXBXf19/f38YM5EWLeHklKe1a9cWzg4WoLgdJHhNjIN8AuoD1CegsrgYGQPImIgXUFBXPclD/Aj0EmY4iGX/QtRk/s3mRv/jW/ors7CbrV3V2nofoT9FYj4dY+4PRlt7eohzoB7AX0NGPikR7X36k0fqeGabaf2eOgaQLMSqPg8xrpetzYz7F72PRvz+g/Dou9Dvq1RbZQlDRntwGhUHRFU+KTzGQcYB6jMQX2MeEiCT4FcYHGzH5s1w0RFOB5wI55y7y3DgSRWRM4vKqbZNfX19YSEc22t/0/4/8J8/myYiAZiMimAUjHsItDa4/OPIjfiInBgJAh6FuFOAkyjnFtCiGbgsdKY6JEai3J9CV4eHj3hAvZWYib0kzNdVa/R5uGxkKIGTsFMkFKKX0U+MxPdiyxK2BVhAfubw87Jin5ZrnbP6vER+Zk5IongeRfSYLQ8IOEuJg+D2wnEqIoKDAAQi75GK7GCPBuEyIQyEcnzyggo+23YLVq5c6f7THsJa1y4enalvAP5y3cQfo6lUODo2jIXt10Y4ftJ9TCIzOK2tA2G93dXVhfb2dgeEnRLSi8nZ5mmD06amJuu/p7Vr16Kp+zqsnS8HJyrz1zbp8QqesX3enCKeGwzZLsmprC2rtn5cfZ62nLVOm3MqHs/kVPYjcplRAk5o7DXIbUFFth+4egRU5AWHBWMYA9XWEduyGfmQN59IhnA1Dmpjg22OYtEQZl5wWhEhS+4w6Qfcbf2hrV8O3obvbf44AODkxRQfXVU34X1uGwhwR3c11p7TeBG6urqsQLijowPDw8OxDGG9bQJh1VYFXh0QdjLV3NycKCqnt21qampCX18fmpqa7K/d/Sya5gOoALwCsDEKXiFgFTnfQ8HHSBQHURXF4jAui8aNyeUxLtaPGevHRWREIp++mtJn6PFAWdnBRfOCa8wQDsfdlq4rUUOORPPUyRb7YBafzYqHyFrW74VKKfc0xja8DPA6AtSLOa8nQJ2xXE/ENnI9ygAviTmp56ANDKTBnAOoB7r/E+j67odd/Nwhrt34PMaxaUqP8cHWXfha+13WwtZ7I+cQPkA1b948rFy5MjYYvfTSS0P40dfXV5M7+Gd9N+LTbRQeZxh+Brivr4qLPlUWOb+cgYIi4B4Yp+CyyFwCCiMHBhO5PRH5gJwgUfiMSHesgNIyz5bLzB75Wi4mJXI7eSx9MGwrnpaAwlpPyMPeUDqS1BzA/X0BCAHOXU7lz48CxqpdcxKHwjoojuUja525+tyi4ya5MJgQAX5BuDgFIqG7/BA6FI6AsPillzEqrnEeFDbygjkXH5TIInIeDwQYVlXete/645+g2Dpwsyswd4hL5RlyTE6ecAUcFe3/8N5kCDc2Nsb+fg4PD6O7u9vBYCerWltbwx9V9XUAwh9Zi96Y9fT0oPGX/WhpEIO/nleBxnqgpTFloKbn8eqDu1LO3IM9P9hDsmiMkb+XmiFMUazYnG1uDAS5/GFYrRdF5uScEwE2w74XuOl7Ps59F8WiBfK+QMsJtBbhU8tFIXAaELbNfdirxOtt26h6b/KCbTnHvr39lbmuwNyhLj1DuAKKCiYOhCsIUIEXtvUM4ZaWFrS0tNS8T/N9Cho7GOxk06WXXoru7u4Qtq1cuRLz5s0L/+20tbUVfkKno6MDbRePoFHGNXV8C2hbCcysY+BVAYC5L+dVIovMIYyK0P/W6+uIb1+OAV9b7rwtVz4N/BYpNMcz5jkQOI0bjwP4DoA/U7cTPJqnwmE9D1hRZW7cP1BjO9uyDQjznAGy7d6GRHnAejYwjIJyYeFbzkUtgkDyC8pBS9IhXGUgJQn85XsWnwQ0nzHoCswd4qqiPOU5/gy7J3V/DggfwED48ssvx0033QQAmDNnDi666CLxpZZKOPzwwxPvOemkk3DFFVdYgXBf3424854SOA9Q7wEzp3MB+riIC2CcgvIATELhsMicCYazYDCVQJJJYEkAjwSxP9ohdGUakGQKCiPmpE3lwVQOFCmXA8vIPasm3TVr6zwEiJZzBtx/P8fOncD5H/RCYHxYiYkOw0cInkkIhnl8AG7A4RgI1lzBIQSXy+kfUvarhETHpBp0p6pquwECtOMRxsECGl3rLGcw0eaERJXfuawIz8V3e+O/+jhrGcHpp4vPuOoTwMc+cjOWNn/CAeFDWGvbG7WB5SSoAVjbPi1sPj/s4x7tB/lZs2bhiiuuCOFuqVTClVdeCQDYuXMnvvGNb4RtJ6eiQLihoSHMA9ZhRkOD/cbvggsuwIwZM6xAuOnxB9EyRwwKpwVAvYKLNrjJjcETKQhgPdhdOyVkF5QpZwzaaA4ctoFiHWjHCskBUNW+KdNcwUDnvwZ433s9nHAiFdtx4IgGEeFEw0dgeQiERdEYbofCefC3ltfVlAWC9dgPGxDOgsEB4o/QphW9k9uvHwaumR+122e7AnOHuk5cXJ70PvfkZmCtZsS8pWsXHu9L33758uUYHR0N++AZM2bgggsuAADce++92LlzZ9h2cioKhG+66Sa8/PLLAICLLroIc+bMCf99UZosi3TllVdi1qxZViDcd+draJwOYAyY0QDx6D8B4HN41QCsSoEqB69SsDEiIorSQG8qIEbyaRIdCJt9gL7MJwCFeTYM1iGwbdoN4BoAXzG6rmmIEhtiEzfmaYXlijiAbQXkbNvwFBCsT6X4doSIH6JjANgsiEvlGF0+SUsCDtQJIxv1BASmHgM84PHHgS2/Bi75Ew0Iv+0JdH3PAWEHhKcaCE9uGTgHhA9gzZkzx+pmW7BgAS688MJC65966in09HwDV1wuADDnBAuPJTjuAgIu25wT6f6kYGCaU5jYoXCaU5hLPzDT1lEuIKlyx6pIhlgHxgEZG6FAKsl4JJIwCWd55DgmjEfuI6JFSUQ23hBGq3PRwfDMw8SvgNSP4ivOfjsR+5QZyWAGEJaREsQAw+ozcO1YMSDMtHNIkXAFa7CZGg5hHjmF9XMKndeMgAcECHgcvsecwTTmClZQWDmNlTuYEAYq3djHzGY4ogHweOSCvmQNR3//d3DiiSfi9NNPd/9xnaZcM2bMwOc+9znccMMNYXvNmjUhHF6wYEHiPbNmzXKQ2ClTaU64NHfc8uXLE+tuvfVWzHr4Xiyvi6Dh8sMQZfCmjdAU3DVdNllg2FYN3IO9KrfNJUwNmJvmBs6Cw1aHMNdgMImBYDU/ZhZwWEnk9KnB30f+mIZZjapqeOqc89pgcB4kNvfl50DhKuIOX5vTN80VZt4DpbmCA2Ah1Y4lt/mno0Qkif54vpPTvtTSpUtD+Kva6u+h7Ucy9fdSvc/JySZlfDKl7u+KrL/66qtxxed3YtaM6G/1mgshfjkZi4qQ0SoD8QmYD8An4OM0gr6+KmbKsyFx2tMcWT8I2uKC+MSXuRrnIvv3YDU/xujCPAAXWYAwTQPEJhwu6gY2AbC5jZoD9keG09apffgWAKzgsHzaNgaDmYhHJJ64HyFVDiJ/cD+sBBw9A1EtAQ84fTGw7Mxt+M53voNLLrnE/ad1OiDkMoQPYT311FO4/tvrcObSH+KjkhPrrtyEW5eR0B3MmIiQCKMZYlBYBUEYTmHKxeMVnpzTKM4h9ZihQ1jvtXgU3Wv+8yXRYFPsXwBZfVlAYQWEYXcFx4AtYpERWu6DBnz1fcddwjG3sHL2hk5dAEwD4QrWMuNYOgiWxw6hsNovjV9rdU56hIQaXLKAgvsCCvMg6QxmEvuazmCVG+xRGRMhs4IFAJfHIwaMBvDj24H/3vJBfHL11x0UPgQ1jKYp3f/zwz7+pLUUywh2ctrfdOutt2Lb31+NDz4zgKXTxOCB6FnBpZRlM0/YdMqk7cPmtNEz92z5wSXLPnSYWyRTOGWZe/FBGE+BwcLBQ8J5PCpDuILTQLDuGlYT8bH3jmAbDA6Q7Qw2i+nZnF1ZjwibDmcLCE6DCFy2rxsBhtv+wkHhQ1C70YuX8LkpPYZwCH8QXV1d7oI7HTC6+uqrcdi0a/G5z7yOGXUCACsQbJvzCsArJMoVlnnCopicKiQnDENhtrDKEx5HlB+cFRGRtpwW9VADCDadwAVihFO3zYXAyI4QTjiH89zBaU5harmXSVu23N/wMpK5wXVErC8TsY3MDEYpnhssJohKew1yqk/Oh14Abv7RCZg790sOCh+CegVfwC7cMqXHWNW6AxvaeyamKImZAAAgAElEQVQtQ5i6r+3Q1fPPP4/+//ohLvwgQGTHRXwOGgjnp8cZnh4KsPFfAhkNINaXuI8S91Hm1TBWgnIGyrR5YJn09WEHqh1XFYcJtGIwAQdhTMzlelVAhgZifewYPgONrZPb+Tyq9ip//SVVrQKsqhIaqxwa3weVr8W34+jtZbjzTu34clLbxY6hH1sdP+D28/bj10991qhQDteuC0tcN8rENSU+j44nr3f4fWR9V/p3ysV3X+ZVlHkVJe6L7x766yz69xBoxx0Hzn8fsH3bjzE0NOT+4zk5OR2SuvfeezHjlwNY6gFcDv64Hy2jCtz6e+DeEcSrj9syCE0wqLYf1+Zjcj6O9Edc06Ys56utOno1Z5++2d+m9Ll+1Nem9bn/+K0Av32exap9W/tbrc8tdI5Z16G6F9dNH+SPp0zqfVnfa9r3pi1z/d9SAPzFdOC6665z/+mcnJycpG644QZceMHrmDHN6C+16eobgJ2/18dqWh9VZSCV/8/e+8fbUZf3vu+ZtXZ+sSEQNyFo2IKJEmOiESJUGxHQxngqHNRcf4CtaaHW2pQ21p5ib0wxemlaLUhO6lVPwsFTpKgXs5vQNo1VSBsL0lO6U3p5xTb86BYt0twgggH2XjPf+8eaWes7zzzf78za2TsmO9/n9ZrXmrX2rJlZs9aeZ573fL6fJ2sa90IOfzMYbNtFjFl2EY7RHbQq5rU8UmMyrfaNwTTtWO2X7mPWmVy7ehD4wx7X07k/a7L96vXzJfj9mH3HWfwtstYRjXUbBUYZzO98ry+0fYILNX3V9UL2e1owCIvPfYSdO3eGf7oQx0UEy4gTNA4cOMCuv9jC2jVZ0djxzcGyIjDM6oMXn25oGFNQkcakHbVwrqjtKIVN3rysbB/R6RQu7v7lit3cA1cqhPO7nJHtJZy/1mkGZzpDaTvDRWPFy8ieLO/gqHSL1LDn7+HQIcM73lZWEOe+xHNOypSxLYqN5UotWa1tGm2bXXuLbmO5riq47RmcWT9k3sG5ardjEWEshXDn+HQ/Y77O9pAY09lWwUc4M1kyUdpRCLe337WKkDYhf/Y1WPoqw9JXFZvyQfdK4Or3wr1/H6wjTsR4jpmTuv7nO3QkRIhjM7Zv386c+/ZwUTMrhjLLW5l35qRwSq4KdUl3fA1abNuG3CIiX74hdsplHYF17pa2EQ3q+wcbMW+K85HtK5xZSGz5M1j1JsPCs4Vy2HRVwPNfZJged5W/kc83WCpwfSphnypYLl/VJb7lWb/BbxGR4vUNJoGP/QA+Pgdmpl1VsEkgStqXElEKN50UrCNOxEiIJz3njlpN5UKEOB6iYBXhAHmMwfxToZl2n0fZOT5upZhW1PYWtm6y5krh3EaioxyuCyldthFydEkdWwj8il/Zq05OzwF/DHzM8f68nD0dh5cw+qAkI8p+spI3kkyg7nwDd4f5OtLlVtZQLq+lTbuvTscmIrtGi+OuoIy8edwYHPgh7HoQ1r6bsgdxNjJq6SvhgtcF64gTMUbpm/QcnJYu6AMQDjGOePzxx7lv751s+s0iELY141EEZ50OZ70dTNZh09CForFJO0C40GTOGGKTFoAhkVX8OYaDRJ2Gb5YVROYFmIPh/PWON7ARnsKZT1FUZzyLDb+VzBgZmD0DopOzCwK5rSxBvX5ZN8FUbs/4t9fNvDbQzcGvaR8ka31R7h8cdZvn5Wb4EaLYF1cBUdrdVv7d5n7BeeO9fIo7JhJdGAxtdTMRnD4bTmq21cBqt/oULrsYtv3pXTz8hqsDED7B4gWmT3LyjQIQDnFMx549ezj7wbZVhEnadkEmLueBN85o20iYsTz/KQVgQwBhzVM4doBgI/IQnr81RAGmzWvwN3XAYhto2/tn5cAzT4OZjTbYROT5fD1XvR290ZucWg4gnNaAwj4w7FLutjwAIBVFvssiQmsiZ60vV1adld2ENgIId34zKfzmdIhvvjkA4RMsUhqTnnNboXwMcZzFLbfcwj3fyNTBz+swmFH45TfTtY6woHGUeQbHYylmNLJyQBcYdqBwHRhcZQOU1IDA3TTpKi3VtOKDxmeg34/OS88ZwLtrlLyy71tE2XqiU86a9jHLXRG9jefk2Ha7nq/pYxFZrMGkEVGf6dxQzY97FJuuKljYZ80A5p2c/XYcQDhXCd96284AhE+waNE36Tk4JZrQ9YWMfgLGgQMH2LVzC2vfn53MInEyswFmdpLtnG8jk53QTQcKGxORplmTuRwCm3ajsQLo9BkMxWJbWYbIYXAJ/uYqYQRM7SUpID6nkh1f+8psviWAbS/bkduASvOm8ucxnYZ0RXVwdkxyv14bBMtHhw9VZLD8kA1pFGWJvA2Hc8VxnLn4R6kpHjoDK1dk6xwVny8twoCrV8O9e4NKOESIECdObN++nTnf3sNFUQaDLYibq4SNUXKMyE2RfR63gaoGhnP/Xpnf6ooK7PXYzVwayvYlDHY1m8s/V0O8z7r+WP1mOo1fIgmO04pJqmu1catVQFgqjLXX6gxr1UBzVaHvUDcXgG82/erJZP0Aun/LldJ5Y94ohZumBZVwiBAhTuzwqoM9Q//llFscmjFT8BPuQOHWOGGwyzJCA8FUQ2BtcqUfOfgobxwH+uChuvw1FpcbtcrlXNuViGZ0sqmcUWr4Xmry/LorbQubTAJRM4K+tjo4ots4rtRHIYb5s2H1BXRVwwIG02wfxKWvDA3mQhwfEYDwCRgzGo+zfMGdrH6rlXA0KGydbA/8O+z5Dlz9ni6wjejCYQluI9Pt1FkoBCWMlUby1jYjizgW1k9XLRRpGa0XGKxYRzgn0IGwNb/rb9uPqy7GaxVRO4tDwfbCRF2rCttCwob2Kgz2dRPIv8/su48j07GLyL/nEgTWtiNfk4V6BJddAkR3Mat5NRCAcIgQIaZ+7Nmzh7OHh1k2rVuNmdhq+CIgsAH+/FmYMw3e1G8VL/ZNw7zwkEA4tR6lqhglj2ltheWNQ7sgkgpkCX5dj3LkiF1E9dLlRkyf/hJc+XPwkgF0dXCvQNilOtYaymnQ2acOtv/uG9Mr4K9xPNqK4Q4ITrujf0wCvxkHlXCIECFO7Jg//xZWX541knse3QteQOCN2+F3Lmrb8mhgmLG236x9/o+qFL+9QGEbCDM+COwCwomnxK0Ke9mngf8FXItfHQy98doOHDZWMzobDMuCtFdhVp4rGzkUBhLTFUpl1hASBKtqYPt50/ptZSrh96x+hIf+bScQgHCIYzdCU7kTLA4cOMDQnVtYvUoUTnkDGrsJjTXNiGDuKRQb1ozazdFMpxlZu6kZ1U1SxtAbrIjHaCxPtFkDNathTCmpVzV8GS0n/Y4XlDUEdM/fw/a/qpHYxWunntSeSt6CozX2w9WcZhS1KQ/Z8cBunKMdQ9lcyF6/8h1FCVnzPtEcTvm+br8T7v9H3A1zXrCOb1YYX3YJ3PM323jwwQfDP2SIECGmdGzfvp05e/ZwUZZrjTjvGmtKrcZgpxo4Oe2+looGdMZqHlMCk66Gby1H0emaqvLoaM1c5mu8lk1bvtK+8dzT8NoEXnwaTIvFZxs7wsn3+cbTkWdMufZxNQMSk/z+/8//hMNj4jchIDGJ1aiwBTfRVgmHCBEixIkWGzdu5IrLDnUbyWkNQ4VtBGMwvx9irWGrDYVFLVzKvZrHfA9TmrRHEeW2tgnVPWZ75c8pbe/gPxwnRDqD4v1M37657rUmVHy+vBldOo4PWXF9024KWPwuXXYiB34AW77pua5RXlvwUjh7sK0SDhHiWI2gED6B4sCBA2z93HUsf+md7ROVprixm9BYd9Tmvwjmv5GuxQTFv0eaElYO47Sj6s4excfIVvG6fPe08Syu9buavWVxykwraYB+C1WuH/iZXPTaEp+v7m1dHNuR/kmyeZ3r/dr6oXzr1lZzxZnCCMfy1vxAP/Q36f6eUH5X+W8q6n5Xc5t38We3AmtuCNYRJ0BMflO5GDgcDnSIYyq2b9/O8MaNvH14mNeQQTqTqYMt2wSjnKvf2JepVxQzv0IzlgTd7inGPzLEZ09hewPn1wP2dhS/PJpUK4S18anZNO8UmJFvp65COIGrfo5yEx4NkNdRBldVrloF66vOW47HRMnRlt2DTx38ksxrsQCBU2EXkXR/G2kKa4Gbbr6Z34KgFD4B4ug0lZsWDnSIYz42btzIrL7P0EyeKYp/XCDPAoC//Dq6PsKj+jKR6/yfes79FSQ37zGAqZ++fYNPZR9TWyFsx4vHcXz7gf9DKfG1sB2uXAN2K0t2kykZM1VvBG4lMOi2ifb1jcUpImtUrmuaYWDeDMrewQ1lymvjGGY1HuGH37+BbdsI1hEnQISmciGO6Xj88ce57+/uZNMv0QW7cqhi5pdbMG6X8NY1HynwUA5b9a2nCuT6nPJtuwjXvlVZR1j7+NqF2d9aVI+l0baJe921CnN7WZexvu/Y4HlE+S5sX6ZEfB7P+1e+rnP2KwJ7yyaicHMhe/2yFbDta3fx8BtDg7kTISa/qZwJBznEMRd79uzhzOFhFud1QQqx6Z5rTaNsG1HyErZek3+L8huD9tBFGwinFflSntNTR2HjGy6ZUgbIVZYR+fZs7+AVdDp4Fwosh6XCuHx+XUBYK+ZdlhEuSVMdP0gbXFP+XFGaveSxiPjgrPY6UntUj7HsIqz3pKa7u78GnBysI06ICE3lQoRoxy233MI9O57hlCalJnFededozXmfNZEPBAvLobwhqEmtawH890d9JZ/HjajgIWzDoPdRBLuRoxTU5rWSEiXl19B/VfoS2312jHVjXLVN1K575DWLrLc9QHj+SbB6iXWdosFg2zYiOxgL5sHiBY9w69dCg7kTIUJTuRDHbBw4cIBdf76FtatpD+N3KXoTBeRZyz74MNz/EFx9uTj7a+AzQu2I6oTKONZZFwjjyWQ9AuGeDJWU7e66tz2/6g3UB8K+7Wp+y75j49pvV4eAvGiPlMxdpTB2eRXbXk+2z2X2/Oq3w717QoO5ECFCTL3Yvn07s/bs4XVZ3dipFwzEdpWXQ+HMV1iC4B2H4SXT4HUzi+fhKBHnbxve5ufuBm6VcKrkfhcMdoHhxFEM5a/bQBglT9jK5ob1vljZvkFvAJfNf/pOuPKN8JLTqA+EfZNPGZzi9wmuUoalnSv60nrz3gAd2wefd7C1n5ElAUszqCB39ROEBnMhQoQ4MWLjxo2svfoQc2bR9kSoM8RfsYb42Ddhw/kwM6EaBldZCzrmUyvnG9NNlbIVSx0QDH4gnDrKZq1klmW6a1tPA18GPowu1JVlZVSxLQ0E2x6nkelOORSOcNSivlFGGs22N9jA7RfsgsE5LM4Fdn3ANFi6EC54TWgwF+LYjOAhfILE448/zn177mT1RejesnJIpfSdzaZZMcw9Cd3z1+UJ7PMs9AzXqdPx1Xunt9VD0h+FPffD9r+h7L/b6zQGp85oT967y73u86hjHb0cM5fPoe2j9QJub8hRuP0v4P59ym9AegbnCVdb7xhc9np46IG7ePjhh8M/aIgQIaZU7Nmzh77hYV7hOKUmaQb8svNyx0tY+AWfmsKstK0INZmnoOZ7Vzr/tqj0tvN65rrWXeUbPFq/8N6yAw58D933vsec++KTYZqhtw7yvWzjhRrLtKjtK1jIi1b/huiF9veaewOnCXz8UNc3WHoH2znctCBJoGWKH/UF2uK4NcDNN98c/jlDhAgx5eOWW25h9X95hlPyIf7P03YWO0wbEL9ALS/5wZkQy9ym2US4/PcrvPxNpgwuuCwa/6CUuszZd5/zOeCP8bshVW0rX2cMnE49l6Ve91ndf1OcjLH8hX2MweX37+qfMAoHDsKWf6pRy+fveyE7uM9lv7ksty+YD4tf9gg7d+4M/5whjrkICuETIA4cOMCu7VtYe0V2ssrDpyK1/V+tYagLTocFc7OTIYhxHOJ9QKWiXVPEupS8Pl9Bn3+wfNRuQQKn9AF50wHtNmhV2F7C52bzo479h3r2DlLFG/V4fFC+h6jm92Fv0/KBHpiV+QaPKr8ZexhwlcUGcPUquPfuoBIOESLE1Int27fT3LOHZVk90BSTqhbOVLBGnL9XNNu2ELmXcK6EiWRucNk8uIZM2nnepfiN8auEGzUnR96edxLMgK5NVWKtV6qFXQrhbF1X/SzdG5CpoyjstSGNTx0s1yW76ri6xvvUxtmxiYEk7voJzyfzDc6WNa3yvuVDjVP8/XT+G0ElHCJEiKkdGzduZO0vH2LOyeg3P+vA4Gz+115F2W7CBRK1rmot3KNLUuEXbCmFNbeiuh7C4BfG5oNU5lG2dzCOklnbTv63mcA7KLs3auuNeijNXWrjgh9xBoNNZFlqaRvXmIFWw8cUrDNnpDDPVv5q/RNaVk1sf9f5erNll54LF7w6qIRDHHsRgPAJEDPSx1k++862R58LCGsnR7tY9HnzSmiYKmd6cI87sR97BZ6+hnW+7Svrf+052d/GPJnWFR7Q7Nz/qmPhs43o5fhUHQvXtu1hM1YSXfkacZygOATY9iHGceyzuOxC4Nt3MSu5GghAeKrG5DeVCxHi2IlcHbwgqztblKGwDYbjfMi/BYU7RZU4n0dYTT+14Y3WZJoU/PbUYZSpYx3avHxMKyafjVEKq5dn6xqjaImUw2AbEEsgLJvWysmlBBqPHKmqEZ0cl+uwjsgVvZFre9Z3HMfQitrvuWa6pSCXjeRyiwj8IDh//X3Aa4OX8JSO0FQuxIke8wduYfVbn+GUadkForxBKEfIukZ4uEZ5+hqJ+uwjNCBs5fxU2EXINCR5pulhXqbIJvBud3oulbagu0KiPNdKzKomcnJeuiQWSsg8V6ZZ2Rll254IW1XhVTF/Oqw+Cx0I56A4opiE8/Xk11Bj7ccF8+E9b3+Eh0Z2AgEIT9UITeVCHHNx4MABdt2xhbWvp9hIToOAKM9zDxwBEh/8d7j/3+Dqt2YnOyjfenTd4vMBUFfTNPC3W0XJQpFyktf2K+oxs/rWKeZ3/WN7ftVyqg2gXMcfz367fIS1Rnuu/QU3RLY9HhPcQDvfTlrz+FtXD5cth21/uY3DjaASnqox+U3lknCQQxwTsX37dsyePSyl6B1ss0IVDOdq4azRiRFewl97HhY24Wcall+enSttCJyd/w2iGZ2mEpbNSiVYdqmEbXWMz5MPJb+JhnKFPGOrlW21sEH39hWV7qf/Cq58HbykH/ew3qrxqi3cjes8KuUSlbXtHHKFr0Jpo6R47CIDcQRRnL0svYPTrmLYbhxX19LyWoJKeCpHaCoX4kSOjRs3svaqQ5wykyIM1mz5FDs7Fwz+2D/BhpdlXsI+hbAH/sqbjSa7dM2BcAEOU32v1VWuutTCskx3lZ6gw90qGPxj4M+AD4n3VPkEa2V0auEF17VElEFhk73RRD0wYV8jeHlNJEHwmHUNhPhiYuvvY+I9MSw4Cw6PBZXwVI7QVC7EMRUHDhxg683XsXzmne2kFuMf++HLCCIzdLyEW0pR5lP7gv/2pqt5Wp0Wq72e6LNpz7/AoWfgHa+nNyhc41bnqdOy52M97r+pv/+lYySLflcWjpUrCA0IZ4+33wML58IFCykDYZfy2DcuiO4+zv3JXfzZF4BfvSFA4RAhQhyXsX37du7euJFXDw/zMrruBXZDa5ufSkDcMO0pMu0Gc8ZS974ogZPTDBRaFZYR1hCdNGWdawtQWLthKKGwTyUsbSBAv3GZKNca2bTlHli1BBaegRsISzBsPJWx9fzFJ8G03DrCpwZ22TvIx9RT0CeOnGuvI/OKzn0iJXiOWkULiChbVwxsSOB3p2feyJY6OEqLquCWZ/c1Adu7gK/efDO/BQEKhwgRYsrExo0bmRV9hmb6jL/PjE8xrKmFR2GwD+IW1UpgrYObI4+YtAuCyR5TU77/qSmF61hHaCX+c8Dnad8YrKNHMp6SDsrK4Ll0gbOhnj2EVuLG+OFubN0wJ1MId2wjqsK+RnHswIHnYNePYe1C9BFUsfjwEhaPUW5Il70+q/kIPxy5gW3bCFA4xDERAQhP4Xj88ce57+472bSR7pAG+wzbqxrWOuMveFHmJZyrh1MHUIzcENCp8I3R7ShcmU9TrGpg0jGd0kfbyHC0xvFwfT5HZvuZBXS9hKE+FNaUvVUmSy4FmLYO180B1+eLM+/gPsqWGlVKbG1e/A4uOx+2/eFdPPyWqwMQDhEixHEZe/bsIc2sImwY7Gp0LdXDOTAueAtn05uBvlYGDDMQbGIwGZyNMnuBDigWo18iy584kjcM5Y1Y20s4ETta1Z07oVKiM29m5h0sh2C6FDk+ICyg8FXnUYSydWwhXF4LSc1CX+bc7L25mjdXBxtL5WvbRuSgOMqWibL1vjTJBEixZRdhqYLrwF/tNQOsBi4J1hEhQoSYQnHLLbdwz9efKaqD6zYidzVcz72EB+nCYi0vuG4eahZElk1QRxlsPSb10p23nPQ9nuFI474SO6ooe6HtJXy5te66bX1c5amrvMx3sJF2QbDB8yY5Jcp8UtyBGSnME37CHbAr1+cCwBoQbrRVwosXPMKtX98ZgHCIYyICEJ6iceDAAXZ9bQtr30JRxSIhqysDgNvrNrIKtHxdaUX20NSoacXyGsD2QWEt87mSgTW9dtAq4qqyax0g7Mqaht6UzlW+xJrlRYrbNqIXOw4lQ69cYhXaGmyG+iZRcsiygasvgnt3hwZzIUKEOP5i165djO3ZwxIr1WoDaFyTzVw7QtzMWzjOh5Vmncgjyy/PZBuLLLWLkTcKG12FcN6AJfefLeVaW3GcivmU6oYsOPK19f7VS7L1jlJtHeEDwr7XfCDX1fBNqsZ8Teh8QDgREDgtAmGEBUTeEC5KuxMJfBBojWZewpRVwb30x2tZl4J5yv8VgnVEiBAhpkZs3LiRtVdbjeTqwGANCttg2PYXlo1B5eSS9KZ6LjGJu/Fb1XMXGE6VEliWxU3ao0SSilLUd983rldeqyWifC0WZSki5dvLl55nnvvG8l6uZRshFcKJtYFsfn4frB6gK3yLlfq5CgBLZXH+O2vA0lfABa8J1hEhjo0IQHiKxuOPP85937yTTR+jfaczFhmhrneu9lpkFYkxPPg43P8wXP0mD4SsUrEa5QQ7XiDsa1QX41cuV6mQfQroCmC765/bn3fVq3FDceh9XA3KsU09x7ZKfa0BZO3CxuBXALv2X37WbJ2XLYFtN9/FwyuDSniqxeQ3lUvDQQ7xU4377ruPF4aHyXuPNMXprpf+awVQbDUay0+7XzWwIIXlOfxNrVSpAWFx3u1YSMSOnGuf8xu4b+TK0D6ApjZuOrYpQbCjsam3Kraayn16L1z5ysxP2KXc0kCwSyGcUO1jbLr2EB3fYHteUQkn2fsjq1FOh2tnQ4gTehM+u5TB+e9oDHg78F+DSnjKRWgqF+JEjFtuuYV77nyGU2bQVgeP0TsYloBYwuDshPqxf4cNZ8BMF/RNK3JGWu+aoE6q00o+8NtB+NTFvlRva8CqYPCzwFeBa6h2E4Si1kzrFe+Cw6Vy2HRHUjknTSHsgvwt9JvmWrPdKiBsgeEFZ8Hilz3CrduDSniqRWgqF+KYiAMHDrDrK1tY+ya6MDg/IUUK0Oy1XakNCRswqwFzZ1kVR4p7fEkdhbB2F64OtIWegPCe78Khw/CO8x3rrtMArkodbO3/qdPQlcgp4wfCeI6tXK/mzeyC7dbxuv3bba/HC86heOfbMD5lsOxKYAHmq18P9+4KKuGpFpPfVG4sHOQQP7XYtWsXT+zaxSuy+jGvAZu4BbauAqyqMGwApwIzTaYYzQCwSTN2m6B7y9tgN85gsA/IugqkhlJlykrT4T285Z9g1cth4ekUh17GVANiU1EJK0D4xdNhWiK+FJdaWHpLjuEHwhXVubEmDQjbdhFJdhxzdfDvG/hvwDRlNzXRch1InH9N0v7yFwkq4akWoalciBMtNm7cyNpfPsScfuU8rk2j9AaHxQl1sAmxj+a6/IOzyW4G2isUrgLDrr7kLwBbaTd8Mz1OCARQZzLAALrK2C4fU6tE1eZ9MBgcsNkaWeXsKZSIFWbTgedg109g7ZniGiQHww2qgbCEwfbv0QLDS18BF7w6qISnWoSmciGOiZjx/OMsH72T1edZJzAJWzWoWdc6AuukmMKCOe1JtVyooxCW69XUwVoBWndf7fVadw1P6QOmi/2G3pq/QfV4mdxP+Gzc1hSpZ72uedexcV0Z2MODfQphe/0pDMyA/twfyVYH97KvoN+uFmOWLlsM/PNdzDp8NRCAcIgQIY79uO+++/jP73yHN1EeUSp7sNVVDOen2iZdnpu/fjHthipJrkbNPIVt2wg75xrTLZI64NEHYn1AOK2ZDxUgPG9a25evk0vqQOmYsrVRlUwqo55XnZvNu4BwnhelkkwqwjS1lwdG543hjNFtI2z/4CT7HiPrffOyVUnXijErbda1iEisQ6d9pLcCVwWVcIgQIY7jmD9wC6tXPtOu617A3USuV0DsuNv2ay/yJO0KhXAOg7W31IHCdVTCWmkIcDp+q4i6PdvrTDNoj0JJFdQA5UGoKPNVthGuMhQspbB2XZQU61x7mmEy7+AEXaTm8wrWVMECAttgeMF8eM/PP8JDj+8EAhAO8dOLAISnWHz/+99n6LYtrF2anXQ0QNcoFoslJRFUN5mLrGrXp+B1KVFdReVEAuFI2V/bO/gl2d/GHPteBZldmchnpAS9N5Wrow623+cCwjIDuxTCYt9XLsqWseVJdfyDoaxCt7eV6Mf4slfCtj/fxuFZQSUcIkSIYzt27drF93ft4lV07/VJx4UmXSic9jDFImU2xHxkd9nOlKZxVux0fPSkMjhSYLBPqWsqqk1XjkkoqWdWn5PNj+K2jYg91wEp9awjpAxWa/yTV5UJOgx2KYR7MXnErxI2aWYJkX22/Ptcg24P4eLTvgnlcE5WerAAACAASURBVEgR23sJKuEQIUIcn/HpT3+aq99xqG0VYcNgDQLXtY8YtXJAC39D0h4UwmnqhsC9QGHfQBlXam4AV1AfCLuiyjVRlqmxUgZKlbALCqOU8VX7UvjM+c1vbWWJ2GA2zW/A6lPQgXCMGwj7bCKkOthuMDcfDreCSjjETzcCEJ5CMTIywh+tX8vb+3a2x2m4YF0LdytPHxB2nZ2z9z7wPdj7MFz7JnSvXaivuI1xq2Bh/NC2l/XWWSeOYtij4h365/Z6r1haczt11cFQBu519hH8zfLsdafUuz3r+12lVNp8nHPwLr70Rz/hynWf4bzzzgv/3CFChDjmYmhoiKHrr2dw3z5eShEIyz5odm3gU/zkf2tRZLnSkjcFbjfw8hQuzBTCQFENI87dUQ6JXYoWrfiRG/XdxLRvujq6a3ckz6kooFzK4PEAYeELvOF/wzULYXAG5ZuacnlNIdyDOthWCUd5o5vcRiIpqoTTDOLbCmFNWNai6Gwh++Zpu2kv4wLB+fybgb0338yaH/2IW2+9NfxjhwgR4riIDRs2MPfkLUwzz3QbwcnJpQQexf+eKk/5FD78BHzmVJglbzhqDUTTakVwUuP6wFB5H7KUmqHs+Kc1j+u17FX6j5fKwR8BXwbWoquE8/BBYRcMdjkgFsr+pNtfofOiSyGcKDsoxWmuZnJyXiqDY/f87OmP8NQTn2Dz5p9w7bXXhn/sEEc9AhCeQnHo0CH2/s1OtqzNTkR1/V1jdJUvNTJD2s0AAzNgyVyrKrbfH4t1V63XpQ5mnPtpZZTd/woHfwJXnl+xviMFwvJ4Z3H2KZStI+qs17E+9bikPe6nrQ4Gtn4HFp0BK16mrNeMYz81UO2BwpeeDZtvu5uRkZEAhKdAHGbWpK7/uc5wiBAhjl4MDw/zn/v2cSFFgBuL+VKjOKvg0awk8tNnU5x6pUr4HGAg9xLOzruREcWPrQxGAGGpaHEB4Qb1FMKy+0y2jU374YqXwqI5Yh1VthF1gbA8wHYhn8DyU6A/zQr9VMlDLoVwC3djIN/2ky4Q7nwNtqdw1lSus9oUfjeF36ftYqWNOpbCZbvAb1FuHmfDZBcItucvAH79S18KQHgKRIvGpOfcUaaV3Odk7N69m9tvvx2AlStXcuWVV3qXycO1bIgQMnbs2MGtNz5F/3S6jeR8SuC6CmHZbNShEF4xDZougmstZ9LyudcFheuOJHItJ+N5YAvwWxSBMNRzL6xbSkrVb/7YAF6Je1CwLP2lZYTPVZGKkrgjAk6t5XIYbD3uT2DoGbjuNOvASMotr22qgLAGhcdQgfDgGbBw/ve4dfu3AhCeAvEC0yY9B4emciHUGBkZYesfb2BjbmJYZxg/6H6yUB+0WsXaYH97KgBhRIaoC0AnCwhHML8fTu0DtQ/VeEGwL0uKWHaGlZRSfjpAWK7LFNe7aA7MmymOUV01s3ysqQqWr137OvjLr21mcHAwQOHjPCa7I/lY6Hge4ijH0NAQDw8NdawiXDDYBYYb6LDYHqWoDayw339e9piYrt1AJ51bSpcotVJSbhnREDvi8xS2STSenCslPdkBWHZSuxEeoxRlz5pCeDwewvIgCv/Hy+dR9BKWn0MW/y4f4SogbC0XJd3vIxchFYBwavECA8s75zJ34zh716DIv30983yjmO359wJr1qwJUPg4D0M86Tm3RdO7hd27d/O3f/u3XHzxxQA88sgj3H777SXQ+9BDD/GDH/yg8PrChQvDlxiiMjZs2MA1V40weAb1msS18NtJuPyD5aN1gr1yFtWd4ZLq87LPjaiuQ5GroVwMnesU7X7okQyKleWu1kd8GnAReiM4bZtxDyWs77msixu2mXFCQR18agTLGhQVwlodn3sI270StNFQNgh2WEXIZc5bDAe+9wCbN28OUPg4j4TmpOdgrancpk2b2L9/PwDXXXcdixYtUt+rLReA8BSJ/tYhVj6/k8vPFScrepyPKgq+8q/e3+CszmtUFJYVJ/leM9fiF3WuaPV1mQn6UqpuX45XgTyRx8XhrbRiUByjXsE7ytUGvc1fehbw6N0MvDCSoY8QIUKEODZieHiYH+7bxzK6jFEC4Ngxb0NdWdDZqhoNCDcoq4XjvHlKrgJOirm04JSkKX+r7CPsnfaFpqRpwKoBut7B9gfTFMJHCoTzwn0Uv+VDkW7pIHgM9/heQ2WH+ch0VcIdKGw3k8t/Oylcjg53bRZh8wvpeGFbRST41cCu+fOB3wkq4RATEA899BDPPvssa9asAeCzn/0s999/v6r8Xbx4cWe5ECHqxvIlO1jxmqeYMx14Djf4Hetx0tTBrlziI7y5bzBuK3pt3gWE6zSldTWBu0Rs21WijSd8boMNR3kobR18SuE6pWbkWaYzmbZSWMJgUpjXhFXT0IGwtsIWbj9hB/Ctso0YPAPe/fPf48AT3wICEA7RW2zatIkZM2Z0bsJ+/vOf50Mf+lAJCruWi8MhPP5jZGSEz96wgcvPwa1y0eZdCbM1jsl6/wMjsPnvqFbdVK1vPPvharft6jKrHZPWBE1jjmOfTUMPwtC/9LjvE33sxiqOz9gRHJuxigu0qt9pCy6dD0O3bu7cyQoRIkSIn3YMDQ3xr0NDLKqRjnzz8tQ4SrlBuq9ezZ9/GfiOySBjNqUJmBZEY8Wp1jl9rMZ5veXPb6pHY52u7lV/r6MEG9X3Y8N+GPlxjfzmU5T1kPe1Y29y72DruxpP76MXssm2u0woC9t6nX8nBDgX4qjG7t27WbNmTck6IkQIV2zYsIFlrxxhzknjAL9161/fyVJMH/4xHFZuHNbpO1clMD7SqU7z0aOxnUPAn/SwvjoAvOqYlj6nwdv0T62/k5p17pH+9kZhcC6cOqutEg4RopfYtWsXy5YtY82aNaxZs4bh4WGeeOKJWsv98Ic/DArhqQCD/+j31rLyuZ1wCuVGcXXsIlx/H2cM9MGSOejqUnn7096m1vStqg2q9l5lHbsfgYOH4col1o5qTdNc20R57vILjhzHVmzn7P7seUssZ5Rj5frMrm0aZT32+CFNfRXB1n+CRS/KFMJHqpSuYQtR+fcUljx9N5//5G/xoY9/1jn8IUSIECGOFgz+yvXXc9q+fZyOWx3c67ymDo6U1CltI1JgEDiNzDoif1+mGjaROJVHWZOzbBljKHevs8z7IpELI9/53vrj5u/Dyjmw6GRl5+1zfAO3b7CtUPZ59trrbVkQWBR4y2dkXsLSLkrzZMgmYxWOxqcSznyDZbFZUnaZ4uZ+D/hd2sNqtSK25dk9WyVcpQCuqxR+DfBPX/oSayAohUNMeqxcuZJTTz0VcNtKhAghYfDcU7bQ33yq3g3CusC4jirYoRBeEbctCewcYUzv0NUwfk9hW1H7PPB52jpTbbdl2RtNwPdiFJxgRwNYJEp/5dJBDU0xHCvrwoM1OtdGWYNdUtjfgj8fg+tmKrWoi5nk1yS5V9gYujLYowZ2Wkg0YaD/e4w+8xm2bp3FNddcE/7hQxyVCED4OI9Dhw6x9xs72fIBiuZyUA8I+14bZwzOgsGTrKJLVi1y6Kb04Ykpu8lrQ0XtrKCZvFvZZv5MODUWhWAdIJw65g06gNZanjq2syy3rhhTsqPrtrG9765mPJHnaiGiPLTFagu7aDbMm05xTOqRXBn0An/la9k+XXoWbPzKX/PEE08EIHycxuQ3lRsNBznEUYncKmIxXf5YF/rGnnm7O7ccrSjTj7SNeA1dR4b89Wa+vCmeXmPFZFACY9VJKB9u6btBa/UiWDI98w1uOXK57S/fEHnM/nvdcbKOhnL2dPlp1jL2wXWN7Mk7wzu2b6xtqzDYlC0dpMDoNdkqxpTLIxebyF9Pxe/jSIFw/js4H/h4sI44buNoNZXLHRLrNI9zxeLFi1m8eDHQtpn4+te/HqBwCG/s2LGDWz/7VFsdbFtF1J00iFxFbitM2q9stvOEnROq0lWVL3Cv6lhZIr6qxnKyZJuIMA7EMB1Ygc5c67hE+qBwJNalPRZK8+zAzo7gNbmnMOX6s2CLmVC0z0qt13KbKheP6GF+8AxYeNb3GPrW3gCEj9M4lpvKXXfddQwNDXWu76644grOPffcAISP5+g0krvIgqp2A5TxQGCHp2ztzKHdprOBcKJUIPaJVlbHVTDYKJAzodSUbvHsbNnRin2UcHK8QJgetqMd39RRrcl1ap6PeK5CIusY2f6R2fpWzLOOU9X3Xed3MR4QbESijOC6N8DQ/9jEvHnzAhQ+DiM0lQsxFWJoaIgDQ0MstU6fdmrQQG8qrvddy0VWgSPTsVYgSihcx2swF6JEWncXz83gyGRgO6uuItdGmt33X3qyldu1fBBRViX7PIzrAGHpxeFSddmRv65YR6SZ/2Nq3FDYtV85iK9ygXob7sZwVW5SKfr99l7hcKpcUryb0GDueI0fPPBDvrr5LwE487wzufDaC4+83tg7wgNbH+g8P3TgEJcuvBSA+fPnd/wIj6Qh3OLFi9m9ezf/8A//EIBwCDU2bNjANe8fYXBu8VxdgLza/KjndaVZnPP8rp1Us8dU1IppxTl3olTBGuht0PYN9tkwTHa4FLppRSnpC/tSwH5NDjhOxbYk3oizgzAXWOkzLI4ogl/tJkGD4s3o8cLgZve3fN5i2P/YXrZu3Rqg8HEYP62mcnVieHiYs88+uzMyZ3h4mB/96EcBCB/P0VEH/wrFu1v5ia0lIGIvFhLGcRbtpVlZBA88CXt/ANe+Gr3bCaIStiBgCY4a8R5pg5AoBWWdbIUDbGpFbxUQjqjXTM6GDI+0H694mfKZtYotEp87Uj6zUY6z/Z02RJKLHMeVHo6hLPbla3VAcGR9/43utOrlsOlPg0o4RIgQP70YHh7mP7NGcj7/Oqn8raMQdgFhQ3HAjGYZkVop8GvAy4ELHamkc8pPHXlKPI8MNKIsjUSZSthWxGoqYVm95ef3BuWbosZRHPUChGVDOU3xZT3f8AO4ZgAG+yhT2gwymFYX6uZK39Ql47JybWQpgzV7Qmn74OILibKMZilRFwi7/oZyqGPgAuCjQSV8XMasgVmcffHZAMwenD0h6+yf199ZJ0DcjDsjEm2Vb6+xe/duDh48yJVXXtmZf9/73he+xBBq7Nixg1tvzNTBz+P2cx3tYb5XEqvkFpPbA6VwbQKbaCtiq6wiNLVwnV3wNZ4rgqniPmhuiJMRsoS3LyueBb4C/EpFqewLjeFGyrZcTfbsgxBn1lqRrEVtGBzV+D3YTeZ6gcENSneKB+fCvFMf5p69QSV8PMYDWx9gx94dAFx47YWced6ZR7zO72z+Dv/xwH90nh/cf3Bc69m1axfXX3995ybuxRdfHDyEj+cYGRlh640b2PgWum087bGkcggl1APDGmh1nV19ytHsPQMNWHKKSLp2dtK8eRLK1gcSBosTulrRRLD3CRh5Fq5cqGSqOkAYegPC41j/2TOy56Mig2rqXg3ay+JZG54rE13+PWQJaet+WHRaphDWjoELGMjfhgau66qEZaIU03UXwdC2oBIOESLE0Y+hoSEeHRpiGW0hh6susPlgL0A4P23a7glQBMJaIdgQ25oPzKbr+iP3seAuJKU24gawDYOjzIvYRJn/nuNm6eZDsKIfzptpncvz87v9YRAf0P4gDXoDwpKUjvkp6vJplpewRmnHrAI/g7teKCxgsKEaCG+k7e/YV7Fs4vkomm1EXYWwffmgOXbFwPuBD3/4w3zuc58LJ4DjKGYPzmbZmmUTus45C+cwZ+Gc4ov3uJdfuXIlX//61zsNCufPn99R/doQeP78+dx///2sWbOG+fPnc/nll3PBBReELzFEKTZs2MA1V2bq4DpNvupAYc0Sog59lUDYunn4elMUk2rn8F5Ab92Ga/k5fQvw69m8a911SvkjBcGax2+UXT+dayEAV5lZZSMh159WvM++vPkucFcKH03FdU0eOYdIKNpb1flduFTCmp1Ew/1bXnE+PHEoqISPxxhYNMDZzbOB9g3aiYi5S+Yy/ZTpneeP3/f4hO5zAMLHafSnh1jZ3MnlCyl732jZInGcmTUgLO0FfFDTd6YGBme0J0ZFpZw4AG0kKmSjZK/I8TfFQmFeE6bNpNxEpsLfV82WPiDsAqU11r8sF3D4gLBmSWFE4rL/5oLBdrJrdNe96CSY12cdp6pM7ILd8rfjasyH+N6a6CDYem3VIuDRv+bU9AnarQlChAgR4ujE8PAw/9++fVyI36JdA7B1gbCmDjZiWQ0M22lvSQYZcz/hJmV1cGfKG88puTuHwXmxZOz57PytWUcsacJAnmPked/+4HauiynCYM1CwlV8uUhp4qCiCVx+Ml3jXgUoGFHg583gfFA4SrsQWRMQSyFy7u84hh8Iax9Pa8VQFwjL3rK+mvUNwMduvz0A4RA9R64Yvv/++zvPc9A7f/78znBVezl7mRAhZCxfsoMVr36KOTMpqoMd5/GSVYScT9BHrroIqudmZGrauTFN23Y7dWx6qjyF64JjmYZfaZVwPojca1lfpyQ0CgqQWqFpWW5JKdtI2Oy1jnJY8xB27Z/9t5OBpXlOz/sjRKIu1WCw7+ZAXoO3qIbADcdvttl9vvAsWP22h3ni2b1AAMLHUwyuGGTZiom9KXvOpecUa5JbhwvPNW/gXDy3adOmzvPgITyFYmRkhK1/uIGNS+iqf+3hmA10uwMo+gtrINZYsNauVF1Zw3VrL1ZAoWusIo59iXDDYCirdpXmagtnAjMpeuL6lLzGDW6dDXSiCVi3tg0bnGtAGOXYxMpx0bYZFwnBioHs9TEBdl1Z35V5bYuKhvgOXXCgUWPKllv1Stj0uU1csTaohEOECHF0YmhoiJGhIc7HrQ62gXAiYGAVEI7Q7y3afsEaELbZqe0EpKUSqQ6WUFjmoUYGgXN1cEkl7Kg0L50uiiKD3lnPOIBw6iCVpgIE1wHCtoxbGvVaUEFTB5fgsCgOJQzWVMJ27fcWutaX2qAunzLYXl8qin8fELZ/Zw3qiZjedfhwUAmHGDcU1qwk5GtHYjkR4sSIDRs2cM3qEeb004bBthK4RbViWCqEW/TuzeAY+mEyy4GO1zz1FcHj9Qz2WUa8SeQE1yBXFwDuBQy7QHCEDp8jZRlZukLZfcoXMdXqYLlvpwNvNm2A37kkMdn+9QKD7d9Cw1rGZR3RoAB91d+rVfsuPAue2BdUwsdb/DSayq1atQqAJ554ovN83rz2sO9ly5Z1bsK6lgtA+DiLkZER/mjDWlZO31k8ybh8b+uC4dg6CaaUlbqubOGChsLa4IFDsPdJuHYBReUQ6HYLsQN4RgI+yiwngLC3wVsv0FZ7jJg4IJzND32/PX/Fmejq4FR8J0Y5RlUWDXbCa6Arjw1HBoSN+G1KcG/7BDfxQuBCIo1gWfrXfP4PfosPfeyzAQofJzHZifE5ng8HOcSkweC7rr+el+3bx/yKekAOW7SLG81f2AWEoawOdoHhBsUm2M3sb0PAQuB8kUrU3m0WFI4MxFIRnM2nkZViZIM5+2A0KY8SiXsEwlIp3AsQTmoA4YyobvgRXNMHg4aud7ANg3MQLOBwarpK4Q5AprrfnctD2BR3ywuCNWjsA8JY6dYFgZ0q4bEx7t+6lQ9DgMLHSbRoTHrOHQ2NXEMcRRg89+Qt9Pc95Ye/VWBYWkXgobaG2krhNLXypeUf/1FgA21FbF0wfKRAWJZ7mjK4ro9wnf7xpuJvKWUnQ3u5Z4D/h7L+tVdf4TowOFLWG2XXPp0b67LpbS9qcdnQQVpHNMf3u5132sPsvX8TW7cSoPBxEj+tpnI57K16XVsuAOHjLA4dOsTeb+5ky8fQh2Rq6mAXGDYUZSNQND9s4LY88M1L5ayBgQiW5Epd21aAcT7KzyHGQu59Cvb/BK55ac11ujJhlaq37j7XBM1n92Xzo5Q7vtgFc0Rv8Fo+RrD1e7BodqYO1oCw77auK2vb5COyzjAaFPDBYM+0agls+mxoMHc8xWQnxrFQnIaYpBgeHuZH+/bxMurB4NQzL/2FpfOQfZ/RZxfREKAxVvjri2kPixyjbBehgmEDcdKGwZENgIVVRAcK5yrh3Dv4OVgxA86bQfmGoAaEU/xAOBWk0uAHwVUEVYPJLVhuoL/VpawmKw5ToQouPJruMqmpby94A/BrVl045lje9zFcCmGlv13JHqJKFeyCwheMjfHbwTriuAlDPOk5txXKxxBHKXbs2MGtNz3FnJMpN5LrdcqtImB83sFK8u+MGsksI/I/Lcffi2yigfDNtH3pwQ+Be/URNuMAwXENGJxDqFegN4jrJeosfwD4BvCbNq7Icnmc5fFS/6JefhO2FWNMd5RU88h+swvPgnlzQoO5EJMbIaMfRzEyMsLWmzew8QrK9hB1VcIpfjicUByLWqehnGYaZAPhFAabMHgaxTuzdUFthN5QTQPCWUU9LzcqGqW64VuVz69LZUvFuuvAdLHuZTPpAmGbDrga2Llu9dYA2oumw7w425b0bdbWWQcK2xUplFXIPVpEFJa3Xrvu52HoS6HBXIgQISYvhoaG+I+hIX4GfyM5WT/Yz+OKelMCWii7LPjAsEwP+XoXZ/s8SmGARVkdLE/N9nk/EvcgLSgMWROWzD93iYGBrOA21jVEFFNoYNq5trAf7WW0RxcQds17Ho01pDNqweVxt/BKE49FBN15KUROcPtA2uB+cXfTHZWw5iOZUJ95SwBs6wR8sNcFf7XXZwHvD9YRIUKEOMrRaSQ378igWmFIBlZ9Ml7T3uwknFojSVJTTEXvwM+bJxIIG9q+9K7yXrOWSMfxffSiKJYw2L52ycvY6cDrqQ+EjaNErQOE+2n7KydihZH1veUjpHpSBBvKXsL5h21NzLRieWgwF2JyIwDh4ygOHTrE3m/tZMtGui3ENdhnS4h8kx32OEYpb3LBTDyAVABhdVyL1tAOxzZjx3odKuGFfbBQAuEqMCwzDvibokUVnyHyZMwqeG8fT001Be4OAZFnG9brK07O1jVGPSAsj1fk2KY9BjYfOtxHGfqOQx2cv2/VMti0KaiEQ4QIMXkxPDzMM/v28QrKakwXDNaay0Xozb2kWji/B2if1n1gOKVsOWEc6cHuPepSCeenZdsqgex1mZNzX+E4+xCXNDN1bXYNYUy3a3ckb/DF1vk/oVrC2sDdnUdTADu6r3VAbwpR0raHiGzvYFMc9qvB15Z4lJszuBsFXULR1rLlKNJ7ET/Lj29fNvggcFXzc/l8xdgYHwoq4RAhQhzF2LFjB7feWFMdLL14tGVssYp2R63KHsBaV5r671GOBwQnjM/O2GT5xWUR4XpfVWnnC+N4rvkHxyI/yclVakqgHFPf8kLGAHAROgjPLbdythC3rJ1r0FuTQTt5ptSzM6lQES8cbFtHBJVwiMmKAISPkxgZGWHrf9/Axitp31LTVKK2WtgHG11AGOUkV2V5AOXOnJECF7P1PfBj2Ps0XPuSCohqlAzjgs0u64jI874qIIznmPmAdtTDuj3f0e1PwsA0WPkiyjA4oRoGy98Gju9eysXkcTXKdwx+a4wUvYldk3owOPa81pdN0+C6d8HQnwaVcIgQISY+hoaGODg0xMVZym1Q7lXmGlkoAbDLQkIWgQ3rdKmpgTVhbSTqFhl/CZwNLEUfcGKfbm0LYO0xtZY1xrrkyD6kidtTUYLTzRGRDYNTcX6PrWJKA8V1KmeN3CZFj99O85gkg8JJWyn8+ymsoW214Wrg5oLB9nN5OWKnRbke2/ZBA/h17CMScQlQ1yfYB4Qlt29m/wMfDCrhECFCHKUoqIO1JnJjVDeXk2AY3EMsfKpPAfDSRB8pop2j1wPXtcsWLwh2OR25Rp24+ocfLSAsUYCpWJevZH4mu1Z5H+UBsdJpys5Rve4v+qVJsX97fn1g18najlQB4cjiK9oFhKeZXAEQZ39b8bqgEj5e4qfRVO5IIwDh4yT640OsPGMnl+cdYvo8ALWun3AeiXXSswuvlmPdKGd4DQhH5Sw0EMGS6VaVDLodhLY9123FbN17n858g+dSbvpWR8Eb1QDBvqZyrm1pt1ErgPDCPujPCYS0iqhSFEeezwNsfQIWzYAVp3iyrgbXwe+hLOclsehVCWxXpRkEpi87a8Ww6rVA/Nec2ngCCED4WI7Jbyp3uPTawYMH+ehHPwrAwMAAn/nMZ9T31l0uxIkVw8PDPLtvHy+naGfbojyQxgeEpWWEhMUoxVqj5mOswGCZfs6k7SXcUv6uKYM1KCwLz3wfPgesAM7L/IdNtkKT3RCOjJViTPv1SJLnRCGU8jXNS8EFh0WxJWFwGhWBcJS0lV6vyaBnSwGudWFwgu7K9QXg3bSHrLYUKJzQu0rYfrS/Ty199mIZEQsQ3LSWfePYGL8QVMLHfISmciGmQix/1Q5WLHuKOTOBFxQQ3KtVhMwjLiiswTpryq2FUs/b7cfzKq4XPINavKzaAFuADzvKS5/w2f5bnYGfvtfkfFwDCMueCQ3aN65bHiAsS9S68QjwLeBDjn3RSlpM+0Z3pH0I2ejdvvMvh2E1HL+pOqphux7OvIRXv+1hnnh2L+U2fCGOpfhpNZULQHiKx8jICFtv3MDGS62qDuuqPT9JjXkgpgsipgIGR7hlL5pdQiSyijRDFOMhB5sweLJVUWtgtkqNrEHh1PINblGtLI7w++D6QLDPMgLH5zI9AGHggpl0TentzFgFg32ZLlt+0bTMOzgRvyX5vRnx3cq/yW25lL+SWvSiDm5aMLhZvtJYtRw2fXETV1wdVMLHchztpnIHDx5k/fr1XHzxxQA8//zzfPSjHy3B3rrLhTixYmhoiENDQ1yErqptiBTZi2VEJGBw5Cjc4hqPmlWEPOWfa4Fs13074ygWm2JeAuuXA7OzdTdyG4YcCKdWysjBsFbpNhwQOKZsf+WTUTkIbscHOLLSZpTZRmRTAryNbmNwqJryMgAAIABJREFUe9UtD8TVbCO0FP1y6xItcYBmaR1RBYHzSzfNG1qm1F6AcNNKtXb6hraX8IeDSviYj6PXVK4VDnaISYkNGzZwzeqRrlVEHTVw1QT6UA1tdMmYPpmkvHiV2PjtNWDweJXC51LUV9mlZR2bibQGCDaixK8Dhu3SUm5D9kbPS/fzKN7k9CmDXUBYQwonoTeu094n/YUbSWYr5SLcNvxNFN5Q1zaiJhheOAhP7Asq4RATHwEIHwcw+I82rmXlS3cWvy15hm44oGOVSjiyqoBIySx2VSQN6iJKzdzUTuIaQNTO3qkHoGrviYvvXdgHC5sWEDYVMLiOz69rngoYDO5xLFVjfOTnkxYcKb37+1oweUUuHEnEZ4lxKrsL0Fiqh+3fT+yAvpKm1Jlye4imAzxn07I5f83nb/wtPvSRzwYoHAKAZ599ll27dvH5z38egMcee4yLL764BHpnzJjBW97yFlavXt1Z7pJLLglA+ASHwfdcfz0X7tvHyxwQzj5lasVgFRD2weBEpN4qdXCsAGE7pdrv8w2yMQ4w3HT8rQH8rAWbDRDnjdvizGPYCGidbTCSK5IQOHZcu/gqcOVvJu36AXfSVgaGaWUAOy2zZA0GuwCwz0M4T9mvr3h/C7dXpAaEoewTrEHhJvUbyzUECHZ5TP+XsTG+sXUrH4YAhUOECDEpMHjuyVvon/aUGwD3Coe1m4aJh8Iq29BgsM/Op1fv4ITqe54yR7xRlOYuIKz1lE/Rm7n5BsVqZa689nA1iNN8hBHXIRIk+5TBvkHAdryI9kimuk30CuvLRj9FmuDKVv9GChTOE3OT+grhMaUWFn+fd+rD7P3OJrZuJUDhEBMWcTgEx3YcOnSIvffs5PKfLUKw0lg+KQ3po7pplw2D+5T3yGpDDqcZtSbtpDZqJWtFUvPAM7D5P8Syo455bbL/ro3rbCnL+y4g7L9Jn6rxzGvbGnMcI7ls9hlu/0/Y/dQ4joe2rFaFyjvio57PYn/XkpC4qssmBZsHVQFs/96033akrNOaVl0Iw/e3G8yFCNFL9Pf3d2BwiBDQtop4Yd8+XkXXpabPk1Llac5xmlJTq0y98tRnHKdirX+OPY05lv8r4EHcaldXCh11pJSSejaFJGk3lktb7aG1Jp/S9qOqwqpasW+YsOv9+Taz7Xb2xdqvNCmv7nrgSUd6dX5uT1p1fWe+4+/6rnMY3BC/uWYPv0/5O/Nd+tm/z2nZNAv4ubExbr/99nCyCBEixITHjh07WLE8ayRXxy94TEl6YwoQrlIGe6wjTKt9g9Nn7VAHBv9fwOGa0DjxwOLWOOCxyzpC88pvecC3tpxsmGvwW1W4HJ+eBL7m2P5ENefrBcontC2ljPaBUw/F14aQeWxIat34yP6+cBDmzXmYvXv3hpNFiAmLoBA+hmNkZIStf7KBjb9CURakqWegqAoGt8IVa1225QToLT3tBi9GyYSGspQEKpXBAxEsaVK2utDGgrjsGCLYexj2vwDXnOrIRPbysguPy+u3ykMYsT/gvk0ZieOuNYSTKutMSrawAf25dYSvQZzrmFnT7U/DQBNWnoy/PaytRpayt1i5UeDrDK+RkMhReboazrmIijVd94sw9GehwVyI8UXuIzxjxgw+/elPhwNygsbQ0BCHh4Z4G133IZkCG0qRkiuFbdWwVAgn1mm1KdKjXcDEngLP4FbO5KdvQ7EVgK0QnkfbT9hudBc7Lhvyfc5PwXbKuRW4EHi1kirjzDoiz3uGTF2jyYE002SXVDmtKOITRyVsfaiCSippF/iyfluaHZNRdFFPStnSweUffCvwX2kPWXWpybQaU35kezBOTPl+vdZg0GcfoaVq13Ntvg/4WLCOCBEixARHoZFclZLS1WiuVQGDW/Tm+5AUYbDr3F9nerWVW30ewa7WM/kyXwCuxu2CqPn+++Z7iSqbCDvs65W0Yn9NllsGKY/Gkj3uU6oVwk8AO4Bf7+GzlWwj8vXm1zWuJC2vcVz2Eb2qgxv6sqHB3LEdoalciAmNQ4cOsXfPTrZcnZ0o7Kt5Ceg0UByLKk/C4EYFDLaHQzQo3260JSuyG7gLnlqvDQKD07PKy1QAV48twzysE63B3RRNOznXBcJ1988HhF3tX40CZLN1XDAtm/c1+Ku5fwujdlMbxtzfSeE9EghjVYMR9dqXNxxgWL7mq0LtKdK3ver1sOm2tkp4ooDwhg0bGBkZAWDjxo0MDg5WX8hec03lcidiTH5TuRlH9P4ZM2Zw8cUX8/zzz3PfffcF1fAJGsPDw7T27WOZdW0+JlKiBMOpAoNjdJsJFwyWINi1nkSBwQ2xfmktIT1/Y4qNW4yS+hNxqSGXOYd2LhlTUlnDGmIZR5Znr/VIlNlGGHG9IiFwjL9bj6caN8aaKD+mabkHXQKsRFdgy5HHLjWSfTzOoesd7BtanHjWjSPVulKudpnj6tXqSr2u12y18WVjY7xhAhvM9drc8+DBg2zatCnY+yhx9JrKBQ/hEBMbO3bs4NYbn+p6B7cmYKrTHdRnRZTqWihfanJNb8Wv5PVpkOz5RUpJ6Co3fZYRZoK/v5RSv/dSM7nUU3qfBLy2AkAbDxi2Yzptj+Uqq4ioBiCO6Fpile4GKFyixAfiGkC4gVuiLW5oLDwL5p32MPfs3TthQHj37t2dkT8rV67kyiuvrFz+4MGDlcudiBGayoWYsHj00UfZ/Jl13PQ7CmyNKPvt+UCxUdYhYXDqgMGxqCxtF3jtfakDMmpndwW2muxvkQ+yiv+BhTEsnEZRvuNquhY5qqaa++dsrFdjP71AuBfAPM7jeEHTqk7rZEHpAR2LrF5VQTYqgLAP/mrdWiM/FP7UWrjt1vUMDHyeJUuWHNH/37p161i6dCnnnXceANdffz0f//jHOeecc5zL33LLLbzzne8MQFiJv7vij9sJ56QZnP/ldUde8P7kef7xqpu6yffwC0dU/vb397NmzZrgIXwCxx133MHYHXfwHmCGBYNtgJoqqdf3mmw01qQ8KCSpCYVdYFhLK1Jw6/MerrrH3KTsKXxe9jhGsflc/tgw7SlSYLCJLD8+1/WBBokNPRk0mtQCwAIGa0NvW/itM1oeGOAaErs8e6wDhBPlJoIv1fo8gWUBrg3E6RUI2/YSfdn/yM0/+QlXXXUVX/7yl4/of+/JJ5/kIx/5SOdG3LPPPssHP/hBvvjFLzqXf//738+//uu/hnO1+i90tJrKhQgxcbFu3TquveZRznkJbp+dI2nOVdUV1HGzMXWcv7Xzdi/2CPJ8bzwQVMYbHaBT8xD2+QlPDqgqlpKaSjge13nND4nl8Tg5O05JD0BYlt2JXQ4bBxTWgLBrquqjUwcYZxeml74BDv74W2zevJlrr732iL6znTt3cu+993LFFVcA8NBDD7Ft2zauvvpq5/K/93u/x5vf/OYAhKdIhIx+jMLgT274ZX5h5T1cssyqJlIHGNYqOdffU6sywFFBattKBESOFFiceICwcRd933mhPf3GSV31UAFmxvhd7KsALp4TdUx53Eqd9VITBPvG8Lga1TnWu+1ZmNuAy2ahO/+nXRhsrHVGeI4jDjgsXf5dsLaXduY2GI4dgHccIDh/XLEcmPFtttz4IdZ+5Mig8N13380HPvABli1b1gHCTz/9tBcez5kzJ5y8HDG45tL2z6pvYoa4xNOanXUCvPDk0/zohr8cF4hYv369EzyEOHFg8EPXX8+7v/tdFlgA2D7NtCgrZ6uAcGRxzaY4pWoQWD6PRPqW1gQJerM3l0I438+/oT1C51XW6duI7dk9U5piO03HvJbiGnke8kmYTEVeNL0DYdsmQrN4kMBXm/8D4JeywlJaO8jCuwoMVDAHtbasUvX6BunYh9qG+81xAGFbGZxPDeCKVotpX/0qV8ERQeHDhw+zd+9ebrvtNqDd3HP9+vWV8PiGG24IJ68QIaYIDF66+Bbe9dYfM7tJ22i3NcFTUnOSNxcd5/wj8bX9BPB7DjjbiyWDC8i6LCJ8fcknKuSII5dVhA8MR8B/At8APlDj2IxXBexqgtdphCs+i/ql1gXCcQ3oW2UnMdatpQfnw7vf8T2+etdn2LyZI4LCDz/8MIcPH+4A4ccee4wHH3zQC48vuOCCcOIKQDjEZMbTTz/NA/94D7f8Pl07BXkS8oHfyPN32zDQBYOlmti2ooDimFnQDe8M1bfzsmkwgWbUbkJjIuvEHTmgcLaubz0P/zIG1/ZTzz7BcaI22WNE/X1W14UOWnM4G9WxoJBVnJVgLmjALNs+InLAYKsIjgz8z+fgjBgum1F/nwtVZB3YW3c5CZCPFATHFDo5rXgdrN/8bQ4ePHj0LmKXLuVd73oXmzdvDicvR5x5xYUTur64r1lY5+HHniwA4blz5/KpT32qc3HT39/fgb42BO7v7+eiiy4qLPeFL3whfGEnWOzfv5/ou9/lVRTtH2J0pXCvQBj0oY5JBRSWjxHF/q6pgL5VCuF8n84BZlN0WWpQdpiSxeOXaatelyoQuKkA4tQHiNN2foqqgLA0Ra7oGmMyuwgXAPaNHpavvYGuErpF2cofivaU+Tb/J3AF7eGvhupu9JpPsFT21rWMsOdlOm9YMLcuEJaN55rFlMvKVotf+4u/OCr/pzkM/sVf/EVe8YpXBCAcIsQUibvvvpsPXPljZs8GfmKdOF3dOH1dOauW9Ul9FSjs89/1NXHzKYYvwX0j1QWDI+BGYJ0HcPpsKNKK0nMiQ4PAhvKNchQonL+vHzjfAZwR1yj28fgPYDtwbcXndMFg1+gro/GOWOEBiQMIJz1Mmjp4zLoWymJwEAZe9D3u2fvAUfk/zWHw+973Pr75zW/y2GOPhZNXAMIhJiMeffRRNt+4jpvWU/QBbjqyimu8p8taQhZYdWGwZimBqE7zqsZOvvZZO9LPsPMMnB61u5NHilI1knA0i4XAqTFdC4SqJmsUQaixgHBUlR21qt5nDyHfHrWL1E4BTEVWlkkFWJpvY0zZt1T4JNId4nJ+BCeb7H11gHBeBUYU5UT2b0PrWlOnU40Gi+uA4MhTKdv7CHzqI3Db/5oY64i6MHj27Nnh5HUMxaxZs3jnO99Jf39/5/nKlSs70DcfmuxbLsSJEXfccQd87Q7e28waomXn6NhxyrHTW4zuL2wPlGlaryEKxNgDhSPxKAuWwlBGuo5JVXYRMfAS67PINNSg6AhlF5GvAk5Dt4pwAWKteE6A2HR9+ZzuSJqkWgPAadYJPLsh6uqeXmUTIedfK3iETNfa6OMUeA3dGwiufnj2vEyBWhpt9AiDJRSOBdAdjzJY2k5EMZwcwRdHJ8Y6oi4MXrlyZShEQ4SYIrFu3Tqu/Y1HOcfuJmaPJEk8oLeO+jelniq4Aga7wKqpAYalVcTPOHJsit9H+E3iWsB4YHCK30VxssOI/GY7TkoIrCmFZwGLHZcDJeWu9drJwOsdsLfqudZTQdbUsdZQTmss5wPCVYrgJmV1cJ+y8ylc+iY4+NTEWEfUhcFLly7lm9/8Zjh5OeIFpvETTprUbYSmclM8nn76aR7435k6WMpGXFDYBmeu59rtLg0GuywjNGNBWZ0asV0jPoPD6zaJIIkzYBoVd78DhRP0pnSISs1nVWGB4I6nYfZanO2Pk+tGjvVHfgDdSSLZh8lhQ4QAw1UZy+XLnL1eaJZjH2IDiyNopGDGLPsIl9VFw/q9NeitBXmvKuK4JgiOaoBgK5OvOB/W3zj5KuG7776b4eFhduzYAbRv5uRewi6v4RM1JjsxPsdMFQrnyl/5ug19XcuFODFi//798G/fZVFfGyySdMFwB1qK01cdpbBd/MjCrMo3WKqEWyLd+vqttcTfXCnctuiV6VK6C+X3dl+erW/UA4FdfoVSVBPlUDhqP8amrRouWPzbN1DzAj1baWqpgdMMAucwWBbiCW7f4CoPYanghXJfXdkYLm9kM4bfNkJLtS4f517cmaSfsPwN91UAYRsGT1O2H8XZtVoMfQ34OVp8cJJVwocPH+brX/86zz77LJ/73Oc4fPgwTz75pNdr+ESNFo1Jz7kvMD0c6BATdi39gSt/zOxZtBvJJQrNSzkyi4g6UFhRCLtAsKsJnITBmmewndIS6rWXyV8731Hm+hTJRxsE+8BwlU2EvClsH5fIAYNlI7tZtG/mpp7tSM9hHwwufdfyQsblhyHtIvKLhDp+wRIOu/4fxmDwxTBw2uSrhB9++GG+8pWv8NBDD3WeHz58mKVLlzq9hk/USGgyViD4kwGEQ1O5KRsddfDHcfvqSV9frembyzvY5Wfjgr+uvzXFSUnCYCMq4wT1VmUHBkftgm5PAg8Z+PVp3VWX2KXMvtbJN/cfNqY6OZkI0qhrq1AYuhq5gXAOkA0eqEtx/zrbirrviU2lqLitlraXy7axbQzmxnBZ0+rajn4nuGMhkf2xYZSGfa7q0l6mDgSuW6m6vJWqQLDsjBOj/1Bi+NRH4bY/nVyV8E033VTwFd63bx+XX3558BJWYrITY2uS1x9iasYdd9wBX7+D90zPzqWCtEYpNNMMWFJWCrccQDgpXBiWe6K51MAuKIwChGXRGSlFp7SLkED4b4EFtEfb2KlVnq5Bb8xif6amAqGb1jINB6SMDMRRGQ7HaRs4xhkkzsFvBwALCJwavWhPBCyvUghr058AVwKnKnC3pQBhCQGkbYTBPchGGxDjawhX170pcqzLpRCWFhFxDoKziRhM9nhSBF9kclXCc+fO7XRAh7ZieHh4uDPaI4T9fxlPes5NJlidFOLEjHXr1nHt2kc556wu4Co0gJOFTR11ZUsk6F5hcLZde7SJyyPfpXdy3Qg04trgE8B6qlXIoDeEq2NjcaQwVymFx72uKguHWHzeGPghsBtY44HBNotNRXno2/eqlgby5ntM+zoxSnGrgqngLUkPv+NE+bLz/5Nmd/7Si+DgoclVCV922WWcffbZnec7d+7kySefDF7CUyQCED6GYs7sp/mFd9zDJa+jKy3RzvhQ7PiiyX9c3sEaYK4LgxvK2dWubiQQblBut54tb9KuMriVvecc4JQITFI+Y6dZ4XhPCx5K4DfiYpMaE0Ha6FozOBOSKXY8h3bxmSuNZOMb21aiM28vYoHkkh0E3feZuA2FO0V9rhKO/EA4MhAnxfW+zsCszCPRxF3QbNtF3NqCgQje1ujC4Py30hkSnH/XfZTHqfoayLmgsMsywlXBarYRLihckCdRNI6S42IbsOJngOnfZt7A5KmEL7nkksLz66+/nksuuSTYR4QIcZzE/v374cB3OXdmN1cZpaLKhwhqVhKJAoRt31ZNxZsDUtt6wqUaBt01wa6PI8p+w6myTvs0bICXAqdQtkOwLw3+nLZn8Csou0Al6Gpk2Wu2aX3mqAIKy8cG0EjE5zHlR2M9GgXC17GKkPA+v7x5PTDdwRfy9/0p8DbavsG+3nfgbhLnU/VqUDimnhewlqb7HMvbNhGd9woQnMPg/HkzmnyVsBzJ8dhjj3HDDTcEi58QIY7juPzyuzlvyY+ZPZ22OrhVAYahqBZ2wbVeGpA6vHykBV+dCco3JFMFBuevvdkBmW24+2ngIwoUrgLB41EFu3oeQNkhMRonILb32Q7bWsvGCScB51XA4CeBu4APUmz+i2M7daC+czLWqGWXd3AiGEwvNyaqQHB+MTDWTeKDZ8K73/U9Dj49eSrhBQsWsGDBgkIOfuyxx1i6dGk4kQUgHGKi4tFHH2XzTeu46ROUvV4RZ0/7DOZSCNeBwbJZi2zcosHgpnJm11pyamA5W960IDEZDM6UPkTwkhjmA2liLW5B2MjA2aZdwKY5JE3b4DSNswQYdU/YTiBsJfnYasTWGR5kw99Yh8EoUDjKhrwWGsjRBcIm28/IgsEuIBxZamJabSBhsuP6qkxRnVj7G1m/CwOcZ2BmrqBKuxA+/x018vc00E0LXcC2UTHFFa/FPUJh+V779x8p1bLVBn3Fz8L6P1rPe9/fu0r4pptuYvPmzRw6dAhod2/NbSDWrVtXeB4iRIjjL+644w748zt4z6wu4MpzaH7Otn1qO2DYsjawRwGmyqlM1gENx6NWj9pWEXmu0YrAGHcTOqlOlVYRZ9IVmcjCMl/vubR9g6VnsfycOfhNHZcVDcq9VmwY3NBgsCkzgCQDv4mtFDa6QtigC3I0OCxVXPZ3t4SyBYRUHi+1jqXGIkAfbKOBXG0AT9MDhZseyOyypJCuS3YabZJdI0RFCGyrgqOoCIZPYvwq4bpNQEOECDF1Yt26dVz7648y+yTgOQsCjwkoPCZO1PZdO9/wjrQmOXWAYZ/9Qh2QqCl6oXjD8ULcqt98eiNFawkX+K3Ts7wuAHa15HEJYHsBxE5/Xso30wFmAK+keENVegefBFxAedSUrRqW1y91IbDWuqlwoaZ1/NX8JuyV5NYRmiq4T/weJQhuFWFw/vrgi+HAo+NTCV922WV85Stf6eTgxYsXd2wgciVwsIUIQDhEdlH6wQ9+sHPx6ro4rbuchMGf/OQv8wvvu4fKUV5yfENivS4BrAaIe4XCdncazbgorgDCUfnRZECzlWYFr8mKDmv9aQZFbRgbpfASA/Oz98oO5Slt4Gos+KvCYGM5Q9jgVh5eS21sTI0+dUb4HlrevmnaVgh3bCosICyhcGQpieMsIaT5fqQW9M6nuAiljWkb8RvaauuOZURqrVcWelEFqI0cALZJvQ44jRrrdoFg2fzO3naff1r11m+z5b9/iLW/0RsUztW/uSWErfx12ULcdNNNARKHCDFBsXPnTrZt29a5WHVdjNZdTsLg/Z++nvf8x3c5d3r3ot3ON4XnsQDD2d/jtAxiNbckHwzW/Idjytb4kQd2agph+zVpXxBbqR1H8ZPvz9nZ4xjl5mc2jG4oYNhWBzcd78+9hFMsa460eHEaKWA3teCwrRbWCvEEv12E9Aqu0ylegvyXU1Ya24rqBtVK3oYChLV7sb7GcHWgsITMNiCOoy7sLYFg67oh/7+wVcJXRC341le56ip6gsJ1m4BKiBwgcYgQkxfr16/nX/7lXwD41Kc+5byGrruchMFLl9zCnFN+rAPgMcpqYQ0M+9TBaQ1S65DWpkeoDvaB2VTkG613qr1751HPI9hQrQ6WYLrO59EQBJ7yTYJjHxSWEYv5tAKF5NucSbvpresahyP8/lQrCc1suOoOglFgr+umhgS/TR0E28stPPt7PDD8GTZvpicovGDBAt7znvewePHizvNc+bt48eKCVYQNkQ8fPhxOlEqEpnJTGAZ/5CMfYc2aNQA8++yzaiOLusvJePrpp3nggXvY9j+yf2qqyKNyhks9EFZaRPic8DUorGU1g9uX2KArP7OiwsTWME95azRbzx4D/y/wq82uiXuuwM0b/tj7E5kMflL0zi3AYCxIi24in4NdCYMxZdBsg1uiMhSWX4+tYorE+2wo3AHFGQBOrXVhgeEvpTAQw1uzClJ6IRfU0IqFhQpoGxXAVjMhbFI2JdSq3Nj9u/Buz96mhL4+KNyEn30jrP/E+BrMSUuI8b4egqPQ4GZmOMhTDAbfe++9nVz60EMPsW3bthLsrbucjP3798Mj32XRbOEbbI0MKTw3Fii2/h5lylZbMRzXhL8JZXWvDXNRikhZOGrr0NZlewxLAUu+rm/QVgO/DN2FynePUBtMZIPhPs86O0DYtohQ8ntKZjOV10vWvA2DXXWZq0G9JihzqYO+BFxOW42U4u9ZZA/i8t0rdYFcLRU2xeSDwXUhcefvUXajQ3w5HUWwlbONeJ5PfRGsHKd1RN0moFWvhwhN5UJMDAyeP38+y5cvB2DLli2sXbu2BHvrLifj7rvv5gNXWY3kXAC4ChZrlhFpj5OocVPa+UjLLS6AWAUTJQzWwO0fAL9TAX991hA+ZbAPfKae/TUVMFaC4QZl1bAEvRq+0GpyI973JPA3wC9Yr2sDoUE0r/V8P1XHRuW41geMqTiwdRTpLi8rnyq4qS/TaTD3d71bR0hLCPt11/Ih9AhN5aZoHD58mL1793LbbbcBbd+U9evXVy53+PBh5s6d6133o48+ys2bP8JnbmyQYogbaVG52uvtK7uTS0M5WycKWJa2E1W3GVP0of32Prpamze6xbVJy/Ayb3g2GLU7hbayovzvUtifwq9mCVruVySgsA2BXYk7ojz0NcIPgaHsp1SCw5SdPmTSjaxCtwCSxbokWLZ3YBkwI7OOyDPplxOYC6yie1yJuse1Y18hPAArpzrVabMCBksjRFdl6gLOGnh2wegGmAaYKOITn4y5/csfZ2Dg/560BnMh/BGayoXoJfLuxTkgeuyxx3jwwQcrl1u6dGmlYuGOO+6Av7qD957WPk9EqZ77Oo1DrNeN1WxOA8N5A7S0AtL65rVLvBh9SKmmBpYjGKVSOFHyUUzbT7jfqi/+BlhE29vfByplO4OmoyitsqiXFhF2Q9VIAa5JVFbjal7LVT1cEgXkyuOcb+PVdNXb+fJfBX6OtkLJ9n2OaqS5GP+9U6i+F9sYBwwuvCatISL8lk6O1yO7wdxpk9tgLoQ/jpWmcpM5yiPE5MbevXu5/vrrufjiiwH47Gc/qwor5HIDAwPMmzfPu+5169Zx7W9YjeRaAoK10L2EWw4obIO0OhDOU0ubHAZHljuFOTI1qSyfZb7KX3+TuBT5Y+A3e+fZKngFvR1R6sh74B8Vq8FhWw8WCRjs6teeKsu6YlZW99qq4R8Cfw38EkXPYPuGORXfV93vsgCD85HLYqSyU/JdZVGi/R80PRctnueXvmnyG8yFmHoRgPAEx5NPPtkpTusMacvVwV/Y2ocxaVslE6dELpVu1VAE6dYeiTOubUyoOeD7gLBRYLDLLsK4i4fcTzeOynYGeVfXM4F5ZD65EQwaODnzDXSB2Q4U9pzgZZKLHB8H406OqsG+0WGwdhdWS6SFyXRf12B2vr1zyZrzkfnv9vCxAAAgAElEQVQIG3gN3YZzsQXYI0vR0/FFrgLCEfVkYXV8hessH3ugcNXrAgybGAwRKTGv/9mYDR8fn0o4RIgQx3bs3LmTxx57rDZM2L9/Pzz2XRad7oC/VfIcx5jNKKuqYlMEvXUUwfY8CghMKLcRSCjbNmgw2L4EsB/zj9LK3vfi7PSZ++SeIwCx1jTPctdQC1Lp4ecbgNIwujLJ1WA+MXozOF+X9zpQ2HVZlNtC5F7C+fKvpGupgZIefUC4CuKipGHtPul4VcINshunjSLYta8Xorg8OV+PoS+GldMmt8FciOPjvDyZozxCHDuxfv16BgYGgLZlRD7vio46+CSKjeRqwC7nSVyqhTU/4QpJaOd8n/elya4Nxms1AHojucTx+nKRm1fQm0LYF8bBxBN6b0BnPPPGkf99/sJ1/Y5n0L5JbV8LzaLbcC51QOEqlbBPHa3ilaho+Zj3QvD+vhLcHYmrftM9/j8MvhgG5oxPJRwiAOEQExT9/f21LSPa6uDfZtON09rSb+tOUxQZ4oZxVzg+d3l7/IWUHiXK2U6O+dToZUq176s8ASqQ0cSWBURWmUYU78B2msREXZuEeQbONN2iywVWfYnGVbAmlO9ogm6Z7ATCyv6g8HlfwVyVMLVtd5rFZS+8wlh+jLZHsSjm0hgaVd7BvXr9etS6JTjsArtHAoWz19M4ymBwhDExKTEf/+Q0bv/yBgYGPhdUwiFCTKFYvHhxbZiwc+dO+MYdvPd0YFq3GopcULgHMBwBcQ6F6V0dLHOBbT0hVTyp8l4XDJYgWGt2p33Ml1D0Mo6VPJmrYLWcpsFgCYWh3IvFV6j5fIBdTXk0OwdfY29NQKY1q8/fd451ueWyytd8e6vclRpKqrXX5VIK96oSTiNImgLuWorhWq+LHTwpgi/OCyrhEzkmc5RHiGMrVq1a1bmurrKM8KqDxwvBXBA4qUgqEgZnyuBUNhpn/OpSBBNMHLWldonx2hq5ugqk2kJVo+TZZAJ/B3LUEdY1Q0q9pnOpA8jKz5Svfybtnjk2DEbkbfu6xfWd1YHF+UJRJlRLhXVEZGpswL7wa1mPjSP43StTUAmH6DXicAgmNnIftCuuuIIVK1awe/du57Knzvkx7/qF+3jjxX088gh89LcT/n/23j/ejqK+/3/O7Dn33iQ3P7lJbn4QAgkQA4ErRokaMaAiKmBUrBEVo0aMFvXSakVNLUX6gVatKc3HtgoPqYoNNVUr1aL2o1Tjt2DRRo0WlRDAmIZQBSGE5N6zO98/dubs7JyZ3T03CSRhJ4/JPXvO/v4xs/Oc17zeiQZY99wnuPz92Zv79l/D5R/O3v6374LLP2b9/iBc/nfZ9NadsO4LtP1Ut/4PrPty1grY+gCs+1pWMG39X1j3bWv5h2Hd7db8j8A1P81aJ3f8Dq7ZnpWydzwG1/xPVvLesQ+u+U22/jtacM1eDYQjuBP4WAukbmR8V8DfqqxxsRn4lEqtIj6VwHcUfJJspNC/A5+ypr9D5++ftMrMW4GbrAr568DnrfLzX4HPWcvb0yN6+iayUUq3Al/Un0eAf9LZLO9Of0lns/0v62y2/yW9PjP/5/Q2q0zHCm5K4Ovab1iJ9PevW0NBP5vAreb8RvB/R+HbSRYo5rpH4Vv7s+t13YPwrcey63ndTvjW77Lrf902+NaD1vw/hTv+N7t/rrkD7ngg+/2a2+COHdbvX4c77svu52v+Be64l7b37zVfhDvuzn5fdz1svS9bft11sPUea/pa2PoLSEQKg//4SsVPtkpiFZEg+eatCU8b+k+mD/62LqTqVKejKC1YsKBd544fP94LHWz4wP0/Z9FE2PgIbHw0qyNvfizNogGiCf+4L82ikeYvjKRZNNO8qZVm0Ux//yfgG0lma/4PpL68xur8H4Fvk/3+JV1PGcvzrwDf05y6R9cxdwC9evpfgK3W/F8j9dk3098A7iLrl7sN+KU1vRm4x9r+7YBV5PJd4H69j9tJLSO2k41evBXYZtVBX9PTpk77Z70900a5WW/P1JnXA3db038D/MKa3gD83KpzPwb8t1VH/jnwM2v71wD3Wct/HPiV9ftf6Wmz/58Afm2t79PALmv/N5IOP42tOvYha/mNwMPW+r8IPKLvq0hfv33W9fgnPW3O/z+QWWo0gL8j81luAtfpbZnpj+jfzf1wrW5Pmukr9e/m+r2LvKX+28hb7a92fl9lfpMQNeC1j2f3umjCax7J7u29Ebzxt9m9vzeCS3Zn8z4Wwet+na18pAF/v6vFV2uVcJ0qpFtuuaVdht92223tYEZ1OjLS8uXL29fvrrvuKhyNd+GF3+ZVK1N18OUfgO33ZIXy5R+F7fdnDbfLPw3b/8ea/ue0rdue/i5sfyhb/tIfw+69GTm9dDvsHsmg3KUPwO5Wti+XPgK7NaFNgLUjsNuir+9S8JjF9H6f/PQfAnut6Q8401cBj1ug81prWuk6zGaGH9PzfVz/vc5h239LvjPyBufc2tP7gc9a296v6yBlTX/Bmn9E12lVpx8DbvFMG+b5iG7jmu09qt+BTHpUvyPY01+29ne3rkPN5XhA739sTX/O+n0XcKPFXh/Q7xxm+/dY50fpd5G/sc79L/T5NtN3AR+1pn8G/BlZTJ6fxfCncdZpcHsM1+zLFrhjP1zzO2v6Mbhmd7YDd/wOrrkvu5h3PAjXbM3u5Tt+BdfdkU1/66dw3Tes6R/AdZus6c1w3aez6bt/Abse+BXLl9cq4ScjmaByhzLXQeWOkrR9+3Y+ft0f8qd/2UOsEiZNjTjvfEh01K8pU+BlL0H7CiumDcCFL6Ft0DdtKlz4Atqym2lT4MLnZQBtcDqc90w9rWBwKpx3egb0BifDeadkwG5wEpx3kjX/RDhvgfX7eDhndgYI542Hcway9c0bB+dYXQzzeuGcSdny85pwdl/muTivAWejgaWCBQomk3noHg/0K/ipgh+TrnscmUJ4DtpjWC8zm3Q4yYienmPNr0jXN0jmluGbnmWtfz6pF69Z/jhgpvO7gcGQDiWFLBL7SXo5M/9J+m/LMy2c5SHt8RxnHc+pGgy4v5vt/Uzvo/ELXiphohnOIuBZEsZHKYAnguf0wkxLtrR8HAz0WtOTYaCHtuJn+VQY6Ms6AJZPh4F+a3oOzJqcAdpzFsC8qdn6zjkJ5k2zphfDvAFr+jSYN5N26PRzzoB5g9n6zlsOgzOs6bNhcDBrXZ93Lswc1MpgJXnhCwXTZ6YwOFGSs18s+cfPj3LprR/kz66uvYSf6HSoA9yM1kHl6lQBOuz+5xu4ZFYKrYYmk4t4NjQpI2wigadP0L72OjLa0HitItZ15Onj9LTu1Dwjgr4IGtrG50ygR2VKz2dqkNfQm3mGnm7qYvAZFuyLSdVBZtoMJ+3X88ekfrb9en0CWKLrRDP9NF1HmMBui/R0U9dNJ+k6Uxe5nKTXtxk4BphHGjzNiFjm699NnbUAMKfM1GlTrOnFZJYT9v6OWsc3yVr/M0nfAYxlxbP09Ijex2db0zHwHH08ptP3TKfOX6rrTDP/GXrazD+kj98A7FOs6URPS2t/FpP3D/4lcBaZOvcMfb6a1vHY02fq9RtF71nO+TfvOEa9e66+nqYafplen5l+ufV7pAGvrRR+rbXuiDQQTwOI9BDXN+nvjY3UG/o18NWd8pdM1sBXQq+Ai6fq3wX0Srj4mHSaCHoEXDxDH6yZng3f+GWtEn4y0pEWVK6bUR51OnLT5ZdfzjvfeS+TtFXEhS+AaRMziHXhs2HaeGv6dJjWZ02fBNOa1vRcmBZlhfJF06HfGm5y0RTotwz4L5pg/a7gop60TjLQ7lXAxFiPFFJpGWt74q+06k8FnO/8fp7z+wus341HcMOCluc45+d5+rcf6vmXkVcIP4u85cMzneWf5cCdM6z5zTtCbE3braCoy+keXSeGphv6HSSxpk8lU/L2klocmtSr61yTbOWvmV5iTT+m273mWPp1nW9Sv3U+Ev1u8kzr2kzT59dMHwM815oesK6HAqaTMgtz7WYqODe24h5JODvKFpgn4Zxea7oB51hWoPOacM7EDAjP64FzpmX38rwJ0OzLphdOgymTrOkZMGVK9iwsnA1TplrTx8HgAFx11bc455xaJfxEpzqoXJ0qpd27d3Plh9/KBW/4IS3VQKqE/smC5z1fkmjDoomT4PlniXSahElTFGeflbVOJk+Bs5+dtX4mT4azl2bTA9NSqGeI4sAkWH5y1pobmAjLF1rTE2D58bSHMwz0w3JDICUMjIOB6RmBnNUHs4zhYKSnm1lpPasXZklr/gYM9kEcp4ByNjBL+zUoAcdJOFakalehYK5MLSKmJnCySmGtDWin62wA63RdgBtgOqCzAbazHeA62wG4s/Vf8/ss63elf1fW+szvBtjOc5afZwFfA5RV4Hd72qz/hMC0Wd8JenstqzHYLzLF9WIBDeNtJOFUrQxG//6MnvR7FaV/z+i1Wq4SzugnN871DAN7deV3xjQ9v+4QOGOG1VKVcOaxVmtUwJnHWaRCwJknONMnWa3ZBpx5CrkxtMvPIJM6RbD8WVnjU0l4zrMFiZQkSvsGP0eSiBQGx0Q887kRo6LJg7/ZyvoN72T4sr+uofATmJ6IoHJ1ZVanIhj8H+s/wGtHtrJIg+BFk8iNw1xk+TMoPa2s1piZNnmRzDzwpYLFEchGGtjUNLZiK0L5YvJDGBdbwVRNY8se5bqY/FDRUyx4CamHfGwB2IXkPfNOyB9e29rA7M/x5NVHZnoFMFHDR7IqnjlWnSOAueRDEhxnwW7IgtGZgScL9Xr2679Ps+rMSB9vZNVxp5H3ND6NTK1rgK49Utg0Fket8x3r7cX6fCXW+k52ll9IPkj9ic76TrDOpdRwYLJVbS4mb8VwKnmbjdPIWzY8k7yNw5nO78vJ+wOvyFfJvIC8/cNLNdwVpO8BLyFv3XE+WYe70PsvBERR+g52oabRZlTRhbo+FzIFvC/tzWBxj4SXTc12oCnhZQPZDjYl/N4smNDbYuQX/8jrXkcNhZ/A9EQHlTvQoHBmlAek1hJbt26tL+JRltatW8fiJX/P5El7SFoS0VKsOFOlwyi0j/DZp5OfPll/flxPz3N+n6E/60rh3ClWAa/g3InkAs2dO86ZbmTTIk6DgyZmpKUGgLFVJ53j1LnPd6aXO9MGOBqbiGdZdTK6zLdtFp6hp9+pfz/dAcKnkrdUcHX0S9rPf1o0LyJvM3GitW3TCWwD326mm6SdwkXTJ1jHHunfY+v3RQ5QPtEBwgut4+216mQ0wH2tdbwGIBv7pgnO+ZloAWel6+5p1vQUvU4zPVUzBBsgT3cA8gzS+0ZopjG7kV2sWVHKPdrTDc1M7Om+7IaY1Ztmc8PN6oNZ47LpeZNgntWDPW+anja+wTPSaaWn5w4KXvVywfEn7mTb9o9z3XXUULhONRA+0DRjxgyuvvrq9gtLf39/2xd49+7drFu3jk9+8pOF89lp79693PnD73D1DTMYTRIiFaOUQKkYqUQaXEVXSFKlb/mCpDPYnM9f2DUM8kZMw+8F65oTusHF3GVNa6TI5McxwGsHTDMeTTI7VhOtU2iPHqngWDLlrj1URpH3BEqsSs5NbuAbyEc89XkB+wICVPEQrrIuhd83OPHsu31c9jGIjJ3mGqOSvNm9MJBYZjDY9QDsuNau169vntA95Iaj9y0HfqNLQbVAdW7wOJGqgo3dSiIEiYqIRZQCYRGRqIilz4mIpeRT6/+jDjBXpzodxumCCy7g5ptvbtelixcvbkOGW265hd27d/OWt7ylcD47bdu2jb3bt7JkMZ1GfbaprobC3XgKizj1Y5eRVhOLfGDQdnGnsuBpUjn1ker0u7XrO5+de5XkHp7yHLrrRXw8nb7FLU9xHvLkx6mfIWwdbwfei/AHYjU2C0U+wK7Hr+sN7L4eKYo9hENR3IVVRS6i2A9YEI7PGvL1NX9N32eDcn9g+y9W/Q9ZHAEDijveT3RHcaTjOySN/HuBEH6vYFH0fmBB4ZWz4eG4DjD3RKf9d2xh9zVXpiDlzCEmv/8dB7zOfd/6/3jkuhszIHz/TjhtabvcNQrfBQsW1BfgKEhXX301n/vc51i/fj0Aq1ataoso1q1b154ums9Omzdv5uWv2MPE8ZJkv0KMKkQrzbQUtEBU9RQOBZPzGe6Goos6WcRpZy7KHww8Iew3C2HP2YRwEDbfNKTK3tj63ReIrigpzyEngTbmoU7KgcJYnwXlvqXKc+xCA+BFgflD0yFv5yrXM3Hee3KewnFW93YEb3Cj24UiA7pRb31RcAueA6V7y1Uk2nnuLMGc4wWf+fyv2Pyd2jqiTjUQPuA0fvx4XvnKV9Lf39+ePvfcc9vQ96KLLiqdz6Tdu3fz/nVv5/1/OZ2WanLf9hE+89d7uOojE0mUTOEwog2JUQJUkgUKM1C4KKgcVguuLEunpLP/SsJRz9wGgJsCAcsM8FUyg8JCQ2FTeQqrsjCruoPUL/F1Dii1D9tXuRRFF4VAIykAcamwbNm6VICH4oBtnJcJ4VyOyH96+XwCMwW81AoCI02DUOQbeoVB5ELRbqISIiECOyYoDlLnLtugNHhcGqBQw2CjBjYQmBQCx0TEejr9HPHuDw/wmZs+zMDAQK0SrlOdDsO0YMECXvOa17B48eL2tPGVXLx4MfPnzy+dz6RbbrmF3f96A29ZkJK2jb9KC9ZVsyza6gHEBgYHwbAdTC7KrCXajQQHBtsgOFcfqHyAFxcEG9WsrFCvuHWQL5CM2wYJxQz9fxoOz6E44JsPBifOvtoxaxPynZlR4BUCT6NcUR4cLikAvW6cXN/8vsssOnlne79vJlXbTvGA7lDVV8RSG+QGw3hjtfqqaGHX82SfkdlIoY53FL0BaaBwoxP85gLKRYSj5QW+n9ADnzy1to54IlM0bzb9q9N2STRrxsFpLC48rr1OA4iNifaCBQtqEHyUpeXLlwO0xRPLly9nYGAASIPIDQ4Ols5n0rp163jla37BsXMj4lF43wdGuOz1kuNniBQMj1YAwz5g1qK4J6+oUHfrcQ8MLgoQ121QOQqAbmjdnwAuDawrlEIdy+pJvp8SBwbbgFhWXN4VdylSr+F/Ay7p4vyGeEDV65o46IRE17VxCW/xvXzZ0y3rha9ip0gHCB5N/yaRQEmJigTPOyviwd98tw4wV6caCB8sKGxUSO73NvQNzWfS3r17+c7m/8effOYEWiqmfyqcff5ERlXTUgoLEiWIVIIiJrJUtQBCpr7CQRgM/rDlNnCz4a8NmCPyElYChNV+8ffVlgHg2N4dHfysDYNlpgzeHMPWWFeEOmL7CaRDQOxNmuAvLYdB+8pgX49vNwrhgwWECQBeUVL5YDUUTVvrn0h9kF9szouCZ8o0wrcUmToop+4RFWCwCDT4fOHPRQUYXLQdEVg2Km4RJ1L7BSNQKg0el0HgFAyb7/78Tx7lZb83kYWnNomVZOi5vfzlH99eq4TrVKfDHAr7IIP7XRmM2LZtG3vv3coSHbJ7aIAsmpekWDGsG4o5KKzyv0njK2wBYZGk9ZlU+SrXNGyUyOwilDXMJVJ5RXBUUJW79UtR20PSqXYy38ekAUpPJLM+EqSWCpPI20DY0NrXF6ychpv7ytEBrgquvyLcaaooF9rETjsqcRqlirBwzJ7X7qP8IqmX7ySrOrK9gouAMJT3wdow2FUIF6mRsRW9FhTO/XU+t18qGhYUjjIo7FMIFymCTX5MwaVb4KYzaSuFz51Zq4Sf0IbdrBmMX3nuwV3nvDk05s3JAM3Dj8BtYWuHAxnl8eY3v7m+iIcRFC77PjSfSZs3b+aP1j1M/4SIZJ/iJWc3mTwB4lEypfBogqwKhl1IXAZ944JC3srdqIKrQMOkBObav30MeLcz77O7uFYhVXB8GN1PiQc1RIH3Gl/6DWnw29+zvptAqqh2z6koON+J815SBIXLgH973oRiBbCrFBYVXl5CSmEHBCeRQI2m8FdJwW3/qdh6v+Ltb02/mzNLMHXqr7l9c60SfqKSCSp3aJ+nOqjcEZt2797NFevewbpPHkuLBomSjJskeeZZES2tDDZD3yMlURYgNnYSKJAoEpFkUNg3RsVtjdglsNuS9NHKyAP+fFYRBErOqLOwE9Z8ylZQJZCIbLMnCpgiaINwRepXOJPMyymiUyXsczAINSRDQ11FAQBWBYw8BIhDywr8bhy+FwnlNCjNpXk6qS+S/d0Sc+wapEuRVwmbmUWZLUPV8a3ugdv3TdE44YiwHYUtg7aXa1gwWAkSkYJg89dA4IQMBsdInvvCiUyd2UuLhv5e8o4Pz+LGm/6sVgk/QelQV4wx45hUn+Y6OemWW25h9zdv4C1mfL+CRVMpVhR5FMNeCwldhwmjDtaFt0hvyBQIY4FfywZKkfoUokfM2Mv5YDD4++DsKjvU/mg59YircjF+x5PJbN1NJ6zthyicuin2NJYSTzEunUYfhAU0NnT2AeVQo9t3GVvO3xi/s5Z9nmw1lc/y4QzSQG5N67iWBICt9Bxz5Jxje/0GBvuAcIPwYBkhIIl0PAAHCMsCICxEfuXGOiJuZp3GrlVEFUVwD3Dx8dYOC5jQhE8urVXCT1Q6HILKHcxRHnU6ctO6detY+XvbWLSoQTIKoqV43rMEYp/KrCNGFWJUoEZVTjEsWgmiyEqiRWUFcFlOKoK/Mhjstt+qguHneZrRp1NN3esbXfRkWURQcV99WjRZAoXH6/rWPt/jSOMRlJ1fn+WDDwyHwH/oXae9DutdrhACl0HjEnsU5dhCGEWwktl382dD/xRIDCSOBM97fg+/eeh7tUr4CUppULlD+wTWQeWO4NTbP8JzL7mHZS+ahKKFEgKVpEGw3NLIVgq3ITEpIJYq0bBUQ2G31nFbYkkJBLZLOttGwjQWRhyKGdHZxeeWnEmg4WBUzo2s5DcqYKGlvseRBphLkrx7hbuZltPYtMGwr3B3BV4iAHe7fcSq9P76GvAhsazPBsO15TVBeBruKTZDkx0ojIEWkW+h8kZeITS21UY+L4sCD+CgqWRg2UT7BZdZQxg/4VhEnPGcnizgnBQoITh9+URGxQ4mDT5WF0xPQDr00Vab9UmuU0fatm0be+/bypJlTosp9FJeoBjugMLaa1g06Bw6EmWRyrM6PV9hCJWnq1KlamNU3jJCFNRLqgAI29A2Jq94dT1+T7La1oJ8ByseiJsEGr6+QSZFDTU3DoBwXjXs9djHEWqkuwDY5yMcsoO2G96hKvFp5AO9+aqxBv4RQ5FT/brVZINOhXAUAMP2tpWeSCJrFJDMbCPsE51TCHs2KizriGCcgaj4vaEp4WVz8/M2Izh3TotL/7lWCT8x0OWJDSpXBIUPxiiPOh256fkv/gEnLHyEaRMlap/qgF8qBtESllI4D4mNz7CwVcNVlcEhM3jV+b2vjditbURo9ErZugGWWnVQmfUETlPbZ3ukDvP7IimAwiELiV7SQHNVr4sLghPn3UMGYDFU6xRwgbII3V+S8l5s++ZwXl5CthAuCFatNM+ZIZjdJ3TQY4GKBXNmC17+qgd49KGf1oXSUZzWrVvXDsp69dVXBwVvvvlkffqemLR7927eNfx2lp47NYVZ2j9BySzax/33xVz1vodRiLZaWJlAWdaw+FhFqdqRiBjRbhB4AV6RtKThAXuuxLbhgcGhvz5qWRYcrJE2qI1HXaSy7Fv9HcBnne+aTiPLbhiaqOR2HrH+jji/tTg4vaqJZ9u+7bnbbtGpUHKtIkJstv1Zwd+34F9jrRCKrCHNRWaERUC26Nqbe6bh+a4E8Hbcpw28CmUVQYzQ979W+uZAsGx3nJjnx2SzL+ZZS0TqObxk+WQ+uv4qtm/fXhdQdarTUZZuueUWdn/rBt5yqi5XeuiQYG78dZqDkkxbttkEYf0Vuu6iqdfdY31udmZhfW+WFRrCGQ/XSJYrRT2rbm/SBxXt+hFPde7O5wLJbwE7AsV1ZIFau74NjfL1gdoRskDyj+vP+z11pT29nyzY/D5rGXdbBSMuO/ZVOYy07NXFPcfXA4/ht8YvsoNo+m/NwvvA3G6RDhorJUhzLwXuW+G7adxs7s3QMs2SZ6UR2NkGTOiDTz43VQnXqU51emrAiYmT/ptjpghEnI+cqpJU9PS+60a5d6dKRVCJlWOdW4JkVJK0pAZeGpB1ow4uirljjd4JjdAsAo54NqFKwLD9GxWg7w0l5zn2tB+PhKQ8IHvMjAX4jAPnq7DXbsB/GRxWVW+CikOclFEEjwqSlsxynGYVC2sUuW7v2jttB01sKebOlvzmoX/nhhtuqAuno7S8nTt3LqtXr2b16tVs2LChDX2rzFcD4Scg7dq1i9WXXsSZb96Z+psiiTWUQkd3RsC0AcnLXzMhUHBqwKWyvwkSRQrAvBDYN9awQVjl6YN4DdJxGj4zuxBclF1kCwB+PYG/GA0HbzGRvVfQGY3b5dumkhxxQOyIB8yaz6Eo5WPJ9npGPdsLZaPokoEGaKSB+DcCl9FMny3hjMgZ6hmygyibrpL7yMbRhgLHFXVKhMCwzun9r6GvA3xVQNN91fse4mc/GdEwON0nA4ONkvi0ix5g+P2XcPfdd9cFVZ3qdJSkTZs28b2/uZw3D2xlyUyHdlrwa9kgLJtJ5c5LbJDrg2q96V+hswuJhQOTpc6RhsIGDDdEGAAXwcRmBTBsl5ZfBH5R8spwOqldU6MAVhoBTKukXnSB7IgFc/dbgLZKUPlWAA638PsIF9XVZZYNnwP2FlRVDeBcUj9DN5heEQgO5UYFMBwJ656JUigsnM4GtyPC7djo6MjoyXdYVPKs0HmPgvO/43/OaEKzF165oMUbRm7m/PPPrwupOtXpKE7Dw8PMWXADs2Y9ZHkCa3/gGESSAuJVL2wwMNl5h1d50IUDi02w11JCV2Q4b4G7IgVvERhkjJu28+wx1gwAACAASURBVJWUq1LPKoGqNgQ90pJtdxEC4w8CG0su90TgOeSD6Y0VBldVHndwXi8lLrkHAytVRkHvPAf5lJ/+t9tjPvbZUR3fwgw10+r6GGgpTjp5Jzt2/x82bNhQF1JHWdq8eTOLFi1i5cqVrFy5krvuussbK8mdb+3atcydO7e2jHgi0r59+/jhlv/kPcueTUKLxPwTiYa56UM9YZJkydJeiOP8WMqymgAH5jYCBZC7XFH0F3sMh2mJhGoh1yjXpwotKu11g2KoB+aTDgmK9Ppcu4hBYEA3BO0y1LY0tq0XVADS+k4bnlNun4qQf6Mv+I1dQYcqO5e/NgJc3f6uAZwD9Ic4vD5nC6XHJ7iKNUSRZURRp0OTYk9gX7C6BsVK9jJDKV+yLsSrLuln9vGNtm+GEiIHg2MiThiaxE/v+k/27NlTF1R1qtNRknbs2MG+B7excEmgdaANeudPdahhUXRoKA6maWc91ER4ZEQi0R1UVlQ3mWi4Z+wkksz+RymrflP+TUoP5IwJe+sbFdGzdV1iKwNc1dKx5APJhYZMxtZ67flloHEVO3WhfUoSC1772kyjgcvqxtV1/YTd1yF7cItv0Is5thfoBmdRn8FJTpUVeeruBt0PlmmQdhBEGgJHuv8fkanLkekomg7bCI/niLAP2keriyLjFbxD9Em44ukaAgfeORoRLJsbs+rTm+tCqk51OorTli1beOEFjzK5v4HYb1k+aDBlAPHTT5SI/SrtzasqbW1HZaWadLMEwoUYXggc+tqHSQkUVvh9fV9JucfwwgpQ9WhOkzTsLTr+XlJ+YF7v8JxTXwzzbgIFVoLHoRclWXCzhG6uKg1g68Y67QTBvGMjRKxQrXTItYjSUeQiUiAFMwYkPb07axHUoeZ+9LKHnkO6jfgAgsoNDw8zZcoUANavX8+UKVNqIHyo065du3j78Bt538ah1PpB55go/STSb5QU1vPtfB5LmFBhUVK3pZQEYHCohGyQOrfvwx8Fxq0dy1TBbtINisEGDJohPEnaSDYWyXgAsP3XfLY5uhukxm4Uug1R5TSGfezctWhO6PQ4FIGy2geF7Yavy06LhLoLCIt1pG7wdQ2Di6Bw2ZDQXt2oFBVzmQJZMiYzZyVEe71KChYPpd7BcZTC4NSqxeRUWZ8gedf1S/jQte/mL6++gYULF9aF1iFIe+g/xFsYz7T6NNeJVB2867YNXPZcXTbZhb/qhMJtM3pXOloGhn0VhY+6qgwE29sXUtdzaCCsLGCng9IJlQWhM39tSGwC27nFth0bzy523dEvx9EZDC4OtE+kp7EUW9sjz72DjVwbBrt9hG4bqmVVMwnhUcI+2AvhkTsCf/+kxB9LdyHFlvi+eKi+DtuQ/7A9r4G/0oK/7arN+P+iYa9eUDorsaEw0goSZ5/0EAT22X+VvTtEKexdPpdS+6n+Ptj4ij2sWrWKjRs31gXWIUgtokNe56qSoHJ1euqm4eFhXnPJz1lyamSpE8n5ABsFYwaKLX9hpbq9GYvluMEx/v66KgR4y2wlilh0yCZisdNE78Y/GMqDnh8pqeh4e4F5JefHbfO7MQkSwsFpy6CwG5vInnaYbPoO4Eadk85MMnB/dnMhjSRZK+ZFrJg5STCzV1uqRAoRpxYrIjKAOH3eXr6yyRduvoUNGxZy2WWX1QXWIUgJ0ZjQXfegb2xp9erVDA0NtYHw8PBwbRlxqJNRB5+8bFrb4sEAqcTYRxDlYNa921u897KH/WrLqvdIqHUi8Cs3Bf5h/ub7kLldk07fV5/UtcxKwmlhGaAposxfWDrOGN8DPkk41pkvWJvt6+s2FM3w0/34vQvNso+TDh+1v/P5He73bMf1NXaVSkUWzF7nB31ehNWqFY6HxobHYNM+qgeRcwPPRZSbGhZd3zIw7Hp9dFselhyLEqn3cPa8yVznzMKlU9h613/VKuFDmGIahzzXqU6g1cG/2cbCQdoWDvSSdVx5vFRv3J7mnP1D0RD5oqCbVjnZtoaIMr9gEeW9g6XUQM8ept/MlpP2vFF+uUgW2sESsjj2zVPkCmBO1S3AvYHq38cXhVXv2nXlCH5rB993I7rOdS0lQsvEnnrb9QkOKXGLrBvK1Lz2ub4W2BM436Hr1QM0ZHY/5K618zkXCM7cYzK1jsj5Uzey+01GgQMseoEqMlBuBm66Hv8zZp7BxjhYNj/m9ttvrwurQwZX5CGvb5MDUCfV6ehOW7Zs4dhjH2Vyv8iB4DYAtgFxnMKsd3xilHt2JFaBrsYeHa3Mw8GjDk5KFisLNCeCYKg4++BuUdpQAIWfuuVdPv0P8Lcl/QPd3DpddQQU3Uzu57FcwPaBqPaLTa5TRT9PwvnN/jx7UNLTU6uEn8ppaGiIFStWsGLFCu69915+97vf1UD4UKZUHbya92x8BolWI6ZZtNWJCVHqa4pMoXAE02dHvP7SCZnaMcorH7tST/pUmVXVm27DoNfTUvJZA0QBYBgAh5tH4NpH/C0tZXs3avhpVnEqcB6dopYixg3+QJ4uDPZ5Dfsao76gcSMWEPZBYTtonMs1Q1BYkvoYft29lKKgdasXPG8CLBtHd+rfKHBdfQ3CRkUYXGQhIUreqjz3dPtZMM9FBH/yvkfYurWVPS9CP2faKsJWBptnMUFy2fVD/PG1764ryDrV6QhOmzZtYtf3NnDZ2RYE7rXAcICUrpif5pCnahCcFQVLNcDOBsCWd3Ab+HpgcMdyHihoew4XQUZf/kfgvyiPE+ZyveeSWkhUtZa1R8+06AygGvIGNtkXPT0umN8NGGd3vFaxxXeP63rSzt8qcdXsKvFiYFqX16Qh0mvpXt/2Nbc7yhthKGwHl7P/5ryvm1SLnueeGAfy7hFw/jcD1NvM39uZ+yfB+pfuYtWqVXWhVac6HUVpeHiYiy65m1OWNPPwN+4EU7ZC+K1nSwYn2lDL8kFNVPfUs4jgWd+FAsipEhDcDcfzQcm/ICwQLVIGn+eBl0cDFPYdi/EOLgO3ONdqIqm1YhmA90HlwqBxFXNpL8NY1MAJaSeJfmaEfn6+uSXmo19ptZ+vDgDsPn/6Zer8lX1MnvHV2kv4UKVrr4UVK9K8+SBZZK1bl61zxQrYsuWg7nItqzqEMPhNa1dx9hUJi5ZNQehSIA+GLQsJESFVaiExYaLgtGf2oJK4s7SyP/rGLgiHMNrDFcpgXdl4CqMwMduOPWDPpIhin2ErLepNfYHt9ShbXhTr4bZCD6PVq58JHEPmJ2xXviHe7bpo2IA2sQ5TBnbfPoTEw92xdtten3tZQsJv31BWk413cA4GW8NC7XMnrOuysOGBtlVgsA8K+5Yt62TotvPBp4Z3QLIKWF68+o3jmHN81IbEMRGJiLzPnELoVSacuHQy6j2PcPm6t/Dx2jqiTnU6ImHwnZuuYM3Tt7FwmlW4R87flkMYJcw/hnxPn89CwvUaJlCeWUMChf6rEl2H2b8JazWuGbAZ4h9rqwidpR0R3bKhEFj2E1aRGHtOQ0LqiTte8zsbuoqS14L5ziuB9Lx++EZCuh7+tu+/8qwzotOByh2CWxQ4xraGsvszQ1WPW6WZ+V4GTCZzRHJjoYbi6g7hHyQVHO3T7thM/0qZHwEkrRFSoZUaWCzNO4C5hxz7iFKFuyzp8LBOQp+EK5aR+QbbJ7rgRDUiOO+U/fDLL9fWEXWq01EEg487/Z95wctixo9v0tofE7ViyyrCA4U1rDrjOO0lvN8CWXFe9djh+VdE9qBUpTlW71i6ALgm2e1MdN2SBNqYRWlhAUg9GpJ9LD7v4JB2yMYhPWR+wiaFHCth7N7BhO4f825mv7jIMRB8C1KIWKFi0f5rvjt9tuC4mVqJH+nfXJsIqdrCQhUJWlGDGYMRF7z2Ub508/9lwwZq64iDnVauhGXLNORadHDWuWoVvPCFdoFbA+EjIe3bt48fbPk+b1t2LoKWhaCUhomyU60oJLGKkNJqyihTLljFn/L7DXt9gCPnc2KB3KiEnobWFROWtPoKupJCcKChgXAr3xo0XjxCWNmqCNwGnaLYGtn2HRbkvYVHyFS7tveQz5/IV2a7lZQirwQ2opkIv09wFV56gtNYbYME/VeEwGq3vsAR5bYPkvLhpqHgcm4jtCy4na2Ol1YLOnK+l3DK07VvcBsG2xYRov3MpddK5fKCpVPZcNe3a+uIOtXpCEw7duxg30PbWDgnAHMjXdhHHiicWN+HYLBtmNsib0wXkTfudSC0sCJHizgPfr0wWGTQWOrlEvJw2PgfmroSHYTOVdO6n2PgxMBvLafaaFmH5PNYFE4jN8YfisAX9E4FqiYXBEcBsFwGhoWHS/oGrPhipZrfFnmgcqOAdcoKn91pQVZ3K/2DDwRL0wFcoFBvK4itkyqqBIots0AJQOFGBMuP89TdjfJl+yIYmref4S/X1hF1qtPRkLZs2cKzL3icCRN7GN0foeIWSUvSiFttMGwrFUP2EZlyWHl/I1bFRFaVgGGr/jwQANyt36/dUXqiA4Td5nGVQZNjdR04XEGwG8Td9g72nZOidrrbZ192DsdyrYuyGCtNtj/HCiwInA8Wl8LdwX6Y2Ssg9gNgEaWfVSsFwXErSv/KiBmzJI2eB+qRsYcizV8Ecy0QfDCwwvxT054OkyZOyf28fv161q9fz5VXXgnkfYKHh4fb0775Tj/99BoIH4q0a9cu1g6v5l0bn9OGvUK7B4u2YUQeDNtQOFESKRO2b4v5m2sf4eOfSINDqJxK2AHBsqAUc1tZduPVJaUuXI49JW8oFLf0lKYR/hCt9l8POBQi5d7Cl1V+s5uBHwNvpdOFwIXBiQWTldWIVaRKY+hUCFNSMfvms4Fw02mY+qydowpguOM3fT6kzILNCOkBw3qBDb+FwT646BgqWXkE4XLVwHAlwWWQJTDYF5rdAcDKWtZ8r2RmE+Eqgmlf/4RET9udMpde/yzWXXs566/+VK0SPpjpUDP2x+pT/FROmzZtYtedG7jspbrALZLJFkDhG3+afr/6FPzqYGnBYDcwiL29xAOHE0s1klj1q1vX0ln3CtGpDrYrHmFR2kiVA+HEw7kjz+mxQa5dhX8eOJ1UrWTXqwK/KEs6h5Y4gLcMBLsK4SIw7OsDtYFw6NWlKEhckTq4Qdjz/w+APwEGA4DYhsFEmUJYyDwINnV9IWW2YXBUAICr/C4D7wghO4kuYbCZb3AA1q/aVauED3ZqkQaBPpRpX32a65Sl4eFhLnzj/Sxe0oQYVCyIWxGqlcKopCVptFIwLFtJ0D5i7edj/ui5ggUTRdp56gafM3DYZwjbheS3isXrWOBwGfSs4mHrg8PuMhuAdxwlMPhA4XHo/O0GvqbZQLfrq3K9i0TAQShcBoLNqK8ElFEGt0Qb7LaDxfl+swCweZFLWpI4iohl1P6bRDKdJ4aXvGI8X7n5G2zYsKFWCR/MZIJnHOoHwUpDQ0MMDw/z8MMPt6enTJnShr7z588vnK8GwofiPWnfPn6w5U5WL7uAhBYJConSGDj9lBbyGRh2lcKJkkyfFfGGteMtUCs6bwThoZeqAArbyqWQy7qvcdoirPi0W0z2vvkiplmNj8174NbfwtXTCSqUhcwawlLqoRgqD4VPAWaXgOBQhFe7AdmgM8j8gTyjwmlcusNWqwhrbwJmAee7jVQDgqUDggtkxudNhr4m4ch7IRVvSG5dlmUX34egsc+WItd4TSvBde/dw6tXT+BpZ/R2wOBMEUzueVMeG4njlx7D39319VolfCgaqIcyxfUpfiqnHTt2sO9321g4l7xhbOKBwzb1NKBXE8UVC/V0TwkMdsmmRxWcg8Pu51YBCHZAsYjTYk6pfEbXg6bSEdazIAOn4e9IVa/LPaw8topVGxK3yKt6FXA2qU9fA38UbrdRHXteB+y6OHaYuguHfZYRLhiGsBORawUhC6q0vwIuJfUADgHhKjA4At5GamvlUxFL8vBWOTvtqoTb6uAKULg0AGIRDPYFEnYA754YVn0J/uViz340qNZJ3IC+Phg6fj/DG2uV8EFvKB7qOjepT3OdsrRlyxaWXbCXSRN7EfsTS82bQikDiY1iWLYSRJx02Edc+izB4HgsT9RO2wjhixJWURVsA+GkAgymhOOFLAXdZpNJHwfWAn0lYJIS0HweR6ddxP8C3wFWdXl+fO31SfpdpVvA3I2NSBAKqwKVMCX3q76vc1BYK4SJBaoF37gn4UcPwXtfKL02EUqKHAhOIpk+h2bUmobJs2ZFNHp21SrhoyQZRXDZ97756qByBznt2rWLtw2/ibdvPMvjWxqREGkonA1WN6WBssGwkIzrj1IvYSm8w+ZVJLob9h9qQIQixLjqTDeoWJElQQUP2UV9sGpqGEYKmVfB2iphu0E3g1SpVFWw6hvmacdKkeT9hd2I5r5AOL6AcXYMFnsfyuK42JfqbOAMwupgn0I4JDVe2AdzewJvK2V+FXYrOuRJHAXuH1/wmjIFsRutxwQZdAMs6uVXrR7HsSdEORhsuluEVeuqXEBHf37T9c/hg9f+QV1B1qlOR0DatGkTu7Zs4LKX0xn9K5R7yALNWQHn5g/A/Bl0BsnKRf/ylE2+9dt/7c++8tBX9zq/+YLJ2Vla2Y0BZj6/jFTZ6+6Wfai9lAdAO0EDUze2aCggXZlDkRUuIFjPFtW9OOC3UXF/3MvXA7wCmOK5nD2ec+M7f/Z3S4EJnuvQACKRv2a5a2lfa6lBcCNApEPvbs2Ce7AZ+K7hOUGeg+0bD1escL73BW+skAenw/o31QHm6lSnIzUZdfAppzVzlg85kNsiVQrHklarQavVINEK4sw+QvGMWYJ+3RPZhsoWNBahYSKqOhhORJqLYDAeGEyFzYSSaVpdoIvHEJgs2oadFhSwxSMVBkPa0bys4Hi6Ce43Djjecw1MLrpVoLoqPOlkuSih+8zKvEXcnglnaJcwHsKO5/bQDHj5ieZlSLV/Vy1BqxXRilN7iCS2gLHzPIo4fUZf+srxjB/8Rh1g7imeaoXwQU7NKZIlVxzD8csmEtNCIJEF8EmSaCic9SNmUFiglOjA9sqH86v4KYV8hFWg5oo9y7sgzwaIduFWIQ00YGAcebWUB0y6CuEkCVsd2+4XHQU0eSWTOUQDgY2gwh3OWlUIIfCLZZr4rSGKgtSb344PnOoOUO4qhH1gGPyGSiJwMD4oHIqkIwugbxEUrupt7D4DjqrplDMatIgYFW5HSzUIHCOJiYiJmLd0Bnvfs4e+wagu0OpUp8M87dixg32PbGPhPPJSU0m5WjjkF2yrh23fYLs+FJ6XedtGwmMZEYwiGnumrc/GZ1gmef9gUSBhkkn+kGNSdXDi7FZMp1rYVgdLpy5Uzqn0NbDcxhJ0KoRFoIGWeC5VyEO4LDapW7WEbJkii2ueil8w62OyRZ7Bob74th+wDM+oHIVw2wu4qkK4KEis77MvJoTbo2CtuxHB8gWeE1NkluxRCBNBXy8MLdjP8KdrlXCd6nQkpgtX38/AsS0mjZeIkSQIhW3/YNdSIrWSsHyDY9VpKVFmHF8m7SSDwW0orPwwuEipW2ZXTAGEPLmkXVkVdla1qTjSoHATmENY9Vs1mJ+vKVx1PUUK8RCYzqmD9b0lhWWZVUVq7BsCFaVQWNnB5VqCwb7UO1jFCtESJFH6PCWRTCGwVgrbynrbh1hE2XezBiMuvPhRekZ214XZUzjVCuGDmHbt2sUlq1/HgmXTtRrYhk3+7Hqc5mGWaKsd77kn4d1r9+qXalEshWl4XuLL4FtUEdrZ8K+H8BjMA81GJWwawtLjJexs+rukQ2KrxEOxv2/SKaoWTiVSphAm0ICMPO2lRoX2W2HAOQcGS18AuYJze+1OuPXhACguUgoL62SFPIHLDqpoGGuBMrhTCWUphSMdLE4YUwhhgWAf9M3gr8n285ogmb90gMuG316rhOtUp8M4bdq0iV0/3cBlr6a6Otin6nUlsE248cdw40/oVPaWlU1Fysyy0TgFn4VPIexRCpvcEH51rO+wfafAVcX6DuMm4BfWfE382wwNGgkNbAophs20olp81CoqYVfh2wjcHr2B8+H77OY1wG/t4yy5drZKuB0srqpC2HfQRSrhqifOd4BdqoGDKuGZsP7ttUq4TnU60tLw8DAj/IxJk0SH8rAICtuQSsWpcjhuRdDK1nPpNxO2/TZb3gvNXEDsGvXayuAAQy6DwVSExO4yIgAnpQe+dKM4tvf5k0chFFYVjr/oXLnn+37gM3TqoapC4CodBaqgjyIJyZqrRMe1fhet/LMjWincjVsRSUu2nyXXZsUOymiex1zwxlgxODvizi1frlXCByvtI42dcyjzQbZKrIHwQYTBb1j7Ok4YnpGCXMsiojNnv8WenFhgWCFQQjB9VoPVb+8tb1k1S1paRcv76GUREO4lHZMR6oKjs4Te/Aisu69LKCwdAOoBwpLUS/glJfA3KjlU32Hb6qXYaZyqgso+xEdD+2Tvy03A10OMV+QDzeQCzlQA8yuPgaF+wiZXvlJCkJpe9Va4N3wnu4h4dwOCnRP1gT/cy09+lKBE/pkphr5RoVo40cXi/LUDXLauhsIHJR3qirEOKveUhMF3fvMK1py3jYXzu4RQPeWUdMWiNAfLo9AQex+Iq1KehSonZx4ZsIlo58iyjhCpZ+G3xgiFewPA1Cz7QlL7iJ4uDrUbKOzWubYqOOpynY0A1zfHuYE0CI3bZ1Bmn1GFiw4DAxYMliXZAGEhC+6FIuuR0MGXwWD3Aju/7QHO/yx+n4wDyH0T4Lxn72fVM79cQ+GDkVpPQJ1bB5WrYfDwMPOGvsLsY/e2A8BVhsKuathSDhsbibWLYFD7+Qs3SmoRHC6wiejIVLcJCAHLkMWEaR/+GbA/0FwaCxC1QfY5R1ET4cseuNotNPa1x2eS2i+KgutUBn+hmv2vwqNCt+0jKCHIgc4Oc/9/417Fn9+ZPjOpEljmhnd1PGst/3Nnw2ChvzvtWQ+xc88naih8MFJCd/5nY8kHuSeotow4WJ0BOpDcS5a9hZgRBNKbZRtIJQVAKiK28FaCZFy/5PSlTRQxSuKoIK1xL5TUUlS4iVolsM+2nzBqUVUCCXVLbtEEmFJFjeqGFzeB5AwkTjqdKmbqRpfrhpGQD37jG/HrO0ToNIzH+uuLzSYJj8q0sz1U1QelzwbGh+C0yEPy4E6EvJvHk4+wU0S0Q1HHq4zRLeu8qCoba2i/YOueN0rgVW8ax6z5Da0ADit+q1hFuHne0hl84a5v1AHmDlYD9VCmOqjcUy7t2LGDfXu2sfB4qtlEuP4JMjCtP8+fgd8qwq5AXImRT3Zkl8W+ZJfBtlVE0vmdsIKNtJfF+ex894oYJqu0KA21OdyYe24sPdtZQ1q7dKLzvbTArf1omvVSUPW7h+5mUVLdSMo7ZhvOabKrn1fodwi3z7JsAJVdp4f279lm/0I2CqGRNlWXKYsJ4aPtvuFQ9l8PLO6TcMWLycu+i0YJVbCMMN/39cLQov0M/3VtHXHAqQ4qV6cnIG3ZsoUzVz7OpEm92irC1E9ZQDmRaGlubCt9PVA4sVTDSaoSfsYxArFfIUbxG7WWZcteqSwfKAwuAsSvIu10DNV/IbipKsDQ+UfJo9hH6rmfeM6LKDkv9ny+erifNMAcXSCSbryEXcbrS4YjiKSL+9d5rxQJnD4F5k0R2fPl2EHkrCFiwPtZ/02EBs3pd4OzIxp9D9QiqKdoqhXCByHt2rWLtw6/hYs3XqC9SqMgZGq1c6NCdpYXaU5ERCyk/iyJhfYb9imAQy2ZoohmRYDQrcmamlxWaZg0YKAPTp1UsO1Ag0JYvxu/3EiWH4osODxBWBUsSxp4IjCPoNxH0Ldtd99PIPVR6mhL2crpKDsflSh0VP06dcwznk6LEFlyj3QzTjigjlMRJEK073PzDJjPTxvqoX9Kw/OsNbrIrpI4s3B51fXnccW1760ryDrV6TBKmzZtYtcvN3DZ6+lUMlaxYOhWsupbTzfq4wNVUlrqTdHUucfz2fPd05ow2LS+t7JsZEHoig6lTP1bFh/PJ6ZuVLg0kfWSKqg2uKlI8Fq0n4t1w9G3T1UuTyS0qrdZkkPXzb2G+lp7owNWUfk2Cub3BZELnSzrhDR6YPlJFKvii36zP0edJ3lwENa/t7aOqFOdDvc0PDzM+at/zdOW9DkQS1kiHtWGWsIiaCKh3E+1zA9Y+aFZEVDz5SqwuIqdQNF3T6M41nqd0ipgNp1OhlWSLyxO6BxXAf5jgcI5oF92X3fRmeHmwXGwaLLnOfFM28+Z8FiptJ9P3YmjEsGLX9nPuMF/q1XCNRCu01jSvn37uHPLD5i9bF6HN3AeBnsgb2HuhMR33w3vXPN47jdl/IeFQAk6wXCZoW6IYFaxdIgKGrtl4zfLoKCH7ArLUy8qaK9/D/gUfkGNu/tVGaccYw7FeZMl8NrbeDWq4KJrWOVaR3DtvXDrQ5SbLdoNxKr3hXvSyoC0C4JlOswmvadF+1lqWc9S9jfLdmdKlewDwbbX8ODSOfzorh/XKuE61ekwSjt27GDfY9tYeEKFOqasg7Rkvht/CDf+gLzpfJUh82XmvGXLNyqu0zW39Xk9OLkNHS0LijIo3CyAqRHw98B/l1QlkfW3qm2ELwZfFYbvO4Vl/Z4NP6csvUymXjaWHQbwuuf9/FHY06xwrXpL7pHGGO+5inYpuR6AUEyAA3imQjdAXz8MLd7P7bfXKuE61elwTlu2bGHmcfuYMLFBoi0eRKIyBWSR5NJL3LJRrsKR9a75Ptz9qDN/SDHchYK4gKUFv+sWHocApqgANsuWtZW0ADce4feUCkDdqufPtx57me3A9RUgfplPcNl3XUHfos8U75AwXyr9/JTMnwPBKgPBJJlVy4xZPYje3bUIqgbCdeo27dq1izXDa3jlxle3h6rHnuHq5ru4sjrYrxKeNtjD69f2t4GYwsbnqQAAIABJREFUbxi8AcOVoqtVhcFFlLRB6iVcIKHZ/DCsu6vivjSK99NuxIYap6cC5xFW6OLsfuR81w0AFoTVwzjbcIerurD6izoH47IZL+UCNXVp1DqdV86FoWmUy6D69F9JdeV4mY1EwTVPYXAWUDHfuZI+Fx8c3suPtihHdd+tOjgKPEOR9Sw3OP/6lfzRte+rK8g61ekwSJs2bWLX9g1c9iaK1ZBlQVMrwq0VJ2sv4TJT2W5gW7eK4bKIb57vrh2BW1U63VagmhylPvS5LMMx8VwRqa8IfxHpyBYfR2w63/eQdw6oAoPdxmDRsj0OGG4SFnh/DNjl2Z+I8liBTRsGW1BYyPRH+5zTC1dMTK0RSkHwobhfxgqQG7AnhvM/1f2zUxrszkPpB2fB+j+uVcJ1qtPhmoaHh3nx6gc4acn41Mc0liTay1TESoNh1VYMC2UhOqW8QEuoMDxeuxAG+6zfiyyaAtHiRJLPcHDUwRSA4KtIrbZ9atWyZYsAcahuXHEE3kt7gE1dAl/3/JT5Ops0E3hBoE/iYGfvPVcFBCu8wRFv3QXX/izcoSLsz3aHSu4ZU+nzp0Fw28IlBtVKAzsmseSFr5xCc/DbtUr4QNIRGFSu9hA+UKI+pcnMKxYza9kMYlpIHRIu+5t6AIv234hEf46J3PBxgZyl3n7BqUslMTEC1TGXAoQQCKGyHFHc3ZlQLodNAtAvsVpdKlxaL5oKU8zLf5lze6g014We1GZBQpu1C9U5JGQQOAYY1bvn+iQmDphtkPl0G4hr76b0nLYiSGySrVQSTk+MzxLwOXQObW3Pp72DlWMZEQSuRVKoSA87KYsCZBqoLukuA8BVobALgo3Svf2qmH8SzHPzqtX9zJrfk1MIV1UHpwpg0baFsP/6lPozlx7Lvvf00Wi/kdZpTG99hzLVQeWeMmnHjh3s27uNhQucesk1onVzXDAdh+ebPwMY0ZWDcCqRMuWH+Rtby/vKTdes1/U99imf7HW7AXdiWDkJpjhqKmENIxQKVGJVWIkGmUl+0y1PNe1rsJ1obV7SKRIzda6J+RPpdY+S70BN6E4pZdtKGM4orXrWZo92J63JFwEzKHdT6iEfNkGi30E8daOwrK3snVlexWO3rKc55CNcxf6kyO8q5HEltXfweYSDFFf1ES4b2RRBXw8Mnbqf4Q/XKuExp9YTUOfWQeWesulFqx9k8rERE/oj1EiLpCWRcULSkohYIeOk7Q0sDBQ22acSDk6nYGvpVF1RjFBtKL5TV4pE13WOMhjKHSuqqEZDQPciXW8QaN6qLoFvEQyF1E/4SEt9wLJqzf/KKbT8BGCiZ96xWEOY95TCe8AxFRZUAMGBm29oMsw3VhHKclZWKgUh+A8gtYrQKuAERCLAeA1LkcFgKdO/QjJjVsSLLh5l4sjDdWE31pRw6H3866Byh0/atWsXbxx+M6dufIEOJKc8QDjRweQSDYSzYHLCAcNlV97MY+CvdALTZRhNdcJhqRCNLmBwlcBvdsQ10/JywbHezsB4GGjij4xYcZyNMEA4thpaIgXEdmBZFwC7nyPygWpsxZCvfBYVgbDrlmArqlzFsK/9J4HjrAatDwib86pMg7MbdXWZ0WPIg7BMDl0FEBdAYRVl1hBpvWZD4QwE20rhk4d6czYSrUL/4EwJnAHg9Mn0WbuEoPA71vw+113xMRYuXFgXfmNpoB7KVAeVe0qkTZs2sev+DVz2Vl1O+YKwFZVD3UBh+8WuYVUWFaNC517wq9gxyQAIjkqAsAcGE8OiCG+UaknaMFAaXObqWL1dmeTj4UG1YbDScxpcICzoDMw6wtgD45j9M04M7eAtdPaJuhBZko4mKutP9VWJ5oCVde3a9bLusBZRCcT1wdQyICwrAmGfSt4X8KDCMKhGBMtPLoe5/heX7oAwEQzOhvVXpyrhjRs31gXfWBqKdVC5Oh2CNDw8zHPe+EtmT2yiRlsksUTYMLiVoFoiD4VjNIRSmYI4FwjdbxchQm3EhLCqssRbuFvAqwqaqmXN1sUUBxqDcmeNojrvaEgNYG7gfIgKxVzR+QqtS5Ssq4qvcNUOAxQZoKALEOxMD/alsSCU6cy3nhGlHFDs+AObzhARWzA4FigpSFqSREoSDYPNd9NnNfn3L3+VH9w6hcsuu6wu+J4CqbaMOAAYfPHaS5g0vLgAKGVepAZGKdvawQFdxXAqU0DGRNxzt+IP1jyaW5e7PmV9nw7BdwLPVfE+CBngigDoc8eGdgsri/yEZWYVIe1M2vgyQ19tIc13gc8F2kJ2ipzdLjpNRbYR9rDTJp1WEeCP/+YNbmcP5zXTUf4cVD53Jef72h/DrTs9DcoyO5HQd2Vg2AoYl4e/jv1J+74WHQA3ex46bVYyJXDns2ZD4UwZLJ1ntjNPXHsyb1v3zto6ok51epJg8J23X8GaS7ax8ETK1ZBNqgeNCw1tt3oLb7wzzaWewL347QCKvFqrWkz0VMye4fjGaklaFgd2vdmuV0XmKVw0wj8SaXZ/+xSwFX98sVAdKxi72EE5cNl9FSmKc9ZxXEJnimOk2TYR9nlzLTiECTTn2eD5v4I9jS6uZ1ULiNDvVexGSqwjKnsJlwW1K8l9E+C8F+1n1Su+XFtH1KlOhxEMnjJ0GwPHtlCxHmLekqhWOtTcHnauWsICwikUNmBY2GDYVg17/U6zz2t+DHfvoTywnKoGg8tgH11MVwW3qgAEV02iZPrzR+j9VTXgXhnQpeCvWfYe4O8qQOEDgcG565p0AYJD97N77M6Nk44AU207CJGYThh0zmwiVCv1DFZxCoCVfm7Tz+lzvPBZj3P3nhtr64gaCNepKJlActOXndDhEZz9jby+wi68LQPDecgVoRAMDEa8fu2EznUJv6oycQLPdR01bYzqz827Yd2dVFeKFASWE1GminWzadyaBq7Z3BLg7MAuul7CEWGfxCJnBNeLODRKEw84lsCXdc59bx2PURp5sxwjeHdazysXwtAMzzrKZNCCYiVT4H5xA8b5IHD+GZF8cHgvP9kSt3/Lno/O4HCuFUToc9zxjEaBZ1lyzNL5/OiurXWAuSOo027FihWsWLGiECpUna9OT27asWMH+/ZvY+FJBwkGV/EbtvwCVixJc2WIVtX3tSrAKwJ11r5f+yDc+li+LBeNDEq2wbCbHQ9cIVM42nSz1FnD06bM79LLSO0jfJ699t8DgcBlKfJcZvu7a0h9g3NWujIDwvYx2rlhefiHzl3uHDac82/Vv1fMhj6fFHks99VY7rcKecXHA/daNzYVY+yo6euHoaE6wNyRnDZt2tSuW0NQwZ6nbN46Pblpy5YtTJ/XYsLEZqosNPCoZcFg63MnFFadUNgBxD7VsIFja+emKsmy4fXe3yqAv6QA9JapR+30J8D+LmBlEdgsg6c+gdPyw/w+8vkGQ6eeKJTK1Nllfs+C1FbyRYFtlV3nsQQezC1cBoL19K3/mwZ/921EWEHkhG3JYgHhDAZnzxgtMhAcFz/DA7P6oOc3tQjqKZJqy4gxgoY3Db+N529cS0wUsIkI/7UtHjIrieyz/V32N9LWgul34/ojliztJWHUWl+CQORcV9ulrClwjeFuaLhqVasI97eAl8KiY7R3sDvstawmjpy/tjWFWVcjW04k1i4laU9ZRGoib7yE7Q46YwMZWxWRad/EVqXhK/TdQ4+chq+rNvZ5B4d8g21vQiGtClJ6NlLk+xd1lxcdg98ewncfhCBwN37Cxv6oyD1bGAOUFN7+3urxzJrfCKrpw0rgTHmsurCJ8OXnXv8m/uDaD/LJq/+qto44zMvotWvXcuWVVwLw8MMPe4cfV52vTk8+WNi1awOXvdOiiUX+wQnlnZhlfsN2oZ3A/FlUjl6eM9ONS+pWX4USGvLqTrt+DgmsnApTsCofy7ZCOGb7whlTKRLn/CmI7IrPVNMiqzdjbWGndJ37NPwuFuAPoF2koipqEPoak/auSsKOCa8FZpNZTAiyzuR2Nas0CAaaSt925hy6PryWd7DZsPBJoq28fKJ1jaTnZaIb+4iqMLbIr8qTr3w1WQyBKsFhD8Amwmc9MTgH1q+vrSOO1DL7zjvvbNett99+Oxs2bOgYfrxs2TIGBgZyy23btq0+gYdZGh4eZvkb93DCkokkLdr2EKlVhP7bUpmXcCtJ7SRaiiiOq0Ph2KMa1hXH0kmatLYIqoA7CJzI11d4IGBIrVvFX9aue8x6X0PmHVw1OF2oaVwGhH1Ac95hfi/5fIOrKIPLgH4V/1+TJgKTCrZbVS1OSQdBbt2+yIIFquGhCTB/omc+/TKVBW60XrhMkLgobxHRVgVLQWIAsBDaLkKSiLyPsPn+ea+YwW0b/8NbdtepIJmgcocy1UHlDoPrvG8f/7nlh7xq2cXEjGoQq7oCw4njK2z+9wFi4QSmc1WUWVA52VkcCYPdMNYynQVTqOEcOQWRO48qoaQJDEyAgV6LyJYBYRcCJw6Ijvx/hdIQVVmqWpU/FBcIR07jVFhAOCmoeBKHTRcJnUOB5Oz2zzwy32BhNU7t4/AuXKbI7VKBHVx/N6rxKACNPfdazgdfUBpa8ZShJqNE+omTOfVumRI4cRTHthq4SjYq5ClLF/Ddu/6+Vgl3m57goHL79u1jy5YtrFixAoB7772X4eHhjsWmTJnCFVdcwbJly9rzXX755fX1OszSjh072LvvHuYvjIgTXZfKAgDcTbC5sjowoTsQHDvb7Gb7klIPxLYnXYt8HAD9d9H4PATuAMgGXprttZzfnd5QkWgo3C6nrdcL7eFvBa8m8rRPpFW1u9w+6RIGh+azT4UIsFJzSYfwdMBqlW+kwXbT2GGoVBlsOmnxAGHh9g4bK4gm5cHiXM+pCH8QuFCsh6pAuKieD9T5K06j8miwAwLAzrSS6QiixjjJqae3uH24Vgl3lQ6DoHI7duxg37597Tp4y5YtXqXZ3LlzmTs3cxHdsmUL9913X30ND7O0ZcsWXnnBKBP7+1CjSVtNmIJhSRIrJ7CcJNGAWLXS4FVt2FsFCsequJ1YFvnNIXI+8BeyKChShPpgsPv3VPIdolWgpY8JUgKE3VA+R4qtt+sbDP4+1qJkv67Yn4tgsBsTqOhegGoq4VBHgwjB4NDLjAcMD/bCYI//QFI7CLxZxRoGSw8MbkmUlG3oq9rewQYMZz7CSJgxqwd6d9Yq4W7TERhUrraM6DLt3LmTV615Pcu/9v62nYMJXNWyAliVZdfrNynJthexDcISJD//Oaxe9XgHKM5KptBnypVKVYKddNtYKLM0KLMpcNZlhmIK27dP5FfxFeB6ZxeMKte1c/CNHrb/lqmDQ1YRRSw2xyIcuwi0PURpkDcxxoaalT+0Gb5yN9VNk33XvExlbL8CiM7PoWByBzPbfsFFauHsmc78u5fdfDlrPnQ5P//5z+sCsZsG6qHMY+wp7evra8PgOh2e6aabbuL+net55x/2MaJ6GKXJqGgySoNYSpKGQI3FO9jnb2r7GhQMpf/b29LcMZy+WfK5yNi2ildwr1VxlQUMDe2H6x/bi98n1qljIxm2jWhbS1ib+wvg52Qdoz4uKujeP7Ho/RtPNWi/NriH286WJUTDsYtoGJuqRsH5dr2jzedGwT2g1/e8n8CjBK5hkZ9wVS/q0D3p7lOZJ3Zvxe1VtYqwppXOiRS0RGQ9400GZvXw1596iJe+9KV1YdhNQ/FQ17nJoSnrd+7cyXve8576Gh5Gac2aNZxz6SMsGpqQwtqWav9tD0FvicxGoiVyf81nnOHrRVDYdEaGVDmv2Q4/30teNVnQ3igCf75BkFVsHsrUpUng0awStKwslfnt7gc+fYTcX6FY9lXq/DLYXsZefw58LAD2y65XlU4G9/4r5C5u74BPRIcWiSWkz6GTaSlEi+wZjRWqRd7ORT+TbjbPKHoEgFnHua+ZTjLrO3zkIx+pC8OjONUK4W4J+kA/k69bxYTFs2gxaoW8UjkVsKsIliRtewnXZqJTEWz/b+OxiIQ4B7UiYmbPa3DFn47XCmDRtoVof8bzWaowsIvIq3VdhZHPNsKqTb99D3zlp/DxF5GX5Bb17vqmfVHX7c/WvgmVWUVIqSNx6g4yATwfeJxO4VeDfEBmG9y6FXviKfRDUNhnFeHa792spy9xGartQygcu4gqoLxbBY8175pnQP94yoc4y0DngWvSHMjK6pjo+EwGhgE+cPnjrHz9BE5Z2tkZYsNcZQWeCymGqyuCGx0e3ubzuJOPZfJHXk00b1pdIB5lnX1r1qzhq1/9an0yDqP04IMP8vjI/zB9bh8tHZ1cqKxebX+Wuu4VKhvWX2YfEQfKtiKbhgRWLtfLNvErgUMWFt6XCl0B2fVbKKK6z3shgg/9EpZOgAuPCTQmYms/7J7KyOpQcbOzL0KkNgrtdo3pdLUUwlZga95CNiTTPVzpNLxFSSOuiHuBP2iryXa6HHgvqcexHbwVyxfYtYsQtpraNyLGB4ib+DtIIzpkUJ9YBOObdFo52Osr6mT19UZXVQcHPg/9AWz5a6p1CI9RFawiHUdA5mMJtOtrlX4WPYLjFip+9rOf1YXhU6CsHxkZYc6cOfXJOIzSyisaNAbGM74XxEiCjJMccDKBqmjR9iO1LSNknH6WcZLBpgIobNp0XhKr/141CPNEQVvUk41jIlQbrJNQzSZCAe8C/g9pv5kqgZV0ATC7hcJmPU3gcOtCe5RUnPW6LuF2N+8CVQLB2arqY0ktpIruhSowuAwOVx6hJuDbe+Are+HjJ4QPRqA5h20JEXfaRBhFsGsFkamF0xc5ESuEVO2/spWgpEDGCVOOafKCN0pmxFFdGB7NfLM+Bd0Bg/NXvpwJi49rw6WWVg+azy3P5zL1cOfQdn9wuZBSuGdcxAknN9sPdhuwaSjs/1wA9goaCl51qPPCf8ZceNdzxwYkC4cw+rz7rOWkyDz+rFOABKaTega6m7RFt/YpccW4okJlbNbtKo8lfmXweTr7hq7mFMKSajYRPuuGLtXZ86bCtAmUK7fL1Mg++wi9TN4qQnR+toCxkoI17x7PCYt6vOp699kw3TC+YI1jgb9ZwLrsc4JkwslzuXj1JbVK+Cgq2y+55BKuu+46Fi9eXJ+QwyTddNNNbNu5gbe9dxItmrRkg1g2iEVELPQzKhqM0myrh1uiQUtEJJGjHO5WMVyghBycnuZKquQylbC7LXdfejyA0YGPa46H5dOpHrzL3mZv4Fg99YWIMgVtThnsKISNFdJ4/CN4ff2GY032+t1AsO62363fA4R9ijyB44wC2gRv9ap3fdfJnMsuAqstmQxRkUI7olMV3PTcH/b3jYK/ZerdJtz4HjpVyL5tNrt7vlQjBcGxkP5n14zE0c93LCNaosExc3r5i+v31Srhw7icHhoaYmhoqFaRHWVpzZo17Pztz+gb32gHs0pzgkhS2JvZQNjqYSt4la1MjGUhFG5725fkk/tgXNQdaKvK5aQHCJaBwMsrwOCqELhqfejbbxvuzDzM7qXxwLkHEQbLguXKzr+5Rr36nUARVgmLwPWX3dx6XdynZ0yAd82g1GekrRQOBJAzz19bsa8/+1TAbTsXk/Vzbk7WpGN6ufVb/1SX70dxqhXC3cDgS17D+Ove0KE4lDk1sP9zkXpY5DCWJHHcU9OyRFlwK68UTpDEIkKqJFX+JhlQE0KlKgtU2EPY9Qx2vXwtJVJueE6g9po8ASb3pgVOMJiczzAp5JFXwdpCJPrYkjxMlaSegPbh+DzcG6Q2x4pyRwyjKq4QM63D4cLOM+m0GMzBYBOpPCo5N7IEDo/VRqLM86+b5TzqJmWdJAOD24ohnRMhmXt8Q3sHd3aUuJ9DULgKCI4t+Ov7nDidN71XvYrXvvcd/MNHPsHJJ59cF5KFrYoh/UY4Ea777oGvb++j8K7nZdOtkRoGH4WQ4Xs/uoo3vnsfA3N6GSUmUjFSJkghUIkeQZMkqSpYKlQiSJRMp7VyWAiFjMw8hFXBkmrB3GJPfRU76/EphZMAGTV+wGbZlqchUBS4swXzJlrr8e2zwD/Sp0VxAFFbKaz/CpUphQWQJNpbWEAs9TTlEdrtTtkDtVoTARjs5uPJgv2g69uGsGyatEK4qQoCyLkvAzYkdmFuKOhrkW+wz7PKZLf16+vo9S0nu6vXh06mOPCcr2M+8H6g9DKJ0P6EaM9CIXI5ESJVMslMNWzAMD0RzzhLMsJWXvrSl/K1r32tLiCL0n99G96uvfCffjb8/scPfJ3f+wp8+kPZ9KO/hZecA8C5557LKaecAsD06dPHXN7v3LmT9773vfX1O4xg8OALtjJ40nhUolBxZiIvdLsUbEis0nZoYnkFt1TbwzRpyTQQXZwqiKULhd1Ap3RCsA4q1wUxDVlEFAx47RgZqgJ/T9BtyLgiFHZ30VXnVXFk8cV1Fxx0a9GDliJScZbvNchtIlY5dlnQ9q4KhSVhT+iQ6rdKzHUXKndDvCc30twxdMpzAwlAWVDYKIWVpQI2vsDt970YRJQHv7lsb0CBSgQqEZz6oibf+swX+MhHqMvpsvQ42gvsEKY6qNyTk0ZGRvjvu3/JWYuPI9Ea3dTSIYVNRdBXVATD6To7YbAZOi9ItNmEbNtO2Pnnv4CP/PHjfPrz41BKWGBYoYSxkhD5Glc4MDgEhYuAsC+5QelCQNheb1ICNYuMeiI9HEhlXsJKr99EPzfl6ZeAXwNv8uxWy3nniAh7OvkEXNLTSHXbd76RoZLMJkLKPBSufA5EBShcpurV+UPfgKXz4cLTDgIMjgjIrEUbBiutBjYNwbSB6FP2ypz3rwuDE/27DYWrguCiz9lTloHm8Scfy4/uv5fHH3+8LiDL0u/fqMuF6OBUkvH4bJ0Av90Jn31HDYOPovTggw/y2Mhups0ZYIQWDdIX20jFRCJGtS0i0rpNJgqlzZZEogExEpHouloopEjS0SQk2egLF3wqwgHdkjzk/duvpZ/XvqQEDIcC3bkg2F4O/BZKrUC5b73sd+yzTUhjOqO7FcHgAigsFCQCEgktE3jO2EdYm/wwcCGpVYPLue3qYizvt65tE9au+rhCrk2lz6mUEOk6t0HWGVsIg6MADG546HRZvIUGPO82+NoLYGJIdVvU2+zbbpFdRFGdHpq3rPPZmrdtB2HV5e1pp463O4DN74nU9bbI6m3VEzG7to6olo4/I6sfJ0w+OHXu/OX5Ovf7XwHuaUPgsYJgu7yv7SIOr3T33Xdz4msVfeMaqFarDYbyQEpZf1X+OwOYLOVhO8BVLFE6EJ1RJ3a0L8soqoDX/BqumgYnVzChLbOHqGoD4IPDoQBxRZ7AZU25KlDYDpAmne2btB/4vG7zHk5prN7BdAFlQ4DYhcF3Af8CfKDgekuqq8q9ULjsRhQVdj7wbIgEiHWnTazr05a2g/DB3zZjUs4zbK3cgsEqFkya1kvSeIBf3//runAsS+rgA1vvNg5iqi0jKkKDV6y5hNO+dk1OIagce4exwiY/eJKeIfJ5uwgXds2a1+SPrppgvXijbSTyL+Eme33gytQjvoaHzt/eBpd/mU5lSVFU6zIFiqxQ0lu/S192AsytAF5R0BbCU5HbVhJN5zS4XvCJ01B180adc6dE+Pfd2wgMKcXK7COqKoYlrHk2LF9YEQJX9SjU+6XIq4Bz96jMwPAH//BxvnNb4lilZEpdn1o4myf9e6DPoy8ApP38L775Q7zpQ++prSNKG6hDaT5uSTAybleZKFvn8UNwbB7mzp49m+uvv749jHXNmjVtVdnOnTvbQ49HRkb4zne+w8UXX9yetx6W/OSnm266iZ/uvJ43vHcwDTBFDyNYAeVEag0RRxGJjFKAJCVxJNPv9Pfpd+nQ8zQ39LwRcSQzW4mi4fehwHFNWPn8NBcG1vIFdWuWfA6tw8kf+gl8ZVfJfvoiqYX2LRRwzGOUL6KsnlI6J+azU3+uBuYH2jK+QK5VGoXS2dUo0G4CuAK41922vb8aAEd2ALkyW5GywIF2YLjQ+beu2SeeDeP7KA8MV2Zt0oPfPqLsnmrA0NspD3rY439WjB1EEom23YPJiZQkkX5GZZQ+k1FEEmlPQ+v7lmy0n/H02W/qZ7+HqbPH8YHr++oyuixNmJzVjTOOPzh17oRp+Tp3+rzCXXjd617H7Nmz2/Wqrf696aab6qHHh3las2YNy97WYsEZU0kSQZLINMdpVonwQGEHELeVuaoDHgvLcF4kqu2LWgiCPSTwqpkwr4eDahkRGoTpg7jvAB6rCICL4G+R0rUKVC1a9sn2E34UuKnCfh+s4y7767vF5pF5G4uKwP5g20V8+zG4fBdhH5DAC47AQGGVHyFG57NnRo63n0PnGU63kY7AM896+9lPBGe99lj2zrqjLr+PwlQrhKukgYmI697KuMXHktBqh3xzg8HZyl3hWEGUq4Tz8/gbQImGwnkcZrbZMy5hwckNFC2UEggltFon7dG1/wql/L0NPrsIm3aGajwBZ8yH+cdYy/ogpM8eoiiX1Xb2cCD9NzKWBFolLGU6hMIcxgD5QMmuM4YZFexzt3ArCbe30a6oQiKdl+CJESczZbMUmVpJFIUsLRpGHJWA4CIoH8G8AaqpiRpUUxk58uicWsgLhgVvedd4+qf15GCwTylc5C2c+XyXwd/O+d0gN3lP4vRz38nzGP3Im/QJq9Phknp6ejjrrLO48cYb29NGATwwMMBHP/rRNjj+/ve/37FsnZ7c9OCDD7Jn5EGmzpnLqK5zTY4ctbCxkJBCqyBIUO3gciL1OdR1rRJJW1Gcfq8tJWSSFq9FCmGPHcTgDAuYhFo4rn2ETxHsqoNd24jE30Jdcyr0G0NcW3EcCiwXE/bm9ymE3WCu9vpaaf2k0vZDCldV9ldZ1hFzSYfTjuIfuumrvuJA41B2Viftuth2w7DXv5bUoqn9ndlf669CD54KBYDz1Zk+e4aizlNfh617OnRxAAAgAElEQVReZsl0qtlFmBcNX/3qs44o6wS2frtxHXkfq6jgXcI6lvRdy6P4lf7vlBAkMmwRka+Ls3qanojB/5+984+zo6rv/vucmXv3R/ZXks1msyzrqlEwlTS1Pi1qQGwx2oiKijX+qKLGVduKxCdYtTxoU7RYQo3Ko2mKMf7CWFfLEy2FaAtV1FSjImpEQYGwhJCEkGw2yWb3zpznjzkzc2bumR93AyHAPa/XvO498+PM3Llzzne+n/P5fr4LvSZL+DFQ5s2bx5vf/GaWLVsW1UP277Jly5iamqoDkNPrmuXRKy96Xyf+vG7a2kBN+SjPDzRI/eRiAk9W4FcjvUkQStWBUJlAYJaArx57TmsxnLkywJs6PpZwWirifxPM9/nYk5xCvtSEojipXRlg1JxgDY8xyUmPpp5wlnZwFverqMgCQLYsBms+Xq1AR4afTwEQXAQOl9YObofhWSUuNuM5ULa+Z0zOCJHTR43+plSqn3uaRCgF3XOrnHVhN6fW2puDZBMQfmKVXbt2cd7Kv6Dt+jVaKiLQ+I0//Uj5NwSIQwmJbG1hP+N7UA/e9T3dN2PhCCcFeCVBYYnEQQo/0hK2AcFRZ0egwmzsZHhpDvWxnTmxL90d0N2acm5lDjCctc3LAYNlykFNOUmhUy+10xeuD+UjpAUATv9kbwYGCsrL9vaTlPULWVaOwWaO5CKcHAtUBJ47JQB3p2DbDJjieeCxyQCuY62bTiShdnCgH5wGg/OYwvVLdkLHbN1gmWIGi9RnzBhuPW2Y177mTXx5zVVNLeGTDBResmSJdX0IDmft0yyPXtmyZQu37vocf37JkyLdcDcFCvs6zWORhITQPTawdQrhi3gyNpRS8gOdfSn0ehsYbAN8y65Ly1J4GeO4ZwGG04YqJRsxNEd/D8FeB7vMhUf+pGuRprIJEHuxFxvJNIVyEZod7IeSETkxrzaZ5izHiwIfKS2NnC5P0jhnAgzWS9iIMLPQ25K5Ohn1NE25jKxSnq3NkotI35Q8MHiG0hBLTqecDJSZIFaCryS+kjHQmwkCl5eIsCViruHSPSC5+JpKU0v4MQIK26Qkyq5rlkenrFy5kjNG7uUpw1VELXgbFkolASK9+L5Aqph+awd7y62rA70yZCKsaFxJ4E1Y2JWihBnMAoWfQr3UYJHURBZIbNouU+mpjO/ppG5hAX54QktaOzjvVaSsry0o5IiVBnZtEcFQrMhYpPJQ6iEzDkhoB5fVvlC20xn9TL/U5PY9EeIkQX8OAeDQPgcyYbFGeM/cCjdu/ho/uv9IU0v4cVSakhEFYPDyN76W6bVvrwOebGBR+vvxSkh4Rui7n3ox9lMMST9iTTr8+MeKi0aO1INuIdrYiAxAGTaoUxJ8tDlYWRq3sgEg1OKoSREkkzMZuFImL/cbwGdoLBcaFqPbSP62unOE8hDECfAk2DV/y7Kn8+7tDJbLroMtt5EvFSEbeE4SCWfs4LAvZIoNnOwPaVZwI0njykhEqIK+nV6m11zIn1/yrqZ0RLM0y3GCwV/cuoYXvbuTnlNmRTIRkVwE6TDykhISMl7CcHVPS0r4TrwoV6BsshF5IfsurP8GrP8mxaH5OfIPuefMO9YM5W8hlieoWq6ljASCa/lu00fSi8QAhQ3Kb5hozvRX/pFAq890etP4e5ZkpM0X8jPqZDjEoVREWvhRADIrcYskX2bDLXmfbTIeLfb/7KzNcEgV/DdZEidlJCfcnOes4FkPz6f0OrP/eGE/M+rR0rBEhL2/q2oLzzi7m+e/56GmdESzNMsjAAb3/umvWXCag/R9pO9HmqMSP9IVDcPIAy1ggy2cxwbOYCnmOlhQKj5/+S7YVTI7aRZ414g+rM3GlNUezgIuba5u2SIy/FfzWo8Bn32Un68sf3kmxKsy97pscjjzv9wBfJjy+sFln69SD2TDaHOyjQTzV2SzgU1Jl0gr2Au0vaO+rfu0IACCpR8njPy9c6vcof6tKR2RVcKkco/k0kwqd+JKmEjujEVPSSWSS7KC09IR4aeHREQSEuUTzQUDU1xzdecN25QGO9jTQbRxXfGU06u8632zUNpLU1IE4bJhmwbwJkTO/GFRelRdbtoBW34EH1tBPvtXZFiEIqZwFsM4g7EsVCARIb3661YicPwk8HzdZ/OULdK57myzjGXw1s36f3yT7XwhcK0CIButY1g6U3keYJ53YaLcf7HyT6CjnXLs4IKM6XWsIT1JEeoHv3/1JMte3sqZL3DqpCJ8i0RE+nt6QmVmWsEiRyrCrMfbW04bZsfOe5oJ5rLKI51tdaJ5ix8PZf/+/eyfeICuUxbrRHK1BEO4niksNae/VlJCIs0SFjGNVY+HEh9czRTOYwIb9fP/VBuKCtnMYJNuVPTSb+6bptIKuOy/4dl98LKFJJm7piyER/FkatoWTFMvbxGyfDNePoUKbFeCLWx4yKY61euBTuwM3yyQ1/ZK4luO8VM/5++BtxEwuKJjTTqWXilUgfMtDFDYNgFq6iwXzQa7FE+oO/Cpl0J7u9FuVm4Al/K6/hmz1UveCLd+mXLJYaOJ3OBafKX7oWYI+8jjlIhwcyd3I1tddeldKJrSEVll+gTY3MnmbX48ljvvvJMnv86nvV0ivAAAioBh01c1GcOmhERoToUydHstOqY2YCptGBoAy9b2Qa8gP1mqKAbwihLPhfuPAFcRzMWVkS6ActIRoR1KqzU1Apam7WZouk+klvAhYAuxLi9kpy0SDbRrS5dTFEUkcoBa2/5P0r66DQxuFK8tkoy4aRK2HIOPLaC8sDU5sxBFfc/crl+ebH1YKKXj4OPIcun7wT5C0N1bwa+Mc989zQRzmfjZYyypXBMQzhrMDh3i5SsvZPj6T0WAbwz8Bt0kvT6pLexH+8USEuWA4YwhxdAZVqng2WS9tcNlaKHCV9M4UkV5JEWWeFIe+FtiedZTYbg35ezanE2HZPitwK4tbAK+WeG1IRicnlpUMaCqPJAp71IZzt88/d5cy8GhbeBwGJpjI+Fm+XgvIpkoPFpU8tgEGJzFni4Ci8uAwOZ0cgFoMDSPhli/jbLITf3gt13URufcikU3WJZmAM+EKZzUDI7BXj+HFaxS9VO/ciVvvORv+OqVn2hKR5DxRvpIFb95ix/rZcuWLXxj+3peveaZTFOJ+lUSDBaBfrBlaUxCItYRrpsoRSCFh5QqkO3JAnZNLeF+8rWE0zrCJSfj6jQVtAFa+cfQ4WhvNK0NnOXxeJRPox5eW83St1JobQgISxXY2wQw7CebPdWwueFp/Iyf6Zd4/UgfYzqNbwHqfCyDBRzdfl8ncCXFclYZ3qgJtpqs2TJSCyVlHs44hfoInLxQpCKgOWf9pr9Pgd0Fxyv9zuAh8ZVTBwo/nBIRpo6wCQrXcOkaqPLma57clI5o2txmeZjKqlWr+KO3+yz8w54EEByyhKUfSBI6IhZVC4Fh3xNRAirp+xEIlclSTDCJcxC7LNQzZbsWtWrjUiQETHnSpQ2PDnGe9xIEdkA5k0rOOpsyhulONyL9YMpH2NQ3TpSWsKkbbHM7G5WJKAMGQ3mWcB6Y20Zy4roRxm+j+sHPaoXhNoqp6Vj+TMtzTY5Wt9kfQ5A3ShQpAnJWEA0QoFhmJFUIBAtfIYWP70vOfu2pfPfzP+TKK69sSkc8DkoTEM56l/I8fnXnHTx90UI8PAvwaweCszSGQwZjvoawn2Ty6iU8RwCOJY8xgWRbu1L69WE5MxnlcmYorNrBNpBRkR17I3LATc843iE3sV00WPoaFPZBeIGzaoLBeRLFaRA4LZ8cXoqNKJtFzJ1PnBcmzQ520MzgtG5wloahLTFc1va86c0iwNh2Y9zjWArADyUFpz7ZZVoEusFpXd8shzF88mul9YLrj8/TCC4ChsOlctpT+E2TJdwszTKjsn//fh6ceIDZQ0PUNDMh7I8xKCxRFpZwIuGciJnD0vE1EJxMNBeynYRQyawuCe/URzp+MEHnkZ2UzS8AgPNA5TJa+5ZlaB6xdrAs8EC91PesMT5tl6fL2X8TFE6zhPNMTRbGbJN9sO2bZgg7qVeBUDdYWkBhkb421WB4p0NSTsEpsM+2JHRZSeAakeJqNLmrZd2S3ysBHhvMYCVStjDNEhbZIHCYZC4vcZxtQreOIYyEqsPchbPYseMXzcGzWZrlYSh33XUXf/hSRVu7i6jVovDwBDis/Ig9mPY7I7ah1heO7EOOjmmuH5oVNpKFkJZF/gp0hCk4lQCeRnIOOJMdSjFb2Eb6TOe7KTu/E7blGHXTl/U5MdrCDtCHPbgl/G0zzdHjYI/oKUuuFSXAXCz7ZslZHY9+cLejdYOxgL7pmXKV83KUAIYtesEmK9iUiJACfGUhJYpovxAEVlIkgOHuuVU8d4L7djZZwo+H0tQQtpRDhw7x/OUvZsH116RCyYuTTNkXURfunsdarGWExdtekPPW/+THiovedjToxI5lcQXqeJifefIFWU6mYyCjtgHTFhZZhu2SQdcVTgCy5iTIZgtwTY6/VUayz6U4IXeeuoNIy0SUdNAKgeAssMClnh2c999JuOzLsGX7zJ8X5RI8c7ZnUYo6xpDtma7lAsONMYOz+mkeG9gmI2FqHfd/5eP8xWXvb2oJN0uzNFC2bNnCdds38Io1S+r6uqkfOkXVqi8aLG6yLipBG5F+qakvbOgIO47WGpYJjdNwUWkDkF4MQ3DlF+FLN1Ksw1pGYzZraXQizsn4TIORJrhZ5KWlqEdRtEsaGMbO5LkKuCPVnE99MhxV4jLSDq7IeK2QKVBYppY6Z6zo5JJs/eC8e96A1vBZn9RawtWCZy/vWcp7FstoWOt1qgLKEXX9w3dk1H9MnWBTOzhcXxNuQis4s+8ausFm3w/HhNCGdw108LprTm9qCTdLsxxnWbVqFUMvfYinPmtOBEKJMHTcT+qHSmW8HYtUbJ1SKBWHoce4bzZzsXTEqg0gS4WVLN8NuzwKEd8sEC8Ldzbk8QvBxCJ94CJOVpa0QiNF5Lhj0wRawuIRepbyXHhnBmAw2GUmiu6vpDGGcPqadgAfyngOVMnnoPSEhy1Eyi+YFLGAwSYQnGbiJ8DgUB9YBVHnTro/Kz8ZIWBMDpnXeNbrhjg0sL2pJfw4KE2GsKX47a3s+ec1tC96Kj61SAs47GCmbnBjrGG/jimclo1I9nAS202Ayou0ibOZwk8+vcpfva8DLwwhcFR9PIrIGeVyYjVv+ils+Q58bGUBAGluC493KKeV41gGQscyM5YeYE05Cc0URjOFbTO2oZawqVRhy3qeHnPdHP86rR38RnJCiKTBDC4AuK3agOkLkCUsYVlZCWPdyhdDRxczT0qYEf7qI3n/eyY592XthnZwenEzmcGNTLbYjq2f1ClmA9sXB+e0hey/8r1MDy1oDqTN0iwly/79+9k3sYeeoadRi2JhtHxDii2clpJIx8YkrKCQ0chQLyHhxy/Kxpu7qlvAkQZT2KZ17wE1eN3LoRoChTNhBpsGKLVc9jV49qnwsmeSTTnKosCENKb0pyknoain0mCxt7bvFoBVks2QWkG9lnAZJzPPrwov/QpgJbF2sG3uWaajhbIy29sAcJt9tNnmrE8baJzx/VNv0FrCboHNLjt5b9SXvBpu/X+UkoNSkqj/ZZEkTLawVSJCODks4Hobb5v8TZ+PqsOchR3s2LG9OYg2S7McR3nORb1M9PTS2g54tTjSMrJBqg4gSgDDeAlwOJaSMCQkLNqmmQbABgYrsjWGdHNr52gtYT/bYJQ9ZdokXAhcTSApUCbINku9Ke972szIlOtbRqnFpkkcHiuBVuDleui3SS7NFAQWBNrB/49AgzeL59UoGOxkuLZFYHwRMF/0W54CvBW7YkPZSeusl5ibjsGWKfhYb8GkR5F+luWhMeVBo35mAsFpjWCRevXRchLKFwjpI3yBEBJ8FVPO9R/aNbeFP3pTH8O1nuYgapYwqdwjWZpJ5R7ZcujQIc5e/mc4392MR80AgVXdy2gRIJynNZwFDAd9MRjOZQrwSrupNhfYrIdawh61YGBQKujcBu0/M7Gcyhn9fHjWaYZucFaSMmEBg0OthSpJIcE0WElq/zR9KAsYDsFgI+RWOcE4pnQHShuHubr5muGLu5aXB2HpPHn+nQO8mJgQbdWOcsB3QboZieTKMILdDEQ6y1pWLIBFEUtYwtB84hjcomRyFkZUOtGMT8wKfutFHXTMqVAzHMFkqGi+TnC6b+ZrBQtLgrhsbWDbUn8N8TZ52kJe+5oLufFjVzMwMNAcVKGZVK5ZMsuWLVv42vbP8NI1/wsPJwEEm8Bwpm6wXSwpuQhTQiKWZorC4wq9E52ITqpsCQkBp5xCrLublo3IkpEoIRGBp5N7hgxPkYF25n0XFlDYtLONSEml3g9CRrAJBttyyYbfB4EpgqznZbUE8xwvs403EoSqQj5b2LzOCKfIA4WzUpST+h/dEmCwDQi2rDvjSZSXkCgJBIffN/0jdmZzaj/lUH5SNJSNMBLIpSUiygDCaTDYZn/D750DnVxwzeKmlrBZTlRSuaYH+bgoq1atovuld3L62e0or4bySSwmWzghIaF8hApYhWmKRggOR1ISXsxITEhIZDGDbShtHiisy6JQV9/PQQspR0pOm4JLU2BwESBJqv0iQFhlmBw5AxAyCxQO3eMBw3Slb+lMMM7QDHUD55EMNDoeMDiLr0SOjW9EzzmPk9YOdFAvG5EFCltfnzLeqZ5VheHWVMNZ7395f36GfkWEKRmJ44RSWiM4kICoe9URgBIoH2SIEfkCPyIRxuviT+jqrXLjl7/GbfcfaGoJm/9LM6ncYxsMft6LljH2z1fQohm4hnlLsIRNtnAMAPuJTztI7FvAKyeh3RLsa7rC2SzhNKAstMKiwNXsYT+pIQMIVUNIVa+ppErMQmkGU3en1g2eJp9dahtlwxBIHzicAQZnvQiQAwybLOJoEAwA18R7g2c3tCYhuUxfK5PLpR+7dqIJBofOmNQSF5lCxEWgcNZFmIN9GGpapGNRJjt9HiBdwA72kXgidvhOebKjw8Pd3KRwWc6hDSBOO5yNMn5t8hB57GDzfLvWrGbZG9/A1s9/sQkKQzPBTbNkgsEbtl7Fc947TPfQLGqWqc9sYFikQGGRP5kTJpyTntYS9gMWhEiygXOdE+mDUnFERy0D+UwnkbPpC4sSYLAhUjjUZ9SzvCEbuB3Wa6nrM71Dr8B7E8UvpCYY7GAHhYucSVn+dIlAIpOBNKhNnO0W1ZlWfb2FDOgsmlHeCczYWJudzGMJZ4HGZUDhInBYfy45o9h+K0mJydGgh5qgcDjpa5OBKgKEY9k0NxcIjlnCkuGz+6mxrwkKN21us8wADD5yxi95xh/MBs0eDBYRLyr+LnwiQFj4PlLVS0g4qTdjKfwInFJ6XI3C2W2DfB74lcWkzDIwVrAs+3R5p386ST3eInawSn2GAKdfYFKyAEZJ43rCWaAwOVikKritkK0NLAiSuab/gpmAwUWvIo1IQDQy3y1zjqeB50XkiBJ3y0A/OPfZV5SL3jbWC/MfTiTRTWsEm9cTU4SVr0lbvp64CR9WgxWcEKQWwZjw1Bd2se1z/8H69Z284x3vaA6sj8HS1BA23588j1/s2IE445l1gJI/A0CpjD6pZ4BJ9QzIxoGv+jD7oM2fbFdctPIIHgFbwxc6+YcjipHNPJCySHagSI4gLRGRdW6XcolTzCRlkW6tBoX1opx6AxFeyjcItJUc8qUAy3w6Obh4CAZH12QsmSxhmeFAltGBlkaPz8uoVwIIvmwjbPk+5UJVU0vEFhLB891o8rcidrCXIR+RpwfciExE9vWlogdOezq/uvNOpqammgNrszRLRtm/fz97J/bQNdSTSB5Zo1hLPNAVrRiawlnawkld4WlRCWygoXcaL06sfVq3aE1hR6DSmqumPqv+fuVn4Uv/Tr6ua55ecCW77VJ6xFnRGjaUVuSgtVCKMSwysMk8UFgA64G7yFYWEjkAss3EldFkTHwvwwoWlgvIAuHT7zPu8S9nfQgOTVOsM217vmzawnnaxbot5RL1C8/UBE4toS53QlNYOlFfK+yTRt8NNIMr1KgUykfEUUMuVKv0LOxix44dzUG1WZqlgXLXXXfROrtGe2dFI4EhAEwma1HobdKQkYinYz2LvrChS6pU/XhbVrIwCwzLmAxdfgB2+dlAcWlgj+xok0a1aR+OfRsBbsy2bG5ZDfh0zquDzZY6Ofs/XJrBFNxfmJk+cBlmcPo8vwQuS52z7LPT8J+kchD5IoC47p1MRdIQkZcqLP0SL2D7RxM9Ka3gIvayD129LfiVCXbv3t0cVB/FsnLlSpYsWcKSJUvYvn17qf3D/ZqAsC6BVMRy2m++Ic6anAM05TEWbUCwKkhW5SXNqJV1mMeO9AvAtUBPuDO5Xuj2pCgGe/WoftNPYNXHSoDBRcCj1M5HG8Us17ztNsA0lVQuSi7nxHq9ZqI582c/Hzif+sRzts+8RHWb9WJ1jmWcRE44GVIRZRg/jd6zNqClARBf2L30lS+HpUsKvP/UNj+DLXTpqsN89yavIVA4D6Cd6cRNnn5wFuib11d9JWn/xijnrXwru3btag6wzdIsqbJlyxY2b/885645m2kqKdAnDxh2jH0qdUnnSgFQYcI5UWbR45axzpMOviNygbXXvQqWvcAA4Mom9koBeVdugS0/fniAxcxsLDbHJM/7Sjsp+rPIgbM5T68gYPVmvTKUdf4+BtxHuVDOup9iA4UbyQKUhxo0mljOMhHwqXdC+6zUs5Q3sWCbSNCfS86ztJO6Bk/KRB/wdD8o11/cBoDg+r6blI5wcoFgEyxuH+jhxdc8t5lgrlmapWRZtWoVfS87yunnLIjkIIqAH1NbOGQLR4nnlIUdbILDKSCqEPzN216EvAlY26H1hC02rqyOrABeDxyx4M5lol+ON8ncTBOiZV1Lut4CvLqEeZIF2ycIkrM3em3QWEK4472/OfMHmed+KvA28gOxrBiv5bm7aQpWFUncqePoF9Gz6WdPzKT6pqPiJHIRGFxiDDDXC1/xx69/Kr/iv1m/fn1zcH2UwOBzzz2XTZs2sWnTJtauXZsLCq9cuZLNmzczMRE8kE3JCF08z+PnO3bQ9XuLwPejJBhJeQiVyfJNJ52TqYRyafkIk51oD4xVVnmJdEBtVrK59NLaAUML0brIsdC4FMFAoIQKwhvy9GQlPGsRDPeRrX/oWcBFM9QgLe0Q6j1NUR8HY8uuaUtFHn431ff9IFxDCXBCAFYYCdxSA2jYzDw9Y1ojO/JWUD8xTcr/ezH1eWAcQIoAEHak/q7rUu8kBMWSEY0u0nAYHUolkMtLPDe0gFhLOC+BXcjUFjohjagHcC+8qIvOOZUCEFhkTswUsXgb0QXOZg9nT9BYr0FJlC+Qp5/GjoeZJbx8+fIIYP7ud79LZ2endb+zzjqLQ4cOFe7XLM3yaJX9+/ezZ2IfHUN/TA0Pn0DnN/yMrZ3N8iXXJTWFBW6Z/i5kiXgAu9BT2PtxPKRQ9WOfp/WETZvoBWOhKSkhspxvI6b0dedCW+itNSKSly4++axW0YAnSb0DkiVFnDbpad+in0B5qkZ5dk26bQX8OUE+AFseFgp+hrC9d+SB5JQA1SHJFs7KQmuL+EmtO+OpFmA5Z1JeWSbFw+vY9PGcc7rgEYDBeWSHIiJE2QnemjH5kytDkVrn2T6rDp0LZ7Njx/cftjHq17/+Na95zWsAOO200/jKV75i3W/79u2sXLkSgGc/+9lcc801zQG+WU76ctdddzFwtqKlqwXlTcUDoNKDoE2ewaovrKIkc0KpYgBKO3uCxkCuhLNWhIACi1zq9YQNJ64sy/dD1GsHFwGXNrkIm8lVOYCnKgBLszBEvwioTNUHjHOZyevStto2aRuWDoJEdY1KQhSpXR3PkmfCyzCEw2PSWsKNgM/pC3lWBYZbGnjnmkH/CGUjAvQpB3cWIpKJEDphnJKxNrBKy0WYUhFaayvUJQaYNbedI2r8YWUJr1+/PgKYL7nkEl7/+tdb97vyyiv50pe+VLjfCSuPQlK5O++8kze84Q0sWbIEgN27d0dgbxZ4fOutt0brmoAwMTu47Vs3ojwR9zOdEMMvSO7WaNK50L001wucujbqz+UjM7VORS4oTAQCq0Qu9ehadVYYkUfPkdDdBd1t1GsHFzFOs7xFExSmBCCcFToUOkCm5RIxKCwNMFg4yQ6lUk6tk3oHkhTLpaUx3H7qSctSgONoMDj8lLHOkMiiIJfRDZaWbea6lgxAoUG5CCtAndOeEoHRSTtvsXawm5ssTkVpEkX0KlnMEk47kTI3iVyjSeNynWMl45dlT9D69a/xkre+lW994QvHrSW8fPly3vOe99Db2wvAi170Im688cY6sPess87iox/9KO3t7bn7ndhB9hFuv5lU7jFVtmzZwhe3X8tZa17INJU6MDiYIpWoCAaKrVVy2rTeUgb9vFaqn+crotqmZI3za+1hV9aQrqp/qTe1ef0YDI6yOvuAp5I6c5bllPm6nRrlJRyygOAiMLPIe8o5hRJJW5rlgNpAYZuZzyu29ALhPKUNDM7DvZW2U7EjVeJeUBJUT9vGIi3hPO3gsmCwE7y7hmCwclScm8CBJUvIlLSoiTQjV2ZG3Zjwjs0elgOEk8CzV9Be1me4tA7M4exrzuU1r3lNJnjbCBh8ySWXsGnTJgB27txpbXf79u2sXbs22u/2229n5cqVjy4ofKKSylWbtuyxWlatWkXPSz0WPv/U4H1ViYTWaN1IG37UIYWxtjA+WhYij53o1duFRhiQabKRSTqiGCS2JZXL0rAPt51Gcp5WpVxYL+Uj5iWVUzlgqM20KAsAnYeT2/hSZcFZsy1JfcI5Gyxggkn9MwCDZQEgnCcd9XAspg9vurRZ5r8oaknawGDjRN0ipYoUecYAACAASURBVB1cRoukEaZwolmFY3aO8P0zPEwF4K9dKzjo10qK+M8Pk0JGb9vh6QW+L1FC8Ly3L+ZHG77H+vXrj1tLeP369ezevTuyrddeey1AHdh75ZVXopQq3O+ElpM4qVwIBp933nkJNncTEAa8tjZ2XPV/aX3G08D3I4ROIQKNwRRAW4YlnJd0zgYY21xbOy8pbjvNJ1Z6f4WoA4VDQPi27VN8ef0h1l0zKwEiR1knRcpBlSmDG1q/PJAwvb1IKL1CzBJOW0LfQGgV9VnfTABYYZ2uFca1SL2fUobz6sXvO2Gz3yAIP32zcYoso2RTq6jTKjSYwAkwWJIPCGSBwkXyGWY9DCGVDSwOxZnMJVz2cXj2EnjZi+rvvQkG2+UY8qUhVJQSMbkUsYST653chHHp716hJEQBw9hMxOGDfPrp/OYf/ompOXOPe5zasWMHCxcuZHh4OKp7Xr3F+dSnPsWiRYtwHCd3vxM7yD7C7TcT3Dymyv79+3lg4kH+11Av0wZ4G4LCaYA4Zg37UTxN0iIGvbeeLZw/kZPs0YHVDOxuNsMpPXYgwJEe0vVj+2CAwVd+Ghb0wuvOF9HLs/JElGkdX2UzhcNxt0bj7GAbrSdNS8pyXPKA0JTzEYLBtmSsecnh0qDwZ4CzgFMsALENG8iKZizKM2QFlfWkcQQK52lOkAOi5907Sba+cBEgbKw/6y/h+nXQ2YmVGaykwJcS4ShwVPDyEYLCGbkZlAOeiOUXQsZuGnwtk1SurIyZyQq2tdEoGByyhGctnMttv95+3GPU0aNH2blzZ8S2CUHidDn99NO5/PLLWbhwIQAHDhzgzjvvPAkcm6bNbZbssuiip7K3Z4qWTvD9qYAVqEFhgPpUq5awSou2cJR0TtnZwUJYpHrKgMOUAIMzUM7lh+GaKgxYxu8sl8vMsypT3UpYsOmy8gQiBzjOAoTTHKo8CVll4Hpl7KA5v/MvwLss53YKgNtGi8gB4I9XLqMRaQ4oJ1Flbv8FcC1wBXb+FmlAuEinIgsBl5RnCmcAhYFshYomYdL7KD8gPdb1J6lZ/zJk/ybHgvTYoFQwdvi+pGN+K898+0KGxILjHqNCpnFogzdt2sTevXvr9nvd615HtVpl3rx5ufs1SxIM7ujoSGx7wmsIHzp0iLPPeQHuM54RGERfoDxjFtSjMMNynnapVypDc+MsxTTT0QTPTFC4Xku4hb98X1cyjF4EMzvhp7KMnNt/Aas+QqaubCFLuIh16lJOE9d2Xof6VOMWixNKRoTArOMY30USQz2HQNvQyTiFyMBpNwNfToPCIj6fec5MMFiWuF9l7lH6npb9n5yS55Sw8jWw9H/lg8FKJzAMn9X/s+ow372plqnLbT7TygIkqwYYwsUSEXkgtR0YzuqrSoPAcThdMJ44Tz+Nl5x//gnTEj7jjDMiMLhZmuVkK1u2bGHT9q/yR2vOs+r+hoBU+D3rM7nEoedm0rki3dJ4ifWIbUv2ed1Ii9iXMkgKamiyKhde+2p44bkC5ZoL+I7+7ogg0WlqufJa+NK3qNeMzUoMVkmN9WWypcwk00sKE4jyD+l5sCJfhQxg98+A+dhZw3lA8qeAXZTPjk7KefZFMpeSKqFNmQueQzlBRNNO25LAVezbPvV+rSecel6UA8oR+K5MPWuCP1hmJK1NLcoh0P3NeL7N59/eNyqJJI/ZfSy5JFnCbul+n3c9U1SpDvTylDXPiaQeHunS0dERgcHN0iyPhbJq1Spuu+sntHS1RixBX0l8DeyEYeC2aFgzwjRGlvRiAsMqTmgVsoRF3shcxHzMG0sluToBa9ugN3VcGemANwOHc9wlLIBp0ZzqTMHLMml+staVMfNV4FUZ+LttTjQsB4ENJUxm0e9oxEWdKVBMgYmWBWBwqCf8zgzcNnE+40Q3+bBqkvJU6DJMYXJmBFLbJCkZF51Arj5MKykBYevzCTBYoYFgzRDW3zv7ZnHtdV84YVrCp5xySgQGN0t+ufPOO7n00ktZunRplHguTCz3hGYIHzp0iOctexG3f/RqHC/FaxHGYy8EnrSzg+1SD2lNYVXHCk5qByfZxMHx0hLQ6uBHe6fFJMIQWz8RDushkQazub1D0rWwgm+wp0wxCl9IK1P49IVw0YWpEd03Pn3sLGEnNWDZ4l5ClrAiCHWDfLkIm6hRSYsR/iYpg/cXKTSrRhnZxgm0hENdw5SkY52RM8HiP6NeycHUCRaiAWZwUdr2MqBw6FQWWdeixHa2xH0Chk6hTooiAoPDiYZUYsU3X9RB55xqJqvIfCZNyQhlEVCxM4TLA8IzBX9tzGDliZgh7In45dhT3HHpP/DCN7yRb33x88ctHdFIOeuss7j++uubGsLNctKAwVdu/Ree9N7n0TbUxbTBCE4zem0M4WzmcCwvYVrVLFZweGxct8tDhFNEfmTpRULWIjZVgYfpyhpS+JFUkRIwcGowNuCRDLQT4PsisLc+MVNYU5Be9xKomtrB5phcy/BC/AJbmOcdFlGZUs6GCaaGYHAjYappcDfU75+muB3zNeDlwGwaYwYn/Ch97RJD4zlQ0JpxSF4hGJxmC9tkJFz7pO4ZT6+3zyYzOJSLUE4sG/GZT0mUq7Qdj9nCviRIGJcxsWJj45YhMOQxhRtlAJdhBifkJ6oOvS88nfv57cMiHdFI2b59O+vXr29qCDfLSQ0G7zrjPk77g1MDINjXQLAvUL6MgGE7GJy9pBFcocPLpfIjuhLocTV3QMau424bQ33sbOGUDUtoCRvbhMoHYz9ArB2cxZ7zDBfKx05cTusJqxxQGOy6w4Ls9DkqAz/3Uzhi1u1GX/NAwRyorcwCXpYDJGeBsLIBkLwMYF6kilUmADePuxZum6WXQpDf2PAsCcOVEjcjC2W2vbdlyWha/osgeDoI6VAKhJLGsaoQ+LUtSoGvQqmIGAwOvw++bJBvbvgmrOe4pSMaKVdeeSUDAwOPvobwTZfBV7YE31/0MXjyC46/zRtXwV03xfX9jUciXXPNNQld4ZUrV/KOd7yD008//YkNCIeJ5CqnPRPl+5EmoMoYAX1pB31tYHCeHrBvqCLGbqaqW+elOmC9y5reGktThI6rMDSF08em5SvCEFYbKNwxCzpONayf6cjY4jddi+UhAxwWKYtKxkuBDQS2qdznOWEqdvZCUDj8HjnUqZ9kSyIA9cL+oXZwxcRVDSA4AoPzhKtkjtMoLaBtkWxEHlvMxihOh6w6JduzgcF6MiXtOA4+OXA8py0gq0qx3H0LGJzF0q93WJ0E6ze9rh78TS8m+z97vfJF/LKZSLohooWnLXrYE8wVlcWLF3PttdeyaNEipHzCB4M0y0lQ9u/fz+6Jh3j60HymUnBOCLSmU04lk7TO7DMbCPYy5CNMSQoZAc7Bd8+YpIpV+dGAoksgH0HElhUGeByMiWZMp++F9pbY5vpwygKyhQvTi9/AxKgs8MZs3iJJm2QCwH7quy3RXBlguCy7N33sfON1owhErsMiQnk8g90sLRPIdTJWFHidjVKbwigpG/PbJTdqKAEGOyIChONF8ftLAha6cJQGilWQ5FUkE7uZoHAesJs1SZoFCnszlIOwf8ro+tLJ6aJztbnIobn8+tffOWFj27Zt27jiiitYv349/f39zcG+WU7Kctddd9F6divVzjZ8f0qDwSEQrMkNSuL7MkouVxoYFklwOLSQMgo1zwCucsLec8HfEmBw3jpbPlhzeZrF/JHh2jqG/aqZuEHO5SqKVQXS51QlAGEsYLANN5yJzU2XtHZwI0xp2QAIzMMAFNvMs0t+wLNDcXoAKzhsHNQttW5wGXHiok+R02cy+lD8+qjfRLNAYFEWDA7GiGDRDGEh9bgRfJ81v5MJNfGwJpgrKmvWrKG9vZ23v/3tdHV1PboD7R9fBOItetak7+Fpc+n74Y/fHddHVzTcRDqaKYxw6ujoeOJKRoyPj/P7z1uK/NZPY6crAnVitl9yIZc96OWuTzMpipiISQDK3i3rw9+TgJrUkuL1bI7t2zxGVown2ZsmiBfKR+Q5NWVZqo1IP7gl9ytKYpcj7CQMhq6UlsU4zdcIQlIrBCE14ZKO5jRxVGkBgxPAsD5/w5arUfmILKmImfxHZt1ynavXwI3fISU9Up+UsayMQx4AXNQP/EK9Q2ntf94MZF38FPAbMoVDDWETKJZf/2/OevUKxsbGnnhg8PgjvByiWU7yMjo6yse3fZXFa//CEu5dta6rNSAhURRaPkU1WqYLQ9tDcCzre7wuXZ8WwTrfSYbuX36V4rObVRC67wT5CZSWjUiE+eeN5ZWUMXKZeUxlUaryPIaWCUamJBf8kv5+Fva8CbirQVA4LfdLzs9KANEiKXmh9G9K2DmJXZs5yyEr81+QAc5L6mUiMvIGLH4FHDxK8vkxn6ucpSZcpkVS8sH2TE9nfLdJNtj6la1vHU9fDr5XS40f7YuGmbf2pSxfvvyJBwZPnwCbe7Rp0x5rZWRkBPmqDobPfXokFRGCweH7q+/LSE9Y+VKDpvX6oWSAwTaJiaxxOdf2lAXKRAnfT1/A0qMwltLPL2KvYgGFi5QPs/g7xwNe2nhAWZyoIlkJ27FhmQT+cYbPV9nzyRLXb+M+Hc+rTpGrnHUPs56DnxJIR+QqcJWRkSrzHGftW8AOrr+UxpjANu3gUCYikprxNTAc+r/G92e/eynfYzvr1q07YWDwyMjIow8GA4hekMPBcrT94bG5Xl/cphwG0Zo45ebNm1m3bh3Dw8MMDw9z8cUXc+aZZwKwYsUKtm3bVji584Qsvu+zc2wM2T8UsIMNeQhFlgXTSa2kLC0fYVsfyEI4qQ4no9zqocyETTqiqAvHchHKEJeoZwkvWtLCh9b1oMKQXeEjEAY7GH7wE8Enr1Z8eb2RmM3PAYVtWV6ymL5Z3x3sEhHmiO4XWJIsi2C2KQOJCGUyhcPEMsZpzgOOWTqKMvy1z+vPt6WNibCDwaWtdyNJ35yCN5Gy4G+elnOOJf6bi6Ct0wCD9bPkG6Dwe0YO8+ILOnjesmqCpW6VYMhgB9ukUuztOHXgbz1bqUhv2MlfH8lD1D/7ygIU0zfI2O7d1Gq1JxYYHNIVHsmiaJaTvExMTPDQ5BFk7xymNCcx3bey1oW9uVEpCT8lvGSTjrCxhmNGcJRyFT+y2sF3P+Hukpy8EhJHeUjHRwiFAt7xTgdH6HB+nVhOCRHZW19IPvxJj1Pnw1teRX2iOdNmTFOfTGcmzFRbGKKXAXjaJinTeYaUll1QxTrCZDjgr9L2NK9sAF4JDFKshJGFNygDBBZF4oW2xjy9uKn7f7xCh9IA/53s94VvXAOzujQALANmcPgdzQZ++uJpfnN7BaE1hnEInnCRnegtnVQuTzoiJjfYcwGY9Tgp7MyYwT4ykoWwSUXUJayrOqje7kdcu/+kZQY3bW6zpMqePXuQHd04bS343lQABCc0hDXjTzOElakpXKAlnAssNfqs5CWPOw7piM2t0B9SeDN0hF8CrCeIPAmTy9lA4fSEpLRMbvo5XbOMvq0qY8My1tlc6TR26BvnC7e3AiMFf88B7fdeVIBlQj6TlwbXkTNHbTu+jBvtZs8fZJp/ATwTuDwDDA4ji7b6MOrDBrckKCwb3KfR8VpRSvolCzgO33PDBHK+MMYPEU8shd+rXa0cVcc4cODAEwsMhvposhNgg/v7+1m/fj2Tk5NRvbU1AI3XrVtHT09PXRObN2+O1j8hGcLj4+Msfu5S+Pfb8JW0ZPcWCU1QkyEcbi/LIszTOA3Dzk0d0/jTzorMloxIaq56icWpa6vSKuntd+uB5igRmGDxGZKrPuJkJpqrk44oAyw2ylBtRHU+S0bCIsVgagmHoK2OpEwc0kWgT5gXcftq4AKL3xYm+LZqBxddc5n1RaBwo/faLfgvM4yVEjB3rqC1PQkGB9/j5+69l3fy7KUt1uRwtuSJNlDYBICzEszVg8BZeoZlWML29ckEckl2cKQjnBpXfCXhK7ewdIYs4VtuuYUVK1ZEs3+33HJLZPwWL17M+Pg4ADt37mT58uU85SlPifYNtzVLszwaZXR0lKu2/RunrV2Zy8ydsiaKSiebc2fAKrQzhLNYw3mM4OmMxFtTqfamRCVKNocrmD1P0DnbSPZlYQe/8y0OrzxP2hPNuWSn5T6eGMp0drc8573EBGWWI5smHJNh1roJyM95ZQXQR740ftacs7L9prx3i6IX/jASRM3w/lPg0VpssnLg1FMFVONnx3djxnm43PitliiJoXJEwAoWqefUktAxK4liuk+F7NxG+1b5z/jceWNDFlO5bdGT6Vj75zNiCS9atIi1a9dGNnT16tVcf/31EQi8YkUQrjk5OckNN9zAmWeeGe0bbmuWZjlZysjICP6renjSC58eM/xCYCcFDIcMYRMYLgMm1bMKVX4iuTwwuCi3Solo0PSYOujo+TtjfXrY/YwGg/Mwt7xTFeXxLqvoJwtc4KLc7un5xbQLnpXgzQXm5oChaBv9ZopzyzsZ588DbLPc2LxkeVnpcIogA7egrbzXoFb9DpInF7HUgcurNBaxVfaZngkoDLn9NI/pH0z428eL9JgRfgfBH7z7bP6bn86IJXzxxRcDRHZ1cHCQt7zlLREIvHHjRiCQovvIRz7C4sWLo33DbU+00t/fH92DEAxOg8Pp/cP1Jy1DeHh4OPp+9913F+7X1dXFbbfdVgoMfuaZz+Xeq6+H+UPgK2rSxVEewlcJxk/9tFQKgJVl2MH1WsIQSvHGTOH4k0QiOmUFmu2h8rFeotnB4/OkW7HpCEdsJSQtrT5988GvWRLNydR0Y2gFG2UHOxZvzaEcM9i2Lk8EKHXuMGmMlMH3QCQ9njnNU6XAqPdgz9smdaK6SCZCWMDgspZrJkzhIgA+ndAmDwzOeHtJJ5Cr+248Y3P6XKZx8AxGr12TMAZs05MgKgHShvu5dRqFybYdK9vIb0BqIikTYbB+PWGZUAqWEBz2VHB+fGDeIPddOcqZ51/AtutGGRwcLD0mDg4OMjo6GjGMh4aGIgbwN7/5TTo6OgC47bbb8P3k1GS4rVmaxVa2bt3KyEjAC1m2bBkbNmw4rv3SYPBl376WeZe/EXo7UuxggVvXx2p165ShMSwjtq5fmiEcjNd+HTPYMZLa1U+++glGsJNI/ZqcpI3bSrfn4YoajvQC7TVTSzgyNCLSEZ49F4QvUb4l0ZyHPatpIzrBNmfCZLuWYTSY7Rs2XiiQHoT5efO0DiFf6SmLoBtun029WobNRmedO0qk42smtkO5WFEbKOxZwPTj1XEWGaC1CMBgM4FcnX6wjBPKDT1F7y9ExAq2MWqzlqwEbun1tTpyQ/1+4XNfXks4aetrBbrB5rpo36pD69lL2EsLy5cvjwDdMqVarXL22Wdz8803R/UwIeySJUsiB/fMM8/k9ttvTxxrc7yapVnyyurVqxkdHQVg7dq1XHDBBYX7bdiwgWXLlpUCg+8722P4Fb9HpU0h1RRCqeAd1Qj9jhh+IRDsx6BxNlM4DSLZGIYPExhcpB8sc5w3HysCbOoIA5xCQCCukc3ULVICMNm5Nrn/rLnFLCl/MiZYsxbf0kbaLgqSOsaqxGL+jtkl8U2RBaccB+YpMv6LRl1np+T8bN4jmrUOAe16qZvkzcp3JGfw2QCtM60lnCkhIbLBYCX0eBHKjPpGRLAfvBcjRdCG8GntaeW0dz+Hf/v4f8O6GOQtU3p6erj44ou58MILAZgzZ05Egvrrv/5rXDeAMC+77LK6dufMmdM0Kg2WkxIQHh4ejl7CwroNFDb3m5iYYPHixYWgsO/73Ds2psFgAkBHKDzX0TekhjQlJNJKSMYIEYJfniW5nJlIri55m17qwWBbOwGo5iENSNdJOZ5xKB6Jzh4ueQCYzw+3eXxm3RE+++W2gDVrhLDWf1dBeCUWQNgnqayfteSBw2b8TSNgsCgBCGfN9mkLqpSZkTO5fA24F/hLw6A7OX5khNUqw+F0SoCtDycoLGmMmZ0HBtuS2QiSbGAh+MuLPF5+geBPl0mrfrDSz3I5PWEnF+jNBpRlqQzlpkZ3PtvfcFCVsMhD2CMKfCQ14eIpRwMuIgaF75+ZdEQWgDw0NGT93izNUgYM/vznPx/Z0ltuuYWRkZE6sNe23+rVq1m7dm1u+xMTE+yfPMq83l6mDbsVgsLKIhOhcuQkGgGFw6NDu2gCwGlwOL4ekUgel5aKCK20b9E3z1ocUcOVXpS49R+uqDHQL/iLN1SCWUgBvi+RGghOJJpDg8JZXtFM2cHpZLBliFzhRGCotevHQLCvgVFr8jaLc1oUEPNF4DnkZz7P86+yzp34ru2z1L/D/G1CUo6Bk3Ufj5clnL5gQcD0NcFgR/CH59T44S0t0XrhqMhui0TyuMaA4GB/uxxEo0Cyr73W8rIR+WBw0brEtqqD3zt7RtIR1Wo1QU4xAd9QHqK1tdW6T7M0SyNg8MKFCyPbesUVVwDUgcLp/S699NJocjav7NmzB2b1UW2rINQxpArIP44TE6GKGMLhEieq0mCRKA5BL1WymJF5chF5gHHBeLvUg80aAC5jKilhgkVq/q5M1Lgy5lZlBgicF3HjF4DBZNSLgOCjwFrgAzng9vEQWEXO3503N5pVb1SN0aEcsbzoP78J+Abw6aIHowwreCb75ElbWa+/JMtf9+tobFDFUhFBjiYf6dSQQkYTSC3dbRxlZtIRPT09VqkDE/CdM2dOEwB+GMpJKRlxzz33RJTn4eFh7rnnnsL9BgcH2blzZ267kVTE5tuSjBitA+rhRKFmNimJOtDH0wazwURUWbps2TqqRe07mUxHUzYiC0T7vSVVLl/XGUlF/M+P4I1vmq4D+6Ls1XnxIG4JoLGMPESRDm4jsgo51xIleHO0rENG0+cBb0k19TkCHaWiJAJIEE58ntLJ87KSyzkFILB8GMDgMtIdmqlkMoMvu6zCc57rxAkKkbxnZIL/2loz2EE2J7Koz8gSjmh5UDi7j+ZIRyhZ1/9VhjREGOYagcFmkjkP+MwtLH3ViUkwd1KUZlK5k7YcOXKEiYmJyJZ2dHQEDmSJ/fbt25fb9ujoKB/Z9h+csvZia2h3dqK3/PDwtHxDloxEOvlV1vmm65LQ1ctCpGUjbNeX/ZuqTIkqnnDwHcnIX1V4+QWVIAmYK/nIVTU+92UvkWhOOSI76ZvNa2lEOsL0Hm2aCrZ05AaaK/RkZ8iwFX4ACpttqQJANsspDMvLLWDwtcBOSjJ0KM7EDsF1C71IT/8mUkiAymhQZQDDZUDhrP+MfOdOyVgSwnckX/tKNXqOwvWLTj+KcgNW8JSoZiZ8S0tG2JK12ZMu5i9l+5lNHmLaSGxXZiwoGkumqeAuehq1tSMnJMHcSVFOkqRyGzdujOzFmjVrjnu/x2vZt29fNLEwPDzM5OQkExMThftNTExw5MiR3LZHRkaYvKCPU5c9I5WKOQSFazhOTWvdm2HgIgUMh2HgpJiEOYnm0mLyRYk4s8I9jhdQs/hVm13oN3hefwrssgzLeTqyRdIRRTyftCqQa/le5CJmySUVSR4UuYXtwF+n1k0DH2vQnS8ChMUM3PiswNayoPBMwWDbsc8BPpg6bquCEc/4oWVyOzQqFZHVX7JmHYzvRVIvYZ8O34ECIFikpCLiySMU0QST63jW7D+L3/0n/Bc/PyEJ5k6KcvQE2GDv4b3kJ1RSOd/3uffeMegbisGZqHMJ8AM2xbRwo47s4CG8lJREyglTUiTYkF6GhIRnDI95zGCV0k+1g8JJlrDJDvZTFjhLziK8pkqrQ2+/j0KhlOCZv+9wxdoWlGYzKRmECoVdW2R5fSFr16UxhrCNEZzWNfSxS0iYGn7p0AsnZ1rRvGaTxavZQo6KCc+KQDOppg1i2Oyfk03yDaUhxEwkHPJA4DL6wLJBYLgsiG8Dg3VoqpLBs9Hbpx3TMJmckPzN5Z20dFQyQdv4ec5j/GYlwXEyGcU2UNgztLvNCZPCSR2VIw0RTg5pRnDo1Pq+k5hwSkxC9c6cJfzYHHwf4fabCW5OyjIxMcGDk0fp6J2XYAdnsX+TSeWypSPqmcJ2xnAYP4O24LGskmNlBYc65SojkZwpG5Fuyy4ZITVf0Ug2h0f3PA/hBbIyKBh5Z5WKVCg3COPNtLfpZ71MVpU8ZrCtHxXZbmXYTA2iKi0VkYUnZ2Gped22S9vbaePSX6rX2xzLIkybDOwbzXAOJ4dFaLfLxtKmgdz0/S2Kpc2T8qj7e+JotRAYHhxOMoZx4Pqb26ysYJvMQnoJ3zmnqZSSj8hi7Zr7GznKwcoQNhPBJo8t+g1WVnB6qTrUeuc84gnmmjY3CfLu2LEjYrOOjo6yZs0aLrvsshnt1ywzKwE7uJ9KWwWhpSLCRaKQUuE6Hq6q4agawvfBA6UlJCKJNM0W9v08PWEa1w+eKRhcxBLOSoSul8GU4fgigXauieGZxSthetNgrGlGssBGmTE/m2W/bIxgMn6qyrndosAuS2Beal078HbsUgtZYLTMGIrKvKoUSU9ktZEVQCsaAIRFDhhsyk3M0vhAdG0ClkpY4pSYoBDH+aw3Cgqn2f2o3ARyKALg15coLQ/hh0RBX0YR5Y7jgc5T4IngLTktL9PS3cYRHvkEcydNeRSSyj2hAeG77rorCtXq6OjIlYsYHx9n8XOWwuduSwLBJqAoAvkIJSXTohK9gCPAVYaUhKiXkjBB4Ww9YSeeeSHZMetlIqQliVz+EktRxA5wrCEsE6ITSS1hP6Gd2NIGff0S5fk6W3jSMVW2MUelQNoiMBiy5SFUBqiZDss0geCsaUAbIGyTp3DicwhtSUMNYEfZDXZax1CKWCc41A3OBHFlAVBcJpNAWaZwFqPbLQkGFwDMoY5hqGGY7h9z+xymcZjOYQfnseiD8FXTGYydPz8DAE63m5SJSIakFmoJazC4PslkzKbwvsWLvAAAIABJREFUhMO00swm4eL7Mpak8SyTFx7wqVtY+soL2LalMS3hZmmWR6MsW7YsYggDLF26NHe2f3R0lL/b9i3mrn0fU1RwtAVys2QVDLmHPDkJtxQoHFjh4PUVwx6qhHZwEgBO86eEBoCT2sEhMByCzSEwnL8YuslC4igZvERre9QzTyI9H6VB4rS9rZvTLOOZ2uIuy0hDZIkHGs6GUEFCTeEHzFrf0+vI1w62rWskR0pnzkuryAGcVc7Pg5jhLIx3EGF6grJBNDvtvZdlb0N+jHIKGFZouxvaXq0hPDBcZaqExEJW1JhC1AHCngHYNqJFHLSXBIRtIHAZMNgGAGddRy1Vl4tOZ3ztxQ1rCTfLzMr4+Di1Wi2yF67rsn///lL7PfTQQ80baClr167l0ksv5UMf+hAAl19+ea5cxMjICEcu6Gdo2aKkhTNBYS0f4Tq1ABT2PaTvIZQGhpVMMIRDYDiaGMwMPS+hH5wHahWxKW26wWWkJSzGRgCDBKQfL2VTVA4oTAEgGiYu8zJ+ehrg9XPspW97D6BOyr+U9q3MmKgtmhMWGjQves0QqXkpmTN/mgcAZ60rAyjnJa8rOl8WGGzhRSUS+IWRRe1o7eCZgruNsoJtSHjOe5JdR7ie2R8BwSFDWEiUkglGsIkjeMJJAsEpOZlnvvtcvv3x79Gzbl1DWsLNcmKKfCxf/DnnnMPNN9/MzTffzObNmznvvPMy9/VbO7h3zfUwbwgOjcOKxTEwc3AczlscAzgHDqFesIRpnSV8atcexpe/hBpuAP7cez97zn1lBPBM73yAe896bbANybGxvfx66cro5fro2INsX3px9BJ8eOwhti1fE4FPD+24n/9aflX0Iv7gjgfYsvyfo+P37NjHl5ZfG9V37TjAp5d/M3rZ3rljgiuWfyfa/qttB/noip9G9V9sm2DNituj+q3bJrlkxVhU/9G2Gu9YcZD/2aZ4y2uP8sMf+rz5LyYjiYgf/kTxhrfVIsdj6y0w8r54NNz6fRj5YDxibv0RjHw0Bhy3/gxGPmls/wWMXBMPXFtvh9Vfj9sb/QWsvj4ecUfvgNU3x8eP3gOrf2hsvx9W74jbG90Pq++J9994ANbsMeqHYc0Boz4Na47G9U3AhzVoLBz4kgy0lIRWzPg68H8NEHgD8M8i3v+TBEvY3rpjwRLVx2HdIaO+D9Y9aNR3w8a98e9Z82vYeG98f9bcChvvNOo/gI2/MPb/T9j4Y6N+PWz8QXy/Vn8JRn8Un2/1Z2D0+/H/tfpqGDXu9+orYXSrUf8wfPU/iJ6H933I49++6Ufg8EV/Ncm3/9Pj4rcf5T+3eqweGeemrdMRQPt3I7v43tbD0fN31cgd/HDrgaj+yZGf8+OtD0b1DSM/5tfbDkRKn59b8R/cte2B6Pn/+op/5d5t90X737hiE/dvuydyMr+z4lPs2fa7qL9tX3EVD267I2IL37r8bzm0Y2d0/B3L383hHfcE/VVJ7nvJ2zj2y99G/X3fK97E9I47ImmIQ69ZwbHf/JaazuDuv/alcPuvYs3gFUth11g83rx1Keweg7mD3Pe3o9Rm9zctUbOc9OWWW27hhhtuiGzui1/84kjr0FYmJibYNzmJ39vH/tGbuG/1uigE/YHR7/K71Z+OQtbvG/0+t6/+TBTu/duN3+GXa74e1W/f+H1+suabUXj4zzduZ9uab0Xh5rdu/CnfXXNzJOewfePP+c8134tCxn+48Zd8e80PovpN627jpnU/08dXuHHd7dyw7vYopP0b637HlnW/iyQivrZuJ19fd28kG/GVdbv5yrrdUf1L6/bxxXX7opD1q9fs56sbD0Xn+9iaCa7deCz6PVf8/RSf/6zHFR+Z5gufn+aKf5ji85+rRW/sH/4nj01fVtEr+yUfhdEb43u7+hMwelPsJKz+rB7D9fGr/xVGtxvbr4fRnxvH3wKjvzWAg5/A1gdij3DkDtj6UOxkjNwHW40I5pGD8K1jWnfXh3cq2Gr895cANxsO4PuA2wyn8ArgV4aT+QngTsPn2QTcbdRHgTGj/mlgt1H/KHG4rwL+D4G0RFj/a+C3xvW8DviNsf08Bb/SE3cCOOtBGKvF93Ppb2HMi9+Yl/4Mxo7Fv3fpTTB21Nh/FMaM+7X00zA2Hl/w4g/C+GTseS5+F4wfNeqvh/HD8fGLXwYHJ2Ig+A9fUGN8IthfIXjmaYfxHcHipx5iWlT4/eHxhJzCc4fvT0govHD4zoRkxPnDP0vIrLxm+IfRvgfHBe9a/J1IQuLguOC9i2+Mth8aV/zd4q8n6lcu/mJUnxj3+cTijYn61Ys3RH31obEjfGHphkgm4qGxw/zr0k9GfeXg2CG+ufSK6LeMj43zX0s/GNUnxg7wP0tXR5ItE2MH+OXy9zJNlWmqTOy4l98tfxe1ajvTvb1PLJZwszyuyhVXXMGSJUsiG3zDDTdwyy23ZO6/8PLlLHjF71Npq/Kfb9/Mzq2/igCbr//VDdzx7d9FYM2mi37Ar26+F9etUXFrfOyiH3LHbfsQMiAGffCS3/CLnx2OgOGL/nYvt/58Mmpv5Ycn+PGvpqP2Xv8xj//5TXwtK66BHbvjMXL5F2DH3hjMWn4d7DBszvJvww5jzFz+A9gxYdR/BjuOxPWlv4Kx6bi9pTuNMVvC0odgzCAbLZ2GMQFLgfuAFwD3GyDfcm1jQiBwGUEUeAgW/hlw2LBBLweOGLjcBcZ2CbwemIzdLN5sfHe1TTLrbyTJxH1zCvMbSeGE7zS+TwJ/azwHk9omhsdOAu83QM0pvX+4/Zje3zG2/51RPwh8xNj/IHC5sf0AsMa43gPAh417t1/vb9YvNXDNe43jw/oHjfON6esL79V9BFrHYX0M+BujvsNoXwI/B95rtP8z4H8b9VuBdxkA6q3AXxm/7yfA24xn5b8I8gt9CxhRWjKiZmAc0zAybtSPwMgD8Q/eOg4jxgvP1odg5Pa4ProLVv/CqO+E1dsNzOMOWP3d+IaP7oDVN8Y3ePSnsPpr8fOw6SbF5aMxFeLaG4+x9otHoynbr26Z4BPXHIyA4G98fS+f/fRYBATfNHoXo1fvwHVruG6N7137a7Z89GdRe9+7+kd87+ofRZNOt378Zm79+M20dLcx/O7nM3DhHzUH85OwCKXUSRdsK4TAvKx03bb+wIEDDA8PW+no4+PjPPPMpdz7idv0TIYPD47B4FBQF7p+qq5LH/aMwZNORbgKxzuGs+c+Wk6ZF2QM944h9uyiZbAvyB7uT6P2PkB1qA8pfaQ3Bbt30zY4N0hSVzuGv3sv7YNzAoiqNkVtz35mDXQH26cm8fY9RNdAR1Sv7TtA98AsKkwjpo4xve8gswfaovrUvnF6B6pUmUJMHePovsP0DlQDttLkFJMHJpnbX8HBw5ucZvLAJPP7BS7TqMkpJg8co79fUWEaf3KKoweOcdftx/inDx3iq//RwcRDNRbMUwhfMXXE59B+jwW9Cun5HD3sc2Qc+mYHU6pHDsPEIejr0fVDMDEOfV3G9nHo69D1CZiYgL5Zun4kWHpbg/rEYZichN4WXT+q6xVgGiaO6Lq2VNF2oeuTMFmDXhkAcOPTUKvBHD3FOz6l68rYPg1zaqCm4WANJlUsE3FAwTE/YCd5PvyLHxiov5PgyMDouwLmyMBATOj6bBdEBQ5oq9RTCT4PCF2vBhblgAaPo7oC6UBXK1CF/QrcFuhq13Uf3KquV2B/zdjuwv4pvb1D14/puqZX7TsCre3Q0REcH9XD7RO63qW3j0Nrm7H9ILS0Q3unxJeSvQcE1VmSti4HJQUPPCj4wOpjnPPiFv7slW0cnHCodLTgtgcO3gN7BJWOFpz2Fmq47N2jou0ekv17PKodVV13eGjPNHR1oVrbmKLK/t1TOD2dqNY2argc3D2J2zMLWlup4TK++wiypyuqH9p9GNnTCXr/I7vHo+0eDkd2HUD0zsGvtuHhcnTXQ6jeXvxKK74vmbpvH2L2XJTTguc7TO3ahz+nD6/SRk25TN2/D2/OfGqV9iAEfOx+6O4FUQ0eoPvGoKc/uHk1AnC4uz/IEHTRUk45OMa2793yuGYJiwsf4RNM3M2Ttp9jTT7aLPnluuuuY9OmTVx33XXWet5+4bp0GR0d5T3f/gbe5e+h0tsNExPIySNUe7sCGaaJQ4jJo7T0duLgwcQEYvIorb2BDVTjh3BqU7TNacXBQ41PIGpTtOu6Pz6BNOre+GGo1Wif04KDT238iK63AjA1fgy/5kX7Tx84gkONjh4XlxpTB47gUqOzJ5B/OHbgKC41unokLh5HD0wi8enqCVjJRw8cQ+LT2eMgURw+MIXEp7tH4OAxsX+KFtejq4tEvbsrYCgf2j9Ni+ux9rJDPHnY57Wvr1BB0d2mkDWfA3t9qvj0tPqIms/+vYo2BzqqgVHatw9aHehwA5u4bx+0Ah1a6G/ffl2XgU3cdwBafegg8Pb2HYRWDzpUUN9zEDp8aPeC/fccCfZt1zZyzyR0eNBe0/sfhY5paJ8K6rtr0KKdr2ntWGtzxjGjrk/PAwT7h4E6DwamBvTxDxIzgaeAfwH+BHiabucIQYSONpFMENj3iuGg9hKEc1YJ5NbmG/X9qfpeYL6AlmrQ6JgL/W2BXaUlcDD728DVTJixGvS3B3aVlgB46O8Cty1ocGwK+mcb9Unon6vbq8LOQzA4H2Q1uOidB2BwAGSLrj+o6/qdYedeOGUQqEh8V3LPA5IFQxKqgW7wXfcJXvLCw2y5uYv+4VbuvhsWDLdE7Niddyv6h1siNu29d3vMH26Ltu+6e5q+4bYoKu3+u4/RPTw7iM7xJXvGppg91Bkwb33J3rFj9Ax1RfV9Y5N0D3VTw6HmO+wfO0LnUHC85wvGx8bpGgoSw/g+HBw7RMfQbHwcpmtwaPcRZg3ODvJ41ATjuw/TNtgb1Sd2T9AyOC8ArGswsXuC6mBfVD+6+yDuYH9wPTWY3DOOMzA/qE/5TO07hBjoZ/LW23nwj17Oueee+7hmCV/3E3jFJx7hk9y5iTctvNk6/gOsW7eOu+++O4oiSddN/2zDhg1cffXVQJBI7QMf+MATKknQhRdeyDnnnMOFF15orWftd/7553PhhRdy/vnn17U5MjLCfRf0Mv+FC2lRx/AeeJBZswSzWhUtaoqpPQ/R0Q4dbYqqOsaxPeN0tvt0tnq4tRqHdh2hq03QJhXOdI3x3UfpaYUOt0bVm2J87xF6Z9XodKapeNM8uHeaua0es6SHU6vx4N4as1sUbSIY1Hc/CHMqUFWBDdu1H3qrUPV1/UDg41X9YP9d49DrQtXT2w8HPl9VR9ntOhz4eGF7Y0ehX4KriRdjR6EfXa8FE3j9vlGfhn4PFk7BzSKIBJ2n7YenQch5+l6G9fnEAX9jwIKQcKbr841Jxl3G8WG9z9h/t66H7N/79fEhS/h+vT2s7yYp4fBAqr5H20B9O9mrbWTILD6gbWLIAnyIWCIDbXPnGNdj1g9rwPTTxAzTcb09rB/U7YXHH9Dn138PDwE9xqTsIX39YSBvaLOFvseHjHrN2D+9Pfy/xlPbD+r7px8/Dhvbp4y6fkViQu8viSXY+/T1eXp7vwGQTxDkOAgB9OuAG4F/coL3sAkX+rT9PuLAhIQ+/ZJ0RKbqAiYE9LUGJzgi9PW0BdsnFEwK6NU+/gS6rn34CV/Xu4z9gd5uXff09p5g/4M1mBKSrh6XmutwYMphUrh0zq4w7VTYP+lyxK/SNruNKafKgaOSY9KhfW4rXsVh/FhwfNu8Nmquy8EJwVGvQmVOJ8dEC+PjPlOiiuzpYkpWGT8Y1MXsbn728Zv57ce/wwcufu/jmiV84TXwuVse4ZPccA43bf4Q55xzzsPS3ONeQ3h8fJxn/tFzuff918ch20IGTOFQOsKVMN/UFZawYEjrg0LNbYVTnsS0mA7C4SuCyuCp1PBAgSsVzsACVCgp4VZwBxfg6xBR4VapDM7HxwtmYNwK1YHeSG9QVFt0fSoIFa1WaBuYjWIaH0ml6jJroDtqr1J16RzoxCdgXVarLt0Ds/B1YIrbWqGrX0bnc1tduvvb8HTQfqXVZXa/wg/bb3Vo66/S0wPrN0uqrYp5CxyUCo5vbYf2FoHyAzZKe4ego01F8TPts6C9jWRdg7koaG+H9oqu+8G+7a6ui2Dfdieud7RqR1fPsCXqvq6Ho7J2kjtCz1HquhGn0xUq/Ovju1zDaijoMuQjhB9oFM5SUAsS6NLlgycDMFgJWCGCbVquj9kCpJ6pEwJ6RAAIh/rBPSlphh5TgEhqoNiIQelJiR7N0U5kuC6q63bmtBJrVwiYM0vX9WzinI5kPTQSYXu9s5PX1zuXRBhI71wS8TK988CXAl+Hqc7tE0FdBqzh3vmSNf80i9aOCpV2l572CrVIMkLS0xcmlwkYup19lUQ4amdfNaHh29nXxhEqHNPOa3t/F1NUo+1t/V2a2RTUW/t7EvWW/tlGxnRJpX9uQkLCHehLhMs6A/Op4UYSEc78+fie1BEADmrgFGqqQk3pJFMLhvCUE4DBvoC+gVhw2gfmDQb1MB5t7mD0LPK+zdx3rMaZ513Atm8+jqUjxh/h9g83gd2TpYyOjnLxt/+dqcv/Bre3hxo+TkcnqmMW06HGb0c3TkdHpCvsdHThdMyK6m5XNwqPqVAxtKsLice0toFOVxeSWnx8VwAs1/ADgaSuDiQ+09r9kF0uDoqaFn+QPZ041KgRJE+t9MwKgGKC5JfVnnZc3b5C0NLTFgDNeCgkLT1SqxwHLIvWnkBQIrye9jlStxfXXeN6O+YIqkyx+rI22txpumYpRDhmAHNmg6gJ1LRAIOidrbdr1mqvnnwN9+9NCe72dmp7OKW3t+ttU3p7m/6uWa59bfq7ju/sazXGK6UdGyN2tM+QUFDasarFp6NXny4k0c5Jno6e2BwjdN3UC+7W++ufx6s0eCuM4w2TFoHBoXM6hziVQXg9Zr3fAKAJHTsdBS0UDKYkIgZbSMgnDbaRECIcbDc8WwGDnUl612A3CT3ioTlJetdQH4k41aH5qfoC8EUsb3LqKRCqEikETxoW/PvNszhl2GEKwYLhakLyYd6ww5QhrTBvuJVpQ05h7nALNUOqbO5wlaPh8VLSPdQW7y8duobatCSFiycdOobaY4kK6TBrqC2yv76UtA/1Mm3Iq7UPzY31/12HtkGjfdehZXBWVK+5LpXBWdH111wXd7Aj/j2ugzT291wHMWDUqw4MdFDDQSx6Bt2/+R7b77zn8S0dMX0CbK6RVG7jxo1RMri3vOUtDen/jo6Osnv37oSG8NVXX93UED6OMjIywu1nt7PgeU9D6aRQbfM6qahjCHUMgaJzXjtVNRXpCnf3tuh6Dcfx6F3g4E7XcKYDfeG++RJnuoaoBVISc+dUqHgK5QdGaf4cgVsDUQviWvpngwgHdRVMmDEd+3kD3UZdwkCnYdMkDHTExyJgwPAxETDQShx1J/UY7cVGZbCaNDKDbqqux+tbKgFQ7GgkMwRQTyWGBACGSEo/DBrgpwBOIanItCBpQhgwtkttg0wJhQUk5Rj7U/X5JOUqzOOVrpvXG4LXoZmZR1J1YJ5J2DDAZfT2PuPaOwgYwSZjuZekvEKvYeKkrof3xzXqpj6xKcPQRzIhn9l+NaMujfo8khrBfUa9lUDGIdy/TdfD9lpT9RYDDHZ0+51G27MIcIKw3gG8UsKLpH43cjSmoRtslxrzCOtOybq+4A5XYxr6B0V1mcJMzO2VuL1ouy5dbaBcpd92AzJZuwvTeqxob3NxHTfoisKnq1viVaDm1hCuoqvNpVaR1KSHpxzaOyq4osIxFchEtHW34IhqgGgpRWt3K0K0cEwJnvyms5l3/nO59nPb4PEsHXH0BNjgJ0JSOVMbOKyHZXh4OGKBldEQ9n2fe8fGYM5QvXawh12jJbEt0BWuuW4QnicEOtEqSojomFBjODqvE2uXmgqE0fZImTDeXsONNAltyeTsmsJxcrmwfb9OQ5g6neK0prBAUWl1mdsPPrVY98VRkSasECph4ATUi/M51AsP+RxfwgBTWzitG5y1rykw5JHUJfYt7RqJYARaU9DXmwSYBPVQQD4yZiIGh6UBDmdq/doE5m0CRXn7po9pRDMrL61rWkfY8jtU6tyRfqET6Ad7wmFOX6DhV8vUFiyvje2lktnUcrR/s9rOSs7opXSDw7oydH8jjeAwpFa5TIs4E3oNV7+IWpLHeZbF1BKeHYDDj/sEc82kcidtsWkDb9iwAYCtW7cyOjrKhg0bSmsIT0xMsHdyks7evkjtV2nNXUcDrGX6fTrRnC3xnJvSGDZ1iM3kGGaaOGlck4dDRYPC5uL/f/bePFyOo773/lZ1z5z9nLFshAFZkgkmCdiKwxILfOyYTWERmyOMQRBALyhYdsCAHWQWs9mxAAEmMTiIJUCwoxDdXMKVHOLkEu61Agr3JeHKvpAbQpCFDbxm1eIjnTPdVe8fVdVdVV1bHx3ZOmLqeeqZnp7unp6e7lo+9a3vrxEn2R1Uzg7/ageZy6zAeLkkuuo6nLKEoAMCUrLKf87l2c9lV6vhDegq42Pe/Sl1rW78x6yeLcxjcyLgpP2M+3x8Xb6+MQ/hcZghAYB4RPXQ9zYC9SjffyAc/8BVt6fUt7GAdJEL0Ai/oPn0i/04Vqwkagy+uuMLaYESCsrWDGDsDion6uF0H2Lbk5hJbZq6i5sBX8MewUnB4xznYrx2u8DKlZj7xczJbR1x3+3AlzbK0Z41wLnbjv2YP9gB3HWV1hk9DJwjbPrWrVuHpz71qQI2TE62Fu38snsI297Amzdvxrp16wAAV111FVavXo1169Ylewjfd999KMYeDToyDM5npfevngFoPsLNAFMcGS2R5wUyrgLO1a+0LEXwOUD6C9NGECkSq6+Adt6oqf7ArsBygfgyy7jW74fo9yGhXoF2SvCcJte241ZT2BUkDXB75AJNH16fH7/e7SUaM3JdJvu7fdWUDmyBeBA2/bdSR5Xn6sLSwG8nC5BdaCCUQ/HgG910CozJHIzjc6wB5VL8g0OxCuSfY/oIi8y5iIfDdI9gWnsEk5wbr5ySqkVslB/cDExnlwidqTGM9oZwP4qTO8DcIKjcwqSVK1dWo8XqvUr2evWeUorly5c3GhqrVk8DW2UguSMHgc3TwLa9nqByPjBcQ+EKAqvgctV7eUF5AcLEE8coNUBsXeDXgLisusp1I7qPTtV5Zo3Gur8DXQ8a6ECYV6TWFUxOheJRXV4Cjn/ZM4dP3ng/Prl9FBSsqjzrjqosTrijlwYTrnrd3GlCyUzRDGoTAsp6RW/XKDzQoHAEriNEwF3fA8cBbGMCBF8urSIyYgaWa9Qatvt8DBxnCb+VIuyY7wrPSjww2Bc8zpF1CFyBYQmD7U7ZWzf+BE9b18NvrRk2AKyvI2l3JptBbPIITMoaMLhMCR6nAuAwVMHiFPAtSG54LFYdbZ7Je4a4ga+9zgeJ370b089fhz27BgHmBumBTaOjo7j44osxPT1dvV+6dGkFfc8991zvdqeddppxrB07dmDznt3obr1BPCc7vgC25+uY2PqOeYFhHfD6As/5oLA7VJwJhM2AcEQOybrhcOYIKqeHpfMHmRPnKo5RNuoRAo73XT+HRzwUePnLOlV5rQLYkpQoY3bQuFhQV1ckGL0OzPwAWM9MTorgxH+GKfFlU9MtENYRj0Japz0Gg2vAKn4HiAgkS3y/3TcwG+rJhv4PBk/UQNdvItU9of944iD+0yvvwZf3PRKw4K4NU5lzWEPcxe6gcukwuAmb62CNCggfLxjcAMF2u+Ixj8X3tr7n5FUJL5kGpmVfKRtdmGMufSYw/QQTEOOuCgK3BcGDVKfTTjsN1113HTZv3ly9Hx8fr+Dw8PCwc7ulS5didNT8fzdu3IgfrXs0lq55HDiAf3rtZ/GrF5+NM59+llm3ucCwAYkZqITCNhDOmQTDTAPDKtAcHGVSm+hhMdC1EFRQL9fl++k+sD0Tyl8FhV01r6vLyxxjsr4xVL26ZYlAmCTUaTyyb6y7nVDd4yiAG1D7/xLPd+kg2T4ugTswWyg4X2os1hg/pYn7Bbq+RteYQAtEq33R7QzY0Qe2Tc7z3qWYHxROPYYDBnPZiKuCxWVuEIxMzFYiPPcEkeSNQWtXXvn65+OLH759EGDuBEonrGWEDoFD633biQqK4fvf19TB3XHg2p2JymBrPSNAyVGSTFMK1wph0VBH9ZmwH+BgtG6IqodQdRj1+OU26O2jU3VYTRhMHApKAXXth5xoRbsOpmsILJrod+65H39x43348PalIOD49XOH8M4bJY4msnGQyQed1Eckvm4dSwSOKpee0WLfUGWooHQNj/JEmGyt0/5e3MKA7zPgalJXbC8jwkO4MbLZtuAPqYSzhPOOQWEfCCaBUcsAFBbB5OrPORXRR0uS4cqNM3jWujFcuKZbdc7+4Lql6I53gwC4CYGbn9mdvdD2TVW93vmtAZCtKlYguCSZhL6mElhXCVcwWAWPC4FgGwC/YRq4ajvQW1YphU96lfAgndBQ2FWXjo6OGh1O33YqiUBys+ietlTUOM9cg+yiC1AgryCwDmOpBYZLUENRm6oWtqGwWhIdL2YBYTULh1ZzAky18JwGsOxc19zUQFxmaWOXQepcVK38x+8+gOXLSrxsg3DW/f3Lc1Hjk7qeNYFqoL4FmiHK2yhSiQcGl579lTKYazNoZFbb8MCuMWis0mcBPAliqq1Kz4OYqpkEeSPnwS0gzHWwrUNh3gIKexQ5wRNicUrOrX9fKYMJOM77rSPY880RA8Ns/8rp2leLk1FiA70u9amDWSIQLqTtUj27JvMCYZfy3lYtp4Jg9b2FNkBcWuehtw/63/oPHL7qnRi97a8qpXBx2tKTVyWcjwKjKxf4mOMiq9Q9Lbj5hg0bsG3btqq+WLeDug5YAAAgAElEQVRuXWUD8alPfQr33HMPrr32Wud2b3/7238pobA9wKrWp2ynklAHLwUdGQLns/jNd12M8TGAcy7tI7Sy2yh6LJUwByjnyIilFGZN5TBlpQg+x6ApjlvC4BTo1VYl7ALB8qdOHwK2j9bWEduHhHWEOmUFhbP4WJ23y+qrp5gHeLrWZYkDnHr1ZHepWQJItc/7KESgtg9q68cAXAW37ioVLNMIEEYLKAy062K7lMi+plAMCBMIW8jbAexgwLZu/eE0Bc6NzeRtA4rpAg+WoDlw4wXBmQaEM8G3CgWDCddEh9z8r60yZu+ffBmzZAiPft2zwAHkU2M4jP7JrRIeAOETIx08eBCrzpsGrt9bw0FKm9YRPjDshMMEYAIKc1oD4Uq1IbfRFRw5L8AINTqktnqptnAwARgBx1EMS9UTa6iFXQphc7Sm7oIKNbKtBhZHO+vcMVx948Nl15yjM8xw2ulAiULoojQobCiEfT07Oo+s14gU4bkrMauIkDqYWkOzrlFs+f1cA8MvpNKiWPvZpxDrVIiwUyC+6RsIjIZnESDsg7lZAAbDA4PbZG+tSCqVsILBJTL84XUTGB7vGDYPU0s7EqZmzimnIasIGwa7lMSl1x6CeEGzCYXlMq8V+gUxlcAFN1XCTBk4MuIGviE1cAng6u3A5Onmdm/djennrcOe2wYq4UFafGnHjh24es/XwLdulUYJJbLxKdDxCZQaDM6M5XqoUqyrn00bDofUwuK1tmfQLSNcQJjI+jSzBl3V8z+EWQxh1oF7y0opTB3zd4hmwaTq5KYqmOD3rpjAaD4HoBCet0sAUgLo88qaSbUtCInUt21gsG9+qW4TgYRjyfqRUxFnoVLY8ubpwVP9xcDtC2D6/gLCOiIP7AtPp9IHnYHaLqL6PdSCwfZ1tlW99jTklB83DygMXR2slMEE+Ov/2gUh3Nh12cpc+jmbDYHaRiJ3DmXoz8Ecug4Fb12Hu+pWu572AeF65k66KrjwtB1CSuBq3aPOwtAnbtJiCWQoH3MO/m3r+05uL+EHMU1OTmLjxo2V9cHk5GQVKG7dunXV4Hdou0FqlzZu3Ijvr3ssTnvG46sRruGHTCLjswCftUa+XBmGjURVbxKGPCuEMjhvWkjYYJiUPEzcGNKUkDEFJAu894BgpQre3gNO16Z1L7POV4fCMRgcK9JdxTrzdFV9SuMQEPaphJlVZbVxNRoB8FZHPXpqBKjGzo0ibRJsCAingGAX4NVvh5jGKgUGg0r4a/XZR5WHcAa34KvtAEnqM+EaUAmphAmvQbDHGkKAYC6VwdbMO86T/5VfffmTMEuGhRJZrlv++ovx1x++baASHgDh45tYdxzf/39uA05Z3oS7IZuIqGpY2EcwSlHQ3KkOrn3dYEFa5pzKavr61gontb5AjhmMoIMc4zjs9UK1gbA54muCZl3dJILMASX61WfqWDJEDwjJJBRmst1AwF0eUTHvphSlLkfY2CdHFRynAYNLTy1bOr7fMWyqOoRVp1cuT1CAyZF1YwqOdg46DOa0hsnJw5YxIKzvq4K+pYwmpiiKE6Ewr+wixG+sYbC4v5YszVt7/DFLIcgavr4xeJxFfLbdVitNVX5egeA+r6GwrRI2YHBbEKy2WbKsDtqk1vWW4d7f24Fi4vSTcITuOB//yKAyf7DT4cOH8ZOZo6BTp4EV3Bgg5cQFg93L6hnO5CdZZRQTUwnX9gysArZ+IMxlGZBZxk0KlM2hiyHMYhhHHTYSzPDf11/V76HaqKNdU/aWUHSNKS21MpgQbgA/vRaHr87lLTIsmKnCaCMCMrX1hjJY1Y2s6c0LuIXJFHE3hQmYgeZSGCsJdPbgYOKA5oFMNTAsT46kzKOFZ1Cat8zMTQ6q/19r11QqcgKcsZyAE1612nwwnlv/Qkgl7PIejvkEtwPCRCp88+MLgjXvYPawMTCWie/mFJzmmOuddnKqhPsnRp3rs5Kw1w0sJxYmTV33CkyMHQAdIeB8Ljhlu7aNaGYDDMtMCfN6CtuvhHExwDlfGBzqs7QhgbwJgqtBs66s9wp4bXt0KOxTCdNIcV566i6fypV7BjBjMBhoqoTt40asZRvnt9QDs2PiU9+5xYAw0N46Ai1unSzxVgoBYUKkTYSCv1TkqJCqTeyBVNV86vaOz4XVBUeeF34QLF/FZNjM6Q9s3hW1QNLlHczIEGa1dfnUOKZe/0KMkUeefIXxIgwqR0/GSvHgwYNYde65Qg1sD9UpYHP4IPD7q9IBjrGdAEGMUfRJB33SQSFfjYwOGMkiUIoEprubDW0BhkdlY5cE/FCzSJCudE+4r+/hePWl94v9iJimJ6KoOQo8kgB+Q4XlfJXFKXM8Ws4b4do2XPsNeqeMy9ebSuBPShMMBz18Q+cW+g3HAnZTrk2qnzAFkBEwksl7wu0JbOcbNn4Pe24/6PAvpB6Xz+Y9yxKfIb86mPihMhHTZO3nWH+2nTA45g9sb2MP2+tlVG8Zpn/7Itxzzz0n2Qjdcc6DoHIPatqxYweu3r0H5D3vB/oA6XMRslgSPd4n6P/lFzHzpmvBWIaSN2GQvVwr9AWcmkM3mvvoVNk+jvu4asBHz1l1jCMYwQxGMYeuZhmjH7tjvCrA1pzkb8O5ZvdSTb/7o/cV+Ozniuo9Id6D+GGwC+4yuNWo3NE+8pVTFhA2PIRl3ce9MDKt8xj6Oer9RwH8EOmOGL5zYuq8Sf17DPuLlGvjKod815xEwHusLJMwmBAtV/da80b5nZX/t9Fh098r+Nt8NjrOXDieFXMf1/PkyuZx1bPre61z81iu8qPkGUqWoSwz8IKA90VGnwsxwRwHmePArzwG337P+/HsZz/7JFTFDOrcX6a0ceNG/OO//i/QkeEK6Nrly99fvgP7/uHfpW0EiQNjWWbowaLyrBC+wnlfvtY5y0thL+iifTHP4GMEXF4bvlj/x6HknO4D98i+GqH+blTuyL7JnjTQ9Yqxw5RsHy90bvOdwKsu788BXNOy6+k7n8SwNc7rQj3d5Fhonth/mCfC4NgfePsssPFngT/Jx0jme++TxGOqAXAqLCHs51g92528jywrRY+ac2fbNTzQFG/c5VPjuOnTn3AGqF7UiS++OvikA8IHDx7E2U98Mr7/sp3mRbM7NkPjwDt3+oExi4EdApQEvCRiKrkBkKSSkNBq6rwLTpkgq/Y/c01n54ZaeBQzGI0G5XEFx1H5rj2H8e5Lv61NA3QrMH793C7edeNUfe7yNxkBxeYLdOe7bwfAUAIMDg0T6t9tD3vSGv5+pgD+aE6DvI5h0pd1RAatbSaMIHLwnKuvYtBrKldt15XXYKGudQpkNvyDZZA2UsPad1w1gy/fXjijhqt7bMN1Z+Kx06c4vQVd96gLBoeeoZhVBA9A4eo5JbQOImc901zRj5BnsF1O2B39N00D993jnoIsl++9ZDtWP2vdyQeFB+mkhcGvve0f8JM3vwdk8lQQCVvIHAR0ka/5U56GoSvfAMh1AhQDrKBgpYhUXnAX5GmC4TA0SofCTbjUBFdHMYyDmMT9GPNCqUKWaXaADT19/N0/wt986qcNSArV0ZCgb9NGit99ATGAn5qJFISJPilPDAq3zDoM1mcbV3DY+soQFHb9lE8A+E8PN1XpJRBTV1OAcEi13IDaNuDm87xezHGtfVzWBeXtwQNi3iOEcDzh/D4OH5JxHogLwBN86itneoYjzCtazZAJAOHU56XwPiNh2Bwe4Gl+X4ms8vJnTJYhBQVXsvI5gO/9NmbWrqvKJFUWqbKJoIP+Ey/AP7z6jScnFB6kXxoY/E8XnoHO9DmeoTiRzr/2mVi2eqXfH12BYpdqWNZpyj6ikzfBMMm4mEofsrI71qBwKTYTHmA3/X3gHoaoknP7CHC6BvYUFA7BxJgGKYt0r3wTRUNhZVJBauwc9Ut4BMAVVpc1l11OdYwlAN6MdiFofKA1pt/KEqB522scOr8oDJYr93Dg0rkw8Z8eA657COKB41Pv6YUIRmdFziOZgMJZXmogWA7wZKWpBo6UEWp2QZ0JvnHTHfjGTXc4mqZ12TT8imfiT3/xbycfFF5k6aSzjKgCyZ2y3GxgU6uhTilw2vL6M+bYjnogsWEpQcAZ0M86lUyekDoWuQC9ddRz9doMLMfltsxjHVGHylE+h4cwgS7mMImDDisKIh0ZWQO4UTA88twp/P6NvybsIKrJs80ptvlwjlMrP2FedUgY5yCU1boU1gIuuoLYZHBLgeyOki+QnL2fa3qSmhpLre+3js+16UYv7AJzGdyewzJNEXE7cW30kNt2EamK5ZCi2le4t1UFZ0gP+KdtwzM5PRhUqIM14HvZ5kl0RjtBBfrkUqWia8JgFgDEPnVwGAbHVPcB+KwCyknbiJJnNQwOBY5zjd7Zy39oeQe7gMPUMtz7g0GAuUFaHOnw4cP46f1HQSZOFco7IubaEzt3x0CHRkDmmLZeWiRQ0y5B1KUUjHCAZJXtBNe89HXvYNYoN4j0CGZeywiq2UaoAHPSIEmzjyjB5HsGill0MYKjGMVMdawMhWEPoU+p08/qkiseIn2DSycZVL/91CVCWU0K85pAg63EZwHheoUHCs9HwcBriwUubSJ0oFrB1IDlsY9Vq89elNAwndK2CQFhHhNwaHECmDaVktE6qOx8r1NQ8Rv6rzQozLUfpNtEgAB/83mK8XF5fzhHq4FHrOxKL+H6Srkigqt9VF2rYGzt0R+ziaBVe7dsWDiZoRfrAdimYl8PLGd8N699/lVudj65mKoub0DCObJlZ2L0Q38CPldPgVfqSa5e0UV/8tSTN8DcIJ306b777kN/7CypDp6tngkb/I4+ZBy58hOOBSkNZAKOLBMWETkvQLkMKJciPAlZQYSSy3qCRgZErT7l9jOA04mnP6dtu8y2H5RAEEzYqcLCBqoEjlkOh04xJWBcbCzYDrfjmuDjGqC1rZquh9AdhdKIdSxXvZsSPicU6M4XDse1rL+maK9iXXBjPak9g1U+lwI3DoX73JWXcCqdPhZ/4VQo7Lgo4rnlyPMSRFJxTkXwuOZQsjWDgIQeWY6zX/YEzJKhYHGTTU3gMMpBgLkBEF64dPDgQaz6rWng6r0W/E0Avg1g3AYSC1/hguYghFuKRipdEJkBhJuB5XgDTrmgMNEUxYUswg9gCkOYxQQOySa3CdRIFVW97iznwxl6pw+DSb/FZsC5+txEFzkziwEVaI6WopEds4lIUa/qtZInEECVhjQYx9HORMg1RVMbNSasPuSk6uhys/I0KiPi6H+nhixNMTXSz31Y/naf6jdUC7ZRYzuuH6fC968kTdg7dVrmVZuXWiTyuoNILF9Bv1r4KIaF4j5iD+FS3Kdm+5lVYNiAwWVLEOACA6dK72AfMFbLf7Ab02vXYc+XBgHmBunETTt27MBVX94DbH6/UN9VMFjzwtVejXU0vD2ICcBqKEwleBQBLXNCLcRlh3DVh4CoUVKwCjDXNZxeMujv9bLlKIYxhvsxipnopNsKYi7J0HUa9ppQ2PYQ1oPMEdICLMIDGzm8VhCxrCZHVcpaakJh5gkuB/htjO00CSHwLDwdwdQUUyqr39CAwdY6yhBU1EUVwqEfG/sPPTAYAJafAfCMGwMFCGCeenfu69pVWx7GeFXn+iBwyILM9gt2WUG5LFwKLiA050Qof53KIy6BLjFeCSfg+mdMwF566kPB5iLbr3wMvnX11kGAuUFadGnjxo349rrVGF/zpHQMyUNlWtjqSC8tKGWgmQaD7X4Is/rRsQBwsQhjdoFGQwV8c92yYdRCDvsSZfFrrcRPGTdPPxSj3MOmvf7AqYAYESDM4bZM4gmQ+mHHeE+SwLUI/dVtYDACcJhE+GsWQRMGVyWOe5sCwxQ4nWJ+vhcp/fI2jR6fSCymoNe+m8gYQTRjoIQ5bc2cBUnE4mpoagQgQ5i1QLGdTnv9etzy4b8aBJgbAOGFSZU6eHJ5PbrHtIqHOd4fPghcPQ18Ym9zO98+zmVBDVnmaiiXhrrXDYSZBrJqlbANhZtwOKs6ThQMEzgk8TJxKoN5pdZgDbhmB5zT8//aM4cdnzqMD24bM6Aw5UwEl0uFi65CiVmgNgSC9XUdNEOOs4RC0AeEZaOFUDkKzLSPSVPw47L2+eMZgOTA6yfhnrczXxisAsnp83ZiENg3x8Y3xycA0lUgQWEZklkKnrCHcNPChOKmjXtx3rozcM6ahznu1fq+vB9jmMVQFAKb6iMXDHbbRLiC1xlB6ir6gbgKzAd4UyCyPQth4iRTCR9vc/3ZQWX+YKTDhw/jp4ePAhOngRciyCQlEEGuCEAJB6MQDUwiQG6x6wtg//J1jL3zXe7tidpeEDpOmNiOsgoCK1DKqYDEdTOzWeeZTzw3Sg1bJayUwnagO1VK6J3hoxiuJrTbAJhEPIT1Djbss5dA+LoPcCxbyrHhRWbHgMQAY+yz+aiDK2WY1cmVUJgxSyXsqcpdgHa+wFelDwJ4OYAVESbQaC9q6mBoQeX0QV/Kj/GaYZ7/kTHIzMO95sT04pX/jD/fN20Nnej3qnh/COOGRVkICJeeut8FhO1juKwkCuQAA7hUAItXUQ+b64i13PxMqYjVK2eOdUppTLroT5xEAeZOkKByg3T803333YfZ8cdgYnTYaAjVT3SzkPji63fhN5//SDzmqcsMmsk9BZM9ZFQVU5QLhWGJNBtAFwz29RNjKkj4wa+XePogeOYul6cPA7eNiEFKo0zWoLAPBLMA2EWgbgQSBjMjy+p9ibCIOlYvp6QfA3g3gJs8gBaOKkt3VPRVbT4InAKH2zhShkIfKR7gpcotRFe3HwJ2HAS2/QrCvhg2tW6jCA49Swl2kuK3cs02sw4K7f5+UttkOs7Jtx937Jf1JnAI7ORRCQ+Cyj146cCBA1jxq6uAN90tpCVlBLqoPDQBvP+ONFCTkBkj3qjIPoUF06a5l1Zju3RALe6EWxlmMYSDmMQMRh1IV+zzf3b/HNet/edG5OdYsLmznzCMaz/Uc0/ZJ7Se2ti25CWRAjEEOocAjCLsnO9S6urb6a8dgHQE0P3To8Bb7gdoBmQU6BCgS8Q0Gjt3AGTSNuKyCeC1E+IYpI1pkl2Y2r+pAzFHZwhpEQgo2ttEeM5NdPLdytprNh3Cf7l1NhEG18uv+tAqPPYpS7UBCtPW4QhGcBCTOIrhJMuIJuSlTihcOqKRlx7FUxVATreGSFlm1vJrVgE/2p9ejqjIx5fvxaoL12L//v0nwWgdHnBz/f3796PX66HX62HVqlXB09u/f390m0Ey065du7Bp527gLR8F+gQoAF4SMEZRMuEJzBgR3p4lRSlf86c/G0Nvemu1Xv+MlfX2jElvUKZ5hJZZ/Sq/p2CZ15e07wgA17eCys2hY2S/97AoI/SuxyyGKm9hn0L449d8D39z8w8DdLbuydSB5DiuvoJj/e8G+B8P9IhcPSg4Bk9TZjugJqQN4bYmReK2SjjQoXVx0Q8B+I6nM+lSFqt8OYSiKeRL7LrqRgA5DQBXVaISZsc8f1MCw7XpzTZvC0Pde+bjOQ4dkgPyagAhIX3im49vqIN11DODURzGGLjVVS+dwR4zZ3A497Njrvd5Bvd5LsqNMpPlQVaXDXqZYn9WvYp1xd0/xIHnrrXKl8x4r6/jBRHl15nn4M43fRQXXHDByVFAD4LKnfRp/fr1+MZLn4bR5zylHhitQAzxgBiCZ753Dc787ZVGIGxOiQgYTpvbN49jfZYiSMkikCvFJzUUmc3Vj5TbrboL2F+gdaS22yaBCYeohwR8hdsEhItZGcQC1MV8dnOkB007CuBSpLl36PXSUgBbEfYuTg3altJdzv1/czB2WxbguvZ+BCrgGhpirt0cWDuD9MCFMj/lFOBDZ0Z4hysSX+pzQROfmQzuCIMqTpDnOPXzbpUHlAhhhio7KPCVD+3BVz60J1iGQF8PsV1v8+/jY/g5tmzZsvgL50UYVO6kUQjz7iQOrr8T6EyZPrG69YNL4UsJMDI1T1Wwe5kRWk2rdylwy4afcK3d1bc1p6nSajtdXVxqVg6q0T6LIQBAF3MYxf2GFvnRq5fgDdt/S96r9Tfr6uPStocAR55zDOdMfr891V+cEyXM9M1tOzSXIc0uQq2nksiWzp5TuAOXITjfZsMkwAo58l0ZqctOom7SpPx3ZC03bNd2MSicGhp2WIPBqSFU29pEOCoVdZ+Y9g61ivctW08BzzuGYtilEtJ15wwUQ2P19rqNxFEMYxZDmEPXmLIaUv/6rCLKCCAuA7YRjNOFK7Q/sBvojKfDYJXzSRx60VfBxscHPZ+Waf/+/Xj2s5+Nffv2AQDuuecerFq1Cnv37nVue/bZZ2PJkiWDC9ci9ft9HJktgGxUKNIYATJeNQx1JS+k6pcRCtBhkGwIKFn9GWWN7cEZCBEePlSqi5W9BAgD4bTuAHNaefjr2XTft4eHuGEN4crq81ya4fi6RX10cAQjoGDooC8/EUd5xbXLMURtEwTADhOnBwwDgJERgKgAWQiQVGB+fgq+7NpWA5YKnKog9hT1MsP8lL4EwCaNY/nYqatqH3FwhgB2bxy7EsVwDQqrKdX6l/NjvI4pFyHyfxIAe78CTEzIe8erEm6ewERPzCazlexHMYw5dL0HU20A21aJBQaBYwGPVRyMChrL4HCqHhSKYKXkpWAOxW/jM6UAfugyjH5mh4C91vbGviomQCntoMoMLB/FoUOHBoX7IC2K1Nn2XmTdI+CdAhylqAM5MWSq5rCP3G+8C8o5OC8bKmIOAYcNmxZW11gN1XGMrsX8hH3r7P6creItETeJl6+7VwHjKcFBrcJ2UvcS1nNZ14VgTbUrS/jvVDfUpyR2LYeUwa51FHGvYfV+AsCfR7rGvvp4AvFJLCF7CN/2vnrftexSCM8n1j1geWFbB1rdAbYPo505MQU6mchRVXEsyl7o2Unx6o4+r8QPf1Ww3ciA0/mXPxGzpFvNwgoOLkGsZ6DA8DA6my9HjkFf7MFIJwUQPnDgAFY8ehXwKqkODsnq28Dd+QBhWQIrRaXeUK4hcCbD1WQOqEs1ewna6Mq67CZKWYQTCZEpGArkIOA4glF0MYcRHBEd3DzD0DikKQWzoDAB9TTkm3CvBnnQYLKIQsvnVzAxrdL3gWC9plNDit1IT5RblTrVjpG7GwRDjoYFsWtS13CnC+bmnhE5ewQvT8gJit5W82UCJvbM4edre/4OjYqQSn0LyIZgMDeCzIg8hy5m0cUcOg6FPW2oeH1A17xvM6eXcL1d5gxapzwMj3mET+0/PFn7BsdUwXbuTGLVb6zCXf+0E8uXLx/UWImJMYbDhw+j1+sBAH7xi1/g4MGDXnC8e/duPO95zxtcuMS0a9curP/IrcBbP23d2wSgHDyTigEdBBM5xZQAhDCA0PozboJjZS+hLCR0EFzBYS14KAsAYd/TTwwvYTcyzo2AcbE5/qRSCuu2S8MjBB1Lu+qcgGv4BqOdJUBMLexbDkWb8ahcCdFCKUh4qqwnq2VHfwUIK31HJPvuJ/z0mM0kCcFfCwSr5ooCwZU6WHX4iR80NHrrzALoKf8BCVBrxw+fmoI2JZODeLmyebVtdbBS6abeaOppcc2A0+tqVwA55qibdSBcQvgFK3smUiINArvWgYCPTIKVRK53HEPB4IKYA7Erz8Gdm4RK+I477hgU9IN0wqb169fjH176TIw85wIZ/FTUOnp5wqmS88KyhnBbQHgtIzyA2BnFy+7T6W3ctvYR+ozJ0lN/xcpmSMuHEu08WUM0U4fCcjYgDdiphiwhSAQCA3HP4BAgRgIMVt3hyQg8TrksqVAYiVCYtGzWtAldZOvSVByBkKgqp8B42yDuqfA4ZPWYwR+AnoYaOQmw2XV8yKKDuuEwD8xEyEdylKSD2YaaWAPDgFN0huFhvHfLh1BgAps3bx4U9A9gOiksI5afdQ4OXrzXVNe5cgjIHDoArF+xYDJvxqlzqnsZDXaVRQNjmd6tbh/Uwprmp3xYba9WF6Sz1R36Nrfv6uOy9QedkNDwjJuPfUSO8PQL36hWRxJcF4x1hgx1jDxnEbjbct2WnwFbfo6m32/M/8cFgZUvxXz8gnOEfYMdWTwCJPIf+wO6Ne8lPwy+af3X8PVdP5ERzXNjemoI7JYe2Gs/ZzFv4dJhl8J9nsHHK0fKrUPP3Y2zn/Tsk8M64gRLy5Ytw1e/+lVMTk4OLkYLGHzJBz+DmTf+Wa0OLjSap6ZgF5CWD1qWlhC8pJj76/+CmbdcVU3h5rpdhG4hIa0nuH0sRlGyTGSeoc/TbCP6QVuIGlDx1pE96qTKGpevMAkAN1d3/Jr3Ard+sWVnts12McNdT++LWPYKTrVtwvhjLHZQat/9bQD2R8ahjXXMVAPrgJjEYG6ot09annybH+lY7fT2dIBhZTlxce8f0Udn3lecgzgsJNRzY9pCiOesaRdhZN5BwXMw+Szrz7fxzFu2MrwMrNP3tcoVXhJRRs0Rq9yCUAmfdR6++uL3njzWEYN00qVNmzZh1/OfAb7mqY34HAy0Sc9IbQvBNVuIWzb8Lb71d9/zKgK9qr7KYgJBT9Io7AopHdvYO6T4A7SRjFrHX/Fz4EDgnAitB0rbfF2M/cVsEGiLrqDvmCGbh9CkVfv9jwG8NPF7aALzjFk7xCw6aMKrvgyiKYOzed5/CQR618+A9d9C0OIk+l0+YRl1cI0s4ZlMEIz5ADAP2UI4ypy6XCJO7sRBwK+8DFuOHjg5rCMWUTopFMIHDxwEcodVRMzQXlf4Dk8CH907b5uIhqqYACwzYZNSDZn2EZllH8EMuwiXfQORauASsALT6cri+jsL5Pju7h/iH7Z8A1fvvFA+ds3gcrXaGEYHVk0OZKC4cM0wLrgoA5MBd3S7CciRHkpY1WMkvv/BFUQOkXW6ethVsNkB5srAcKEj+NzNPwH2z4Z3F6QAACAASURBVAA3nI7wdCJbIeyoSa98KPx+WSE/ZRIAz7HCPGS6lDsaYh4YrJR2LqsIDoKrN92Px0+P4rkv7RrQ1R1szg2IGYTX9su3XQDWHZYdTL/ndmhQpanwjdtE2CphI+wUWyAg/JpVwDt2AkuWzxsGowSQTeLQocNgjC3eQvrAcT5+gaQo0Y0RUUoxOTmJn/3sZ4PWQGLq9/uYOToH5GPSKgL17BhjWQVapZoiGGBKCfw7L0T+9OcIEKzbRVAISwi5jvKmSphQUZ6YdS7XVMKQCuFShmmlgRKhDurKQUDAF8Sa65PX/AcesTzDxZc91BtgrlG+EtLwhL32SiArw2AwGTrOl8JaMp1qoo1uHcHr98zTv7er3/cAeAGAsxbger8NwBjS7fUqRTB3qIOheQe3vUYpsmVf+HnPMVdcCOy9HZha0vysHnT1B+tTnzJQ/Nm+izD/EH71fasHhrNtosqAoKG2jBADNCUycDW7QD7PpORWcDiPbQSrPyvvvRczG16M4dv+2akKZsrkuiRmnJFGLICTwDqi/wDUuYOgcg9ampmZQb/bQafTBcdRh9hH1o9SfsqJoxCjwLqPPgNjnT5AC80WIqQgtiwjVCHpo5OxPrlvCnyG5lSStoOZHFj1T8DO3wCWDyWUtfqxLQX03qXApB203B4glaphNRjKksvScOA5n1qXR7rMQFxRfAjAOgB/i7AFhW9Wj34JHg7gM46/FIhbRXiaGcH9gLC9RCuHRBKmzbsLYMthYOep8IurEgcs1jwEuGgp0j2IKdJAdNsfH6LvBNJ6xu8f7vrsjk/+H/ziIMGFV6/2exADlTLYVWYplfBRcBw9enQRF9IPQB28wEHlFj0Q7vV6wIsDVhGh3oHemdS9hOcLhK0KgxOCkpqgSoe/+qvtL9wEwXWX1m0XwQ3v4RIcBfKqCb5i9cPw6u1PQ2GF8bKPZx/bhtSdDkXeyWQXWrOxIDXQrnAzFxeF2AVUHuiwhkCwDwarAq3T/A/a5A2nCd9gAE0jJV9kWk/hPBwLoBDtraIOJpejnQdQbFg3cxyTqI69BYJJUzX+jq0T4HnHGZAwFNBN3151JPMxEchJ7J8b6naXRYQPBpsehnGbCNdxRceUugMrzWfmgPIOLj37q45okZBfuBernvxk3LXntsVpHcEX+fEHCYC0irjxVuANt5gwWNn9NJYFFOYZrUBwZQ2RDYHlXYAx02eYSxAcsIsgnNd+ibK8J4SLmo0q/EUdTvysGuDUnfkpSgmCSaRSSk8vufYsDNM5cFnrujrWdnaBxJFhAHPwewn7AGObgD0I9EgDPTA1TbayjpA5RaVLAPwh2nWeQ8nlJRx1R+KWSphbNhExiMsToDD19JLV/gm33N5dwOS443uo617y8RGx03ivg7ljhMEuMOyfgZN5PYRLnlfBW6uBWA5QxgBGwtYQ9uvSMzC8/e+lOrjpGVxZRMQCw5YAHnEO7ly/yK0jBnXuSZk2bdqEv5x+EuhzngNW9eiI0c42gC5BXShb9c/QeEf003ghyhKhCEm2mKjmGIdkr742gg8W5477LAUIO+7H3U8CxvX+OTxk1Uc+5TWYIo5+pad+IPL3UU9VYX9FyLUpBoFDtv8pAHkSwF+jqc/ywWEfgFXLkwGwG4K8oSoUSB9jdU3+DVn2quBxQdkxBVbnwPZRhJW5ifC1kwGdFIlzTMbtmgGcYhORohxW/uMJgSVB689Wv+LXcRRDYET5EPv/cFMgRhvvyeY34/1bPoThLVsWr3XEIquDFz0QPnDgQJo62NUrcCmb5guEPSBSDzAnuqbcqw7W/YXdXVgeUAuLVzswnfpemnfQGecopNurgsWxrgQBR4ayPo5E1rZlgLQEdy8TLqZi+Ib1EKn9fDA4s2CdWle0GC3T/rOhTBt1IYHvoBo0Ti1c5xNRlyAtWEMsJGvuWdZeeeUZrAd5cy3Thm+w7b/rUwrr29SWJu6gNLY9SulU88bsV+I2EQYkXshAcjHv4LJlXuwq4f092XGYApbdfezHYweAe1boK4Dlg0AExzv1+33MHJkDsjFxb9sDHdS1LEabOCVg1O8b3Agq5/INpnIdOLgEP/o+hPAqqA6vkG+zNNDXZyjR0VTBquMbgmspaWiEomO5cnHv8KsOhXlcvZvKrVPJrO+7Qh1fDQrrMJjzsL2dyzeYLWCbNzVWEYVbJez0Do5d72O9zpFrPjXhbyP47yXTQTjuedEeBttguI9OUl1cIkPBO1UgOQWDuRpA4gSEcUMB7ALDjc9Ge8I2gpEmDPYpg51wOAPLBgHmBunESzMzM+hnObp5txLm2JYRNhQmlVIYacpfCXmVSt8uoHmooG1jy6C3HfJA0VTOAwhzYHIITe/g1OCfPKF/ps/c0ZbtYHOhIj6k9g1B4Ig4OrqP6k5PId2TGBHQ2wYGh4BwbHuSuD0NQGHA4xfsWDZ8g10NiRQLiZh9SVuFsN2XPxY7C18DCWgqfKnfSzgfztAhGWarzzWYrLUZTTtJeyaynN0wNIyjwOJWCS+ytKg9hIU6+Od1p7QtZAn5Cb9kRfvgUZ7PYurJMqJaLAPRnF1+w6XDS9iVXZ/51Bw13Ku3+btdBV79siOOhgitRohAiPSQQdigKBSULeQfnBKttm1QtbZQ1uWJJfOWH4ic4t0b/D2A2xvIPgff9QuYP9V+YCrapwmAuccr2HWPugcysobnYL2PWP7c+i/hrl13o/AcwweD056NmE1ES+/gY/UZV6rgNuUUB7B2L1Y9ae3i9BJetk/kh+9dmOORyfqYy/YBp+8e1ObHOe3atQvrt94KbLql6b0ZW5Z+nbxo+nmykmLub3Zg9h1vjPsGV59ltX+wlQtue5U2/YOVh7CyiCCWDGkhlcK+zrfdcVeWEdxHTwFsuh649bZ5EtIU896U+Zg6FEatrNW9g0OxTuyqO/UnpKarAOxLHHfVzzvTg8eG5ra26cEuhEmyi3RXMBiNYIrG1MvAF76y9wUg4GndBgzrlihK/evz8dbfl7z5/FZewiWtyoGmnzAJ+wlrvsOiHCK1yt7OrjKrAPCwc3Dn73504CU8SCdM2rRpE7af92TQF70YtGQC8jrqElfdYgx0OTyCP/aqO/C/v3SP2ztYWcppfYVgXJJUOBWKe5ICu1yALCQJnS8w0/ZdcV/YT9jwFYbbFYB6Tj3FItnnApjKEVMYaFvnAv3z+yBsoNqcR9by92ctrp8XBh8vr+DEC7/rx8D6b8zjHFKejzZB71rEFxJB4eJewk1lMGnYROhsodFuYQS0ZMjecBXeV/CBl/AACMdh8IGn7QM6PXP4K2UKdgwMD08Cf7p3frDHHo5jYpTVBbJCykYeDCAX+0wce9/ue/Hnaz/vDDSnA7owRKMGLNah22+vGcIHPzZenzMhDhCs5wC4zAO1HPUAYFcnTFlHtFDr3PxD4Jq751HA+yJ/avnKR4gcBM2uc1PXIjZMGvIgSrjGeqCJ2vxdvDJi2jxcdfkR/NWthRHUzVYDl57BhCYINtXBz9/2bPzKml8xjum/530DKGH/4JBKuILBjue3dX7DBcB/3hlXBaeUU/q55JM4dP5XcfZ5zxYzIxZVTdOTeWqBgDDRjtkDqBkUbvny5di5cyd6vR56vR7Wrl2LvXsFjN6/fz9WrVo1qP1bwuBLrv8MZl7xZ0Id3Nfu034g21C4L6CwHUCOPuNiZFfdUIEf7goup703gk9xipJn1asKMFcEQDBzNH0UFOYO6JWa/vKab+K/3/zvrcCaHZyzapk5yv6tbwLWPeMYYGJKiPBEGFwd2uHDG2OibwVw10IUA4737wGwAukqZd0yIgh67XUc6SHW5wmDV/wOcOB+eOMQuO+f2BeKCuWj+561YDBYD56o1vuCyBXItUBy5rPLeP1slyzzB47TA0vecy+OPO+8BhjmBXHD4NQyi2Vgy8/DVy8aBJgbpBMDBn/y138TxSUvQ0YzZEUJWjAQqahnljpYf+8q07il9HvlR5+Exz7jEZ7p4Y6gc3qgqGMBZTHwlbfbb9XtwP6jmH9QuQhU2/sIYDLxnEjmV6q2haCuyZ0xMOz7rvsBXBTYJjUQnWvfhwP4/DHC4DyBdaZAYde5toHBu/vA2p/M816JKITXPAzY9oTj9EzkxwCzDfhLvH7BOhj+8sf/HTuu/Rftc1KXL1ZDjXssIjjEbARSctCyRFaUyPIO5l5/Nd514OgACj8AadFaRhw4cADo9txzIkL+RL5Ac4YFREs/YTs7OgIqwFzTO5gaNg/2sngfs4uA5j9cuyY+fPUZuHj7i1Bo02Nrj2Hbtd/X4eIoLR9hlbudDJ2cgXNeBfQhlMhpo2I4iHPS7E64+iqheS2u62r3BinMeTAxta+WNzxCegfH/IdtCwmfUlnLw7pfbxaB06FROhLpqMaGjx2KbE7ggPZNMMxlxfCOreNgedcBgXV1eeYcgCgc/sC6Z3A21gGzppvaAx4h/2Bm5BQobE5fnXcgORc0fvdtQDZ6bBYRLjjNAXSEdQTni8zA73jzawbgFK04oBSPecxjsG/fvur95KSAxsuWLcPu3bsbAFkB40FqpoZVhG4NkTne+2wk1JTwvG4wEsIAOgyadcHKpl1EFVxOeQor/2CmBYC0bCNUJ9YOJpejqAKgojHBHoBXKZyWXnjt2RimiiqFqzgOz3R/FVjOUT+MjkLArbkWlBQRANwWBlv1t4Kqtn9wCMK+DaZj00KmUTRmO4abA1wLJAfP7yQtrksbZXDkx+/9a+kd7GkvxK0iXHehSGO9bmsvYbcymBvtRTvQsctfuEBu2UTAqIM5IyCMgZQIeAdL24iHnIHOZ74s7SXkZ0x5BZOmCIQFlpktEsnA6CK0jngggsrNDerFBzLNzMygIBQ5zZAVfWRZiYyLTDNWARxvgDm7zOF1v4lzgqGJDjLGjMLD6x1MHP0PHywr4baK0Pt3KfYNrnLTYXS7e430DQ5FaOPJBV5jX8NP2FWOW8uVfQR3jyn62gbw/0RvlzmlO80B9AD8HczYfQvhIayWJ5EWVM5l/xBrigBpgedcmikQCYMTfIORAas7wPYx+K0V5qOI93kJp1L9EBROUQynQGLLyyTmJXzBKx+Fo+gK0Z/xZxCrm9aEwZVFBJeq4LJExsp6IDjrYJaxxWcdMQgq98CkXq8HPPfncaf1GBR2Pdzz8RBOAMIqwJweOK4OaRMDwtQKMsdAHMHlxLba/nkH+ThBiaKCuco7uKj+euIFwb7AchnKOoAdkXiN8iYIdgJh0aEnvopXbyRkaIYr94UTNaAZgGHU4MJVKGtpSB2jdFwSV02tewiHGkI+794c4SihQwC6iFtbAHF7C893K8jbAMFqyocFhhkR3sF9UPQtEGurdl0wuJAA2G0bkQXV7n5v4bhNRIpKeN4w2JeHJkzv4LYwONaae9perHjU2dj/3TsxNTW1OArtB8Fcn1Iq6grHegWHQ+sGSaRdu3Zh/Q23Aq+UgeT0cot7oHAIEKvnLefSUxiNgHO6bzClVnA5CGDENCBsw2ARYE56FoMhQ4GuO+SOUef5wFdq6o7kyFHK4jgUn5s0wLMzsJy9qX7ImJVBDAojEQqHzPtI3XlQAeZiLJTL6rmP5sSq1J/hg+0swBe8Vha6Otj3G1OWU3q8MYhvvU6Nhf8r8242v7AJC/gxOVc0nwmunZY/BoXoCGpgmNNGIDn9lTAOzgioXK4gcMhPeKQnVMGcSBhM3NZMrWCwfH/6ObhzzSIMMDcIKnfSpE2bNuEvzjkf9PmXCuWcBMEZtaEwlzM1acBGxiSSnJi+warf5vYOtoLV0QAQdnkF5xYEtoUVqfdZAAhPDmvPdWrFEaOxNr0t04FwxcXKGgr7urxcAjbIOikVBnMN2HIP+7aXe4gHnwPgbcW0AbNI+IwHuvrOV3mtlG0V4e6BYGrD4FTfDArkmfQObiEwCyri5ysVn4+Vim/7VKEkczeeai/hel0+kqFDcsyqz6zngMs2gNMvWLIiWpbIJAQ2gHBJUV52Nd5701Y89Oabcdlllw3q4ON0/EVpGRFUB9ulWGhqdsxX+Ef7gdesWjAfUaZN60nN+tSfkKdqbFp9c7p+7oB2uXd6v8u3VR37S7cxvOblR5pQ0QUcM011agNL37SeUM0SKohdHrodR86115DFQqzQz8N5y/dE9p5DlvBdvtrVp3y3zo9rPmD1fxEGw4y6vKRp497w31cmDPb5WDNk+OL6z+M7u/49CeSmPy+BvJCB5FxlQhubiBLxKBJSJXzw4MHFpxIepEWZKnUwHTM9NvXcdyz3I1n6ChsNv52fR/+6K5u+wZY3aD2tXOWs8VrwHAVXPsEuvBUKx9UEYPN52kjLVlsDCnsaf5veD9z6d4ngt41q1WW8izhFJJFYeL6JXDbAdTlvtQHA9jE3AviPAFMwLO5iymrAH69gPteeJN8U3nPiLWK1+75uU+/WecBgGwSjsc5+YjgISi6ey9oz2P3sVs94mdXlQ8RPmCubiD6R5Qv89jX2ele5pt6XGRgZBJgbpAcvKXVwRoRVhD8zUKnyZVbY8IZS2EH0OCG4/gV78O2v/tTyDiamxUSKXUSKgtIHq0KqxzYWEm3sInz75e4+4orvAwdIALxZ50ky6XSmf42ajU8BmslMgYyKz1whd0LOgKkxxUOXNkf72Ga+4/4IwNMTziMmeHXZZFAir5N27Yi8bhkxzxt0np7BPjYQ8tNIsY3Q9tl1L7D+fyI9MHwbEBx6LgjiQklq+QWn2EkYjQ3ubG0zWxUcLNOEdcQs45idnR1UBscxLTog3Ov1gDU/N6dVh+CJDobbBps7dRnwgd0LE1yOAZzTlkpGElVFNpWTFPfsvhtfWPtJLyguIlC40LYJeR+r4124Zggf2DbegMCgYUsCTkkcfrrmm6ZM01Qq4QAEvvlu4JpvJ8BgoxayClMfDHaA5it/TWTvOalzHkL61F5f5B5PwywIgV3/GSG46vIZ/NVfFA3Vrr1cOgPINWGwO5ihOPbTt70Iy9f8WiQwXPgZMKEwCdtGxIBwqpfw6y4Avnvn/G0iYuUXYNrhPOVurHjUqsXnJTxIiyrt2rUL66+7Fbj0ljA8iUHhIgyFuYS9eOrvgrz+fQ3fYG75B5csk56jWhAq7bVSD3MfALb7xXEoHEpf2vKv+NKWfw1A4ZYD/z6lkjzg1tcB6556jH9uip9CArwUgc1UBPtw8fVGAN9Ec6ZwqOj1geVQE0xt80EAK1OaiCQykzgUKQ9YuMBxMq14PnDgcAAKS3uOhUhb961rNWDhe15cENhlZKHUvvYzW70agebqwJOGn/A992B23RNrP+GSgiu/YBcM9vkE+wZn7bLsIefgzgsGAeYG6YFPmzZtwvZfOx/Z2heL6dRFPNcB56g7wBy0GTFyeoSaDv7GW5+IR69eEgwupweZC/bb2kxtD4Fhl3DI9g7+PLB/JgEGp0zNt0Gg3p+Tn+89E5jstAOMREFLmXUQTGTOSA01VRfZFxO8DURV3sFPaAGHQ9A5Zf/lAP42wjZzpEPh6hag9fWhtL52BhiW11dd9zb/0+45YO2PtHUhRpASPS8AhdesALZdhGMLbjffaHuJz3UlItPKgr/ddjc++/Z/07yEzQYvcbS8dcsIMIB6y7CiXi5L5GWJbOPVeMtdd+Pmm28eVAqBtHbt2ip2jm2NGNtu0VlGHFi1D0BPNNL0xjpFmlo4tQNEZakzPOnxQoRpGxHwn+VUTG0jjFf+gNRrE8GqZWUnoT9ONtTSbR3U69LVZ2LN9lc5rCZU8yD3iIN07zcufYtrF8YSGTKUDS/hTocJL2GI4AaE83rKkav3KF+omqeZauthK2RppJfXlf/JHJp+0QTYcBbA+p6On0rq/03tKAZqvWFfZZJrlU4XadM5YkaNAT9ipvsDkzgYfsfWCfC841EI65DYNWiRe1XDhQPoZmPdKuhT6RmUaKMK5iEVPc8q38Fqetx8wfD1twH5PH2DU1TBpdVBxRQOPvZOcDqwORik45f6/T5mZuYAjNVz/O1poLaFBNXqSns75/NDgJzL2QjCS5iXwiai8g2WXsKEczEdlmuWEYbVBAclHBktQTgH4crHgAQBcGh9ChR+2pXnQDiyzt/Uq/rOBNA3OoQafAHpthEh6ulTv1rHrKa1qo5CBnD5/3LP8dXqd8v3BfwqYbT4CSG1sbKmIJHjlioivJbV7zZ+Pkm/RoYHH4/+8Y3/bu8twOQYmvZV1oUgJO4aHL2Xel3MJl134nlGQhDYvnEAwsRzqawjuGYjw5XHOCegnAkLiZI3LSJOOwPZtv9RzRoQ9a3HJsJnFWHX1faysV8Gxgcq4UF64NPM1VtRzBB0KJCVmmEbL5HRoraPsCwkMl6CZAycoGEhYYJhVV6JOnRoIhfPHnfPq2n0cTn8qmDftBDXiCCP9LV0+4bSWseB3ZdI7+DSU176Rhb14+r9+pCRbglMddG0pojZSMiZNOrYwi4LMkZCfS0Jq1+J1W8OuckBYcuHUwD8k/XXAHF7iZBlRMwiYgppdvy+MepGt5yq+DeKr2h1Na+D3Ir60eobJ1pGrB4Dtk9YALXNDOUU2wiZO7nIx6z8TSHrPstKmxMQ4n4+tEGip7/qDBzlXdEW1O9v474hDYsI1QbIytoWwrCIYFRYR7CyGuxljCLLu5h93Xsw+9DOoFIIQN4rrrgCn/vc5wAAl156Kd72trdheno6abtFBYR7vR6w6heiwecreEOQEIh7C7sa+z4ITNBUBusBP3gNgglRmaHI8gpNNYFw01OYGGCWNyCv6SFMkeU5svFhlCiNY+uAONQ5NkPxKMfgGgarNZWPMJjwEuYMhPKIf3D9nYYnr+/608BIVkxVmUnA6gk0NwS5TaGd23yj3PgC3SVYSVQFdBemCjkVDIeC0bkqJj2YHAkrhhmUd3BWeQczB6gtrUBtLkW7aRmRV0HlfDYnPgsUlzK4jVVEdR5y6ilnwnewAsMc7WcBDE00O54FwlYRLAKBVVnlU2byKaxYuQL7/3Pvie8l/EAImZcMGgQLmXbt2oX177wVeN4tAjzqjUuXTzB1AGIbBFMLvOQuKEyFXzCFEVSOEFNhaANhQrmogzgz6lzViDWga6ObW8Ot+UDhznCOTvWj2kNgovX4qjKoTb2TkuwOORIGxfWI0hr85fI/5RICc3lMzgBe+vvdwwBmgdYIs20cIA5/XE49MW0gl2gKLihInNWAWM2OdNa9dkexTcAkR5oa9/y3ugelPuhOML8vSr6mIWUwogph9Slh3Mjifq+tm2oPYekjLJ9lEwgTMJ6Bj/TAChKHwaUH9PpgsF2Pq7zkHNz5uI9i7dq12Llz5wk+kvcA1bmDdFzTpk2bsP2RTwZdewkyNmfCYK61xtX7zATCGWeglAOZgMLMO0dGlm2OwVO9hqw2NICw5hekg2BXoVx6IDBPAMIhSMyByRGYbCA0vcSmm64guL4ZeiSxPnZ50WvHJBoUrqp8bsFgz4BgKhC2l6mEwm320ZdTLfV9cLfNPg0Q7AhmpkPh6iMbBvsizAWAcJ4B4zZYDVlHtcnzta6Y73Y+EZqturfbfS6Dai3nw8I3eC4gRmhYRDCAMGbAYAGAS80WygLCah0rwbpDeOu1b8fQuStOfC/hIw98HXz48GEMDw9XsXOOHj2KomgGuN6+fTuGh4eR53m1XVmWi8cyotfr4cCZ+8LTU/VlhoWxkAh5CXvkKaLDKjK3s2z8mt6pKV7C1AvbfNPqXevdwbwyZyAv07OYOq0B9Pdfuq3ExpfPxG0ifIVyCP76pg/FvHtyDbTqfr2xwrBNoB5Xo8A3dSoHttwpsnEeXXluKZVIyNvYrgADflpB/2D5yojr//bdJ34Pax8YDu37j+s/gbt33eU5TtxiJQiDeQbO6yA0KlfPbQwMu/JCWERAHiuljCuAgyv2YvmZ5wysIwZpwWHwJZs/g5mL/gyVOriyeUBzSvYc/FOx+/DbSOjH0ewjyh0fQ3nT28yp4owa08mrxqJ8jg3QxGBAJ+Wp6AZbrnG9+dtHBDvT1vGN7+LcHdQmwPg23Qjc+mVH/eMKRme3iUJg2NeR5rVCmFGgVDkDCvlqW0f4PIFDAWTajL+mxOB7BYB/dzUDKVBk9W9Qv4dJ5RaHpnpOiVIH+NVvKdc65SI0euz2vZwqTW6mt/VuSobBTZzgHuRgWuAYwpvPp3rPuLBw0j2EVTbsIsraOxgpNhEhewifnY2rjOtnYKeehy+NXoG1a9cOKolBOu4w+JMP/U0UT70YGSvduSyEjYTKARsJwrjof7oCzDnKtLc//5u486sHTMsIY+YrmvZ5MTPbTgK8OhZwFpte77P388V1cdn/Wee+4ruS+6R40VqZdDS7A2WDQDUbhNzKuu0E8f8kbzeZ1J67GXV3i9s4KLqcNToAcunvm8nv+QEBViPsbWx0aUlt+UCyZoZ2zdR1Mz4L/aepalt7m07kfol9Z8J9ves/gfX/bYHue98FDvly2LYRdiA520s4FQZzMdMnK0rkrvKptLK3vCsx++q34k17vnPiW0ecwCF+xsfHKxgMq02+KNKBAwcA0ksGJXVACA8c1sFLLNDcknQv4RouWYEvJAhW7wvk6DugGE+cEu9a97M7f4DbLtiSrLBsbuMCy9QLg20ofOGaYWzdNhEMKAdNfZNs+h8b+YpBYq0hcvNdwDVfC3xfih1Dquei5/dc+ZsiO72xYvC7TRQAz2/Ur73PU/hNVxzFX/5F6YX/oeByLHAf2fdbGbB0WL1tAx625hxnMDnewh5CHwzpSyDM7GezUhyaquHW3sGu8qPQXplnWF/t229ZvmFqEGBukBY8VVYRfMwEJHMOaBICMS4A049A4T6AZ20Af8U7TAhUmgHlKoWwBZeqLC0jKiWiTxnlUQW7lI+2BvLLW76OL2/5egReNuGvvSxP0JypkEBEt74WbZm7fgAAIABJREFUWHdhpFEagsEhAO34nMM/kMUlRGXU3P61AL5h8VBfVekblwXS47TZx+YAPgLgkfbPk+fKdP9jbgJgzj1gHJ5r5wPBCZHyVvwecOD+RDDMNYUwIwYMbtxXLXomb933amefxgWC6+fDrRC2nyrXc2lCYV7Vu0ZgOT2w5L33oFz/OBk8Du08g111aD9SntnrigxlOYzDhw8PKomEdPPNN1c+hddcc80xb/fLlGZmZlCAIqNZMixxw+Haj1MPOMcDamEQ4Jrtq/DrT5oKzlDkhIhZIqmRzlLMaLNIf8ja7oLPAnf+NAHupYJgX9Bxj7Hu3l8FJruB748cX4fCNgB2GvlmfkhMNN9hKsHqYQo8GuY+mQpYRxww18PvQ3HWGvsSkSkV37csB/4xr0F0hQKIGVivAX89UNP43RogDsJgG9DavsGzwNp7I/dsZwHupQDEXXMWsO15iKt+Q3wkR1gdHHgWeaZ7BROnt/DfbPshtr31e2ajTKv11Tw7JdAChztwXAAC56FyLR/C0X4xCDC3QGnt2rXYvHkzzj///MVhGdHr9YBf/XlTjUc8vQbfss93Vh3PG9CMAkOTTcuIhkJQTJ1RQFRNY60av6TOnBAQ2jGqZbeFBLesI8ztagsIjvHHnIGn3HaVAdBI5UtMnEHqmvYQ9fF1SwjdQ7hhFyFz3snR7XAwLjwc9YYGIdy8fkSDY6VWsOnLoZDkbUdq5DE3rAJYAbdVRUiZ7OrMhVTKvt5qJr2EO/Cbw+cJhXysARaLoEvMVzsY4Lu2joJ3Oh4Y7FYI+1TBvnU8AnGp9BOuwfH8bCLMgIkdoThqKPeJoRau4W4ECl9/G0BH/dNV9XUp3sCxwS19kEvlR92NFY88B/u/d+eJbx0xSCd82rVrF9ZvvhW44BYxv78INGT1+theX1rvbSsJe4qmYR8xDGQcrARAGCil4OAVCAYDKGMgJQclzKhbfXUuIBu7rsA6DowFW8HrqHguuPJx0juYHRMUJhrgq4LhcT8IVml0WINVJAEGM/inw7ZQJtsCCBui6rt/QBvz8lWzbUSzLnVwrNodgUPAq03brZZjP7YNRG8DhQmw92ZgcrSF4kQNIFB5vxAT7/hVw/4fOtIbrmyp1VFiAyUumwjjU06iAzaE8ep5ZiWtoDCRkLjyET71DOCm3QIEu+pYX4DohiewYwA3ZZZPAWDJNHYf2bw4rCMeZBj8ne98B/v27QMAfOpTn8I111yDG264YV7b/TKlTZs2YfvDzge96FJks9IKQmVWIsuFJUTuDTXu9xWmlIFkwoufEf+o08h4howXRq2oT9cvkWGOd8E4RU4K5HlRl9M8UFb6vINjPsJqn9xcd9vLgVHq6Bu6+nKpM/3svqbOCaxUeQkTNP2EfbzBukbEZamh+zzEvBy45TXMa7uJSQL8i8b3lBWFsgghnr9M/3r1eZuZOZWtg7wOU9DsHPR4hm18IzyjviRVtOVqNMh26epxYPtkAohN8Q+OCdxCfsI+z+E2thOheEUeOMwyIvrILEdBcuE7TkhjdtOzNpyOo7xr3nDGcL+aFSRiflAJcg2LCJcdhC7Ssn2FC2UrIde9+nq85ePXYujmm09864gTHAZfccUVePrTn448zxcHED5w4ADwsF4NC+3Cm1qQOAaG9YfZB4VDXrauCkQVMmXtbs6J6NwZnVXpI0wpKtWiDnrroG5uIKzDYH1bggw048gmxsDQr4LScSszy1PYB4HtYHI6FNb39r0nVByz6nTbpvy6F1MGv6+zKxBRKCiO3fCwCv6hIbk8F6gcFLxAoFPOAyOGIRsLEqgYKNxWDymj6bHoozEPYs1XmFHpG0yEb3ATBjfBcEwVXAaCwsWz2wIlBQqbMFg0n4UHITH9g21FsPIkZJ7OpcrdiTgIZp4BqBgItuFv6St7pnDwwEAlPEgLk/r9PmbunwPYmADCymc9VP7kHjisv/dBYb2Mz/WOIRFQOKNSd1B7jNJSQGBKGEjJQIkGhg3/YG2Zwig3jAFLjx8qiUDh2jt4DnBaUDS9iV1QuGHLwAg452YHGwn1nl3/hYAkd9SnPthpKWft8yHa96m/ToHhEdSCS7vqaZt4wqUIxXwzfjoBMiY7yAG/SW51tqNgmEWgsMdXeGoM8Tl71f0hrRyqNqxsZ1qDGuZ7/ZrzCG02B0hcgyOuYIz2t6tnrbaK4E44nLESpOTgpXi+hVUMqVTClDFZXwPoTIqbKTWAXMwb2Of776vPyxxlMYzDcwOVcCjNzs6CMVb5GVJKceTIkaTtjh49+kt97WZmZlCMU+Rlhmy2bwLhTCrs8rK53hnW2Q2IacYAKmzhQgUq51qkKEJQgqLPO+CcoOTSxknmnBTIstIsT3lCbusjnNWLE6Pa8+kDwSEgXHoGqO1yvEyod+0+Yuh32hWaz7+YIz3qGze/XoHfKdnnJhIUVyCWNo8Tim8d8gNuBFuTy1zz+yWkCYW9I72+5RDY9e1HI/tSzTfYNxM30+67tv7BIcuIFMCbCoFjMYsc0JhlRLAoCYJLkqEgeZWZjOEhygGCzhAFI7RCKPajYKiCWSn8gMswADaAsQo0p9YV+nu5Dl3MzpUnuEp4E4Bb5fItAJ6zAMdcD2CX9n7+bRAbBsMaazshU6/XA1b8PD6i5wPFMUhMHKDGF6yLAPjxfuAda4FP77VAsL0sK9GS1x5MVeOdgjG5njYb2TqcJQYAbsJg4lAVh7JvO7dauAmFXdn+7Eu3lfjirffj458bFZ0EV/RWfZkGoHCG+HRLszSqK1b9mlOrRvNFvOeOxgE1GyBVbZk7Rg5JoPC2ftuWrwmgvPlCpHsHx6wiUisme6RVg8IMFCXxKYN1C4lMs37IPFYjfk/r1Pz19R/G8svWYmr6bI9PMGks1xYRnQoG9211sK0KLiUlSI1MnqIoshu6RSL8bZuX340VZ56D/ftOVJXw8fY4HkR/X4i0a9curH/TrcDjbgGOOsoYHxiOAWMXLKaeTliuvxLgCzeD/3Q/yGuvBy2ZBL8MVFMHm4BYVwvDtI6AqRJmHm/fFPAVwpTN/eAEwQoGV2UR91hGROjpppuB6UcBL30y0iwiPEqlIPC08aFWVxL5qgTe6q8EPzYAnAqCY4BY5UsB3ADgsaT2Cc4VFNbjQPjON6QGttVkPBESp/wI+zQa9wwaKmEbBqPRVzbtH/ST2dLbgjf94m1BVbDbToUYgasMdTDnMgq8pgouWQWASSlmAJCSy2VSrWOMSjBL/EFbQ/A3Vf2bun5iGrvvO5FVwn0AM8f5O44MKszjgRE2bcL2ySeDPvnFQh1cSNibN6EwdUFhfduqBe5QDisoLNXC3FfSEuDKtd/Fa968BE88fwicQ3h98ww5z8B4UVkilpwi5wVyKo5NUgbNYoOWqQW9DX59QDgEgF0ZMKe3eMrnFXcBex8NTOUJMNhlwc60fjCL1NUeEKxXXETr+tp9YELQ9LWX9QphMFXLvCm8titWYnvoq8EEagZj3c+B5x4B9o476lWSAIYjKt+g2jgBCgf9dV0zbBcqoJz12a7/C9z6v4FbXoF2geR8Bs+Oz3kG0c/nNQwOZa5Jyklg+BhMwmAJgTPmCBBX2urfwg2ECxsQ1+vKl16Ht9zyDgwNnagq4XcDeLNcHlugPvD7AfyR9v7SBYPBiwIIH5j8D+EdbKtxU6d/tIHEFGG1MIHwE/7Q7voY+jk5ATGpoLBLLQwCFMStEhbLQtUr3tfLKt9/5358e9NNuOCO61sBYWU1ocPnplrYhMI2QPZB4QvXDOOCizIwlCCUN1XBzKoAfJYdepR6X4R0vbJjDtgpK7SbvwHs/ylww1McsNcGz3YDhUR6mdAgcwjSWuuvfDLMIAoh+4oUMOyLgO5SCjtgMAhw1eVH8PjpYTz/pUMOv2BfcLmQ73QW9ROO5d/YdjnY0Eiyd7CtCtYDyTGfKliHwSwAg9Xr6y8ALvsosOyceOC4MgB/ywTFgi8yur4OUzg48a/gmDhBS3K+yI//y5Eq72A6Vg9guGx7mKeBG7KXyOG2k+CO+lyHwms2AHkp4CJnoIzVYLiCwm5AbNtGECIBLKlr2crjNAEME3B8bcv/RI4+Ltq8Gqafar2vu8/aVAqLTpgF9VI7xFr9t1VeIqeyibXsnIbgsD7V04idUKtuZYwwvI6L5upvPAhPrO/YnwQwad/KEgpDA8PEVmzriibX/5ICADzvV/w+sPcmYKrX4qJYkfvUPUSICXtDlhG2Wljf7g37Xhd8Blz3uC5pUDAY3O3vrewhCNNUwQoAl1RsV1IwdW/ddy/wh88FPrK3Ge+j8AzQsmMAvqFjMQA8R8lPdC/hQZ27GNPMS9+H2R90kNEMrOzXwznas0RLBpoxZAVzK4U1iJyHVMS8RMYZKGWVmaurHnvP9kdhdIhhDmUFg0uWGergGhALSJyjQJ4VjbK06vOlDFZ6brULPgh89BLgnNM90K0MAOG27CBRHbx3lahbkgdkXUDYhsK6aCpUPzuu0QEAq34B3N1znIM+O1rrwxLS7AfrkNiAv3YfkjfBNLH6ymcQYHcPzdm8cIBcBMBwSOiEAEh29K933w9s+f+Anb8WgbZ5AAi3EWMlAOE1ZwMXna3xgRRv7ZQst2eUoOB5FASXJENBxfLnb/4p7v1+iY03nOmu++Xgb1YWBvzNlUI4qP41tynLrBosVvUuYQAvAVYSlIyC5WM48qLrMPsb2Qlako+i4W+zIMfUk/nbd+7ciXXr1uEFL3gBAGD79u2Ynp6uIPDmzZsxPT2Nw4cPY926dQYM3rlz54kNhHu9HjD1Y9EiLKlZkNtg2AWKfet82+iFiE8tzCkwPNncPwiIJWhy+AvzaqqfU18hAW7TKkKh4bHHrMATb3uXsXdTMUmcFhQ+MKxbROhQOASBdZjd6XB0OuonW51xGwpzhKf3UAs+2BWhzwLBsgTZ8ATpHRzygM4cAJonwGHfKGKkAhi2R+9itg6+YHMuwBuaruLwD1b/+7VbJ8DzHIVsMhbVhLM8EFwu8wYhTLGMcN39TFvOxkbAkTW6pC7riMJQBDeBsOHTqdtD+DwGfR6E75HewT7lEYM7UOWxgl/fcTgDyCRWrDwT+/ftHXgJD1LrtGvXLqx/wy3AuZ8R9xOjtczE9n93qTj05FIEx1TEmQNoUgifny6v6k8dhPoBMdfUxJp1BOXGVHa77IEHCusl1uorz0MHfadHq0tNTLxT+IVqsq5jmiphEmpEanXTaBfCtaJMgJApAeWs91xfp6tpFRDm2uHlfbIFZqiAEyGNqeqQ1wHllJ8w1YEw0zrBPjCRAs8ToPDeDwCTIwFQ4PrrbTU51yLjEe64N+0xbHW/wrENx2ivK43HmNHGs+0j1N3sfp5opc6HDYI1NXCtCpYAmAMcWRW0CoQApy0DbtxtDrDqMNgGtzFf4RJpllA+kQDnwClPwu6fXDXwEobwAVbB4C677LJW/r+XXXYZPvKRj1SWEbOzs3jta1/7S3kdN23ahFvz84Hpl4CVwlawJDIjR0FEnWasZ5mU8pCqbFDwmDIBjimVANmjIs54CcqZOe0eYvp3Hx3k4xQlLzHHCzBQ5CjqkiEAiCsbibysbXc4hHIxZB/BHP0sra9+2+uBUUUvUmFwWyCslwm+CKfad07lCWVHCAhz7Tup4zjcA4A99cQkgL2neSAwd4BYe9a0Ugrrv8MnJvINllpAlhJgkiI+XYgEXkP92xgQdvSTVw8B25fIe9LVb/fZPLSxiYjxAOu7OhnQ8fXfXQKxRJsI2x4iBIBLSOsI2fd/5oaHY46LmbbM9raSMT2ERURmAmDp/1uWmVH/q2dMzM4lhkWUKEtqqCxUzFn9GcvASgLQEVzztrdg6BkrBl7CAMbHx7Fjxw4URVG9V9B3+/btGB4eruCv2kbf94QFwr1eDwfGv1WXxpzU/rzHCoZj29ggODTaaCtfg4DY9hcWBWRBcgMKU0dHVEHchkY4y5BNjIJJvWbtF8y0o4kjuICwGwLHoXAIYBsqEjV9RYLhqtNvW0b4MrdeMzTVva7RP8vmYWhIgxI+f+JYwAOGpvdx2xyrLHwqYd/IaAwGhypOWjf6SiLgb2fU9NvVobD96goa51IOuy0jiNMDmGuvvPpc35Y4O57qvOwAcgYMZgRMzRNW5MKnAPatU3loou6UxgLaxCBvCvgN7cPrm/Tg2B4sX3kiW0cM0okKgy+54lOYOetjAB0RMk/CxTNCrHrOB4h9sJhZ68pAJzDTVCu52cngmhqhDm6TDoiVYtgIpOmAWTrMdc1ZyIcpOqCg6FclmSlq4UGVsO4LbFjXGIAPYb9AhjQvxhCMBNJUwtxSBDvKQ903WE58wqjkdnN+jr3gGsNUgTWBAMA8q60jMhsGu+BwooK6DRSeGkG7qdN2AD+pLufSW1hFm68HH9zj2LBAMLTalDrnhZnDr9xTF7vUwZRxQAWNY0oBzOWMHQcArs5cQR8KjE0KT3OV7AFXn6rXZwkWW/YGvhKAG5yi7F2EL/24PAGh8N9B+A0CwBoAH1+AY/4VgKu0930AlwAANmzYgJe85CWyrT3U6qhDQ0O4/PLLsWHDhgou33fffb+UMPgTs6vQf/wLBSihBCUVgKQgOShhoEwDwQrCyvcFk9sQVq0veC7qQyJgjQgkVz/F6hlFxkEyXkFhTgj6RICfqhdABPxl8jUj0irCCYhNSJzzAjkpQHPNRiKP1Ft2G4LWz/PEhAVPY1YRNiwOiTJcVhI2H0ixk2OeAdgQENZnxbrKrhQgrFlGTPnqHjiusb3sGkR2GfT72ih6RePr0yL8G7xAOAv0m1OAsO4dTIFxH7h1geFURXBiILlgALnQcsgiwoLByh5CB8El1frMDgCslgs5GIXhDBQ5+hoXUKpgHfQSBXol4GWM1pYy1aBRDXpLJs+L5xoMzlCqdVo5UvAcBc9QMip4WsFx9FlvwRv/67UABgHmFNiNrfdtQ0/UH3XgwAGATMr5YjIfC1A5lm1cBfwP9gEvWRmvDJygSUGpegSkj07ld6pe9VHWZnPchY9VozxrZO6dql9vU1r7KNhnwjnqDFnQhIZi+b99ocTLXnB/NfrECBVRsUPTIDz+tlEfXIK0oGptjNrbjMLZpu4pQeBkfuftwDv/PvF6kEilFBpF1fZhhNajg6hVwU24mjktGPxB3bKgRUSpbZNiIaHu6//3oqvxs6/cqXU8te/Sgls47SKYsIuoZWEkHIU85XlOAcHHWial7KOXkWRiEGBukFonEUhuFiDDACtlZu560GVNcCyAJSloKAE+/8dgH35jAxb5ATGvAHFWiujsCk5xTrS6jTReXVA4c7xmWinl8mv1Q2FeB2pzdBhrSxukBeXR8is/CXz6DoRVwT4lqoeiEubPNgymriBtEYi7UDC4TXoaB76ljXswYv6uhmLYR57h6KD7BjxSfTMDkF8U9WqWC6nU5WCmstx/L5rqYKX6Vfdzrt3b15FrnSphYgx9EKfaXreHEMqhUnQcGavggg8Aq2ea69v4rjWLXOM2ZVLyfuqPoChZ9wS0jvgdAHfL/PEFOuaLtGPeDWCrAXV7vR56vR5GRkZaHfXGG2/Em9/85nnvf7KkmZkZ9MsOgC5QcKDkYCxrgJKCianeBiRhGjhh2jpWg+OCa8dSbeXq+Obx5tDFHLrooyv7puL95U/9Fr7+P2YwhyH0MSS2I13xnnTlfvIzLpbn+BBmZe7zDlhGwF0gqwPwHCg7FEWeochyFFmGMidgufhMbQfXcldbZ+duYNnOHQdY6wIYSs+9rwG/oNq6bmIe8ix3A7/Jdf6uvmhmXTd7H3vZ/l3DVh6KXG/ftZTv9wFY+aPAbwj9n77vO97Z58nbWcCsHe/TXwVe+an62WA5UOYERSafjzxDmdP62bCeK54DJaWY413M8q54Jrl4Tmf5UPWc18+x9or6eZ4jXczC3L5iVlr5JMqdDCXPRWY5Ct6RZVG9rmQdrYyytuXWOtYxyyiWgzMKlKKMBBnF0Vl2ggeYWxzphFQIE0KAR/xMNLh0Asa4gKkLqQZOVQzbgO0hK4HP7ourg2MKYmkhUVJhHUHBkPGyglzG9DtSq3rv/+b38N1XXofzvvmnxjZKQewKvkVApXa4fhUTjWw9iO126Fdluj6tOw7AmheM4tkv6KJEYfTtCeHIeNkcdQxZRqjEIrBUUwZ/+p+Bb94N3Ph8uD2DbTsKvdGfBQAG0C4iaAhQU+Cdz3HsEzLS95ncx1TECgRbAPgPXnkIv3XRGC5+5bBDCWxuyx1umCE7h9oygnp9gMM2EuL9477yweq8je05BecmnDZGO7kYyfTCrVQA/OpzgTd9Glhx7vEHwan2EUyThqn88O/hlCUr8POf3V1Nw3zw0y+O8/EPDmrzeaYvfOELeOFrPg6s+pyAwIRIuwhLJawrg/XlkII4pia2t+UBwnfJ60FyBi7pnLJfqsGUDYhJU0Es1VKU2l7C9lc2dZV3vPO/o4M+nvrOC5ylVtwuwmUVYQa25ExMnTP8zVPAoQasPv0qCCXlXAAuAmE5LW8qbMj/z97Zx9lx1fX/c87Mvbt5TiqPEtKliKX9kRhQVEqCAYRCG2iqtZYUyoJYfqYtJFJoCggRhUZFCNQGULTbSiOg2CC1aBHYmoIUEUIKFUQlpMX+QLGb7ebp3pnz/f1xHuacM+fMzN3dtEl2vq/XvO69c+fOvTN35jy8z+d8vgGIbybNkLRhgABeQcBFAF4QxJBxC97ZhsF13zUOqQrmzIXCaUglbNe9VQdVl1zOWpZeBex/D7C00wAKe+0Qp85V1zlx5ngLu1Zkrga+AMFaGRKulbfR29GL+AWX2ayVSE7daxCFCt4BwKwOAAP0wPeQX/5CsE/8Z3W5MCuq36awmAqFsDY4XnIO7vzfN2DdunUYHx8/UYb4HoY6tzpp3ebNm7Fjxw7ZnwPw+te/Hjt27DAQeP/+/dixY0fldnMlRkdHcVN2DvCslyvQAZlAUbXXfbVvLuTUbvNaWUdkLDWDoEXCqAScpWqdty0TyJ1tU4BLq4oUOQQyJEYlnOP3P/+zSEUmrSOIF6phNYc0AYdg9nvaYoIbNbF8T9lIqPtKkFITJnKaOXEGJADnAkzPKBCEn/nNHDduAlavAJitEA6phWPK4ZD61+6bA2WFqT1TNUGtQnjihahOWA6Elb6+OpijmUoY7u9e+u/AxJPgWj2EPhNL4GY/2nVQKHlcVZK70HeoenSkA+x/ElzLCUQ+B6+PG1PUxo4h0DcenwC2/Qcw/ixUi6eq8vMkNY9NLSgiSuBXPh+47AWSD5G3CC5tVBknaQuTCPBUgKcEpJY9BCnRF6VmJnAG6zlLPRFYglz1nT9+/QO4/0Afr33vWaWZwWYhLlW7RsmrvImtwSit9s1sWxkFfTNtB1GzrVYLC8HV7CAqoPCFv48tf3U1AFmfnCBDfACO90BxduoDYVmg+K1w1WsUyfGBvjNJWFcHfxtuQ5xZyiX3uQADYwXsmr/6J/H0vX8GgczxAdbbcsdPmBkgLBQA1o+FdUS42+ADP18VomEfs35Dle9h+VtyaVJfV5HbhXso6R/zCm/d0DoHwM+hnBzJh8KhjkLVOqCx+rdRkrnY6xDUjU0jqYHBpDphtrpbVwLvHntUSSFsPwoFgmFpi8rXSXzwoNniegj7qvfcUyGb18TkAncAhYhJRfogKuCq9z+4t5im2sR37HjNZLBfh1qbJNBGGwMjNQcGC6M6BEvi1hCEZhYSTQExryB9zLON0M+ZB4BRrSAmZtdGoR5IONZue57yDu5HSzdWYRfhHFYJBKvbtskU96bgMFRnsQgtjU339JKnMlulaiVb04paEPARxaL7FaAWA6yfDgxuGlwrmpW/oZNEx1cG+4lkm6iDQ9Nv1fOJHZAqqyb/n7WORHmwQtftNiSulaqrO4BHrmHW+MyyMix2FMAIA2BYgzrMdzRmwONHkHzy35HnNQcyE9XvtBTC1g1gP28jCIVDHXR/XWy7ORU5NxBYWttJMCwSXsBbC+YmIrde29BXW0iodQHoK+0nRNBugkj2HnWWGD0PVGhbCMaREDev0xIELgBx+D2u4HGGJBHSyi3nENxeGFgCJJQ7OWjufm8CJgiZIJlIVieqrILCnq8wqb42csgp7kC1RYHnqet7Bze2jMgRt23yB7a4B7tjlk+RmPjJAAyuGvCte+77EIcAcJVlRKg9wRHPQYHI56YDhCOzh9c9Dhj/cVTPpq3xH46BYEoASuSgBkvU9VnX31friEMBXwbivASCNQwWnIM4wDlJj3BeeIUzTqWZvk0AsP/eS153BjKeoudYSFo5hSgBEUcuuDtLgTQYThrB4rwEgK3P27McRKo8h8nNFZCpmb9tnFpAmDEGPO4B1TviCEqRBD9+amA/mVydSf10VMHBbRS8ItXNdNTBTCl4YeCvrYT0XxcqYGE1910QnJeAMI+C4RD0K8Cw262oUg3bwE53igXxIvFc7Bz7FZQI/C+eMrjUY4zBY7/RnzTolNUphJuohWPJ4kKfiymDmxjcM6uzKNSootV5FBbUtwFx7liGuAMBToeuMQhOLJuImCqYW0MKIcuJMBQmKu4bc+9Y/qBBe4i6ZG5VkLjOKmImyeEGUQ3bqmCb0JAAHvvtE1Al3MaJFrt378aFr/kQcPaNhW8wEwoEq0Wo1NIxmDsdj+GYQpjVED8bILEyYLIBsQ1/S+neHDAcgsNV6CuMORvDYP8Xac+F3FMKq4XZGduoARy2f6zfKfazcVNzGGyUwqoOtlXBsIufyDE3yZc2KFar2k9TP2GugbaCwgwKBJOXJT0GhWMJdarqfhtmNlAEO5YRLNA+y5nTEWaghtdz9XXbFAo75hRMiRtECACj+v713i+ZXsSUZDO1rWn0OQsAC7VotfCin8ed//u6E0wl3MbJEKOjo7hp6ueAn9koVW94paoKAAAgAElEQVR231JBD8GYBDo2+OUW9KUw9M0j0DfkMZyLBP2kY+q4HBk6KMBvAo6E5RCUK9DLIUj6EqcRQFx+jxkP4pRx5EkOCCaVwc7C5G1NTIJf5iYnlwuH8NfZgNgHwJxJ2JarxO6czIJMlYUxoOjPYvLbLUmD/gNHOEFcCAj7/ds6X/nYIBmPVMCIHGfVcwwAgqkC6gJxL+EqGBwCwlUewqHvqsrbU2fTGNpP4oHclCnPXiYXziQQTggsgfHqtgGxBsBNF8EZBJf3LyUATyyFsFqQoAC7HuR1/YGr3kuCTMC3lQSTHMHY2VjWNYXtQ1Jab7ZtCIszkYCUb7BRBuckX2cEnLcdW/7yjTixVMInV5x4HsKPu68MOmLzFI+3f3CTKeUP7Ac2jkzfh9ROzCLk1JlykpnClLucrMueku8Dt7qEX4kF1kIJwqrzpLtdCgQShBXbf3p3D6MbJkw9oacIaW9XaTzOyoWy7+M7qPcvD1Q6zAP+gwDd6ZrFh2wgAh33bZ+US6PflFbsXx2zUIDUPtdEvtLXRh3M+f9CIHgQNXD4uqoGwz74zZ3X8vm3170WB8e/WtwXGgpbi7BtIgb1Cm7yfiO/cMyeItj/XCmzkw2GBfCYb0of9jbaqKQ5BOS2V38IelSAyNkCMA1xrNj1fuR/eLWBvy5AQrl+8hTExOrBIg0Eg8uArRqcFdPmGbOysLFAxzCW9NR/RHnQcPQvgLGvVNRRHGGrDlbTIdK5fZW6lpOltK2Bt02hcFWft64/3MAS2YlnEfAN6xj0cbCYZVOoDvdhetVsoBgkbgCD/eK+DPBV8l5WXI3TvVbt7Y5NHMHOpW8Z+J6h0gAOqxjAQaB9CeMxXJkh8LgA4ND7drkoymrhNtoYNH7pfcCqjVIdnLsgWCvgSCdgsjyAM+OzGfAX9hMxidRR38U8hrW/aGyRXsIdvOkXv4yv3TmJHut4HqQd9FixXfi9jlnXZ130WQd97i9dZDxFlqTI0xTZQIv0Vc07HHknQZ5aSye8iC6H6HCIVPobUxNRj9UvpY5cfC/YpZ8CJgjV/rqh5yFf2qaeurpfGPIJtn1mY17Mse+v8LoNPg94RIe8ePfnwMi3MDO/3SYe0VW/v2P9h2nz/54S7e3LzDUUu8bK1yFHniq/7AbX9c2fF7h8R1/eD0lq7pPSvcPkfaa9gPvqvpP3XKfkA2y2K73Xjb7Xg+UpTF1k1HGTwdlgmCwwTIm7fgBYrBPD+2WjXAjoc+Dc3wWe9ettnTLNOKEUwowx4DH7VZvRsokgv4ci5PSa4+0fnFijgDGV8KNHgJv2x+0jBlEQCwZinl2EVj5yCfaOfv1beGD0zThr7y5H3cuQQDhq3+J1WRGsVcWFathVGBfozYfDNhQUan9ySdR3kAeFZbxowxBesmEpgEzOrlNAmAkCCZipPySURtT37rEb7Lbaye6IWXYqY3uA8XuAsV+LwFe789XUP5hFwHJdgyEGkwO/a9tFqE5oV9e516PigISkSmUmhFLNCjUVhTFcNTqFn103HxeNdkqwt87b178OQhC4PmFcFRhOKoHxGeN/KkcvFeAmoX4L444uHTHv4EFA8eWrgd8ci3sHH+8kl6HP2OA3NnBGOZYtW9aqhNsIxu7du3Hhqz8AnPnHBdBwVMFMyhccKwmEFcIz8Q0WqJ82SAU84pe+DjyRtRZ8ANxQQSwYsyaUsIhsRsaXtv09OujjOdue2wBXowYGx0QwFOT0svymwr83BG9DEDcBxi6D9G3owVUHh/zsbYsD37Ip4mNvHD5UcXMRgEsg01mhIZSlOO8MMmodVYncm8BoO+5G4SVsFMI8DsNLdbh97mpA8NLfAvb/DrB0GGXFMKv48eoASRTKdxYEvM2vO7I+VxdDS4exaeKd6Fde8a6vsODcDPREFcDMHZwGAPHAAfRGX4T0tu8U9zDV3HQMxzmhHGnFRnzgbNHP4c7/zluVcBuNY3R0FDf96JnA6stk+96eCu2rhDl31L4Jz8NKX7JsJIRvNeFZS1gew7LXTVYZK2fsJeCOZUTCON722eciFTn6lMn1Rgls2UVoD2HnPWUXwbTnsLQMFHoavKUS1vNZE8rxvNc+iD+6egFWnpFaiuAK5TAnafvDXQUmchi/dS5EoRDmynOde0umVMNWhSTdYVj5tQAoJ2lDoXjBxMWRSooiFVPI65gjnkfAKxvZ3QA9E+5s2Sq7iarZLyFf4SplMFVU+L7q1oqRDrD/6RXleixPUEiQVXUcDBj/H2DbN4HxF1h9ZW3voHyrqaQU914zqEED5i4pMzYRep3gXF5HCRX2EVotrK9NFlcC25YRF7+og185j6GvyoEMKShhhTLY2EaQnFHgWT/6CmDbT9h/75N/9F3814EeLnvPM8x2vmVEHx3kFkIUYEHf30y4ADgfCBYX20bVwbrMzAFkCbZc9QZg41NblfDJDIQlDP6OKl0p0hNRpSRjhb/hw+EfDJQtBkIewjO1j1BTW2wQLKxkWRwCQ6vPwpP3/lXh5+TZRuTg4AoG296+IRCcOyA38QCwDYdtTMwr9KGJAc+Jl6PdBYkcuYDKOE1gggFCSOsIKkwozNQKGxjYkLSixzi6DhhdgyKxTgwG29N9/EeOwTT0dcb0vAIKh9RFSWS0tUIJTdZUS62aFYKBbCCsnr9/bBEypOhHAHBesmyoXmIQ2F4f3l8S+XxZGVyyi7D9gn0PYbAgJx1oBkAOYOfeYjRSYHDV8GzDYvKNPEXcPuJR/4Jlp63Ag/974BGGwm1SuRMOBr/qBuApH5QNKu7Vq7aXsAOIWXn65Ex9g2MdkhjV03WJbQvRxKNUKYhNYqsgirVtkOT7P7/tXHQNWW1ArQeAcqFvjoJi1gCK+QlY7E5TjvDMmQolcLBTZi2mf0fAx1F4BwP1+e9ikx+oIVAO7cvPGVtltWzvh0NZR9gwODSFtMoHkQcGiL3/YOL3INVKPPDfxei3934I/NZB3fD1xxpdu+UtWVjJ6w/McPt+cy0gqjy+2Y+fjs6n/w0iH8ATkGEWPYL9bcmzi6CAQlitX/CzuPMH2QkAhR/5pHJtNIDB/70S+D+XSHUbowIEGxjMzDrKtW1EWiSWq4W+NiCuTiynk0Hqaz9XOWu0bYTrJ8whWF5OHmdBYEESHrvvKQ9ilpt8Jiwh2S9RCeW0Pyq3Bnz/4c9+DEwQcmHZQggO4bwuFk5CHktu9Yks2wjksixiWQAAq8rAWadKLBsGk2xgFH9oXvxnlCsgbR5rAKpdodmDATzSZ41UZvTsSOVZB4TrkssxxBPaVcFhVNSZVZVM3cycgEq71kMYwLonAONPlCAWCSseE/ko96FqU6b9pZmBxLo+s0EwElYGxAoOE7iyiYB85LZ9hG5u8wEtI7jqt3fkwIblHcwTIe8nLu8tCW2TEgC2/YRD773wqrOVd3BhG2ELvfrooI8OBCWwnc/0AJNj+0DxJHExWFxenxTewRnClhE5Af0UWPcObLnlWjzy1hGHH4Y6+FROKicswsr8EsTqVeoeYJ7Mjhq47jMI9Dj8jsKM1cEo/OECieUYEQRx0/j3k7nZrwsYzB2VcNg/WKuEq9TBxasEeaVpAI/mqy4WDuEci57iyJj3XO+XWyN0tqIXFQBBBCobVlG5hmBwk95RFRiug8FVpvo8AIM7cShMluJGL4Lx4rmVnNB47jLWSME7HRBcpxLOK/fHK6Gw876G3lROKEeMDW4X0eT9Jirh45lQrqQIDqAWZ5s22ghRImUV4auCGVd+wsIDxCrBXJ1CeDqAuCljtcpL37aoCSA2EtBBBqsbAbPBYHBR15FrxeC9Nk0h1EBz1lBdM+h5DsFgD3Y2OZ1+CRUq+qpEoHU/XUTgcJ1yuPQ9FcdZaRkBVCftYYjnRGA1INh3TyhdH/41o66tAQYlZnqNR/+bRKqEoxYRJqGcZxdhAeLgeY2dt1m3iNDPQxYRVLaQyNXSRhuNuH0H6CUF0PJUwVDqVb1OcI6cK5jLLcCrlcIV0JdXJJbr8w44I+ceS4zAghsYnCilsA2Btb+wmzzO8hN24DFT6zPT82RcTs9wk8pJaKzLA85EQAkcW2SPl1m5Y4gzqTBkCgJyJot0TmBZAAA7SmGonlNRxhibPQOGoZLUAZSjgMB6SUiLTYvtESjb9Lb2lHheA4JDSUwRGIWNja7W1UWxeq4uKS0qBqpZZDyyajA6MAuKjFCKlRLKh9S9pNqAGgBTovylTRI4VgbBKCCxXLhRFTvwVwPilJn3BRIFglH4Byu1cDGBlUeTx4WWnBfwVnDuJpTjMvkBMV5WBtsAGEmDZHOpow62obABwl7iJkFM2Tv4XsDhJHEOGLZgsYTIBRQWwlMHlywjYK3rAFna1i3TiBPCQ5gxBjzqG4XyLeSHGVPBzWTa9SAqwSbb/Nd+4GUjM/AkZY4XqvZ7NcBLPYaAXV6agp/UAL1qH9cC6MV9iwdZNKz7290ZLr3wsBxBji2wnquMs2T75to+Pxz1yrI6FRRDtdcw9wCt78cUgruh/dYpjKzY/KfAjk9FOpWJC4bJnnLFqhdSjzmb3v9YBYLzCpVw3L86ZhcRVwrbMPj+578Ch+785+g9g5iP8EySyk3n87MFi+vKQx8WEwGn/ROWnbYCExMTbY3XhlQHj14PPOn9hXdwTP3mgBAq/IQJs+PbGRvY8zNce2BLQ9/+zTegd92bPADsAmIbLsnyb6YptOrHB33P/UoIGdQoUz0RZTXnTT2OfhQY+3IDCAxEVTqUACIBRArkqWxvZ12g3wV6Q7INboulaIDLoKrfFztsHtmuKffz+615AqwWwFc68pgy1afIU3Xcqp6NnvMmFw417HSzZnAYAQ/guisupuxtMs4NAL2Jw7hp6eZGoJkA2dH17sHiMzYAdu9XQjNVfekAZs0iQj+3ErUGy8WAWnj+M3Hn90exbt26trJpIxijo6O46f7/Azz5ZUA/cRVvzlRoXwUH4wHs+v+m7jqT4KmJx3BS+Prqhbro0RCOYQjHlJ+ohkCux2gHb3/hndi358GA/2hH+Y8G/IStpZ90wovyRNVewu6SII8taYo8SS3P1rTs5Wq/1v7Beul67w9x0BADDTGILoMYYqAhDtLPu1wt6rlaJ7pMbtNlWHYL8CAAGmbAEAOGGTAsX9Ow3Ld+xJB+tPqaXW8ZQvH+kPc65Jfrf77Kl7db830z3Vfo/SFgvwBWfyVwXKHPdwEagjlX9vmjYYCGAQwDGPbf0/8ZU/9P8X+R+r+oy802NCSfi27xPfmQ5RPcTSA6iXXtWN7Vsestta5N5ZEdu5azJCld+x//9BG84Z3/K++P4L1TvseMh7DtB2z7eaPw+A6/V9z/x9DFMV1GmLKi2KbkBRxLEtcgoZwsv3jhE5zVlJM5Ab0UeNY2bBn7Onbs2NFWNgPEiYPRbXWwbxFRUgxb74mkudK3qYLY9g82PQaUM3/6PnuPGQFu3l9W/lYph+H+JhK+Opjh2L5v4Uf/9w1Y/pVPgZEAY2WbCNdD2PcT5o5FhK0MZiCzr5A9hKsVLt6LKYRjSen0uhduGMaLL+hCiDysCtbPORkLCQ6YbLKcKNpjHPsMMP5VYOxKb8SUodm0G18lHErYY6t8fCuHmKUDb7B4o6U7Xq327x+HdwuIhBUWEZYi2H9tnoPhilcfxs8/bwgXj3Y832B7qYfBZWuJJGg5UUDipHI/de+V7COI4fGf2QXKGUTOStdb7fzkOpXw5auBLWPSO7hOITzdgadBtyn1WhsMoLUq4TZKtEapgw2MsSwiSqpgrRrWauKkXK9N1zeYUC8BdeBl8SECQ/rKK5WfcO4CYA9+kUouJziQMFYLg/du240uevjZbec1gME047+j1i4CDQc+A49jl0B6OfQqQHAFFBba6y5R3CvVUyeBiyeBSxNg/ZBSfPbhTCH0FbqxhN9V1WGVmqFuHzHhqH0KslQC7S90AaaAMOsALAV4okTxXC48pNiuAu3q+cjvAeNXAiOPrYHCVeC/Bvw2Hc6oSzRXFd2l8/HKiR0l85TgPlX2ca3OiyqA1UfF9w/gyKXno3vHt2EyFzJWPYARum5nbBHhf06E1cB+Qjn7/VYl3Ebt6EpHWkWk5KmCWUApDANFiEvriJyXlb7SX1hZRtjKYbKsJTyPYcZkf9AfKZM9P1ZWCbMcgnLjDfzGO85DSjn6IjMqYcE4EuLG2jDVCmJlLFgoi3NwJKqecRXCF738P3Dd2x6Hp53ZQYrMs4WosIsQsnfL9DFxBspt2wjIfD0AOBeFh3DQPiI8tEtGEasLL0irCKH8gy37CAjCjzbxYtwwoKrV9hMsIVBSPCKBtFGsUAizWwG6AGHFcBMV7/HwEEbFPiK2VCNDwN7noVYhTLpeSLVCmBVKYQYwFIOKej/j3ye840uEz16kkqX7KmHLQ1j27xlIKeYZY14bQvGZtNpDWCSyrwqu/IMduwgyIgYBeb03tYt4yUtPw4tfKi0jSgphJjPiFn6/rj+wqwBOkCvFsH7v09d/Gz+47yh+5Q/PMWrijGmjGFcdnCEtLCOs/zwnXvIIDiaJ8xPKRbYtvIOt8tBRBofAcNqqhE9GIMwYA5Z9RZawTIRhcCyxnH4t+OwkkeMBEGP3PnKEfYSn6xnMPFWDZRshFBAmcHRXno3Hf+l2CCJwAnJV2YUSyuXKtMEHaSzoH8wDINe1hxAROFwFhMnzD3bBtHIXVpCBMQJnAsJ+zmWyOZMFm8lKMUHunn8N59W60XOB0edC2qfZvcImMNgGwh3Ep9ra2/tqXT+L6yBA2P+9PAKVA9nJNewVsIAwl4mTSL9nPX/f2GI57cwDruQsrNbSIQZ6qwBwTJVerypOSteirZzX94qxxQBrrg6OqXxv2FtUQDPxIZ4tWEwV4Lc0+dpTCS/9PJad9kQ8+L/3tQnm5nDs3r0bF162A1jxHiATcoocWTBYsOrEcgYW88JaZ7q+wXXWPDGgxUJAyUt26b/PAGLqGBvE6m0b0HUoai2pbgTcSurUaUz9rwSJrCGoRKRzGIBrjKzUDt7nPrYYEH0JgkldKrrdFLLDDxWNvOGYQBUHDOXKi43TOtb9XseUhc4JFeehRLcbwGAA2P8mSLUT0MwqomI940IR6oprB/VWGVSRhm5Wx544L92PFBiwYctPx/Dn/hVCtZWd39YUBjPMkkUEXNBbl1DOh8LDz8CdB7I2wVwbpRgdHcVN//FUYORXpeclg+cd7CWWC8BhwbmBwWHoa603HsNhawnYLkpkd3lzk6ejlFxO+wHD8gk2yeNsCMwNPE4UKNZ2EUJlruEQxtbBTiq366NnIUWGvvLJbGIVwRiBcw6urQ01EPZsI3SFRpwVAJgVFhHQrxOV5JyFfYTNKVN2EQYMq8RyJABGDExViiWQ7EFU6jMJCzUMTikOefVbL0PYqD8Ga5uC28YFfEPQXAWdm+QvsKEwYLx7jWVExz21xT4Iv/Bkhs/9BCssHxhKULh4rT+q6yrLPxjFLG3HQzhBGRAnDLnMVujYRciEciTbS5C2EsIkluO1QFjD2Awpcp44SeWYSoRQiLHSoAWED4c1MP6Fq56OnCfoecnmbMsIDYT76EiPZO86ILCoF3BWkVAuD2wrtG+wrwbOQgnlLFjc6wDPeBu2/Mlb8ch7CbdAeAAY/GXLKiICfENewrZiWEvKZ8NP2F9nhj0QVwhPN6kcIkCYK59XS+3ISIATIIiDkwSoZQ/hAvpqD2Hm+QcLxz84cUBurr2gajyFc2XiW68QDgFhAmOJ6sOLuH+wroCZAIjLkS9Y585P8le1rikQJjSzoBi0hzrI0gQCe+sMvGUKisZ8hC1w3MTLNw5o65PHVe8/qUxiV7aLSMoewo6Ninu/EOkEeg0AbhMrmDrv4Lp913kCN4HFRh1sK4KpJqmcDYwJWPK5RxAKt0nlThgYvPwPZEMKooC7Ngx2oC+VE8tpGMwwM99gNmBZSz7MsgBsLSCWjXbeQB0Mp0ar8ralgWAblXo4VGkXwWw1ahU0RAMY3IT5sTgwttVNDiAmzzGB4pavVblsZq1NGdl37HeUcvZRAADHQHHduas653WqKRY/MM5srUL4GrKvNYpcn9VslSoGNFjk+g7vU2iPxtyzi/AHbMCc75gWDNbPZy2hXMgiggIJ5SworJ8PPR137hePEBRuk8qdsDD4354MjFwkYXBCUegbSiyn11HCLLhrJ5YrQ18eSCynk9D1SUKekOhF9/k0vO2ofoYPhlNjY5hXAuKEu+39FLwQGOnEcrllE6jzgGhAzQWYSkTObVVwroEwB+MEokIhzFTfXQ5WFonlIKjYp51EzlcJU1GmcibKSeU0ncwRVgcrdW+oPCMfDBMkOOzLtgpLqCDITT2EyeIVVAOFmyaFa9LXHRT+wsM6GAwIAySvDa0O7igozFwQ7IJdXayr7bibVM5WCROzajTlJQwGy7IzkddUwEdY709wxUq4BYS5lVAOdt+dGyEXcbUvA4ELWKyBbh8daafAOTgnk1ROJ5TT/fHMB8IW2A0llIu9Z0NhbQ0hFcI8WBcL4pYXcLOEcpkPkQWXbQYf+sYSyjngGIDoAKvfjC0f+p1HCAq3SeUGD9EHqGOpg2M2ETHFsLaO4DOzieARIGRf6CHoaC+6s/vD/cA164C/2D+wOthPLGcSsRGUQlglZGPkKYNjFhJC7YMqbSMkpBNRdbCEwwUylhN/qASGwyCRWSC5iE//zTF8fOwIbv7YojAQZlIRLVTtRGoaB2sKgu1U401HOu3P1c1FnQ7krVu8z2zeCYw8Edi8sbydtMi1Eqlp6IsaIMzqVbwxWOv6VheANh9QJRxWBSeN7CJKyeSI4b/PvxjD11wDrF1XdFYHUQcP4hdcBYAjjg4z9jaPeQQHFcEhKEyyk0hoYy6HEECWybl2XMFdEtUWEY6FBLcAMXer5UETy8U6EE2gmpo2qDuMvT/7APDAdzH/t99VAsSyoc1Vsg02YOqsMKGbnogmnAkuahdhqz5RcY7qksJYHbzR24B1jwVGz2wAhQMqWRuW2hBYQ2JWB2AbMj5M6/wOto6KfqMDf8/6IfCZxwKnp5EOMkXOGdWcu9A1XAfyo/831dhGsIZDF835tu372584jE+MbML6iT+v/l9U+8So9EQ1ACbm+QlPd0RgxgnlKO4RTFUWElQklyMB5Flb57ThsfoEODIEcKVU0fCwZA+BYGI5RyVsJ5aLQN94YrlE2hOwcDnnKoQZCAkSOdEcAnkBfiETye049y/xkmt/GmeteaxqqxfvCWSeFWGRYDyUWI44c9SHBCZtI9RMUuGrgw0gLmRORtGrE8vlrChfFGglYgGrCAsQ69KJkTMw6MBgstvrWh2s7COIKYOrAiY86rcz/PsbEywdVmWehsxC2hNRArA+gVJWnIHpAuGmEBgN91sHbTENOOwB4b3/A4x+Dth7SRgGM8sSjBIAHWasI8CLwXTomWLWb9Jqd8PiExcKI2FWH7+cVE73Pc194SWRs+Gw7mf7CmEoCyobCOcNEssJzh1w+6ndP8LXvjqJrb93ZimhXBUQtgFwKdkcCySbC9hFOArhwDVCwIwTypFWB/vQN5ZQLocLhfvKbDrjbZ1zogNhxhiwZI+nDq6Bvoj4CMPqtM6Wf7DO+AlLcVClEraVv48eKbyEB1QHQ8gbn4ihf883cWjTa/HoPXcUymD96NlE+LYPvp9wCATnDhCmAAAum0hIaKytJhJ1OCEgzErWETYQZiCcu2EeXvSSYYhclIGw8hAGUKiDdSQu9B37G2D8S8DYtRZM1e+naK4OZjVQ14bEwOAWEINAY7V+x2Y1+hlSB1u/pTTSGADCb716CsvP6ODVmxdVJn8Lg9skAnMTK0FhUrvfwewi4lDYT7R42qc+IU3wyfYQZoMletPP/+9qYPNY4R2c13wmBoWrFMKDqIZ9sNs0oVyoB7z401i27Il48MHWOmIuxe7du3Hhy/8QePx1hTrY8QWOQd8mHsMYzDdY1BDVBhzIRmHEGDq/tkl6Cau6wtFNMqmyYA3sIv5128fQRQ+rt22o+XnN/VopdlClKf/kvGbUAHw1VQirOm7sfEgXjGMNz78PgdVv+pX/AV7eBdZb9SsLMLk6IHs8wHAdvwXKtvz2B7/1aNkxt2F3VDlV47gwcgMw/mpg5FE1n29qI6GbHowgQvYi0c95ivpGbDX+73SWzscvT3y48jJyxqE4t9oqLgCm79+HQ7+yHsN3/mv5/h7kfNnbEGaQUI48uwiKJ5QLWkhYMLm7Gnf+O7XWEW1IdfA9pwNPuFDCisTyCs4qlMIRf2EShUo4Dn3VOsdCQnoMG+/gSOHMjUK4sI1I4VlCgEOwHII4fuPvfxWJyNATuYTAVLyXMO4ojnUb3bTuE6FSAnFcfuE/4+rfeRrOPGu4VF5V2UVwRmCce71Q1SS2bCPAmaO8ZcwCwLZSOJEdf4ZixirZhYzl/QttEWFbRwgFFImcY/jvd3Wsz1rnXCm/jY+woOiALAhgvw/QG2cBCDeFwRgACjcFwro/b61bvQLY+6rId3mWSOAWDE4V0EXhH/z17xN+7aMZvnJ1x2qPaVAs7yVK1HWhVcIJK9TFzP3XbSAMcBcEJy4gzlkSAML6Wiv8iI1lI9NqYF4JhLU69xd/eTmee1GCfkLGNgIJSqKs4jOFF7APgD/3R/vw3/cdxvp3P1+9V9hN+PsxCmFKXcsI73rOBXcBMDVPKCeEBYRtr+DaxJt2eckA0QXOfhO2/NE70VpHnMBAWN5dtjq4AfQtJZbz4HGezMwmQkNECnRa8zKIDKqDffhbN7U2pBBWieU6T1uJxf94JwT1XRjs2EYkDtCVIJcCVg08CIL15zUwjqmDEzVarBXCwlEGJ+pwqcY/mNyKXVtCqFFfpq4D/R6HPEZZZxTYmRE553/0pcDoiyFnyenzaCcFbKISJgxm7altmT0AACAASURBVIAA0J1NlXAD2wgzBcoCwk4yObjewdvesxSUMGUSX4Bb/RgyAalL+pbXgGT3e7gFj/kAMLoAz2W7COuxKqHcIMv1Nd7BeQXY9Vls1ftN7SOmpQgOrVcq4VnGMMxSchG1EuQTNogsdbAFg+ugr3ke8BjmyfQUwk0gcBRwMkvty4KA2FYQC9WJ5rx+7vlTt/0qhnAM1d7BVAsk3d/UFMBZEE5D4ioAHOt4xX4mDUBlI51H7aH4lz+mfIP7Rd9ag9Wm1rp1udlmVCZVfG/s1IXgL6s5H3WxfxOkdzA1+LGxyyXQGbavDTYNxOuqczGtax01gNn2ydZAmFRCJ1sBzJavwPy7vgmR62SFgYRyTQaO/HtkRgnlKjyCybeQiMBicXxUwrt378aFF14IALjggguwe/futm47WaKfAkeH1YgTVfgExxLLudOnBedlEBxLLMdcj2HA6lIjVNYLRyFcJILjJrFcaqmEneRxxIv3WJGQzt5XYhnQcQhTTlx/2xpQn6GvvIbtn5ZwEUwkp5PMcXJ7psbzN5cQUE/LZyRM0jnfKgLcSmoOVvR1GTn1gYHBRvyhAJZQKmH9vpfUueQjDKuvYPkHc/tzASBMb68AtxmaWUVU1W+h+q4p5AWaW0ekA8Bmx+9f5SyyfYQT9zesejLwz2/pwHfsIPBCc8h9D2Gm2o4FFDbVCRUCqcKKrIDJtnVErmw9SVmZ2AnltCex099lvEIdzBS87ThQOGcJmLaMsBLK+UBYfiYtgLDnJ/ysK38OGU+Nd7DvNRxSB2dIQcSjKnICc5PEieYJ5YRgATsINEsoZ6/rdwA2BGTJ7A/u3XQTAODGG2/E6OhoC4RnBBAWfaYAFZrQsgoYXFIMUwAgc1koz8Q/mDzIaxdUNgz2VcJNk8pVqoPhJZazKmMfBhvbCHLgWcy2oawILvyDc6X01fYShTq4/KywoOCN/YP177I7D2YSEoOZ/sOt50wp2GSlbI2wcgvy1vkGcwvm1/kIJ97/XqUObqIQZhGwWweNB/UTZnAaWSYhYdAqwrWLaKoQrgbBZegb9hL2VcbNwXDpd4ZgsKUMbpxQzoe6OQZXFMe8hAcBv1U+wjNSBPt+w+r9hbuxbNlyPPjg/TNWCTPGHAjsv27jkY/du3fjwo1/ADz6t2VDyfbhd6BvLLGcrGvCieWUxGYQ32B7RkYTb9wqCGUnqvIAMUGrLWD5yQGxefhNrlqGZrLdJoiumBXjUlQG1TElNLeIiJ2zmMqHqsiou52THT2QZI4FoDFqgGzdz5nx2EeD7y4phL0P+0nklBB3cAI9XRhccW+YJEjOj0N1IkLvC6iBk3NTNTxV3MTmNGoozFDy9y7uY1YJmQcaESBMQyHc1CO4KSwmoLMKd35rdryEd+/ejbGxMVPH7t69Gxs2bGih8Akeo6OjuOkry4HHbAB6XQWdPBAcAr8VieVkP1S16dlgieUylkJo7+BIHcFUX4+8ROGOh7AHgU3yOO0bbNlFpKoHasAyy8HJAsKJEkMlsh9PVrY7U15QXplYTvdITO4dFH01O7Ec12neCIWHsG8dYaB4YgmYqJCfkt0XVRDYiDiYAr+EhCLlmV6v95MRmLIuYCnFk5k3UfL2a+Bu1WBx1fZN7SLQcHvAJIMbFAgbKO8nlwMchW+oKhas8LEHs1XCrOhbGyWx/C+IlECK7CTsZasI4yHMij6vk1AusU8tc0VZFXYROUuchHJ96kCwBFAKYZaQC4T1LIGQjzCzE84lyJViOJhsTqmFNQjWCuEcSaEQjiTczQUfOKGc0PavMZ/gWEK5PFCWZgwQQ8CT34At790OADNWCY+OjmLdunUYGxszr+3HFggPGgv/HhCZUgdbvUaqgMG1imHtJZxMzyYi5CNshw+Dkwj4seHvA/uBreuAXfvd9TUw2CSWs6fWhBTClR7C3J6QUwLBtn+wrRB21cFJyVPYtpKYTkI5Gwjr7K13fOoI7rj1MHZ8cIlVuUsYZttFOJVqlW+w/RwoLEDqeo+DWDwAg9tFDOoj7PsJbwdGRoDNvw4noZyt+gkll3N8hA3A1T5IfFpQWDSCvrwBeE4ifsW8sV1EoRCWDdf8pb8IeuM7gJ9fN32VcBNVbwgk5xhMUVynGp6RItgHxjoJXQYs+ASABQ9jod8mlXtEgwjIc+X7G7J9qEosF7CV0Os5r7aNiAHiWcgqRiW4BRz78AeA/9qPhe/8XeVJKKfrcUYDfFk5qRxN86c2AsMaNNt2ESqzde0HgcGS8mkv4c8C6x4NjD4pQEkDHc1oIjlPSftw+AWj4WnBAL8lCLUJeMp3gc+OAE9KKzrfTTyEgeoM7wP+n8zYjMBRTLFZuiZjrDuUVC6bmML4yCU4Z+JvK/cgdIc7h5cAMnAvsxlcQPZnmyiES2rhCo/gQWCxs5/8Yb4L2qRyJ1Sc9Ubgu5NSHYwE6FBNIjl4lhHlxHLaX1hwjpyXoW9VYjmLlVUARypZPEgvX1aZPO6mF9+CF1z7bDzl2U+QKmFjF5GrfDLF7MOE5aZPyUhCW8E5kBSuu87gL5iVRM63iyhmqHJImwxmlQlkzaokS53rW0WAy4RuJl8aIxcKW2USKTZgbCKMd7D+8UVv26+IHnv5MfzgQ0OmecZSBuqr76ZpAGF72xTN7SKq6qhBPITRYPA6tG0nMhDKgL33A6O7gL1bw0CYgSTcTRlIWSvG/IOLQ+JGIaz+ooBK2PqY5x9cPCZqoFPaVfjWEabvyywg7Ng8AoLxetuIxPIPpkId3EcKwVKAE8Y/th/fvPt/cNUHnuEAZgmRU6Ms9i0gggA4kFDOTiZnK4SNQj40Es+k4cogCeVykchEcr79QyyhXG2COQBZB2DDwJOuBJaf/jAW+m1Sufq2GmPA/NvUkB1ND/rWeQznfDD/4BgI8sOGjXkEANqKqEeNAGP7XRCcWzAx9t37vo789a8Eff6fikLCgsGMBEBSPevaRnDPN7hwabK9gn21sA10Q+pg/5UNoFmNf7ALhI0mxBRWDIQXXDAfLzx/XuElzO1kcuQqPiwYPPZxYHwPMPYuCw7nHkiFpwoJLfbl01TJ29RiokkCuoa2ETveBtdPmFkVFqGcXI4xvP1Nk3jCkzt49esWOQnlBvX+jSmEQ5/Na0Bw3siv2P+8tovQlhEMVILCqrn2yc9J+5gmql29zeWrgS1jZd9gEYG+VTC4TjHc1D5iOorgJrBYzU9btmzZrKiE2zhxY3x8HBe+7PeAZW9V6mCrXrVh8LQTywlV3/HmthGIdwAaQU27k8cshSEYhn79N6SXMIQ5NOkfSNG+EAD857ab0UUPZ227OCpxGZRLhcAbVWA78w0crn9g1TmKKUqp+vyNPR9wnDFYpHMIFwr/8gPAy+cBL+2WE8k1YXfThcM0g33XiXoZRWwjAHxnBOAp4kl4Ajsc+Qtg/JeAkaHIj6cauI9I59v7/5n1w2NXZ9zOgQ147uM3abp0IdZN3Bo0WSEHyBS2EeKhSRxcuw6LvrzPAGCy1f4xD+HqUZXyeRzILoLitg+DJJQLKYiTp+HOb4jWS3gOxujoKG666/HAaRcD+ZDyDvYVwKwGDlNZTWwtOUtK0JeTZSMhlGWEAsQGiLHqO9+AKqdPl+hJ5xJoUV4kj6MMr/i7X0MqMvSUlYS2ixDIrAEl7thFcAhc8wt3YNP7nokVZ54mVZZegWi6f0zU20VQYRmhgatjG4EIENZKYafkIwOFE5YX+yuyZ0nvYFsdjAKqxxTC/+/mYcs+Quo0GJfJ5EzFFKqHXwPQHzcEwoMog4GZeQgDgyuFa4Dw6qcAe7dFPk8FedTJ5ZACe/cLXL6zj7vfPRRtRzgKYf1Xag9hnWROkX9j7+DAYO0jrK4pDwY7QNgohGHsIoqqibtQOGIb4YPdwjJCAuG1lz4Za195BnrMnVXrW0ZkStmbI8Genf+CH903hRf8/nmlJHI2CPbtImyFsGPoTOG2qE5g6fsJZ5SUYLEwvsEx6BuAxM66ABjuc4CGgGwYW656A3D/s1sv4RMBCEsY/Dey5KMOBreJaAiPiZWtI6rAsJ1MLqYQBqpVwr462O8U+99VBYvOXg18/msgOlZMfbEgMCdAkKwANVR1wS05ul4WAMK+bURZ4VtWB4fAsO0YHEoi52qtmKcvUVszUWRx5WQ6w1IdbG3J9HM50jZ6MTB6oRJD5AHIygJAOBSiAuKG7CJ4DRCOQeAm6uC04nPWOjParQEDc72EdcXytncvg0i4Yxdhg9ywQph5S1ipm0fVwEmtujisCk5q7CKSiH+whsNF8otGlhH2vXtDhW9wLHlcSPnbRCHcxD6CCNNSBDexj9Ctz3m7Zs06oo0TEwY/99yrgGXvBLJcFhqlZHERBTA19BjmGiRToRSuSixHmLlCmMpQq4BKzPgE6kQyZbuIcpyx7TJ0FSGlWuo0PTBMgc6t3wEyNgCsBgLH/PqaEFWa/rafeJxK/dBHKdFcFbeusi2eqYK4ygKZ4mMJ4dMWUEZHO9CRH77/EkjfYKBZdrvQj6pLusjcBEuhEx9KIkfT109PEyyHbSOwdCkWf/XrELkNgCN2EXVW3HWey43sIiicJG7aCeWs9TqJZ3IW7rynhcJzDgb/46OBZecDR+cVXe4S9KVqlbCzjrn90Ez2BXzoW/ITJoFcCPR5p+h2U0VhSVLB6CuE7eRyJsmcSiIne4e5ZReRW3YR3PMizp3+5Du/eB7QB/o9XtgBlMoZhiRiG2H3TEpAGHASy5HdF/WAcMHK3YRy2sqQwYLBCjRDUKEOdgpfFhkYhms9QbCSyVn+zoE6hz5SUw/pHDqYJSBsr69T+w4ChHV0AT83WaVlhFpX8HICODfJ5VY9NcGXrk/kehZqizBHIWxcO2wPYdOPZ1aVwUtQWNtGwEsuJ6qAMMpA2O7nxuwibBCsn+cskX7TXkK5kIewD3t/+oq1yJEo32BlIRFRB9sgWC85peHryVOTC2JOQjkDhYWVZE4kyAUv1MEl6FunBKbw58zzLsDmAU+4Elu2vw8AWij8SANhWVj15FAMqOhYztQmIgSPBWvuHxxb/PBhsA8hq7yDB/APthPLFYoibiCwIG6ALIAaD2FtK+FaQ4RsI8LGEP4rYQAedz5bryqNAWEwCX+FnVzOSiYXDF8RbP8fzHq0G/0xH+Eqm4fY0kQh3HRfPiy2f39NYrlQB82otHVjTsFgX9FbAGEX+pK3VFlF5JYFRRPAWwl7G3oIm8apl0yOaBoJ5WIK3zq423T7pr7C/udnUxHs20dolTBlePgndLfxsAYRkPcBkcr/PxkA+jbyGPa3Q7VCmGN63sGljkSRWK407VypEUmVkYwJzH7asvIP9Gq1KAwutoe3NYqOJ6OmX1vvkdDUvJeh2uqA4hBYb+fbh9cB2SY4clB8GTotVUntGIXBMKuaphvbGcXhcqMTMsA9EbpOilwN7gdDULhs/8CO6/0BFMnlTIK5POwHbsqSwfh0+QKYkUJ4BgnlKGIdMcsJ5to4CaLPgaNDUh3MFcmKegcHwG8JDof9hXOegPMUuaMK1onlCkDswDAgbkcAmHY9BWZ9JkodbCeW8xPJCdN7zEtik6TUyxRuAkoD65j3U5mnEBbggpx+QCFtccsEbQ+g0LLsnieef3BSdPddGKz6zkxaQhCgOAMVlhHGO1iWJ4yoeuBMq4eFnUwuUqdUWUZUAeGmVhGo+Eydh3BdPVb1mWkCYXvysIDlI6wvb8aiVS5pSwnGnO8gDuMDrIUEpPyD7Rw2tm0EUHzOJJXjzOnbgrv+wQ4Q9lXCnmWEtIsoJ5Trk1YIS34iNVDlmbqZZxnhq399dbCfUK6PFH0LBmswLGwz5Nj1abyELWWwSEtq4ZxS5R0cg74IJ5TLqZmNRD+RKuG8Kwdw2nhkgTBjDBj+OEC5TjXsgV0r0c1sKIa1gmm6/sEhDikCMNhXFcfUwT/cD1yzTvoJN4RGOrGcUMnVNIzlsH2E6xPKiQrbCFgqXuEpi311cAGCiwRzMSCcm++TCyIKYc6EgcKf2PUQvjx+BH/4wdMgSCWWK43s6SyxVD7/ttUCrAa//s9iCp0YwK2ye6CGELipj3BVAjpv/ea3AKefwXDVJhZsLPm2EcYqgiVRIOyvr7N6yAOWDnUq4SaQOA6FuQuBqRgwcX2ErYRyF68DrtwG/My6wb2C60BwnY8wYTAf4SAMno4iOASMKQCG1Y0xdCOWLXsCHnzw+61K+BSK8fFxPPcFVwCL3w5k6howMFcng6uAvo09hoWVdE4lmKtSCNfZHgCNla+xxFTEJAw+dsNO0H8dwIIdvzsA1J0enIwB4iaQzPlmDuOnGOwgsRp4WAd/vQb76BeBDY8FNjy+okOIcCI5omaizSp18KyPfzgtjTgPr8zd5llIgIAzvg2M/yQw0hnwQAbZrq4D7P1Qzl0gzGqQOwUTyk0fy/uDHvnEQ/jKyCVYNXFn9KIQcvTftKGJIZgQckDOHIcTvnVEUCFMFgwe0CM4piz2k9NpeMyfiju/1qqE50Js3rwZN33mNGDhi6U6mBIgpWpf4BD4jQHjvLyfQhUsQTD3EstJeETNJrsQkBA396YIJJczamArsZz0DZaJ5D5y7gfwC29ehzOec7oSqRQKTdOzVInlciuxnOM1o38OKwpDPatULhyCyz0m5A7MOoeoB6GEW1JyIQqrCE4Wb/RhcEAlLIr/gMj2DlYk0Zo5GytAFzznMA59fr5MJtchM9hXNzAbLa5zD7BWbV+VBHUQD+G6dlsVQO66oDT0mb3/CYy+B9j7Afe9Argr0J9C5dYJ/w73kFzbFA2IC5WwnI2stw1ZRhiFMFDAYOX5a/eFDRDmESAMjpwpX2Lm2UVwSx1MqasUZqn0O1YJ5b74ke/gW3v+Hy79418sW0ZQAYa1V7DvJ2yUwhY4LkBwpwDD1IGgpLrZYF0nglgpoZztG2wSyRnoWwF4fUgctZHwP9cBsnnAj23Clt+53pTRbTwCQFgCur6rDq4EvjNUDBOTPqLT8Q/WDUU/7IrbV6XaANG3jWAo/ISroNM39wJvHgU+vddJLFdKJuc9+rYRMaCmgXBeSiiXQFddIXWmhMIFGhYQBgyH/IN9ZbKIalLIOA6DAb/08sX45Y2LIEg4dhF23PQRYM8ewthOlBPK+UnfdK8wQdw/mGEwdW9iXSODWkY0tZGoURDv+H2ZOzFnCHbwCAy//aYJ/PhIF6NXLbG8g11Fb0whHAe5Ib9g10+43hs4BJebJbETsWRy6lF7CBtOumu8qBxi99zV64DX7Ci8gwWqVb9VULik8sX0fIRpJopgEUko5+3LqIQfrmQ3bVK5hz2IgCxz1cFRX+AA9G3iMWx8M+33EFYIc1R6ok7rEJkLuXRSDnCgs/kKma1bJV4Idcru3/ZhdNHDGdsuK7Vk7aRyVTyqvl/Nqn+/bxeBBueoKmt3Nb1zDmjsHEjLpSxOTzf8JzC6CLhgfjiRHLx1dTP8gWZJ6NgA53kQyFw6dTFrCOuv+O5PAqxTTbhHPgWMn6u8g6sSyVVdVIOoX5mrYDNN6BlYPDRzHgkripOli/AzE58peQk733nwICZHVmHhA/cX1lc5K98Pg8LgusGT2oRyM/EIFhFYLMpQmAuZUPu4R5tU7oQIrQ7OhgGeFP1DlRCucWK5kMewsYwo9iM4L5LLmcRyCbhaR2DVdhHe60S12V2FMCuSyymriJRpUFaogxPkuOiOK5EgQw9ZSWGsW/bv+fk/x8v/+Pl44k/9mEksxxKqLLdcIGxZFpJlG+EBYdJtkNwFwkSsUAfnxTdxjXM9lTD3B5lsdbBTvkv/4NLv9yq/qbsXSA/ixK3/mZW5jj0HoDtRr/itAsJ1lkV1thGItDmaAOFYW6UOCKttVz8N2HujBYK1LwcVg6Ff/w7h8u09/NNH5oW95FHMnDE+wrZCWENhDss2goX9g6nIdWNOlW0ZwTwgnCgrkgAQNv1mSyVc9g/uhC0jkEiBnKpLn37ZSvzUZavRs/rdRhms7CC+/udfwwP7foA1f3CRZyuRIGdpKdmcbxfRQxcZUnlcDZMQEqASyiXBhHIiZx68RcQnuM4ywk8oZ+2n1wEwD0i7cvbFcY82qVwwli5dCnT+PKAOjgFf672ZKob1yENT/+AYDNYFbcgyIqYSzgMFYRUgOnM18Mm95rXxb6JqKCwHKn17h7I6WDgA1/X3Lawkyi7C/j5zSyGcG9Uxd/yDy+pkUvxVON7CNhA2dhFqe33u7MbIZa9geNUr1BQb7jWMfBArIkDYLpGbwNwQyKVpfq7OSzht+FmuKjYvQYI+vrf8waOMbzAx5sHgAu7qEc7qpG9JJLFcUmMjUaU4Thrt3/lsBQwmsiwjmto2CADbx8sjjHUJ6GLJ42bDR3g2PIIrYTGVVcKdD05bJUxEcvaH9bqNRzbGx8fx3F/8DWD+m4FcFGrgqEVEw8RyQY9h/z2o91BWCM8iCPahKpmkVBzEySSTAxeVEGz5ttegix4QTIlVDYdZAxRJjbbSnRxZ/5USyjUBYlTxvIk6CPHP7B6RfIn6rlI45GoRg8H+T2IzALpNPlenfa2FzfYxNpyqu/+lKGd3j3W2qw6iSilcumZEY3sRagyFKcASZm4rQWDA0iVY8OD3QT3VFeD2vTuAQnhAcO5AYUctPAsewbWwmFyLieRM3PnPNC2V8IYNG9T/Lg/qggsuwO7du9tK7wSLzZs34303TQELftVVB0ftIVCTWC7gMRwCyByF5yhLwEn7CQv0qVOog1EBcexBHpWFxgbBRc8tQYpMQmDtK2z5BsvP5kgd+7kiL4lu7b/+y6PgEOhBWB6+VOm9nyAHE7KuNHYRnjq4SG9ejI8jZ4UdhS7rCCW7CH1CtNjKh8JGR5wTWK5tIshJSCoBsYLwgZNLhkACLCdQxgoQ7P1H9M9opg6GdV00HYSkBo8xD2Gg3j8YNZ/pVpCoOs9iKv7DlSsTfPFj86TlQ8Q/2BpSCCuEdS4KrRJWB16GwfJ1bmV3N7YRCXNm4wrtA+IllKOQEIvZthEMgifGtqFkGWEBYT3LxhdmSaibOJYRT7ns2XgSUvTgKoRteGzD4JBC2ADhqjan7yUMXvgGWwnlSonkqqBvk4RylTYSqVQJL34ttrxtpymrB4mxsTGMjo7iVa96FQDgxhtvxOjo6ClRb6UAMDk5iac97Wn4x3/8R4yMjMzqFxw8eBCU7gTEUXWXCUjDHdtUN1QK5EUjzhQGTH6Wl2/uKDwWFPcTttWlwhvxC0XMMsJOMBdSB9tgOBPA0SlgyeIaWMWK6f4VMFgnm9MjUoXiVziWDdoiIqYS1ut4UB0c8xFOPKuJciI531GRq8pRb8chnNFezgBiAr0ekGWEzvxA5183F3wfYRuawvofUoQTi9g+vYR6ywg7wdyglhHJAICYW5d1wDtYJ0Y4ckQ+T4dC50edXabtI+RUkDKolQcZgsW2MiAGaX3/4OlaQlTZSuRIkGsFcAMoDMHcimNqCuDDAKXVieHq/IVDPkZ1PsKEekWwWUfTgLwUUQTH9iNcSwqQLFPTnTh4sI8lS1zA2xQKt9E88jzHF7/4RVx11VXYu3fv7I4XZxmmpg4D1HXVwTzmCzyDxHKMqevIVhor+wjG3DoQqFa7sgbrAp8jJ8sIg0g0CJaANQGAY8dAogfMSxvP3q8jTDbmJTRxBmBR+GYPfnJE/INnCtTrVD8ADmVAN5dJv6uUYw3ynUWhMKG50pem9R+VnUmoAQxmqIHjageTGbBQJvZu1tGu68APQrQDP5QbH+EC28b7+iw6Uarch6MBbsRShQAxOQUsOS14eAI66aPdhmam/TJt5lxXjpRUweR6Bzf2CBYRWNzk/aK+zvIUU1NTWLhw4cBQuK1zZxZHjx7Ftm3bMDw8jG3bts3qvo8cOYJjwxcDQz8AjsyTAIKpTgZnYaDLG0Bf7sHjiJhFcI6MpUo5W/SxKGl4b1mFAYdAx7OKcPsEUh2cU46ccdVjzJCoZzky5OA4OtXH8HCCbqohWOb0Mk1rPxEgwdwk5ayc1K6Dvuk3Ci5z64R6n4iggtSaHWsrhIvNioRyufYNtoCwOU+5muxswd2innQVwlQxiEsZQ9IRmHiI8GOL4Y620gD1iQbCuq/aZEByECjcBAQ3zgOhfmdMIRwAwrkADh8FFi20aXlR71DC1b6Y85fYx0KWQlgnI/a/x9RPqi+kQXCOpKQW1rmcJEguVL12fxmeXURRF9oirEIprG0jHLsISxmcUbFOJ7Sz+8z9HiHLAD6/a2wfbA9hDZMdGMyKR3tbVx0soXCGVIoRm/iBWTMSdAK5TBRewiaRXN+CvHrpW3DYX2IJ5bIALNbbaJVwNgwsuAxHkifj2LFjGBoaGhgKj42NnXL1Ip+cnMQ555yD+++/f9Z3fvDgQaw4/UxMPvg/gMgbemOG5ll7oMT/TGy9ftR+I5W+naieMp4PCIJioOmH9wOb1xSvsxyYeijsIdxkijzFQJy2BajygeURZWaVVyyv9JmtsgxwgSQvq1YZh+ByuX33EfzOmw+axs6xjOHQUdYsOVuKep/eBIMnhGtqL1HlPVynEPaVwqHPqufvvE5g7GbhTC85eoxwrA9jRu9PXbHtIuz/ZHBwa18nSeC6iV8noWsw9yvFwELqmq+6J4I2DW+6BPj6l9x1h6YUMGtwz1Ypgwe1joh+B8XLx0b2ERQvT6vUxUSybBY9jIw8FQcOHGh7i8cZBt99990477zzZn3fWZbh7/7uDrzkgq1A50o5+JhVqNps78ySXyZVT4G291dS1Wn/TLgJWpsmJGkCfmworAdOOXcWrTg8+me7cPgd7zYfEEd7EEePTRMKV5NafxiU4Cfx8vZtT/331Z6Dwt+6xnlNcpnL9wJ3/LB471Au2+OhbUt82lMMB3K/RLkdDXj+qcH6utPmXIZkLd4x+V+w5lvA+KswKQAAIABJREFU/T33PE725S3QGAbXKbZZ80vOvm5Y5KB9KFw9yjDgYGAI+E4ewndW/ZJzMEQEOljY+pTuVc4c+5eZlglBZRl5MJjQ0CO4aflINWWtkEQjEwCdgS/c/dN40YsvwNTUVFsxPswwePv27dixY8es7/vIkSP4zTdsxQevv1FaRRwdBnppWcVWO+UZZUVcyGMz4rUpBLf8OhNklKLHusWCLnoUWVBejmEIx5znQxIQ6X3p55Hl06+4Gfd/+X7zeuoQ4ajooO9t12cd9HkH/SRFP+nIhcsl43qdfMzSFFmaIk8S5GmCXL3O0lS9Di+iw5F3ErOILpfruolZRJdDDHHzmHcT5zV1mVo4xLBaN8xAQ2oZZsW6YahH6321jV6HIcmpnvqiY8A8gM2Tryf68jG4zA8s807ipcHx3Pt94Lwri9dsnswTNpUTME/mDfPPrX++of6P2H/m/r8MeeD/tx+d60ZfR/b11eHRa7G4Xq1rNinWm2s9Sc19IO8PuS5LUvR4B33m3n/7bv03/N3Wz6LHi/vqaJ/j8BFU3Kcdc7/31fNjGHLKgJ712ix+uREqS9R3ZEitBHOJaxURVPgiLMIy6xuoiv1ytNeV5fLRIbz5Te/Ae97zfvR6vbZiBJCuWbMGt99+O57znOfM+s5PP/10TD60DaCON8+wxhe4kY+wnUBOoNJugnihGgwllUsRTijnN0ZDlhEhH2H/5+TW6OSjVgA79xXf9d17gfduAv50TzyxHAsrgzlxCJKjo06WSmcqPqlJP9xkSS3GXu3nthew7xocVwjr53Xw0J7+Yyexy9UItv23cQhc8LL5uOhlHRD6IMZw6605vvyFPt5/fVIklkuoOPf2X18Mv7kK4sQbW2AV/1kd9G1qGeErhP11SQQSA2GVcQLTeXrHO1UiN0sBs+NdD+ExTxzGr752mZp64kJh3wvY9/Wy4Wz9YEA8sZyohMwhu4ikBgbb4DeiFBZaIezdR++9rewl/K5LgAu3AmeuiSuEm9hF1MFgm79W2UUQMLAiGDUWEpV+w7mrEkYG8HdhZOQsEB0Pb8DjrWg6ORRT9957L6655hrs2bNn1qcZ3XXXXXjJS7cAnS0ym73oqOzVws7eVK0KHtRjmESF/zDi09+bZCNDnfLEmnvCLNWhSrIhPfiB4d94FVIpNwAATOy4CV308Lito5U/oJnytwm5sz3ewwcvZ8eo0rhORtuEeA4CitX6W56hTlFfAeL/ADYuAc5fUDTdBhEmsgo+erzv2AaJrxvvyIbd+85Wiibrx6+5C7htDbCiG4HCdeceqPZprLKMUEmiolOSSwMWg148dee4vB++ZCHO/N4djgkLTU5hYtXzsPB73zAKLJnNHY7nJcHydWxUBmAwL2EfCsfsIHxVbx0sFhXKYmcwTXVUEwHwEXzh7gzr168/Dgnmjnf6xpOnzvVjx44dGB4extatW2d939deey0+eOOPgGSDhA7ZsLyeuVDJ31RSxZxbYIMFfIOVmjinuD1EhcewVilmTHoHI0XYV5UqBg+VQti3irB7jKm2i9BWEUwlmaPc+PgSGJ7/N5uRKi9hAYa/fulNeMH1G/CYlY8tegKUqynwQMLUlP7Sz2JW3S+TywnOgvNSOYlyuciLRGRuOUqOVZOvCJZKYe6qhIXal1aeEnPUqszcIq5/MAXqF6hkcj/41pD8E9VHRlYDE99CM+sHHX2LSww6ylr3GCqLmyqEQ++lqLaM8MrylT8F7Pmku69v/Svhymv7uOOvlZ8vZ6UqjlnHYFgE06ptFhxIJCbvS18NXFIIU3Gd+gnlzEzbwMwX0h7coeTpShwXVAd767T4QbIA+X1P2fhMPHnjz6EH5SOOFP9267/g+1/4Ln72+lHz+WByOU9JHFQIUyqv99ggeMRmhMBkYjySYBhaHdx0wKzOJ9jeTy7KA2c5Af0E6CuVcOdlePO2P8PjH//o42D7QCddHZnu27fvuOz44MGDIAyrBAqqNmK5JSexb0DfV2EAGFyieRGwrK0jbBBclfgpVij5EDjkI5xHGqWh73nSSuADe6LWEcQLD2FtD8GIwAkFDFbKyDAUdhO8aehrJ5RDCQjHIbAutHgABlfZRYSAsO8jzJicthOa6nPxxhQv22hdJ4WZVBje6nOfwPWHtpfMgrtV6t8qD+GmvsE8AoNjCxC2rPCO0ZkexYCt71qsCvCiwgl5+oaAsA2MY76+see5A4Ob20E0WqjKP7iAw0EYHFveflsxRaWpSrjJ7IC8BgoH7SKmowgWFZBXPfdlJSwy3Op8ZhgTExMDewk3qBGOc1X20ElR4a5cuRJ79uw5jlYRHal8J1VWaujiJHRjVqfDGHgqLxphvfYActBjWJTfI9tPmA0OMAdtdjFvCjqXakke6Z2ctvXyRr7BMTg8aBMvzF9Z6SslDKbmcCsGfJt29KgaGN/yE6pz2fM6rxTvBNSJwAc/T837sINA6lBiudo2feQc7lsH6bNBNUR60ANrOAhQTGOmKKydLogPc6LB/YTZksVY9r296FvtQJn80Zv1JWbYh6pLZmR8g1G2dZhWQjlPQUxeA4GphXv1rhByZg4jZFkyLeuImhrhYahzjyiac3KFBsHHxSriGAH9LpCl0j4peQjoHAY6CdBJgTQBkkQlmEukjSKlMku04BKQJNr2TC0Zt0AwC9tIBOwmRMKNQtie1l5ZCHhlle7jUSmxnGUdofqdulchwJGwHKlKJOcIO9RnNty5BYnyDTa9VCZxmGStuRnADdWZ+idyJpS9hJtMTnsKhyx0uCiXapxb1gM+DDbPE+QmsZwws3gNAHbqBwZGolEOARK6rWL53qqdTXyvot6OGeWnswiE/XVsADA8KBCuMv6vsKp42tOBz/5dBzlZM5J4XT2mobB7XxDzADFHEACbPq32EbbauXkICHMWbAPqeyfYL+Y8mkzOfsyZ9BEWQbtFeVf00cETN67F4zc+Fz37s5ZlhHmuALINgn0wnCnTldoGceBaFSRnL5Bg1UrekEdwLsI+wbk1aCtyWQ+zDOA5kORyXUftlOVAP5dgOE8B6uLw4R56vR663e4s14/Huw4+SZLKnX766Zg8uEX94MOy8rMXm4qxVK3n8nlp3rxaR2ox+0mLSlV/1vkeXmwnEtVRDUAavzLUFWvKkA51iytaw+BMFxaseO4oELzvSeS+HNeLXCDHMaTz51WCK5YQuDLP1ws3ZvrWY0JFp5JZVaf1xK7AXSibIFef1RC4Sh1cjBOLIAAOLRoER4GwqtjtkSRd4JjfTdz7w4RTWTBGZZ8e325B8QvHO1hgcNuIGIweABJT6HM2ELbOhf1alP6NwmfLmXZJhcI8aNHhNdKqwLENfGMJ4yqBMRWQ2TQSiZevlMioIxcCIufgmXrMhfQeyjnIPJfJGUo+RFocmAH5kaPg1AETifceRUYZ1ful6Xo++JXrsmM9VTlZ+9bsST+3Kzo97YXyAZdMwePQ8KgNgG3wmxU/uPSePpBrsGzZstaj8CSLu+66Cy95yVUAuxygKdnhdBbuvU7VurRYx6wRKd1JtUepSH1OJEDCVSc2BXL1+YQXnd1E7T9lbjnMELZnsu/FjvXYUfeMft61nnekskboTkWHwNT7LBUgNQAi0FeJb+SSo48cPeToI0MPHD0w9MHQA3Nu1D4IPRB6ah89Z8nQR9/RU/gaC+m2NoRMfVOOLnJ0INCFQBeELggdEuio9YlQ7Mg+H/2i/HKe96zXoee63DnmLf2axSov/eKF7HGqAOzMvK88AuCo9ZOOWR+312eoLLaLJpn627VNYketS633Olazi3mXjX2KhtX6LqyJa/YxiUIEwPQPyCJg3h8x0OesE3nPPsie+hF961rvegdU8TznhD4T6IGQM311EnrWVX4MCXrqaj8Grr66uCu026e9FFc6mef6ztFXv7wD+kr7J69ueZV3IcyVnoKQqseO+edIJEBPJitEj1nXIAtfl73AdZoFrtteYHH2pawdctVRFLl8nlvPReC5WTJ3wJVZnU/K5aO9nmmjUbWe6/0IgB6DL3zxJ46TSriNhzOuvfZafPBD/wXghQCfALqTEgSnCZCm1nOuALF+rdbpuljXtYJLYMG8dVkqIXHG5L3SY0CXAR39CKDDgS5Dngr0OgIsI7e8CYlQAmULSwk503VoX9WdxdJHhpRkfef3DHQ9mCBHR6XFstdxqzdgG84xQcW2TNarKXILYcm6MlWqYh7oEXGSvY1Q6PcWLeZSGYxEJkcG4dBkDhKElFnvszIUlszWfmTFZDsFiEn3wUpS1aJHbrqxelCPkREVUx2ojUUPjocwazKC2gQIx8BuEyDsqEStSKzKeRqjuczyEDaD6QR3xol3HE0UwrofLVjhHWySyam+ay9jeGiKIIiQdBjmLeAO5O31gUOHcpUSKqR2J/Ueg4CwkBSpsR/mtFozMPTB5XNiyMBU84wMEJazrn0hFqlbn7xFqLspN0niMuTIkaLPhGo5+3e8rO1zkcgkiFlFm9Fu21uNQjrGILKjquwioC9kndwj9ajqaLNOSGvVLJMgN7PqZV3PavCb5kXdzLyBWe5t21cLrccVV96I+fO7p0xyuBMOCC9ZsgTAe4+TJAgPixJ7eMESPPOlr7EgtoLMlCjZuQ+eA9C7tF6SyUM/OoB/+9z78fSXv6+ohLtWpZyg7Isb6v34PaHEe55Y2zgNAK6WDlhCKoelHv/Ru+BIkJqxo8Tc5ZkqYvoQqvMg1+Wm+NLvc9WNSJEVCQ6QgyEDN0tf5rxkfaRMfg9DDgGBnhDoHZMFCssILFcAXD3q50wQeC7AhAA3z61tdWMhJSAh6dmUW4BO9wx1YWbDO19YqTuFXYQtH/T/yCs6dKoi0lM9RK4Ur7kcTRSJesw4RJ+BjhTrteeeSBiIc1CHye8cglTdqBy/KZN/PqGjOmcdJEhVmogEpAZcCExVCB3V7Oo4I5J2E4+ci1GmjtAHzpEiRYIOUnRCI4qCeVA1k52rLHB+fSIQqnR8khDy9vVA7D1/+Was+JlLsOTHzy5AqLOI+HrK3fe4AIat18jxtU//OaYe/OHDX5LPqgJzSdu7O9kq8jTFkiU/AnBd/cZVs2BO0cgRzxX7yAezKqCTLJhVr807RS4WfX/0T8YfTxaOP/HCbiLNmQgN9HuxcOGathI7yWPevHlYsvgzAD5TLk+qJqScJNE/WYvESNywby0et6KrZFCyt/P6530NPzggy86P7FuFH1+Rgpn+qAZ2mfmMbcAXvvVlRyVk6ZMY/WbuvK81aXaZXsxgiT234GgHYAssxbOdeE0D44ezMZR6wNcSLRGzCK8nfrLfiz03kB/FgLE/47VcQ3LVV02DtadtqWj3f4tuVgKGBP969yG8Yf23AQDnnH8afuuWM80MWyDF1+74Ef7g0r2nVBnHTpW6W9fHw8Wq2VUHn6T9yOO14+9973ttC6E2RttT0OTG1Qbzp2A/wbc9nsudoocl3r7nOH/Bb7X3bBsPe6xZswYTExPtiWijjTbaaKONhzmuu+46XHfdde2JOInj2/tO0B82neS7seieOofySMYz1gC/VtHkfv75wFvaJnkbJ1Gk7Sloo4022mjj+MYR0wSUs0dmFkSEycnCn4mxHhYvXtye5jbaaKONNuZ45KbOTdMOFixYMOM99no9HDlSJJztdID58+e3p7qNNtpoo4023BrT1MHz5y9Ap9OZ8R4PHTqELCvmaSxYMB9pOnsY1+xp8eLF4Jy3/2EbbbTRRhuzGkuW/J56XDIrs0cOHjyI008/3bxesWIFjleC1OMRSZJg0aJF7YXRRhtttNHGrEan8x1T555//vm45ZZbZrzPXbt2YdOmTeb1xo0bsXPnzpP2HA0PD7cXShtttNFGG7Me8+ffjiVLdgEAbrnlFpx//vkz3uell16Kv/3bvzWvb7vtNqxZM3t2U4yOY/aggwcPmuREs5+1/tSIPM/x0EMP1UKCptudqtHr9XD4sFQndLvdWmVCr9dDlmVzTsEgMx1LD6x58+ZhaGgouN3hw4fR6/VUwTV/zvnnTE1NIcukU9eiRYuQJGEvi4ceegh5ntdudyrHxMREW36fBJFlGaampgBIT+HZzVp/6sTRo0dx9OhRAwViYKDpdqdqHDp0CP2+VCMsWFCvcDh06BC63e6sKCFOppicnIQQ0pS7Slhhb7dkyRIwxubMOSIiHDwoZ3QwFp8lIoTA5OQkAIBzPidnffT7ffR6vVlR9bZxYra/53o0bVfP9fa3bQPWpA0+F9vqTdnIXG8f2wxlaGgI8+aFkz4cO3YMR44cqd3uVI7Dhw8jTdM5x0WOmyT44MGDWLlyJUZGRjAyMtL6G0YKsrvvvtuco3PPPdcUbNPZ7lQuyG6++WZz/K973etMwRbb/sMf/rCjZpgrjdG3vOUt5jzdcMMNpnHqF3ave93rzHY333yzgcNzIaampnDRRReZ47/77rtNo9NvjJ577rm1253qDdJly5a1hfUJHlmW4R/+4R/MtXrRRReZxm8bbmN3+/bt5jxt377dQF87jh492mi7UzUOHTqEV73qVeb4b731VgOHY9tffPHFjnphLsTk5CTOOeccc57uvfdeA32rtrvvvvtwHLUYJ1QQEe677z5z7CtXrjRw2A4hBO69916z3TnnnGPg8FyJfr+Pj3/847j00kvbwvoUaH/PpXZ102jarp7r7e+JiQlz7E0YylxsqzdlI3O9fewzlLe85S0G+vrt4xtuuKF2u1M5Dh8+jNe85jXYtWvXnCubjxsQPv3007Fv3z5MTEy0UCES99xzDzZt2mTO0c6dO7F27drSdvfeey+uueaa2u1O1di1axfuuusuc/xr1qyJwl5d8F199dVz7nq69tprsWLFCnOeDhw4gA984AOl7TZt2mSSUE1MTOCrX/0q/uqv/mrOnKf169dj69at5vg3bdqEe+65p7Td2rVrsXPnztrtTvUGaRsnftx1113Yvn27uVa3bt2K9evXtyfGC10e6vMEANu3by9tt2PHDgwPD9dud6rGpZdeio0bN5rj37VrVxT2anh8xx13zLnradWqVbjtttvMeVq/fj0OHDhQu93atWvnDOw8ePAgVq1aZY593759jt2PjgMHDmD9+vVmu9tuuw2rVq2aM9dSv9/Hrbfeissvv7wtqE+R9vdchAp10bRdfd555+FDH/rQnG1/L1u2zBx7HUOZq231pgzFbx+/9a1vxSWXXDJnGcqKFStw7bXXBtvHBw4cqN3uVA0tlptLPMSONqncSRArV67Enj172hNRExoGf/WrX8XOnTsxPj7enpSKgk+Djh07dsy5qRFt1IdWJcylqc1ttAEAW7dubU9Cg9Aw+JWvfGWrhquJyclJU+fu37+/LVfbcOKOO+7AJz/5Sdxyyy0YGxtrT0gbczraPm+z0DC4batXR5Zlpv5dvXo1brvttvaktOHE1Vdfjec973nGTnKuRZtF7iSLPM9x+PDhNiGRFz4MbqO+4JurlhFNY9GiRQacT0xMYP78+XPKw6y1+WmjDTg+wm0UYcPg2UiYcarHmjVr5qRlROPOCOdYuHChqW+npqbmlIfwbCV/a6ONUy0eeuihOdf+btpGby05m8WXvvSl1lKtJoaGhsA5N3WwEGJOeQjv3LkTGzdunLttsPYWOHlC++Vcc8017eipF7t27cLnPvc5vOtd78LExIRJmlblNTyXw56yddddd7VT2wJx++23O+D83e9+N84+++z2xLTRxhwJ7SU8PDzcqoa9uPTSS3HBBRfg2c9+NiYmJtDv951EdG24YVuorVq1KuijO5dj+fLl+OhHP2rq20suuQR33XVXe2LaaGMOh/YS/tCHPoSVK1e2J8SKZcuWYf/+/Y61VQuHw2HbJLaWauF49atfjeXLl5s6+P7778fb3va29sTMkWgtI06SaGFwdXS7Xdx+++3GR6nX6yHLMixdurRVDLcxrVi7di3GxsawevVqAHKakf26jTbaOHWjhcHVsWDBAlxxxRW44oorAEjF8Pj4OJYuXdoqhtsYOGwPYUDaaqxatQr79+9vT04bbczBaGFwdSxZsqTkHdwqhtuYbtgewoC0k7z22muxY8eO9uTMgWiB8EkQLQyuj40bNzpS/7GxMYyPj7cwuI022mijjYGihcH14U9v37BhA0ZHR1sY3EYbbbTRxoyihcH14YNfxlgLg9too41pxXEDwkuWLHGyKC9ZsqQ9214kSYL58+ebAtz2Bra9gu+55x689rWvxZ49e8y2SZLMGR/hbreLNE3NsWdZhvnz5wMolMD69VyOefPmQQhhzhPnHENDQwCAI0eOmNfz5893DPbTNJ1TSeUWLlyIo0ePmuO3vclsrzLbQ9jfro02TqiKPE0xPDxsrtWjR49i4cKF7YnxQpeHdqdJewPbXsHbt2/H0aNHsXnzZrPt8PDwnPERXrBgAXq9njn2breLTqcDQCqB7ddzORYvXoypqSlznhYuXAjOpRPb5OSkee1vt3jx4jmTAIgxhsWLF5tjn5ycNP0BIYTxCrY9hAHMOQ/hNk699nebrLkcVe1qu/29du1aXH/99XjiE59otl20aNGcaYMvWbLEaafYDGViYgJLly5tGUpDhjLX28c+Q7G9gY8dO2Ze2x7C/nZtzIGg4xhnn302LV++nJYvX05thOMb3/iGOUcvfOELnfX6tb1NaNu5EB/72MfMsW/ZssVZb7+uW3+qx9vf/nZznv7kT/7EWW+/3rJly/9v7+6BE9fSvIH/+62tEh3BRvBGaCK0m6CN0ERokkUToVs1VWgimEnQROZGZqJ1BjeYQjeybm0AN0I3MjeyOrI6WdOR1VVbZTmyehKrI8uR5ehswJewwWAbbN/286tyVduN9XEkn+c8j6Sj6ed++eWXN9dOf/rTn6b7/7//+7/Tn//nf/7nne8Xfe4tof77t+F//ud/pufqn/70J2qQJf7xj39M2+kf//jH3M8n38c/s+izb8Ff//rX6b7btj338/j3q37+rZMkadpO//znP+d+fvv7yefCMHxTbRSG4XTf//3f/33683/+859MkqS57yefi//8LbFtm/31r3+ljvobGn+TecvG1fHxd/wzb3UMHt/3dcbkb3Gsvk4NhcbH8zWU//qv/5r+/L//+7/vfL/oc2/J999//ybrIu8Yo1cdE0IIIYQQQgghhBBCyFvw/6gJCCGEEEIIIYQQQggh5G2ggjAhhBBCCCGEEEIIIYS8EVQQJoQQQgghhBBCCCGEkDeCCsKEEEIIIYQQQgghhBDyRlBBmBBCCCGEEEIIIYQQQt4IKggTQgghhBBCCCGEEELIG0EFYUIIIYQQQgghhBBCCHkjqCBMCCGEEEIIIYQQQgghbwQVhAkhhBBCCCGEEEIIIeSNoIIwIYQQQgghhBBCCCGEvBFUECaEEEIIIYQQQgghhJA3ggrChBBCCCGEEEIIIYQQ8kZQQZgQQgghhBBCCCGEEELeCCoIE0IIIYQQQgghhBBCyBtBBWFCCCGEEEIIIYQQQgh5I6ggTAghhBBCCCGEEEIIIW8EFYQJIYQQQgghhBBCCCHkjaCCMCGEEEIIIYQQQgghhLwRVBAmhBBCCCGEEEIIIYSQN+JfqAnINkSBCzfkIQkpagxy69zw4Ho+giBEhAQyvAhR4pGic5AQQl6ub/aHcCFC4hPUGL/9QIuhPUQoyFAoBhJCCCGEkAXoDuHXLHRhajL0QbipBWKgSVDbDoItJB+eY8FoaJCFDFL//z9Q6/l0DMnkBIE3aEIVeQhKA0ZvgEFvD/qfv8Mffv87/GtKgGYMET5xHYFro9fWoYp0DhJCyLwATluF3HAQ3eozFTGD1O9+j4b9yF7YbUOWdFheRM384nyYioDff/cd/vhvArRBQE1CCCHPmfV4FnRZw8bSkMhBQ5LRtH1QlCWEbBLdIfxKhUMDmmYi1bbRUzd1d0cKaq+HsKZCkmuwBk1IG1i0b+nQjSF838PZ1xs6eOROcmppMmqDBGqWA0/lMbn/LBhokL77BV+uzvDL9wrA+7Aec74HNhq1JmyXzkFCCFnURzZVHbZowjZlJMZ95mD4GV+uNrB8sYlBuwlFFmEbNnoaT23+YgNIB4OPk4P6FbblAqpC7UIIIVsXwTVr0NohGoMBapsKhQkZxqABXZEg2z0MDAUZamxCyAbQHcKvkD+oQVJM8KYDS5sVzzYTUATULAcm34MiN+Bs4OZjXjNhD114voOdHB0/MpeZwtEV/PmXAGLbhqnOn88ZtYdBp4AkAOAKfvDI694ZBYbtwvNdtPLU6oQQMk1PPROqqMGRLTjmOIkc95l+cIR6djPrScltOLYOvyFBpaczXk5KglLgxt+kIasitQkhhGxdAKchQW5H2HNs6OKGp1/KqDCdAWRHg1wbgJ79IIRsAhWEX1soGWiQvxuAN2yYyrau/WWg9GwYmR5U1YC7qWdPEhJkkXtDB8uFG9I5e6/hHvSfzgBORmPhZfIExIYNp7uL+k4XZu2J53xCgCgkf5NNFbouDe4IIZvl96DKf8NQ7sFuS3fnak+IkIXNrS4hNjCwNHi6jJpNPdrLENBwPBwd9HF44mKg0X1khBCy5VE8nIYMxUygObCwtYdkUhLadg+irUFpPHWqPcqzCSFUEH5VIrcNVfsFUdlEb2PPmCzDo2YakNzvoer2xgJKKvFWXkbjwdBq6Hl03t5zRsM2ejgDgIyA5e+1SUGstWEaNWziYvpv8hQMLNS0Nlw6aQghG8tPHeiKjg+JOixTXfLizgSQ2OyF3JTcRk8HftY0GDSn8MtI8JBVDYpIxWBCCNk2v6dB/dGHZFhoiltORDIqTFNF8KOKmuVTnk0IeRIqCL8WkYOm9nd8QgFNQ3ueeYH4Gtp6Dl9+1qBZdCfPAw4W3KaG5ke6bHk/FwNnPI9hKgN6b/3SYSRMTcev9CdICNlY3fvIAAAgAElEQVSYEANdw09nCZTbe5BTz7nuBKS9Nsr4iO/VPQypJkwIIeSbTXfaUPUPuMo1YOj8s6wypbaxVwjxa02D8c0VTSnPJuQ5UUH4lXR8w6aOH8+ApLqHZ4olAACx0UCRu8IHvYYeFaTWEtg61B8+g15dtqqhXLhfJ/WBBBWEFwoxbKhofLyipiCEbK5nsRvQf/kKZGtovsSUASkVDS0LnP2AWnNIb0UnhBDyDfJg6Hv4fMOh1Gzg+WZs56E1VSRvPqFZM/At1YQpzybkeVFB+DXwe2iaZwDSUGvyowpnURgiekzGlVFRkzng6gOaTfuF5yKKHrcPs0ZAGD1l7Wsk2cMmVPVnfHntbQEA0QaWcWeR0fqJve/F5sRdsyD8iA2OwmhDxYZNttc6y4rgmRqUH2nQQwjZJBftxs/4CiCn1SBtoN9/uATkmoosgDOzAdPfdshcMw48JS5GEcIw+u1s73PHfEIIeWNCq4m9TzcAJ6OmPvbi6+P6+ZRSg5IEbj7tobGVJ303nRetXtgm8+yHjF2iMHrFbUfIdlFB+BUYGm18vAGQlKHKa5aDIx+2oUOVeGQyPERJQOb9OyQyIhTdhLN2XMhAGb+B+qu1h+d+MXgw7KFZUyAJGSTevcf78T6ojR6GK6vTIbxBGzVFBJ/JgBdFCKl3eJfIQFQb6K2ciT6E22tAEXlkeAGSJELgBUiqjrZpoNmMv8E1gterQZJ/wKdp9S7AoCFDUZTRl2o8bQ7Y0IXVrkGOt0WKhyCpaPSGa7xwLII3MKCrIvhUAon3o2W8S2QgKjW0LXdFwT+CPxzA0FWIGR76cBqd0dMVCKl3eP/+Pd4nMhC19pJzzEevNmoPWbdmAd0zoE3aae5LhixLkEQBfCqBd7wOZ639bKMmC0gl3uH9v77H+0QKgtKA5YUPSl4fff6FHuxeEzWZR0rpjds1gm+3oYmxZfEydMu7u02Rj4EuQ/rbB0zvDb5y0JRjbdN0KBEnhDw8DRm0YZ4BQHYa3x8ejiw0VQl8KoH379/j3bsUBLkGw3lA0imqUNIAbj6hvfeU/iyCP7TQ1hUIGRFNLzYOatcg8wm8e/8e798lkJFqMG913pFvw9AVCJnx596PP7fG22qCoYWmJkPgM8gIIkQhhXfvUuAlDc1Fffutft7pNaGJGchmMP7RAA2ZH8XnBA910aArGKLXUCFOt3c0FpBUHW1rCH+dK/eRD6fXRk3mkdHsLcZ8Qgh5qzyY7V9xBYCTNCgPmZrpyTkfgIQEVeYAXOHDnrGR95BEgQOzoUGRBGQS4zwyxUPSmrC88L5fhDsw0dAkZFIaBpMfexYaqoDUu/ejsURKgNIcwI8W5HaPyLMDdzCK79P8McTQ0CCO41dKasIJsTjONrVx+yfw/l/f4927BFK8BK1hwvFXjVgi+E4PTU0CL+gYxuoKaiwPfJcSoOjm3ZzSH6ChLsqLFaiaDvP2XFuhA6Omzn9Ot+DTHyHZBEZe1vUhq6bBADAU99nFOr9yss9KaTBwOVbtn7LryX9cnrD9cnq0rHSZdc/X3IaTHZbFaBtyuydP2p2janK0/lXLuj5nB/U8S6YLrNrqs8OjI3Z0eMD2d4osPf59JIusdXy5+Pcvj1mrmGQAx/I7h+x82ggX7KhVZEmAAVlWPVjWohesX8kycHlWPzifteFkuwCG3C6b7cE5O+x0WKdVZYXkePuQZIV6i3U6ndHX/iE7f9xJwM4P6iyfBEvmq2z/8JRdXDPG2CU72S9P2yOZ32FHl8t255DtFJIMSLPiTp+djBbAri9O2MFuaXp8k/k6688aa9qWnWqJ5dPc9NgBaVY/ZuzyuMWKk/Pz1heX22FH13fb9Wi/xVqtFtst52afTxdZfXf081arxXZ3d9nu7g6rV0ssl4wtN11nx/ef/KxTyjIOSZavd9nxeF8uz49Zt15gSS7Lcllu9Tn4yPPv/GCHlQtZxsXbothll9fnrF/Nzf8cs/OkdPuP8eKI7Xc6rBVfH5dnlVZndj4dxP62CSFkLZesXxr3gVyZHazsRK5ZvzzrMwudU3bSKc36pQX9WWH3iF0+Ylv6lw/clfMDtlspzscI5NjuKWOXxx1WHvf1XDI93/cmi2z/dBZDs9zoM9lsejw2iH1uadC+YIfjsUCy2GJHF7F4fVhneQ7j8cfxfFtcX7CTgw7bKRdYmputq7B/zq5Px2O3+DZkd+Zi3jTmpkusc3TBrhlj1xfHbL8SjzscS6bTLJvNjr6qB+NtuGQnB/tsp5yfWzdXOdxizCeEkDfqUfnzBnK+eJjsFKZ9ePXwKR30NTvtVlgumWbFeof1D4/Y0dEh63fieW+alffnc5Prky6r34o54Crs4Pp6Gn8XxZN05eBWzWP9PPvy9Ih1W1VWzCVj8bzKjq4v2dFO/lYuxrFS93JuP6fjglyFdQ5Pp/Hz/GifVfPjZXJZVmod3xnrXJ70Wadeno+f6To7ujxhnVJ6ybhpFNP3T6/v5LT7c7/DsWLn/tzvtDU63uly95E1B0LuooLwC7s+qk47/3T9eI1fmBWQuVL/blJ20WWlceebLPfXS9qu+6w86bDniqAPt15B+IIdVLIMydLCovVppzDrzJNl1r+4+/v9cnIaAA7vLoG18pMOuLowgbnol1gSYOn60YKO95ztFzmG7M6Ctjhm9WmylGU7x08/B867owHA4s49ti/jY3q3OQ5YJTsKnMsCycVhdTpoQbJ0Kwm+ZJeXF+z8sM5yseSwVK+wXDrP6t3jccH9mp0f7rJiLDnPd06X79hBeXYc852lgeuyX5p97lZyfDtwtgqjiwCF1snC/TzfL84l/IvPwceff9eXF+zy4oTtl2KDkHyV1Ytpli212MHp5WTEwLqVWEE8WWELx2mnLZaPf4a6RELIU1zG4nm+xU7XSALjBeFcqcSyXJoVqi223z9kh4d9tr9TZjluPsEq7p+utTknu7np75QfWhG+vmQXi2JTpchyuTLb7R+z08txxzq9SDxJNrvsYCfPsoU66x5fxC76zidg6erh4lgyjQNZtrMgjBzvZGcF6vj/XxyxbrfL9mMXYgGwQqvPdvJ5Vmn1Wb8VS5Ljx+i8y0rJZYn9KesUuLmLrNV6ndXrdbazfzzah/Mj1t3vsu5+PZZQLygIbyvmE0LIGxKPb5WD9YqxT8757iTe9VkdoXr06BtJzrslll5yI9X18U4sVmRZ9fDyTpw+bsVyJ67I6vU8S+cqrHN0PqpFXF+w47mLzcty6FV59jU7OeiybrfDqnluriC8v19iueIO2+93xzdJjXLj2bG5ZietwihPzFbZ4eXiXLMzHUtwLFefvwB+ftRn/W5nVjgeX1wuF9MsXaiwVv+QHZ+cspOjPmtVbt0otGid5x1W4GJjq+7lGudcnrUoFJMNooLwqwkmYIXO+er8KF5kKyy6o/iE7ebiV+jW2gq2k510RgW2xmYsj0trFIQvukXGASy/bEXXh6wSS0CyO8fzAe5inxWnQafM+tf3bcforpfbyVB3fNdSflmPerzDstlFd6tutiA8DbLpCjtYEgNOW7HC4p07vs7Z/iRw3Zv8X8cSWDAuv6jwHzt3AMblqqx/vjhRnm5PYXmhd92CMItdFFleEL5mxzu5NS5azO/DonPwyecfY+y6H9s3JFlxwVXkubv/kVx85Z4KwoSQTTqqTi+KLbxovKBvjReEkSyw1sndvurO3a1ckXXXeKQpfsEvuaT4utpxbIwCli7ts9PrhQOqWNIKlix02MmqC3HpOjtalJTnZoXS6tGCVovFgMXjiHPWiSX2XDLP6rFM8Pr0gHVaHXZwOktUDyvpaSxYNHa7PozFyuT947ujevqegvCWYj4hhLwZ52y/EMsH17ib6uk536LN6LBCLId61E1dpy2W58C4UndJAfpimjcvzTcv9mfbAbB0eVGcjj01BLDswkZbP8++PqzEbgLiWLrUia3zgh13W6zVPZ7u0/VRfXyhNsnKB/eMji66rMjF7oruX6xcd2F3QR4YL0AvzUsv2UElFq+L+/fE2FG9hlvziXJC1kVzCL+oEK47mf2FQ4ZfYzL6xOzlXFxi0XzDCaQmP77x4a81CVEGwnTVLobuFmcujRzs7X3EDXJQFH7pnEiKxE2//TKwbs0ZlECCu9set9tp0sb+nXmAAnj+aIIib+Asnn9H0qBmsOU5XD0Y+o84A5CrNaEumXtKqO2hnB79OykpEGM7HNl72Ps4moU2r6kQlp84kJp7KI7b7eaziWbv9smRQma6DRyUtgltwSHiZRm56S64G3izbeKe7yZzLZlojCbFREHX73mLrwhZTG75/AMSqdRsO3M6jKaEO4cvIceWcwXPowkYCSHb5bvudF7yFJ9B6oG/n60ZaIp3e+GEoMMyK0hPfnDzEW1j9YyFqUxm2ldeue4j57ubj02yrkNYFChEGdK0+09C3WtAXPQ5QYQw6Zq/unD9+8JSbEy1aIgBwPf8heOqTGYWRxLKHtqxCSYTgopGswF1siORjZ79dRJgkFm0TlmDMtm/Kwf2Pc2/1njyxWI+IYT8xkUenGlnyMfy6O3lfIs7+wymoeaLC/fBqUaIQbONzzeApCrILKkTyEosw/xsYeDdSYyQmoa8AvbMRXE6BUmZZXCB5z3pZfaJDB8b4whoGI3YOjOQak00a9J4n3yYzd7o3TZJBfp9Ez5nNLT17GSQgF+bbdye0jeRio2vkhr29hbkgUhAbFrYK8zGAmc9A0403yZqszaNsTcf2zCGS7Zr2MPgCwdZ15Chv0CyQf9CTfCiqdu0MDlKOla/UC6hGBh0Uuh5ArS92ooOYd03XKaQynAAbgDcwPcDAPx24qdtwhq/aczvtdFe0h97YWK8PQC+DDH0AWmySZkazEGAthVA1Peg3ttsN4jCEJhrqRSEDAec3eDmUwNKLYWBqd0KXBKaZgqJbR7+oQnzMwCkISvivYFp4Mtw3RC8JMQCToiBaeHrOPkVJWHFoEFFTdbx8cMNgCt8MAcIavrDg0o8CEbh6BxLbPcvZWgY45cM5CDL95+b9/0ZbeT8W3+oglRqtpwwCKnLI4Rsd1QRywYTidSDfz9zT1abUvfQyP+Cv38eJza2Da8tQlgRLzLAqEjte/ABCE/dyaV9fAap1GRlK8Y8KWAUPIMFL2kT0LD6CNs2IrmBPWnFuGbZ28lj2ylI4v3Fed+DN9nuKFp8MTohQZY4/PzhBkCIIFgefBObjMkvEPMJIeRVC334kz6bS4xiylZzvmXxMINZquGPCsIPSeyCAQz7CkAS0bCH9rJUxQW4aUbjwXEjNOOJc2KtII1MJjVdzk0UPvnGq+makiLE+wYXrglz8rY6QV58UTm2VElTkf3xx1EB+YuF3tCAJC9PPFNLl8ej1lSw993o5YP4OoTtAXL8FBAbaJYM/OXDDYAv6LUH2Buod479sDfAl6QKQ0nR3x/ZKCoIv2w0QRjOOp/1BvAZyA0Ti/qk0LNhGW2Y06t20ZpX3ubXHWyxIOzazqhD5CL4rrN8+1ISSqVYkncrYvBKE6ayqBFcDHoG2oOv97ahUpOR/PgBV7jB2c9/huj00DBM7Kn8NLhkRGGrR98d2KNAAx4rV5XIQJQyd6Kz7dxM9ymzMj6kRoOQD58mBwNOqEN7YlyJtv534mJgj6u4nICnHJZNnX9PrlsQQsjGRQhngwokHlUVvO93BKhKDn//PHpaA94QboT7E6tE7MLqVTAa82wxl1lvl+NjngjRgkCQEDS0e9qCJg4wHBgw2g5ubsXBxNM3bNxOPrwAkDN3YzjPTyrZkwuOL3GWEULIGxf4sRwisXK8//Scb0U8uxrXFR54h3A0tOGOg1noO3CCe+oPpdk28YnbN1u9fDC57xj4joPxyAVcKrV6yyUFcvJH/Dyq4sKx3VtV3PWlZA0S9ys+TIr2XgiIqbm21Zo17H34CV8AXNlt9HwVjXgpJnLQG3xBWjVB9WCyaVQQfuHkbXYHb+KRd3SEcAcmDKMHNyGjputQnI/46eyhSdTsTsYo2tZwP4TnjQu1GRWGbUDaUDsGQwuGYWLgZaA0dOiyjU+/LC8KZ2omzIGEP/86+szNlw/44TsBvaIO02zPHuPcmhDe9DnV1OOOfeDNrk6veTc4LwpI4tNo3DCZUuS1B5ZgiOHZrLjw+Bx4W+cfIYS8ljHFrEyZ2ELfzssikj+cjWPIuMCbuXdwEUvSIoS/0Wpi5DvoGQZMO4CgNqDXJAy+/zBXFH5awwoQksDnKwBwYQ9D6AueKZ4V+UVIAp3xhBDyMkEh/iTHqhx+Aznf8iA7d4EzfOAjHL7njR+q4VEzbTS/0bgSn9rpBmtcxMXoBqSfx/dQ+X6ARz8ckxIg8sCHs9HaR0+Mzsf3hNxEo9DD959ugJtPMNpD6KY0XV807GHwNQtVV+hmI7JxNIfwi0rcSuQe8rsBhqYOOcNDNUOopgvXNtFQRfCP6SmiudCypf0NMH1qPggQPDkxjODbBjSRh1CzkalZcN0BjJoCfmUizEMbDHFQzyMZCxFfP/6I7/6Nh9y0HznX4bpCBMHN9N/RY2YTCMPY1elwvUR7/Pjubyo5D3wEsQHY6zn/CCHklY0pEtx215Dh5+q/D+2SE7+xTCbyBmiqAjJSA0OhCdsbwmprkPkN70hCga5N5iy8gm1YC8YgAbzxlCDJsg6VJhEkhJAXCrfzFzvvj4UbyPnWSeAfkcPPprMLF0yf9O2IPz2FcJ2pKubfA4DwKY2TmnuKd/HTWzxqTXVak/hitTEIZ8fY6dn4mtOg051MZAuoIPzCydtszqH1C8KRP4AuCvj93wZI7Dnw7Kfe0RrN3RWc2NpjiLEwdeNh4XtY1s/S0NMECH/8HkPBgOtaaCj8A8MgD9V04R21UM7Gk+iv+PjDHyHKdyeR3w5/8UttVsaX+BzHV+O5n1cdgvjvpNaYZuI1ZOSxq/A34RNi8gbPP0IIeY1jiliiEW3jil88hnAZZFYVJeP9N5f6DRWEQwwNBfy/fQfDl2G5Lnq6tMUXuSQgGxZahVE6ePOxiVrbnUtaQ2cP7Y834HJ1WCa9VIYQQl5MKjNfEN52zndvDj/L6x7/ZNAXeN63WxFOxRvGX+cFt/PzAicyT3mvUPwubg6pJcl3Sm1Cn7xd7upXtCdzgEYOeoOvyNdqEOkvj2wBFYRfVPytpJPHPFbFkR5U8Tv89PkK2bqFgS5u5H7e+KozAr+t7jhWAPdgO8EjN9ZFWxbxl1++4Ca/i4Gl4Sk362TkJga+j6NOBfnZ7cK4+vh3qLqNcFttMT3247mJHjEY4WPb6w3Xefd37Kpocp234r6KKB47xz0MvRc+/wgh5JXK8LNOPQy3Eb1iMUSQIa2KvVEwi6GpDPjfREE4hNOQIH//AV+5IoyBCeU5YmVCQtNxcbBbQpa7wse/S+BFBbVGE7omQVAsJKr7GA6faXsIIYQsCbYZ8JN7iW6iFTerbCDnWx5kYzl85sF5Xbw46Q4cfKsl4bkX5n714AYPadfRlItPGVPMzg8BsrhsICSi0Sxiclp9NtpwIiCye7CjAnSN5oki20EF4ZftniCI6Uk0QRCs6oZDWI0GPlwBQBZqTd7Q5A4BgnDyKEsagrCt20ZTEITZ/n40e1irthdYUJX29LO+qWNv/KbQvPaYq2UBbHOA4NaxkBsWXP8YnVJ6FjMsA3a4nbYQxez0uzPLhLPG9YDINWFMNighQ5FmdzZ/dWysHGIEwXS/OUldncy/ij8TcTbowhc4jvei5x8hhLxWgihMk4kwCDb/ArBYDMkp8urXzwaxqY0EaUuvq90wtw39x7PR/MBSDdpzbnSChyhlkBGr2O9bMBoqRF6ArJsYBgHcnj7/LhpCCCHPLyFgdv9UgPsf0txAzre0NBAimLxPJhnfpvXwgjCdpuDKNmCtda+MB0NR0fsN3VcjyDJmR2AI21mV3AexaT5yUOSnDAT82VOpWRn3LSqjNaGlp0UItC0Pg56NSNah8vRnR7aDCsIvTJTFafIWrHqGPXJg2VfT4LLscf+HPyUazDoqToK8xQtQoiLP5uz9vAfdXLXPHgytgUirQRhvqz34NH2RSyr1mMwohNszFxd6UxIaAxu7+fH3kxevLd64J01pKygKpqXnLz9Bbw7vT95DG3ptgNQ0G0xBqcXa88yGvaJq6bvu+OUBaWgNFb+JvDIlQYlV/T/3enCjlzr/tih62vlECCEJSZ5eJL3xA2w6X/OG4xjCFdForL4cGwQ+JqOWnCT+JqY5cK3B3NvIEwuj/1aCALyeCsUQ0XN60DUVWk1Ho1GDJovgU/QqGUIIeR0EyFJymkf7K15M8vScb1mQjb1nZZ2ndhaNGaZ3On9EU7dWjBsiDJsajFTtGeax32BeJNWgTaZjwA0ca8Xd0JGHyf1HXEFH7SlzNbgOhuOBUL6h338jW0LBXrMwrg3d4MOeij0bUGoqTRNFtoYKwi8sJWuQxx3xF9e7v3MKA0wvVsGD4y74dOjBCx6YtYTedCJ5TlYhP6FKuGp1CUWHmp51yB8bCmoDf8nCXBiKjGbYQLuWiQXd+eT07jqDuXmQokXRJBrCGixp7YSImjauCHOZW4X3+LzPIYInzNGYkBto5Gffn/2oQGk7iwOxP0BN0uDVDNRiESGjtWfzDeEzDMO55xj4GFifx8FtD3vKdpPLaGO/x0PTS9MLJzgzoJvekuXPD8puz6H59PNvw20QfynFTYggpD6REPIEvAJ1Elf84aMvni3JatDrfQbAId+Yj0VLo850ssQsFPW1zH53f6OEwSwK33jOwqdDfM+fXpheK2Nd4zO+pUH+yxDyXgPCE8Pz/OroSiMhhGxWArKmjG8yuYK3YmLgTeR8C/v62Hy4eVV+eNEwo0FXZvMPXv1ag9JYsl0I4TRlKGYKzfatm4rWfQ8SMIudS9p1U3n2PBGNvXLsbug2rHsOWeRYcMZPZGt7q28Kiu75n6FpjS4yp6to11bfXsTrbdQmtzN/OcNZQoGu0qNBZHuoIPzSMipqk47Yc+5/5D/Fx+aMvcGHpg7Lj6adpmcb0ORG7DEUf1oYjXx/ebHZdeDeAAAH+UlXoCKE4fJi3DgiYq9dmt2leXOGn78TISgNmJYNZziEYw/Qa2oQM/+B710BhtWMXU3jIfCxaRKsBhr2LGyFroWmqmDPnU/cIgAI/dgbVK/wod1emixPtj0p127N1cdDmL519AaOFZtj2LfQaDsPSL0ENMwd5GZhGB///gcIggK9bcIaDDDomWjXZPDCd7B5A1ZDuBPg9qwWCuNN+tprYG/JToWDJtqfAKRLMC19waO78wXJpflrGLsafbP86m0UhrGEOVh+/kWxR4rDcOHnMrU29gqzdv/0vQLNdG99NoRraGh8mA01vtgGLNdHEIznvXzy+Tdpm3XeUBsijBenFzVURoj9TQ9hDWbncmA30RzQPMeEkIcQoOnju0uu3AfPuR4tnQgxgmfoMM6AZNGA1V7n/QUB3OGX0T9zGmqPfjt2dCs2RcvHIFH8d5Z/LooW/XvSLcei45kJvTmcxpooGKLXUKAas0zyxnfHReP4BckIUTiLReHKq30O9hq/4iu+oleTUWu0YZg9WNYAA9uG4wwxdF14nr9Wghxf382SuLrpmE8IIW9JQp7dZLL4BqVN53x3ec7kqZ0Cao+aYzYFrd2c5pHADT7/+AcIooZmbwB7OMTQsWGZDagCjz/84EMxLej83VwuulkeVxfGwmhRbHpAnh1/aW0UYMVN2shoJnqVcaX15hP2GoPFhe/Ig7Fn4Ss45HYsmMqKYuxXB9aSKSgi14De+wIgi2rPgJJa68RCMzaXcFrTIdMDQmSbGHlx18d1lgUYkGU7x/d+kh3VswxA7CvJsrksS3NgSBdZ6/icHVSSs//nsiyfz7J0ocVOlyz1ZDc3+my6yo6un7AjFwesko5t29J1XrDDep5xc/ux4CtdYp2Tuxt0eVBhybnPciyZzbFskmPgsqy8f8LOu6XY8pMsl8+zbLrEuheMMXbKWvnR/2WrfXZ+vWA/sqP1d8/vbv35fjG2bI7lihVWrRRZLltYuL0rjj477ZbHx3/5V7rYYsf3LPryuMWKyVi7HV/M79LhDiskwbhsmXVPlyzovMMK3Gyd2foRu16wvdPzBWBAmlUOLhdtETuspmPnYYF1Thfv/8lOfHk5trNsR8/7rJLl5tqFyxZYuVpn9WqZFXJJlszvsN1ycr79uCwrVruxc/Fp5x9j17f2rcj2zxc1QZ+Vk7Hl5Rf9PVyyg/L832uhUmWVUp5l8zv3HnNCCFkcEA5YZdz35DvnKz9+ul+cxdRkntW7x/Nx8fKUHewWWRocy1a67HTdfumyz8rcKE4W9s8fvz+3YlNu92Stz6UrB+xy4Q63WB7zy7ueD/KsyM3HAy6dZblsknHgWK7aZ6cn8WVwLJ3Ls1w6yyqH4zVe9Fk5Ph7K767oz49ZPbsiJsW+ktkiq+4fL96/6xO2m4/HsgpbGKY3GvMJIeTtOW3lx7Gzwg5XxsbN5HzxfHq/MI4J5T57Ss983q+s3C5wWVbpnrJFm3bRL8Vy8yQr9xcGHdYpxPI4bpKXPybPvmYnu/m5eki5f7HOnrJ+NTdePsfy9f78mObyhHXLWQYkWWH3aHmbHu/MtRfH5Vi5dcBOL2fH+vxwlxXT43brP3AMdHkwziFX1YYIeToqCL8KF6w/LgotTXRiA/39cna+mMWlWaHeZSfjTuj6eIflYoP8ZGGHHS7tI0/Ybm7UKRYfmbBdHrVYtVxk2eTd4DEq2O2w/undQthpf4cVbxX4pgW8epcdL+2FL9lxq8jSt4rC2dIOO5j06peHrJq+VdybLvCUtfJpli8WWSGXZslsgVV2dlmr02K79TLLJzmWLe6wg/PrpcegU0zPJ2e5Cts/eXz17vJ4n1UL6btFymSB1bsn6wX5yxPWrU3XXR0AAAecSURBVE+OA8fS+SIrlUuskEsyLp1n5d2DxYn85THrVEssf+f4cSxdKLNqZxQQL486rFLM3SrGj8+/cn18jC/ZUafOysXsgn3JsmK5zronk89VWbmw4HNclhXK1fHn7m7rfrUwugBy68JIvrLPTi6v2VE1ycClWb5cZ52DE3Zxvfgcesz5d97fYZVF25zMsWJl0ganrF8vs3z67rKTuSKrdG4NMM77rJy9fS637jn/CSFkRcrTKYz6qUKHrRPZL472Wb2Uj/WtHEtncyyXTTOO41i6UGGtw3P2kCh32R9fmM3WH3Wx+fp4n9UrJZZL3u3vc8UKq7cO2QVj7Ppkn9UrxQWf41g6X2bVnf7oYtxpl1XLBZZdED9ypQqrx/rmyUXU+f67HGuDC9YtzV/MK3dP2fVJl1WK+QUxCoxL51mxUmU7/cWXyq9P+2ynmF59sTKeKNdn2zxpr8KiuJbOs1KlzvaPrzcc8wkh5A27Phrnm2lWXTPQbSTnGwV6VgAYkGerygdP2i4kWa60w/qLksiTUVy9G/PSLF+qsN2Dc8bYNTvZr7JSLrk4NlX32VwKfW+efcEOd8uskE0ujInZQplV6p0VOdQ1Oz9ssUp+vK/JLCuUSqxUzLNsMsmyxSrbP15RXI4XhNN11j/YZcU0N75JLTu6SQ1Jll3WbiuN6zO55Tf0EbIp7xhjjO6TfgX8HhTxL/iQqOPIN1c+GhD6LlzPR4gMREkCf+sRhMgfwnEDICNClvilj3ZGTg38H35GmG/BdZvbf3HWokdBPReeHyBECrwgQOAzWOvJiNCH67rwwxR4SYKYufVboQfH8RAmeEiyiPh/h2GE1OQFLVEAz3Xh+SGQESCKwhovb4ngDx24QYQUL0ISeWziaY7IdzH0fIRRCrwoQuBTj1huCN8dtWmEFDK8AHFD2/dqRAHcoTt6PDeVgSBJEFKTw+4izIh3/iY2fv5ten+cIbwoAV6UIPE0VxQh5ClctEUJf//MY/fEQ3vt6XtD+J4H3w8QhkAikwEviBAyD+0VfZiSgL99SqFy4MH6Lc5/NxkbBBjH+duxYdRvj8YgMsSnvvElHMKoNTBUTeyJIXw/QBAECMMAQRAhGj+GG4UBAt/D8NMZrpBH69RFU6AznhBCXkI40CB89wuich/+QFv7hd1PzfncpoD/+OEMuZ1juIa0sdwlClwMXR9hlECGFyAIPJ7/nabbybMX7avrjWLsg8Y7wwb43/+ILwCQruM4MCEhhOcM4T10WQuHUCak3/0N6Jxj2ODpj4xsFRWEX5HAUiH+2YHY9WDXnuNdkj4MScD3noTO0EGDEgpCCCHk2+AZkKXv4SkH8CwVz1mSDe0ahD/+jET1EG5PAV3iWjUcG6CmaHBkG64pr9VekW+hJtUQGSEGGk0wSAghLyOEXRPxRyuFlvtMF+gCC4rwZzj8LpxhGxKFgOe1sCC8wSGBIeJ3zQy6vo1nKQmRN41eKveKZLQerJ0MnIYO6xneJeUZNTQ/ZVDpWVQMJoQQQr4lQgNWr4LELw00nfD51hvaaOg/Iyy0MDCpGLy6vRzoioaffRl7bXnt9krwKlQxgQQ1MCGEvKAUFHOAluhhTzfhb319ASy9gQ8owRhQMfibEw1hGJ+RVHWoVAwmz4AKwq8soMiGjZ48hK4Z8Lb4JufQaUBrepD3bfSotyGEEEK+ORm1B7vDw9JqsPznWKOPXq0GK1HHYNCESInqSl5bx09nN0AigwfNFhTaGPgyVKoGEELIy0qIaA4G0IIm1OYQ27sEG8E1NOgOj5ZtQeep6b+5MYHZhPklB72p0gV18iyoIPzq8NAsB0bKgKwacLdQFA6dJhTNhtAbYqALoFSCEEII+SazVAgNG04zREPW0PO3eKU58tHTZDTDBpyhCYWuNa+X3Hv+6J9XA7RND2sdocBBU20ibBrQKGMkhJCXl1HQc3oQByqUprOFonAE11ChGAm0HQdNiTr/1xPJH/NLLnqNGmqNNkzLgRcEcK0a1OZHJMp7aIjUruR50BzCr1YAp6lBdwS0LRMqv5nuyrd0qO0IjV4PNbp1hxBCCHkT/IE+ejLIHKAtbziRDIdoazpssQ2rrYBqwQ84LqYM4W8fcQMA4JAt6WjoKhRRBD95yVAUIgh8eO4QttWDZQcQ2wNYukgX9Qkh5DUJhzBqNfQSTVi9GoSNdNIB7IaKpq/B7DVAteAX5tSQ+sPPuAIAroLDyILywEVMXgp4R7KIfdehu7/Js6GC8GuPKa4FJ6FC3Ug0CTEcDJFRFPCUQRBCCCFvS+DAcnloyoYzDd/GIJSgipSlPirR1xVoP30eJZf3GhWM20YbmkADOUIIeZ0ieAMboaxupngbebBtQFbpyd7XcGzdphgr5mZRP/Jgyg87MgsLwlwOVcuh6TzJs6KCMCGEEEIIIS8odC2YRg+WM8TnL7HSMJdETpQhyQq0mgZFoKI7IYQQ8rwC2O0GDMuB8/nr+KmeSZxOIy9JEHgJtXZzvSmzxneS7/16hiskkS0oaJomdLqwTp4ZFYQJIYQQQgh5LaIIYRQBiRRSdDsYIYQQ8gpCc4jo3gmDE0ikEg+8iztCFCWQoFhPXsj/AZUvMN204955AAAAAElFTkSuQmCC)\n",
        "\n",
        "Heatmaps illustrating the query behavior of the common query strategies (aka uncertainty measures) in a three-label classification problem.\n",
        "Corners indicate cases/samples where one label has very high probability, with the opposite edge showing the probability range for the other two classes when that label has very low probability.\n",
        "The most informative query region for each strategy is shown in dark red, radiating from the centers. [Settles, Burr. \"Active learning literature survey.\" (2009), https://minds.wisconsin.edu/bitstream/handle/1793/60660/TR1648.pdf]"
      ]
    },
    {
      "cell_type": "code",
      "execution_count": null,
      "metadata": {
        "id": "UP-1np7Wc-yI"
      },
      "outputs": [],
      "source": [
        "from modAL.uncertainty import uncertainty_sampling, margin_sampling, entropy_sampling"
      ]
    },
    {
      "cell_type": "code",
      "execution_count": null,
      "metadata": {
        "id": "rXeCUoLda3k2"
      },
      "outputs": [],
      "source": [
        "#query_strategy=uncertainty_sampling"
      ]
    },
    {
      "cell_type": "code",
      "execution_count": null,
      "metadata": {
        "id": "PVmkCSZYdt-Z"
      },
      "outputs": [],
      "source": [
        "np.random.seed(RANDOM_STATE_SEED)\n",
        "np.random.seed()"
      ]
    },
    {
      "cell_type": "code",
      "execution_count": null,
      "metadata": {
        "colab": {
          "base_uri": "https://localhost:8080/"
        },
        "id": "ZN4p644Cdt-b",
        "outputId": "eeae8d83-4913-4991-d9cf-06dd33ad5e7b"
      },
      "outputs": [],
      "source": [
        "not_yet_shuffling_indices = np.arange(y_raw.shape[0])\n",
        "not_yet_shuffling_indices"
      ]
    },
    {
      "cell_type": "code",
      "execution_count": null,
      "metadata": {
        "id": "SnyzA3rjdt-d"
      },
      "outputs": [],
      "source": [
        "np.random.shuffle(not_yet_shuffling_indices)"
      ]
    },
    {
      "cell_type": "code",
      "execution_count": null,
      "metadata": {
        "colab": {
          "base_uri": "https://localhost:8080/"
        },
        "id": "7Mw9t3madt-e",
        "outputId": "8c325f3e-6456-49dd-e89e-c22621b873ae"
      },
      "outputs": [],
      "source": [
        "shuffling_indices = not_yet_shuffling_indices\n",
        "shuffling_indices"
      ]
    },
    {
      "cell_type": "code",
      "execution_count": null,
      "metadata": {
        "id": "hJCMRLuvdt-f"
      },
      "outputs": [],
      "source": [
        "X_raw = X_raw[shuffling_indices]\n",
        "y_raw = y_raw[shuffling_indices]"
      ]
    },
    {
      "cell_type": "code",
      "execution_count": null,
      "metadata": {
        "id": "IdUZXsqSdt-g"
      },
      "outputs": [],
      "source": [
        "# Isolate our examples for our labeled dataset.\n",
        "#n_labeled_examples = X_raw.shape[0]\n",
        "\n",
        "#training_indices = np.random.randint(low=0, high=n_labeled_examples + 1, size=3)\n",
        "training_indices = np.random.randint(low=0, high=n_labeled_examples, size=3)\n",
        "\n",
        "X_train = X_raw[training_indices]\n",
        "y_train = y_raw[training_indices]\n",
        "\n",
        "# Isolate the non-training examples we'll be querying.\n",
        "X_pool = np.delete(X_raw, training_indices, axis=0)\n",
        "y_pool = np.delete(y_raw, training_indices, axis=0)"
      ]
    },
    {
      "cell_type": "code",
      "execution_count": null,
      "metadata": {
        "id": "iRucDYPWdt-h"
      },
      "outputs": [],
      "source": [
        "#from sklearn.neighbors import KNeighborsClassifier\n",
        "#from modAL.models import ActiveLearner\n",
        "\n",
        "# Specify our core estimator along with it's active learning model.\n",
        "knn = KNeighborsClassifier(n_neighbors=3)\n",
        "#learner = ActiveLearner(estimator=knn, X_training=X_train, y_training=y_train)"
      ]
    },
    {
      "cell_type": "code",
      "execution_count": null,
      "metadata": {
        "id": "9twKxp-Zdt-i"
      },
      "outputs": [],
      "source": [
        "#learner = ActiveLearner(estimator=knn, X_training=X_train, y_training=y_train, query_strategy=query_strategy)"
      ]
    },
    {
      "cell_type": "code",
      "execution_count": null,
      "metadata": {
        "colab": {
          "base_uri": "https://localhost:8080/"
        },
        "id": "_jv2bdjHdt-j",
        "outputId": "b8c87e1b-4d84-4548-e787-131eb367b599"
      },
      "outputs": [],
      "source": [
        "print(\"X_train type: \", type(X_train))\n",
        "print(\"X_train shape: \", X_train.shape)\n",
        "print(\"y_train shape: \", y_train.shape)"
      ]
    },
    {
      "cell_type": "code",
      "execution_count": null,
      "metadata": {
        "id": "JMz0szYneCtx"
      },
      "outputs": [],
      "source": [
        "query_strategies = [uncertainty_sampling, margin_sampling, entropy_sampling]\n",
        "query_strategy_labels = [\"uncertainty sampling\", \"margin sampling\", \"entropy sampling\"]"
      ]
    },
    {
      "cell_type": "code",
      "execution_count": null,
      "metadata": {
        "colab": {
          "base_uri": "https://localhost:8080/"
        },
        "id": "T2LpC6hBdt-k",
        "outputId": "420ab5e6-e502-4885-c7d7-2d59249d236e"
      },
      "outputs": [],
      "source": [
        "np.random.shuffle(not_yet_shuffling_indices)\n",
        "X_raw = X_raw[shuffling_indices]\n",
        "y_raw = y_raw[shuffling_indices]\n",
        "\n",
        "performance_histories = []\n",
        "\n",
        "for query_strategy in query_strategies:\n",
        "\n",
        "  #training_indices = np.random.randint(low=0, high=n_labeled_examples + 1, size=3)\n",
        "  training_indices = np.random.randint(low=0, high=n_labeled_examples, size=3)\n",
        "\n",
        "  X_train = X_raw[training_indices]\n",
        "  y_train = y_raw[training_indices]\n",
        "\n",
        "  # Isolate the non-training examples we'll be querying.\n",
        "  X_pool = np.delete(X_raw, training_indices, axis=0)\n",
        "  y_pool = np.delete(y_raw, training_indices, axis=0)\n",
        "\n",
        "  knn = KNeighborsClassifier(n_neighbors=3)\n",
        "  learner = ActiveLearner(estimator=knn, X_training=X_train, y_training=y_train, query_strategy=query_strategy)\n",
        "\n",
        "  N_QUERIES = 20\n",
        "  #N_QUERIES = 50\n",
        "  unqueried_score = learner.score(X_pool, y_pool)\n",
        "  performance_history = [unqueried_score]\n",
        "\n",
        "  # Allow our model to query our unlabeled dataset for the most\n",
        "  # informative points according to our query strategy (uncertainty sampling).\n",
        "  for index in range(N_QUERIES):\n",
        "    query_index, query_instance = learner.query(X_pool)\n",
        "\n",
        "    # Teach our ActiveLearner model the record it has requested.\n",
        "    X, y = X_pool[query_index].reshape(1, -1), y_pool[query_index].reshape(1, )\n",
        "    print(\"X type: \", type(X))\n",
        "    print(\"X shape: \", X.shape)\n",
        "    print(\"y shape: \", y.shape)\n",
        "    learner.teach(X=X, y=y)\n",
        "\n",
        "    learner_X_training = learner.X_training\n",
        "    print(\"learner_X_training type: \", type(learner_X_training))\n",
        "    print(\"learner_X_training shape: \", learner_X_training.shape)\n",
        "    print(\"learner_X_training shape: \", learner_X_training.shape)\n",
        "\n",
        "    # Remove the queried instance from the unlabeled pool.\n",
        "    X_pool, y_pool = np.delete(X_pool, query_index, axis=0), np.delete(y_pool, query_index)\n",
        "    print(\"X_pool type: \", type(X_pool))\n",
        "    print(\"X_pool shape: \", X_pool.shape)\n",
        "    print(\"y_pool shape: \", y_pool.shape)\n",
        "\n",
        "    # Calculate and report our model's accuracy.\n",
        "    model_accuracy = learner.score(X_pool, y_pool)\n",
        "    print('Accuracy after query {n}: {acc:0.4f}'.format(n=index + 1, acc=model_accuracy))\n",
        "\n",
        "    # Save our model's performance for plotting.\n",
        "    performance_history.append(model_accuracy)\n",
        "  performance_histories.append(performance_history)"
      ]
    },
    {
      "cell_type": "code",
      "execution_count": null,
      "metadata": {
        "colab": {
          "base_uri": "https://localhost:8080/",
          "height": 726
        },
        "id": "iM-Sbtsvdt-m",
        "outputId": "5b0a6174-6d00-43d5-9735-2feb13437b5b"
      },
      "outputs": [],
      "source": [
        "# Plot our performance over time.\n",
        "fig, ax = plt.subplots(figsize=(8.5, 6), dpi=130)\n",
        "\n",
        "for query_strategy_idx, query_strategy in enumerate(query_strategies):\n",
        "  performance_history = performance_histories[query_strategy_idx]\n",
        "  query_strategy_label = query_strategy_labels[query_strategy_idx]\n",
        "  ax.plot(performance_history, label=query_strategy_label)\n",
        "  ax.scatter(range(len(performance_history)), performance_history, s=13)\n",
        "\n",
        "ax.xaxis.set_major_locator(mpl.ticker.MaxNLocator(nbins=5, integer=True))\n",
        "ax.yaxis.set_major_locator(mpl.ticker.MaxNLocator(nbins=10))\n",
        "ax.yaxis.set_major_formatter(mpl.ticker.PercentFormatter(xmax=1))\n",
        "\n",
        "ax.set_ylim(bottom=0, top=1)\n",
        "ax.grid(True)\n",
        "\n",
        "ax.set_title('Incremental classification accuracy')\n",
        "ax.set_xlabel('Query iteration')\n",
        "ax.set_ylabel('Classification Accuracy')\n",
        "ax.legend()\n",
        "\n",
        "plt.show()"
      ]
    },
    {
      "cell_type": "code",
      "execution_count": null,
      "metadata": {
        "colab": {
          "base_uri": "https://localhost:8080/",
          "height": 701
        },
        "id": "NdxRj2YCdt-n",
        "outputId": "4432a5ef-d2ca-4cea-e62b-5da700d627c8"
      },
      "outputs": [],
      "source": [
        "# Isolate the data we'll need for plotting.\n",
        "predictions = learner.predict(X_raw)\n",
        "is_correct = (predictions == y_raw)\n",
        "\n",
        "# Plot our updated classification results once we've trained our learner.\n",
        "fig, ax = plt.subplots(figsize=(8.5, 6), dpi=130)\n",
        "\n",
        "ax.scatter(x=x_component[is_correct],  y=y_component[is_correct],  c='g', marker='+', label='Correct',   alpha=8/10)\n",
        "ax.scatter(x=x_component[~is_correct], y=y_component[~is_correct], c='r', marker='x', label='Incorrect', alpha=8/10)\n",
        "\n",
        "ax.set_title('Classification accuracy after {n} queries: {final_acc:.3f}'.format(n=N_QUERIES, final_acc=performance_history[-1]))\n",
        "ax.legend(loc='lower right')\n",
        "\n",
        "plt.show()"
      ]
    },
    {
      "cell_type": "markdown",
      "metadata": {
        "id": "E1sQfvtY4sLo"
      },
      "source": [
        "#Szwabe: More reliable comparison of query strategies  (Please comment on the differences)"
      ]
    },
    {
      "cell_type": "code",
      "execution_count": null,
      "metadata": {
        "id": "eapxWP984sLq"
      },
      "outputs": [],
      "source": [
        "from modAL.uncertainty import uncertainty_sampling, margin_sampling, entropy_sampling"
      ]
    },
    {
      "cell_type": "code",
      "execution_count": null,
      "metadata": {
        "id": "cePx7Nf44sLr"
      },
      "outputs": [],
      "source": [
        "#query_strategy=uncertainty_sampling"
      ]
    },
    {
      "cell_type": "code",
      "execution_count": null,
      "metadata": {
        "id": "Tj2YJjP44sLs"
      },
      "outputs": [],
      "source": [
        "#np.random.seed(RANDOM_STATE_SEED)\n",
        "np.random.seed()"
      ]
    },
    {
      "cell_type": "code",
      "execution_count": null,
      "metadata": {
        "colab": {
          "base_uri": "https://localhost:8080/"
        },
        "id": "8ieD1uoe4sLt",
        "outputId": "edfe7f26-f2f1-47ea-e2dc-9ac7a5a7704e"
      },
      "outputs": [],
      "source": [
        "not_yet_shuffling_indices = np.arange(y_raw.shape[0])\n",
        "not_yet_shuffling_indices"
      ]
    },
    {
      "cell_type": "code",
      "execution_count": null,
      "metadata": {
        "id": "fLUxrvH44sLu"
      },
      "outputs": [],
      "source": [
        "np.random.shuffle(not_yet_shuffling_indices)"
      ]
    },
    {
      "cell_type": "code",
      "execution_count": null,
      "metadata": {
        "colab": {
          "base_uri": "https://localhost:8080/"
        },
        "id": "dbgjUHHl4sLv",
        "outputId": "f247024b-cf2f-416f-ed3b-36d9f1891ebe"
      },
      "outputs": [],
      "source": [
        "shuffling_indices = not_yet_shuffling_indices\n",
        "shuffling_indices"
      ]
    },
    {
      "cell_type": "code",
      "execution_count": null,
      "metadata": {
        "id": "sWFLs6kH4sLw"
      },
      "outputs": [],
      "source": [
        "X_raw = X_raw[shuffling_indices]\n",
        "y_raw = y_raw[shuffling_indices]"
      ]
    },
    {
      "cell_type": "code",
      "execution_count": null,
      "metadata": {
        "id": "QQ0loYF54sLx"
      },
      "outputs": [],
      "source": [
        "# Isolate our examples for our labeled dataset.\n",
        "#n_labeled_examples = X_raw.shape[0]\n",
        "\n",
        "#training_indices = np.random.randint(low=0, high=n_labeled_examples + 1, size=3)\n",
        "training_indices = np.random.randint(low=0, high=n_labeled_examples, size=3)\n",
        "\n",
        "X_train = X_raw[training_indices]\n",
        "y_train = y_raw[training_indices]\n",
        "\n",
        "# Isolate the non-training examples we'll be querying.\n",
        "X_pool = np.delete(X_raw, training_indices, axis=0)\n",
        "y_pool = np.delete(y_raw, training_indices, axis=0)"
      ]
    },
    {
      "cell_type": "code",
      "execution_count": null,
      "metadata": {
        "id": "14zFkXhv4sLy"
      },
      "outputs": [],
      "source": [
        "#from sklearn.neighbors import KNeighborsClassifier\n",
        "#from modAL.models import ActiveLearner\n",
        "\n",
        "# Specify our core estimator along with it's active learning model.\n",
        "knn = KNeighborsClassifier(n_neighbors=3)\n",
        "#learner = ActiveLearner(estimator=knn, X_training=X_train, y_training=y_train)"
      ]
    },
    {
      "cell_type": "code",
      "execution_count": null,
      "metadata": {
        "id": "z-4hAOfb4sLy"
      },
      "outputs": [],
      "source": [
        "#learner = ActiveLearner(estimator=knn, X_training=X_train, y_training=y_train, query_strategy=query_strategy)"
      ]
    },
    {
      "cell_type": "code",
      "execution_count": null,
      "metadata": {
        "colab": {
          "base_uri": "https://localhost:8080/"
        },
        "id": "csKix0Hg4sLy",
        "outputId": "ab078062-46f7-4108-993b-962728db77b8"
      },
      "outputs": [],
      "source": [
        "print(\"X_train type: \", type(X_train))\n",
        "print(\"X_train shape: \", X_train.shape)\n",
        "print(\"y_train shape: \", y_train.shape)"
      ]
    },
    {
      "cell_type": "code",
      "execution_count": null,
      "metadata": {
        "id": "dIYEhXhIIE31"
      },
      "outputs": [],
      "source": [
        "def random_sampling(classifier, X_pool):\n",
        "    n_samples = len(X_pool)\n",
        "    query_idx = np.random.choice(range(n_samples))\n",
        "    return query_idx, X_pool[query_idx]"
      ]
    },
    {
      "cell_type": "code",
      "execution_count": null,
      "metadata": {
        "id": "_4l02uoX4sLz"
      },
      "outputs": [],
      "source": [
        "from numpy.random.mtrand import random_sample\n",
        "#query_strategies = [uncertainty_sampling, margin_sampling, entropy_sampling]\n",
        "#query_strategy_labels = [\"uncertainty sampling\", \"margin sampling\", \"entropy sampling\"]\n",
        "query_strategies = [uncertainty_sampling, margin_sampling, entropy_sampling, random_sampling]\n",
        "query_strategy_labels = [\"uncertainty sampling\", \"margin sampling\", \"entropy sampling\", \"random sampling\"]"
      ]
    },
    {
      "cell_type": "code",
      "execution_count": null,
      "metadata": {
        "id": "vD2uAFWP_Ghq"
      },
      "outputs": [],
      "source": [
        "#performance_histories = {\"uncertainty sampling\":[], \"margin sampling\":[], \"entropy sampling\":[]}\n"
      ]
    },
    {
      "cell_type": "code",
      "execution_count": null,
      "metadata": {
        "colab": {
          "base_uri": "https://localhost:8080/"
        },
        "id": "uWY4ECoi4sLz",
        "outputId": "b720fb8c-070c-4dd3-cf18-4bd141e2ead8"
      },
      "outputs": [],
      "source": [
        "performance_histories = {\"uncertainty sampling\":[], \"margin sampling\":[], \"entropy sampling\":[], \"random sampling\":[]}\n",
        "number_of_tests = 44\n",
        "\n",
        "for test_number in range(number_of_tests):\n",
        "\n",
        "  np.random.shuffle(not_yet_shuffling_indices)\n",
        "  X_raw = X_raw[shuffling_indices]\n",
        "  y_raw = y_raw[shuffling_indices]\n",
        "\n",
        "  #performance_histories = []\n",
        "\n",
        "  for query_strategy_idx, query_strategy in enumerate(query_strategies):\n",
        "\n",
        "    query_strategy_label = query_strategy_labels[query_strategy_idx]\n",
        "\n",
        "    #training_indices = np.random.randint(low=0, high=n_labeled_examples + 1, size=3)\n",
        "    training_indices = np.random.randint(low=0, high=n_labeled_examples, size=3)\n",
        "\n",
        "    X_train = X_raw[training_indices]\n",
        "    y_train = y_raw[training_indices]\n",
        "\n",
        "    # Isolate the non-training examples we'll be querying.\n",
        "    X_pool = np.delete(X_raw, training_indices, axis=0)\n",
        "    y_pool = np.delete(y_raw, training_indices, axis=0)\n",
        "\n",
        "    knn = KNeighborsClassifier(n_neighbors=3)\n",
        "    learner = ActiveLearner(estimator=knn, X_training=X_train, y_training=y_train, query_strategy=query_strategy)\n",
        "\n",
        "    N_QUERIES = 20\n",
        "    #N_QUERIES = 50\n",
        "    unqueried_score = learner.score(X_pool, y_pool)\n",
        "    performance_history = [unqueried_score]\n",
        "\n",
        "    # Allow our model to query our unlabeled dataset for the most\n",
        "    # informative points according to our query strategy (uncertainty sampling).\n",
        "    for index in range(N_QUERIES):\n",
        "      query_index, query_instance = learner.query(X_pool)\n",
        "\n",
        "      # Teach our ActiveLearner model the record it has requested.\n",
        "      X, y = X_pool[query_index].reshape(1, -1), y_pool[query_index].reshape(1, )\n",
        "      print(\"X type: \", type(X))\n",
        "      print(\"X shape: \", X.shape)\n",
        "      print(\"y shape: \", y.shape)\n",
        "      learner.teach(X=X, y=y)\n",
        "\n",
        "      learner_X_training = learner.X_training\n",
        "      print(\"learner_X_training type: \", type(learner_X_training))\n",
        "      print(\"learner_X_training shape: \", learner_X_training.shape)\n",
        "      print(\"learner_X_training shape: \", learner_X_training.shape)\n",
        "\n",
        "      # Remove the queried instance from the unlabeled pool.\n",
        "      X_pool, y_pool = np.delete(X_pool, query_index, axis=0), np.delete(y_pool, query_index)\n",
        "      print(\"X_pool type: \", type(X_pool))\n",
        "      print(\"X_pool shape: \", X_pool.shape)\n",
        "      print(\"y_pool shape: \", y_pool.shape)\n",
        "\n",
        "      # Calculate and report our model's accuracy.\n",
        "      model_accuracy = learner.score(X_pool, y_pool)\n",
        "      print('Accuracy after query {n}: {acc:0.4f}'.format(n=index + 1, acc=model_accuracy))\n",
        "\n",
        "      #Szwabe: Could we use (and evaluate) another predictive model for the actual ('on-production') predictions in parallel to the active learner? What properties such a system would have if we did use an additional main predictor and the query strategy was random sampling?\n",
        "      # [#154974] Yes, in fact this is a common practice in corporate environment. This would enable experiments on active learning without affecting client experience. Sort of like a git flow style with dev and main branches.\n",
        "      # Random sampling is robust and unbiased, but prone to slow adoption since the strategy is not optimized fo quick learning.\n",
        "\n",
        "      # Save our model's performance for plotting.\n",
        "      performance_history.append(model_accuracy)\n",
        "    performance_histories[query_strategy_label].append(performance_history)\n",
        "\n",
        "\n"
      ]
    },
    {
      "cell_type": "code",
      "execution_count": null,
      "metadata": {
        "colab": {
          "base_uri": "https://localhost:8080/",
          "height": 726
        },
        "id": "bcCH4Mkf4sL0",
        "outputId": "2b18a9da-f5c9-4fa5-8c1a-eb1f2d5bf6e6"
      },
      "outputs": [],
      "source": [
        "# Plot our performance over time.\n",
        "fig, ax = plt.subplots(figsize=(8.5, 6), dpi=130)\n",
        "temp_color_letters = [\"b\", \"y\", \"g\", \"r\"]\n",
        "\n",
        "\n",
        "for query_strategy_idx, query_strategy in enumerate(query_strategies):\n",
        "  query_strategy_label = query_strategy_labels[query_strategy_idx]\n",
        "  performance_history = performance_histories[query_strategy_label]\n",
        "  #ax.plot(performance_history, label=query_strategy_label)\n",
        "  #ax.scatter(range(len(performance_history)), performance_history, s=13)\n",
        "  temp_mean = np.mean(np.array(performance_history), axis=0)\n",
        "  temp_std = np.std(np.array(performance_history), axis=0)\n",
        "  temp_color_letter = temp_color_letters[query_strategy_idx]\n",
        "  x = np.arange(len(temp_mean))\n",
        "  plt.plot(x, temp_mean, temp_color_letter+\"-\", label=query_strategy_label)\n",
        "  plt.fill_between(x, temp_mean - temp_std, temp_mean + temp_std, color=temp_color_letter, alpha=0.2)\n",
        "\n",
        "\n",
        "ax.xaxis.set_major_locator(mpl.ticker.MaxNLocator(nbins=5, integer=True))\n",
        "ax.yaxis.set_major_locator(mpl.ticker.MaxNLocator(nbins=10))\n",
        "ax.yaxis.set_major_formatter(mpl.ticker.PercentFormatter(xmax=1))\n",
        "\n",
        "ax.set_ylim(bottom=0, top=1)\n",
        "ax.grid(True)\n",
        "\n",
        "ax.set_title('Incremental classification accuracy')\n",
        "ax.set_xlabel('Query iteration')\n",
        "ax.set_ylabel('Classification Accuracy')\n",
        "ax.legend()\n",
        "\n",
        "plt.show()"
      ]
    },
    {
      "cell_type": "markdown",
      "metadata": {
        "id": "TxQVNMazvbKu"
      },
      "source": [
        "#Szwabe: Set an appropriate number of test repetitions in order to compare practical value of the four sampling strategies in the most reliable way that is still feasible considering the amount of available time (of the classwork). Compare and comment on the practical value of the strategies."
      ]
    },
    {
      "cell_type": "code",
      "execution_count": null,
      "metadata": {
        "colab": {
          "base_uri": "https://localhost:8080/"
        },
        "id": "0UNSemTlJ44u",
        "outputId": "79673ca3-b1a4-4ee8-f451-bc2211e50ea7"
      },
      "outputs": [],
      "source": [
        "performance_histories = {\"uncertainty sampling\":[], \"margin sampling\":[], \"entropy sampling\":[], \"random sampling\":[]}\n",
        "number_of_tests = 667\n",
        "\n",
        "for test_number in range(number_of_tests):\n",
        "\n",
        "  np.random.shuffle(not_yet_shuffling_indices)\n",
        "  X_raw = X_raw[shuffling_indices]\n",
        "  y_raw = y_raw[shuffling_indices]\n",
        "\n",
        "  #performance_histories = []\n",
        "\n",
        "  for query_strategy_idx, query_strategy in enumerate(query_strategies):\n",
        "\n",
        "    query_strategy_label = query_strategy_labels[query_strategy_idx]\n",
        "\n",
        "    #training_indices = np.random.randint(low=0, high=n_labeled_examples + 1, size=3)\n",
        "    training_indices = np.random.randint(low=0, high=n_labeled_examples, size=3)\n",
        "\n",
        "    X_train = X_raw[training_indices]\n",
        "    y_train = y_raw[training_indices]\n",
        "\n",
        "    # Isolate the non-training examples we'll be querying.\n",
        "    X_pool = np.delete(X_raw, training_indices, axis=0)\n",
        "    y_pool = np.delete(y_raw, training_indices, axis=0)\n",
        "\n",
        "    knn = KNeighborsClassifier(n_neighbors=3)\n",
        "    learner = ActiveLearner(estimator=knn, X_training=X_train, y_training=y_train, query_strategy=query_strategy)\n",
        "\n",
        "    N_QUERIES = 20\n",
        "    #N_QUERIES = 50\n",
        "    unqueried_score = learner.score(X_pool, y_pool)\n",
        "    performance_history = [unqueried_score]\n",
        "\n",
        "    # Allow our model to query our unlabeled dataset for the most\n",
        "    # informative points according to our query strategy (uncertainty sampling).\n",
        "    for index in range(N_QUERIES):\n",
        "      query_index, query_instance = learner.query(X_pool)\n",
        "\n",
        "      # Teach our ActiveLearner model the record it has requested.\n",
        "      X, y = X_pool[query_index].reshape(1, -1), y_pool[query_index].reshape(1, )\n",
        "      print(\"X type: \", type(X))\n",
        "      print(\"X shape: \", X.shape)\n",
        "      print(\"y shape: \", y.shape)\n",
        "      learner.teach(X=X, y=y)\n",
        "\n",
        "      learner_X_training = learner.X_training\n",
        "      print(\"learner_X_training type: \", type(learner_X_training))\n",
        "      print(\"learner_X_training shape: \", learner_X_training.shape)\n",
        "      print(\"learner_X_training shape: \", learner_X_training.shape)\n",
        "\n",
        "      # Remove the queried instance from the unlabeled pool.\n",
        "      X_pool, y_pool = np.delete(X_pool, query_index, axis=0), np.delete(y_pool, query_index)\n",
        "      print(\"X_pool type: \", type(X_pool))\n",
        "      print(\"X_pool shape: \", X_pool.shape)\n",
        "      print(\"y_pool shape: \", y_pool.shape)\n",
        "\n",
        "      # Calculate and report our model's accuracy.\n",
        "      model_accuracy = learner.score(X_pool, y_pool)\n",
        "      print('Accuracy after query {n}: {acc:0.4f}'.format(n=index + 1, acc=model_accuracy))\n",
        "\n",
        "      # Save our model's performance for plotting.\n",
        "      performance_history.append(model_accuracy)\n",
        "    performance_histories[query_strategy_label].append(performance_history)"
      ]
    },
    {
      "cell_type": "code",
      "execution_count": null,
      "metadata": {
        "colab": {
          "base_uri": "https://localhost:8080/",
          "height": 726
        },
        "id": "pd97RGasJ44z",
        "outputId": "f842245c-c3bf-4bcf-d4e2-964766fa9a4c"
      },
      "outputs": [],
      "source": [
        "# Plot our performance over time.\n",
        "fig, ax = plt.subplots(figsize=(8.5, 6), dpi=130)\n",
        "temp_color_letters = [\"b\", \"y\", \"g\", \"r\"]\n",
        "\n",
        "\n",
        "for query_strategy_idx, query_strategy in enumerate(query_strategies):\n",
        "  query_strategy_label = query_strategy_labels[query_strategy_idx]\n",
        "  performance_history = performance_histories[query_strategy_label]\n",
        "  #ax.plot(performance_history, label=query_strategy_label)\n",
        "  #ax.scatter(range(len(performance_history)), performance_history, s=13)\n",
        "  temp_mean = np.mean(np.array(performance_history), axis=0)\n",
        "  temp_std = np.std(np.array(performance_history), axis=0)\n",
        "  temp_color_letter = temp_color_letters[query_strategy_idx]\n",
        "  x = np.arange(len(temp_mean))\n",
        "  plt.plot(x, temp_mean, temp_color_letter+\"-\", label=query_strategy_label)\n",
        "  plt.fill_between(x, temp_mean - temp_std, temp_mean + temp_std, color=temp_color_letter, alpha=0.2)\n",
        "\n",
        "\n",
        "ax.xaxis.set_major_locator(mpl.ticker.MaxNLocator(nbins=5, integer=True))\n",
        "ax.yaxis.set_major_locator(mpl.ticker.MaxNLocator(nbins=10))\n",
        "ax.yaxis.set_major_formatter(mpl.ticker.PercentFormatter(xmax=1))\n",
        "\n",
        "ax.set_ylim(bottom=0, top=1)\n",
        "ax.grid(True)\n",
        "\n",
        "ax.set_title('Incremental classification accuracy')\n",
        "ax.set_xlabel('Query iteration')\n",
        "ax.set_ylabel('Classification Accuracy')\n",
        "ax.legend()\n",
        "\n",
        "plt.show()"
      ]
    },
    {
      "cell_type": "code",
      "execution_count": null,
      "metadata": {
        "colab": {
          "base_uri": "https://localhost:8080/"
        },
        "id": "eczLWvO9w-IZ",
        "outputId": "e3f1a427-1e2f-4688-fca0-48be18850e87"
      },
      "outputs": [],
      "source": [
        "!pip freeze"
      ]
    }
  ],
  "metadata": {
    "colab": {
      "provenance": []
    },
    "kernelspec": {
      "display_name": ".venv",
      "language": "python",
      "name": "python3"
    },
    "language_info": {
      "codemirror_mode": {
        "name": "ipython",
        "version": 3
      },
      "file_extension": ".py",
      "mimetype": "text/x-python",
      "name": "python",
      "nbconvert_exporter": "python",
      "pygments_lexer": "ipython3",
      "version": "3.11.12"
    }
  },
  "nbformat": 4,
  "nbformat_minor": 0
}
